{
 "cells": [
  {
   "cell_type": "code",
   "execution_count": 1,
   "id": "0ef43ef9",
   "metadata": {},
   "outputs": [
    {
     "name": "stdout",
     "output_type": "stream",
     "text": [
      "Model: \"model\"\n",
      "_________________________________________________________________\n",
      "Layer (type)                 Output Shape              Param #   \n",
      "=================================================================\n",
      "input_1 (InputLayer)         [(None, 64)]              0         \n",
      "_________________________________________________________________\n",
      "dense (Dense)                (None, 32)                2080      \n",
      "_________________________________________________________________\n",
      "dense_1 (Dense)              (None, 32)                1056      \n",
      "_________________________________________________________________\n",
      "dense_2 (Dense)              (None, 10)                330       \n",
      "=================================================================\n",
      "Total params: 3,466\n",
      "Trainable params: 3,466\n",
      "Non-trainable params: 0\n",
      "_________________________________________________________________\n"
     ]
    }
   ],
   "source": [
    "from tensorflow.keras.models import Model\n",
    "from tensorflow.keras import Input\n",
    "from tensorflow.keras import layers\n",
    "\n",
    "input_tensor = Input(shape=(64,))\n",
    "x = layers.Dense(32, activation='relu')(input_tensor)\n",
    "x = layers.Dense(32, activation='relu')(x)\n",
    "output_tensor = layers.Dense(10, activation='softmax')(x)\n",
    "\n",
    "model = Model(input_tensor, output_tensor)\n",
    "model.summary()"
   ]
  },
  {
   "cell_type": "code",
   "execution_count": 2,
   "id": "eee8b4f7",
   "metadata": {},
   "outputs": [],
   "source": [
    "model.compile(optimizer='rmsprop', loss='categorical_crossentropy')"
   ]
  },
  {
   "cell_type": "code",
   "execution_count": 3,
   "id": "d5501b56",
   "metadata": {},
   "outputs": [],
   "source": [
    "import numpy as np\n",
    "\n",
    "x_train = np.random.random((1000, 64))\n",
    "y_train = np.random.random((1000, 10))"
   ]
  },
  {
   "cell_type": "code",
   "execution_count": 4,
   "id": "33aa21f7",
   "metadata": {},
   "outputs": [
    {
     "name": "stdout",
     "output_type": "stream",
     "text": [
      "Epoch 1/10\n",
      "8/8 [==============================] - 0s 714us/step - loss: 11.7704\n",
      "Epoch 2/10\n",
      "8/8 [==============================] - 0s 714us/step - loss: 12.5835\n",
      "Epoch 3/10\n",
      "8/8 [==============================] - 0s 571us/step - loss: 14.1486\n",
      "Epoch 4/10\n",
      "8/8 [==============================] - 0s 714us/step - loss: 16.5799\n",
      "Epoch 5/10\n",
      "8/8 [==============================] - 0s 571us/step - loss: 19.8657\n",
      "Epoch 6/10\n",
      "8/8 [==============================] - 0s 857us/step - loss: 23.8144\n",
      "Epoch 7/10\n",
      "8/8 [==============================] - 0s 714us/step - loss: 28.4590\n",
      "Epoch 8/10\n",
      "8/8 [==============================] - 0s 714us/step - loss: 33.8489\n",
      "Epoch 9/10\n",
      "8/8 [==============================] - 0s 714us/step - loss: 39.9993\n",
      "Epoch 10/10\n",
      "8/8 [==============================] - 0s 715us/step - loss: 46.5595\n"
     ]
    },
    {
     "data": {
      "text/plain": [
       "<tensorflow.python.keras.callbacks.History at 0x162d43e30b8>"
      ]
     },
     "execution_count": 4,
     "metadata": {},
     "output_type": "execute_result"
    }
   ],
   "source": [
    "model.fit(x_train, y_train, epochs=10, batch_size=128)"
   ]
  },
  {
   "cell_type": "code",
   "execution_count": 5,
   "id": "bac067ca",
   "metadata": {},
   "outputs": [
    {
     "name": "stdout",
     "output_type": "stream",
     "text": [
      "32/32 [==============================] - 0s 419us/step - loss: 50.5224\n"
     ]
    },
    {
     "data": {
      "text/plain": [
       "50.52241134643555"
      ]
     },
     "execution_count": 5,
     "metadata": {},
     "output_type": "execute_result"
    }
   ],
   "source": [
    "model.evaluate(x_train, y_train)"
   ]
  },
  {
   "cell_type": "markdown",
   "id": "9cb372d4",
   "metadata": {},
   "source": [
    "Multi-input model"
   ]
  },
  {
   "cell_type": "code",
   "execution_count": 6,
   "id": "c184ffd5",
   "metadata": {},
   "outputs": [],
   "source": [
    "text_vocabulary_size = 10000\n",
    "question_vocabulary_size = 10000\n",
    "answer_vocabulary_size = 500\n",
    "\n",
    "text_input = Input(shape=(None,), dtype='int32', name='text')\n",
    "embedded_text = layers.Embedding(text_vocabulary_size, 64)(text_input)\n",
    "encoded_text = layers.LSTM(32)(embedded_text)\n",
    "\n",
    "question_input = Input(shape=(None,), dtype='int32', name='question')\n",
    "embedded_question = layers.Embedding(question_vocabulary_size, 32)(question_input)\n",
    "encoded_question = layers.LSTM(16)(embedded_question)\n",
    "\n",
    "concatenated = layers.concatenate([encoded_text, encoded_question], axis=-1)\n",
    "\n",
    "answer = layers.Dense(answer_vocabulary_size, activation='softmax')(concatenated)\n",
    "\n",
    "model = Model([text_input, question_input], answer)\n",
    "model.compile(optimizer='rmsprop', loss='categorical_crossentropy', metrics=['acc'])"
   ]
  },
  {
   "cell_type": "code",
   "execution_count": 7,
   "id": "e3372e9d",
   "metadata": {},
   "outputs": [],
   "source": [
    "from tensorflow.keras.utils import to_categorical\n",
    "\n",
    "num_samples = 1000\n",
    "max_length = 100\n",
    "\n",
    "text = np.random.randint(1, text_vocabulary_size, size=(num_samples, max_length))\n",
    "question = np.random.randint(1, question_vocabulary_size, size=(num_samples, max_length))\n",
    "\n",
    "answers = np.random.randint(0, answer_vocabulary_size, size=num_samples)\n",
    "answers = to_categorical(answers)"
   ]
  },
  {
   "cell_type": "code",
   "execution_count": 8,
   "id": "5c3dd29d",
   "metadata": {},
   "outputs": [
    {
     "name": "stdout",
     "output_type": "stream",
     "text": [
      "Epoch 1/10\n",
      "8/8 [==============================] - 2s 58ms/step - loss: 6.2150 - acc: 0.0010\n",
      "Epoch 2/10\n",
      "8/8 [==============================] - 0s 56ms/step - loss: 6.1988 - acc: 0.0470\n",
      "Epoch 3/10\n",
      "8/8 [==============================] - 0s 48ms/step - loss: 6.1539 - acc: 0.0120\n",
      "Epoch 4/10\n",
      "8/8 [==============================] - 0s 48ms/step - loss: 6.0872 - acc: 0.0090\n",
      "Epoch 5/10\n",
      "8/8 [==============================] - 0s 47ms/step - loss: 6.0339 - acc: 0.0070\n",
      "Epoch 6/10\n",
      "8/8 [==============================] - 0s 47ms/step - loss: 5.9550 - acc: 0.0160\n",
      "Epoch 7/10\n",
      "8/8 [==============================] - 0s 48ms/step - loss: 5.8634 - acc: 0.0220\n",
      "Epoch 8/10\n",
      "8/8 [==============================] - 0s 48ms/step - loss: 5.7594 - acc: 0.0350\n",
      "Epoch 9/10\n",
      "8/8 [==============================] - 0s 46ms/step - loss: 5.6771 - acc: 0.0450\n",
      "Epoch 10/10\n",
      "8/8 [==============================] - 0s 49ms/step - loss: 5.5959 - acc: 0.0540\n"
     ]
    },
    {
     "data": {
      "text/plain": [
       "<tensorflow.python.keras.callbacks.History at 0x162d5654ef0>"
      ]
     },
     "execution_count": 8,
     "metadata": {},
     "output_type": "execute_result"
    }
   ],
   "source": [
    "model.fit([text, question], answers, epochs=10, batch_size=128)"
   ]
  },
  {
   "cell_type": "code",
   "execution_count": 9,
   "id": "573056b7",
   "metadata": {},
   "outputs": [
    {
     "name": "stdout",
     "output_type": "stream",
     "text": [
      "Epoch 1/10\n",
      "8/8 [==============================] - 1s 52ms/step - loss: 5.5015 - acc: 0.0640\n",
      "Epoch 2/10\n",
      "8/8 [==============================] - 0s 54ms/step - loss: 5.4275 - acc: 0.0650\n",
      "Epoch 3/10\n",
      "8/8 [==============================] - 0s 52ms/step - loss: 5.3605 - acc: 0.0800\n",
      "Epoch 4/10\n",
      "8/8 [==============================] - 0s 50ms/step - loss: 5.2713 - acc: 0.0860\n",
      "Epoch 5/10\n",
      "8/8 [==============================] - 0s 49ms/step - loss: 5.2070 - acc: 0.1040\n",
      "Epoch 6/10\n",
      "8/8 [==============================] - 0s 48ms/step - loss: 5.1059 - acc: 0.1040\n",
      "Epoch 7/10\n",
      "8/8 [==============================] - 0s 50ms/step - loss: 5.0453 - acc: 0.1110\n",
      "Epoch 8/10\n",
      "8/8 [==============================] - 0s 49ms/step - loss: 5.0101 - acc: 0.1270\n",
      "Epoch 9/10\n",
      "8/8 [==============================] - 0s 49ms/step - loss: 4.9100 - acc: 0.1380\n",
      "Epoch 10/10\n",
      "8/8 [==============================] - 0s 47ms/step - loss: 4.8305 - acc: 0.1350\n"
     ]
    },
    {
     "data": {
      "text/plain": [
       "<tensorflow.python.keras.callbacks.History at 0x162d8041978>"
      ]
     },
     "execution_count": 9,
     "metadata": {},
     "output_type": "execute_result"
    }
   ],
   "source": [
    "model.fit({'text': text, 'question': question}, answers, epochs=10, batch_size=128)"
   ]
  },
  {
   "cell_type": "code",
   "execution_count": null,
   "id": "115f0ce4",
   "metadata": {},
   "outputs": [],
   "source": []
  }
 ],
 "metadata": {
  "kernelspec": {
   "display_name": "Python 3",
   "language": "python",
   "name": "python3"
  },
  "language_info": {
   "codemirror_mode": {
    "name": "ipython",
    "version": 3
   },
   "file_extension": ".py",
   "mimetype": "text/x-python",
   "name": "python",
   "nbconvert_exporter": "python",
   "pygments_lexer": "ipython3",
   "version": "3.6.13"
  }
 },
 "nbformat": 4,
 "nbformat_minor": 5
}
