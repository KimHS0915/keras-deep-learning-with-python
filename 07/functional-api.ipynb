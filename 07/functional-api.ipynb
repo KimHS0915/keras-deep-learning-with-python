{
 "cells": [
  {
   "cell_type": "code",
   "execution_count": 1,
   "id": "fedf3858",
   "metadata": {},
   "outputs": [
    {
     "name": "stdout",
     "output_type": "stream",
     "text": [
      "Model: \"model\"\n",
      "_________________________________________________________________\n",
      "Layer (type)                 Output Shape              Param #   \n",
      "=================================================================\n",
      "input_1 (InputLayer)         [(None, 64)]              0         \n",
      "_________________________________________________________________\n",
      "dense (Dense)                (None, 32)                2080      \n",
      "_________________________________________________________________\n",
      "dense_1 (Dense)              (None, 32)                1056      \n",
      "_________________________________________________________________\n",
      "dense_2 (Dense)              (None, 10)                330       \n",
      "=================================================================\n",
      "Total params: 3,466\n",
      "Trainable params: 3,466\n",
      "Non-trainable params: 0\n",
      "_________________________________________________________________\n"
     ]
    }
   ],
   "source": [
    "from tensorflow.keras.models import Model\n",
    "from tensorflow.keras import Input\n",
    "from tensorflow.keras import layers\n",
    "\n",
    "input_tensor = Input(shape=(64,))\n",
    "x = layers.Dense(32, activation='relu')(input_tensor)\n",
    "x = layers.Dense(32, activation='relu')(x)\n",
    "output_tensor = layers.Dense(10, activation='softmax')(x)\n",
    "\n",
    "model = Model(input_tensor, output_tensor)\n",
    "model.summary()"
   ]
  },
  {
   "cell_type": "code",
   "execution_count": 2,
   "id": "db903b07",
   "metadata": {},
   "outputs": [],
   "source": [
    "model.compile(optimizer='rmsprop', loss='categorical_crossentropy')"
   ]
  },
  {
   "cell_type": "code",
   "execution_count": 3,
   "id": "66c08f3a",
   "metadata": {},
   "outputs": [],
   "source": [
    "import numpy as np\n",
    "\n",
    "x_train = np.random.random((1000, 64))\n",
    "y_train = np.random.random((1000, 10))"
   ]
  },
  {
   "cell_type": "code",
   "execution_count": 4,
   "id": "c2c8b6ca",
   "metadata": {},
   "outputs": [
    {
     "name": "stdout",
     "output_type": "stream",
     "text": [
      "Epoch 1/10\n",
      "8/8 [==============================] - 0s 714us/step - loss: 11.9091\n",
      "Epoch 2/10\n",
      "8/8 [==============================] - 0s 714us/step - loss: 12.2097\n",
      "Epoch 3/10\n",
      "8/8 [==============================] - 0s 714us/step - loss: 12.9565\n",
      "Epoch 4/10\n",
      "8/8 [==============================] - 0s 714us/step - loss: 14.2079\n",
      "Epoch 5/10\n",
      "8/8 [==============================] - 0s 571us/step - loss: 16.1753\n",
      "Epoch 6/10\n",
      "8/8 [==============================] - 0s 714us/step - loss: 18.9806\n",
      "Epoch 7/10\n",
      "8/8 [==============================] - 0s 714us/step - loss: 22.4110\n",
      "Epoch 8/10\n",
      "8/8 [==============================] - 0s 715us/step - loss: 26.2437\n",
      "Epoch 9/10\n",
      "8/8 [==============================] - 0s 714us/step - loss: 29.9652\n",
      "Epoch 10/10\n",
      "8/8 [==============================] - 0s 714us/step - loss: 34.1463\n"
     ]
    },
    {
     "data": {
      "text/plain": [
       "<tensorflow.python.keras.callbacks.History at 0x29aeaa030b8>"
      ]
     },
     "execution_count": 4,
     "metadata": {},
     "output_type": "execute_result"
    }
   ],
   "source": [
    "model.fit(x_train, y_train, epochs=10, batch_size=128)"
   ]
  },
  {
   "cell_type": "code",
   "execution_count": 5,
   "id": "892cad25",
   "metadata": {},
   "outputs": [
    {
     "name": "stdout",
     "output_type": "stream",
     "text": [
      "32/32 [==============================] - 0s 452us/step - loss: 36.4869\n"
     ]
    },
    {
     "data": {
      "text/plain": [
       "36.48687744140625"
      ]
     },
     "execution_count": 5,
     "metadata": {},
     "output_type": "execute_result"
    }
   ],
   "source": [
    "model.evaluate(x_train, y_train)"
   ]
  },
  {
   "cell_type": "markdown",
   "id": "f39e75cb",
   "metadata": {},
   "source": [
    "Multi-input model"
   ]
  },
  {
   "cell_type": "code",
   "execution_count": 6,
   "id": "e39c4015",
   "metadata": {},
   "outputs": [],
   "source": [
    "text_vocabulary_size = 10000\n",
    "question_vocabulary_size = 10000\n",
    "answer_vocabulary_size = 500\n",
    "\n",
    "text_input = Input(shape=(None,), dtype='int32', name='text')\n",
    "embedded_text = layers.Embedding(text_vocabulary_size, 64)(text_input)\n",
    "encoded_text = layers.LSTM(32)(embedded_text)\n",
    "\n",
    "question_input = Input(shape=(None,), dtype='int32', name='question')\n",
    "embedded_question = layers.Embedding(question_vocabulary_size, 32)(question_input)\n",
    "encoded_question = layers.LSTM(16)(embedded_question)\n",
    "\n",
    "concatenated = layers.concatenate([encoded_text, encoded_question], axis=-1)\n",
    "\n",
    "answer = layers.Dense(answer_vocabulary_size, activation='softmax')(concatenated)\n",
    "\n",
    "model = Model([text_input, question_input], answer)\n",
    "model.compile(optimizer='rmsprop', loss='categorical_crossentropy', metrics=['acc'])"
   ]
  },
  {
   "cell_type": "code",
   "execution_count": 7,
   "id": "122ad2b0",
   "metadata": {},
   "outputs": [],
   "source": [
    "from tensorflow.keras.utils import to_categorical\n",
    "\n",
    "num_samples = 1000\n",
    "max_length = 100\n",
    "\n",
    "text = np.random.randint(1, text_vocabulary_size, size=(num_samples, max_length))\n",
    "question = np.random.randint(1, question_vocabulary_size, size=(num_samples, max_length))\n",
    "\n",
    "answers = np.random.randint(0, answer_vocabulary_size, size=num_samples)\n",
    "answers = to_categorical(answers)"
   ]
  },
  {
   "cell_type": "code",
   "execution_count": 8,
   "id": "955645d1",
   "metadata": {},
   "outputs": [
    {
     "name": "stdout",
     "output_type": "stream",
     "text": [
      "Epoch 1/10\n",
      "8/8 [==============================] - 2s 56ms/step - loss: 6.2144 - acc: 0.0030\n",
      "Epoch 2/10\n",
      "8/8 [==============================] - 0s 57ms/step - loss: 6.1963 - acc: 0.0440\n",
      "Epoch 3/10\n",
      "8/8 [==============================] - 0s 51ms/step - loss: 6.1464 - acc: 0.0190\n",
      "Epoch 4/10\n",
      "8/8 [==============================] - 0s 45ms/step - loss: 6.0449 - acc: 0.0080\n",
      "Epoch 5/10\n",
      "8/8 [==============================] - 0s 49ms/step - loss: 5.9787 - acc: 0.0110\n",
      "Epoch 6/10\n",
      "8/8 [==============================] - 0s 48ms/step - loss: 5.9065 - acc: 0.0110\n",
      "Epoch 7/10\n",
      "8/8 [==============================] - 0s 47ms/step - loss: 5.8033 - acc: 0.0130\n",
      "Epoch 8/10\n",
      "8/8 [==============================] - 0s 50ms/step - loss: 5.7136 - acc: 0.0220\n",
      "Epoch 9/10\n",
      "8/8 [==============================] - 0s 46ms/step - loss: 5.6337 - acc: 0.0280\n",
      "Epoch 10/10\n",
      "8/8 [==============================] - 0s 48ms/step - loss: 5.5515 - acc: 0.0350\n"
     ]
    },
    {
     "data": {
      "text/plain": [
       "<tensorflow.python.keras.callbacks.History at 0x29aebc4df28>"
      ]
     },
     "execution_count": 8,
     "metadata": {},
     "output_type": "execute_result"
    }
   ],
   "source": [
    "model.fit([text, question], answers, epochs=10, batch_size=128)"
   ]
  },
  {
   "cell_type": "code",
   "execution_count": 9,
   "id": "ab99d457",
   "metadata": {},
   "outputs": [
    {
     "name": "stdout",
     "output_type": "stream",
     "text": [
      "Epoch 1/10\n",
      "8/8 [==============================] - 1s 49ms/step - loss: 5.4784 - acc: 0.0390\n",
      "Epoch 2/10\n",
      "8/8 [==============================] - 0s 50ms/step - loss: 5.4269 - acc: 0.0450\n",
      "Epoch 3/10\n",
      "8/8 [==============================] - 0s 54ms/step - loss: 5.3455 - acc: 0.0640: 0s - loss: 5.3862 - acc: \n",
      "Epoch 4/10\n",
      "8/8 [==============================] - 0s 49ms/step - loss: 5.2750 - acc: 0.0720\n",
      "Epoch 5/10\n",
      "8/8 [==============================] - 0s 51ms/step - loss: 5.2035 - acc: 0.0870\n",
      "Epoch 6/10\n",
      "8/8 [==============================] - 0s 49ms/step - loss: 5.1741 - acc: 0.0900\n",
      "Epoch 7/10\n",
      "8/8 [==============================] - 0s 51ms/step - loss: 5.0887 - acc: 0.0950\n",
      "Epoch 8/10\n",
      "8/8 [==============================] - 0s 50ms/step - loss: 5.0172 - acc: 0.1140\n",
      "Epoch 9/10\n",
      "8/8 [==============================] - 0s 48ms/step - loss: 4.9948 - acc: 0.1210\n",
      "Epoch 10/10\n",
      "8/8 [==============================] - 0s 48ms/step - loss: 4.9158 - acc: 0.1300\n"
     ]
    },
    {
     "data": {
      "text/plain": [
       "<tensorflow.python.keras.callbacks.History at 0x29aee665ba8>"
      ]
     },
     "execution_count": 9,
     "metadata": {},
     "output_type": "execute_result"
    }
   ],
   "source": [
    "model.fit({'text': text, 'question': question}, answers, epochs=10, batch_size=128)"
   ]
  },
  {
   "cell_type": "markdown",
   "id": "f93beac4",
   "metadata": {},
   "source": [
    "Multi-output model"
   ]
  },
  {
   "cell_type": "code",
   "execution_count": 10,
   "id": "13ac7f00",
   "metadata": {},
   "outputs": [],
   "source": [
    "vocabulary_size = 50000\n",
    "num_income_groups = 10\n",
    "\n",
    "posts_input = Input(shape=(None,), dtype='int32', name='posts')\n",
    "embedded_posts = layers.Embedding(vocabulary_size, 256)(posts_input)\n",
    "x = layers.Conv1D(128, 5, activation='relu')(embedded_posts)\n",
    "x = layers.MaxPooling1D(5)(x)\n",
    "x = layers.Conv1D(256, 5, activation='relu')(x)\n",
    "x = layers.Conv1D(256, 5, activation='relu')(x)\n",
    "x = layers.MaxPooling1D(5)(x)\n",
    "x = layers.Conv1D(256, 5, activation='relu')(x)\n",
    "x = layers.Conv1D(256, 5, activation='relu')(x)\n",
    "x = layers.GlobalMaxPooling1D()(x)\n",
    "x = layers.Dense(128, activation='relu')(x)\n",
    "\n",
    "age_prediction = layers.Dense(1, name='age')(x)\n",
    "income_prediction = layers.Dense(num_income_groups, \n",
    "                                 activation='softmax', \n",
    "                                 name='income')(x)\n",
    "gender_prediction = layers.Dense(1, activation='sigmoid', name='gender')(x)\n",
    "\n",
    "model = Model(posts_input, \n",
    "              [age_prediction, income_prediction, gender_prediction])"
   ]
  },
  {
   "cell_type": "code",
   "execution_count": 11,
   "id": "8197172b",
   "metadata": {},
   "outputs": [],
   "source": [
    "model.compile(optimizer='rmsprop', \n",
    "              loss=['mse', 'categorical_crossentropy', 'binary_crossentropy'])\n",
    "\n",
    "model.compile(optimizer='rmsprop', \n",
    "              loss={'age': 'mse', \n",
    "                    'income': 'categorical_crossentropy', \n",
    "                    'gender': 'binary_crossentropy'})"
   ]
  },
  {
   "cell_type": "code",
   "execution_count": 12,
   "id": "47313936",
   "metadata": {},
   "outputs": [],
   "source": [
    "model.compile(optimizer='rmsprop', \n",
    "              loss=['mse', 'categorical_crossentropy', 'binary_crossentropy'], \n",
    "              loss_weights=[0.25, 1., 10.])\n",
    "\n",
    "model.compile(optimizer='rmsprop', \n",
    "              loss={'age': 'mse', \n",
    "                    'income': 'categorical_crossentropy', \n",
    "                    'gender': 'binary_crossentropy'}, \n",
    "              loss_weights={'age': 0.25, \n",
    "                            'income': 1., \n",
    "                            'gender': 10.})"
   ]
  },
  {
   "cell_type": "code",
   "execution_count": null,
   "id": "97b7b616",
   "metadata": {},
   "outputs": [],
   "source": []
  }
 ],
 "metadata": {
  "kernelspec": {
   "display_name": "Python 3",
   "language": "python",
   "name": "python3"
  },
  "language_info": {
   "codemirror_mode": {
    "name": "ipython",
    "version": 3
   },
   "file_extension": ".py",
   "mimetype": "text/x-python",
   "name": "python",
   "nbconvert_exporter": "python",
   "pygments_lexer": "ipython3",
   "version": "3.6.13"
  }
 },
 "nbformat": 4,
 "nbformat_minor": 5
}
