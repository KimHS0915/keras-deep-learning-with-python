{
 "cells": [
  {
   "cell_type": "code",
   "execution_count": 1,
   "id": "b70f8ba5",
   "metadata": {},
   "outputs": [],
   "source": [
    "from tensorflow.keras.datasets import mnist\n",
    "    \n",
    "(train_images, train_labels), (test_images, test_labels) = mnist.load_data()\n",
    "\n",
    "train_images = train_images.reshape((60000, 28, 28, 1))\n",
    "train_images = train_images.astype('float32') / 255\n",
    "\n",
    "test_images = test_images.reshape((10000, 28, 28, 1))\n",
    "test_images = test_images.astype('float32') / 255"
   ]
  },
  {
   "cell_type": "code",
   "execution_count": 2,
   "id": "4fcfc1ca",
   "metadata": {},
   "outputs": [],
   "source": [
    "from tensorflow.keras.utils import to_categorical\n",
    "\n",
    "train_labels = to_categorical(train_labels)\n",
    "test_labels = to_categorical(test_labels)"
   ]
  },
  {
   "cell_type": "code",
   "execution_count": 3,
   "id": "08cfde27",
   "metadata": {},
   "outputs": [
    {
     "name": "stdout",
     "output_type": "stream",
     "text": [
      "Model: \"sequential\"\n",
      "_________________________________________________________________\n",
      "Layer (type)                 Output Shape              Param #   \n",
      "=================================================================\n",
      "separable_conv2d (SeparableC (None, 26, 26, 32)        73        \n",
      "_________________________________________________________________\n",
      "max_pooling2d (MaxPooling2D) (None, 13, 13, 32)        0         \n",
      "_________________________________________________________________\n",
      "separable_conv2d_1 (Separabl (None, 11, 11, 64)        2400      \n",
      "_________________________________________________________________\n",
      "max_pooling2d_1 (MaxPooling2 (None, 5, 5, 64)          0         \n",
      "_________________________________________________________________\n",
      "separable_conv2d_2 (Separabl (None, 3, 3, 64)          4736      \n",
      "_________________________________________________________________\n",
      "flatten (Flatten)            (None, 576)               0         \n",
      "_________________________________________________________________\n",
      "dense (Dense)                (None, 64)                36928     \n",
      "_________________________________________________________________\n",
      "dense_1 (Dense)              (None, 10)                650       \n",
      "=================================================================\n",
      "Total params: 44,787\n",
      "Trainable params: 44,787\n",
      "Non-trainable params: 0\n",
      "_________________________________________________________________\n"
     ]
    }
   ],
   "source": [
    "from tensorflow.keras import models\n",
    "from tensorflow.keras import layers\n",
    "\n",
    "model = models.Sequential()\n",
    "model.add(layers.SeparableConv2D(32, (3, 3), \n",
    "                                 activation='relu', \n",
    "                                 input_shape=(28, 28, 1)))\n",
    "model.add(layers.MaxPooling2D((2, 2)))\n",
    "model.add(layers.SeparableConv2D(64, (3, 3), activation='relu'))\n",
    "model.add(layers.MaxPooling2D((2, 2)))\n",
    "model.add(layers.SeparableConv2D(64, (3, 3), activation='relu'))\n",
    "model.add(layers.Flatten())\n",
    "model.add(layers.Dense(64, activation='relu'))\n",
    "model.add(layers.Dense(10, activation='softmax'))\n",
    "\n",
    "model.summary()"
   ]
  },
  {
   "cell_type": "code",
   "execution_count": 4,
   "id": "da27275f",
   "metadata": {},
   "outputs": [
    {
     "name": "stdout",
     "output_type": "stream",
     "text": [
      "Epoch 1/5\n",
      "938/938 [==============================] - 13s 14ms/step - loss: 0.3550 - acc: 0.8935\n",
      "Epoch 2/5\n",
      "938/938 [==============================] - 12s 13ms/step - loss: 0.1007 - acc: 0.9683\n",
      "Epoch 3/5\n",
      "938/938 [==============================] - 12s 13ms/step - loss: 0.0710 - acc: 0.9773\n",
      "Epoch 4/5\n",
      "938/938 [==============================] - 13s 13ms/step - loss: 0.0569 - acc: 0.9821\n",
      "Epoch 5/5\n",
      "938/938 [==============================] - 13s 13ms/step - loss: 0.0479 - acc: 0.9853\n"
     ]
    },
    {
     "data": {
      "text/plain": [
       "<tensorflow.python.keras.callbacks.History at 0x1fb5c12a3c8>"
      ]
     },
     "execution_count": 4,
     "metadata": {},
     "output_type": "execute_result"
    }
   ],
   "source": [
    "model.compile(optimizer='rmsprop', \n",
    "              loss='categorical_crossentropy', \n",
    "              metrics=['acc'])\n",
    "\n",
    "model.fit(train_images, train_labels, epochs=5, batch_size=64)"
   ]
  },
  {
   "cell_type": "code",
   "execution_count": 5,
   "id": "5a69fe83",
   "metadata": {},
   "outputs": [
    {
     "name": "stdout",
     "output_type": "stream",
     "text": [
      "313/313 [==============================] - 1s 3ms/step - loss: 0.0451 - acc: 0.9853\n"
     ]
    },
    {
     "data": {
      "text/plain": [
       "[0.045057300478219986, 0.9853000044822693]"
      ]
     },
     "execution_count": 5,
     "metadata": {},
     "output_type": "execute_result"
    }
   ],
   "source": [
    "model.evaluate(test_images, test_labels)"
   ]
  },
  {
   "cell_type": "code",
   "execution_count": 6,
   "id": "53ed7317",
   "metadata": {},
   "outputs": [],
   "source": [
    "import os\n",
    "\n",
    "base_dir = '../datasets/cats_and_dogs_small'\n",
    "train_dir = os.path.join(base_dir, 'train')\n",
    "validation_dir = os.path.join(base_dir, 'validation')"
   ]
  },
  {
   "cell_type": "code",
   "execution_count": 7,
   "id": "5b4b6e01",
   "metadata": {},
   "outputs": [
    {
     "name": "stdout",
     "output_type": "stream",
     "text": [
      "Found 2000 images belonging to 2 classes.\n",
      "Found 1000 images belonging to 2 classes.\n"
     ]
    }
   ],
   "source": [
    "from tensorflow.keras.preprocessing.image import ImageDataGenerator\n",
    "\n",
    "train_datagen = ImageDataGenerator(rescale=1./255)\n",
    "test_datagen = ImageDataGenerator(rescale=1./255)\n",
    "\n",
    "train_generator = train_datagen.flow_from_directory(train_dir, \n",
    "                                                    target_size=(150, 150), \n",
    "                                                    batch_size=20, \n",
    "                                                    class_mode='binary')\n",
    "validation_generator = test_datagen.flow_from_directory(validation_dir, \n",
    "                                                        target_size=(150, 150), \n",
    "                                                        batch_size=20,\n",
    "                                                        class_mode='binary')"
   ]
  },
  {
   "cell_type": "code",
   "execution_count": 8,
   "id": "b8c8f245",
   "metadata": {},
   "outputs": [
    {
     "name": "stdout",
     "output_type": "stream",
     "text": [
      "Model: \"sequential_1\"\n",
      "_________________________________________________________________\n",
      "Layer (type)                 Output Shape              Param #   \n",
      "=================================================================\n",
      "separable_conv2d_3 (Separabl (None, 148, 148, 32)      155       \n",
      "_________________________________________________________________\n",
      "max_pooling2d_2 (MaxPooling2 (None, 74, 74, 32)        0         \n",
      "_________________________________________________________________\n",
      "separable_conv2d_4 (Separabl (None, 72, 72, 64)        2400      \n",
      "_________________________________________________________________\n",
      "max_pooling2d_3 (MaxPooling2 (None, 36, 36, 64)        0         \n",
      "_________________________________________________________________\n",
      "separable_conv2d_5 (Separabl (None, 34, 34, 128)       8896      \n",
      "_________________________________________________________________\n",
      "max_pooling2d_4 (MaxPooling2 (None, 17, 17, 128)       0         \n",
      "_________________________________________________________________\n",
      "separable_conv2d_6 (Separabl (None, 15, 15, 128)       17664     \n",
      "_________________________________________________________________\n",
      "max_pooling2d_5 (MaxPooling2 (None, 7, 7, 128)         0         \n",
      "_________________________________________________________________\n",
      "flatten_1 (Flatten)          (None, 6272)              0         \n",
      "_________________________________________________________________\n",
      "dense_2 (Dense)              (None, 512)               3211776   \n",
      "_________________________________________________________________\n",
      "dense_3 (Dense)              (None, 1)                 513       \n",
      "=================================================================\n",
      "Total params: 3,241,404\n",
      "Trainable params: 3,241,404\n",
      "Non-trainable params: 0\n",
      "_________________________________________________________________\n"
     ]
    }
   ],
   "source": [
    "from tensorflow.keras import layers\n",
    "from tensorflow.keras import models\n",
    "\n",
    "model = models.Sequential()\n",
    "model.add(layers.SeparableConv2D(32, (3, 3), activation='relu', input_shape=(150, 150, 3)))\n",
    "model.add(layers.MaxPooling2D((2, 2)))\n",
    "model.add(layers.SeparableConv2D(64, (3, 3), activation='relu'))\n",
    "model.add(layers.MaxPooling2D((2, 2)))\n",
    "model.add(layers.SeparableConv2D(128, (3, 3), activation='relu'))\n",
    "model.add(layers.MaxPooling2D((2, 2)))\n",
    "model.add(layers.SeparableConv2D(128, (3, 3), activation='relu'))\n",
    "model.add(layers.MaxPooling2D((2, 2)))\n",
    "model.add(layers.Flatten())\n",
    "model.add(layers.Dense(512, activation='relu'))\n",
    "model.add(layers.Dense(1, activation='sigmoid'))\n",
    "\n",
    "model.summary()"
   ]
  },
  {
   "cell_type": "code",
   "execution_count": 9,
   "id": "ab5edb8d",
   "metadata": {},
   "outputs": [],
   "source": [
    "from tensorflow.keras import optimizers\n",
    "\n",
    "model.compile(loss='binary_crossentropy', \n",
    "              optimizer=optimizers.RMSprop(learning_rate=1e-4), \n",
    "              metrics=['acc'])"
   ]
  },
  {
   "cell_type": "code",
   "execution_count": 10,
   "id": "a3de3f49",
   "metadata": {},
   "outputs": [
    {
     "name": "stdout",
     "output_type": "stream",
     "text": [
      "Epoch 1/30\n",
      "100/100 [==============================] - 16s 155ms/step - loss: 0.6932 - acc: 0.4960 - val_loss: 0.6931 - val_acc: 0.5000\n",
      "Epoch 2/30\n",
      "100/100 [==============================] - 15s 154ms/step - loss: 0.6932 - acc: 0.4970 - val_loss: 0.6931 - val_acc: 0.5000\n",
      "Epoch 3/30\n",
      "100/100 [==============================] - 16s 155ms/step - loss: 0.6932 - acc: 0.4990 - val_loss: 0.6929 - val_acc: 0.5000\n",
      "Epoch 4/30\n",
      "100/100 [==============================] - 15s 153ms/step - loss: 0.6929 - acc: 0.5095 - val_loss: 0.6928 - val_acc: 0.5000\n",
      "Epoch 5/30\n",
      "100/100 [==============================] - 16s 156ms/step - loss: 0.6928 - acc: 0.5085 - val_loss: 0.6924 - val_acc: 0.5100\n",
      "Epoch 6/30\n",
      "100/100 [==============================] - 16s 155ms/step - loss: 0.6920 - acc: 0.5250 - val_loss: 0.6915 - val_acc: 0.5160\n",
      "Epoch 7/30\n",
      "100/100 [==============================] - 16s 159ms/step - loss: 0.6913 - acc: 0.5295 - val_loss: 0.6887 - val_acc: 0.5910\n",
      "Epoch 8/30\n",
      "100/100 [==============================] - 15s 153ms/step - loss: 0.6890 - acc: 0.5495 - val_loss: 0.6843 - val_acc: 0.5960\n",
      "Epoch 9/30\n",
      "100/100 [==============================] - 15s 154ms/step - loss: 0.6835 - acc: 0.5625 - val_loss: 0.6800 - val_acc: 0.5340\n",
      "Epoch 10/30\n",
      "100/100 [==============================] - 15s 155ms/step - loss: 0.6792 - acc: 0.5805 - val_loss: 0.6701 - val_acc: 0.6180\n",
      "Epoch 11/30\n",
      "100/100 [==============================] - 15s 152ms/step - loss: 0.6731 - acc: 0.5815 - val_loss: 0.6680 - val_acc: 0.5900\n",
      "Epoch 12/30\n",
      "100/100 [==============================] - 16s 155ms/step - loss: 0.6692 - acc: 0.5780 - val_loss: 0.6572 - val_acc: 0.6160\n",
      "Epoch 13/30\n",
      "100/100 [==============================] - 16s 156ms/step - loss: 0.6645 - acc: 0.5920 - val_loss: 0.6807 - val_acc: 0.5320\n",
      "Epoch 14/30\n",
      "100/100 [==============================] - 15s 154ms/step - loss: 0.6617 - acc: 0.5955 - val_loss: 0.6632 - val_acc: 0.5800\n",
      "Epoch 15/30\n",
      "100/100 [==============================] - 15s 155ms/step - loss: 0.6614 - acc: 0.5795 - val_loss: 0.6486 - val_acc: 0.6180\n",
      "Epoch 16/30\n",
      "100/100 [==============================] - 15s 152ms/step - loss: 0.6604 - acc: 0.5985 - val_loss: 0.6449 - val_acc: 0.6180\n",
      "Epoch 17/30\n",
      "100/100 [==============================] - 15s 152ms/step - loss: 0.6583 - acc: 0.6000 - val_loss: 0.6419 - val_acc: 0.6270\n",
      "Epoch 18/30\n",
      "100/100 [==============================] - 15s 152ms/step - loss: 0.6565 - acc: 0.5945 - val_loss: 0.6420 - val_acc: 0.6170\n",
      "Epoch 19/30\n",
      "100/100 [==============================] - 15s 152ms/step - loss: 0.6523 - acc: 0.6060 - val_loss: 0.6501 - val_acc: 0.6120\n",
      "Epoch 20/30\n",
      "100/100 [==============================] - 15s 152ms/step - loss: 0.6531 - acc: 0.6015 - val_loss: 0.6540 - val_acc: 0.6030\n",
      "Epoch 21/30\n",
      "100/100 [==============================] - 15s 152ms/step - loss: 0.6529 - acc: 0.5875 - val_loss: 0.6345 - val_acc: 0.6280\n",
      "Epoch 22/30\n",
      "100/100 [==============================] - 15s 152ms/step - loss: 0.6508 - acc: 0.6005 - val_loss: 0.6437 - val_acc: 0.6200\n",
      "Epoch 23/30\n",
      "100/100 [==============================] - 15s 152ms/step - loss: 0.6505 - acc: 0.6120 - val_loss: 0.6308 - val_acc: 0.6290\n",
      "Epoch 24/30\n",
      "100/100 [==============================] - 15s 154ms/step - loss: 0.6457 - acc: 0.6140 - val_loss: 0.6382 - val_acc: 0.6320\n",
      "Epoch 25/30\n",
      "100/100 [==============================] - 16s 158ms/step - loss: 0.6448 - acc: 0.6150 - val_loss: 0.6280 - val_acc: 0.6350\n",
      "Epoch 26/30\n",
      "100/100 [==============================] - 16s 156ms/step - loss: 0.6442 - acc: 0.6120 - val_loss: 0.6244 - val_acc: 0.6320\n",
      "Epoch 27/30\n",
      "100/100 [==============================] - 16s 158ms/step - loss: 0.6360 - acc: 0.6290 - val_loss: 0.6313 - val_acc: 0.6290\n",
      "Epoch 28/30\n",
      "100/100 [==============================] - 16s 155ms/step - loss: 0.6401 - acc: 0.6040 - val_loss: 0.6223 - val_acc: 0.6440\n",
      "Epoch 29/30\n",
      "100/100 [==============================] - 15s 154ms/step - loss: 0.6357 - acc: 0.6250 - val_loss: 0.6178 - val_acc: 0.6470\n",
      "Epoch 30/30\n",
      "100/100 [==============================] - 16s 155ms/step - loss: 0.6355 - acc: 0.6300 - val_loss: 0.6223 - val_acc: 0.6460\n"
     ]
    }
   ],
   "source": [
    "history = model.fit(train_generator, steps_per_epoch=100, epochs=30, \n",
    "                              validation_data=validation_generator, \n",
    "                              validation_steps=50)"
   ]
  },
  {
   "cell_type": "code",
   "execution_count": null,
   "id": "77464265",
   "metadata": {},
   "outputs": [],
   "source": []
  }
 ],
 "metadata": {
  "kernelspec": {
   "display_name": "Python 3",
   "language": "python",
   "name": "python3"
  },
  "language_info": {
   "codemirror_mode": {
    "name": "ipython",
    "version": 3
   },
   "file_extension": ".py",
   "mimetype": "text/x-python",
   "name": "python",
   "nbconvert_exporter": "python",
   "pygments_lexer": "ipython3",
   "version": "3.6.13"
  }
 },
 "nbformat": 4,
 "nbformat_minor": 5
}
