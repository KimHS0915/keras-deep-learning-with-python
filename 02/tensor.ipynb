{
 "cells": [
  {
   "cell_type": "code",
   "execution_count": 1,
   "id": "725419a7",
   "metadata": {},
   "outputs": [
    {
     "name": "stdout",
     "output_type": "stream",
     "text": [
      "tensorflow 2.5.0\n",
      "tf.keras 2.5.0\n"
     ]
    }
   ],
   "source": [
    "import tensorflow as tf\n",
    "from tensorflow import keras\n",
    "\n",
    "print('tensorflow', tf.__version__)\n",
    "print('tf.keras', keras.__version__)"
   ]
  },
  {
   "cell_type": "code",
   "execution_count": 2,
   "id": "17d86489",
   "metadata": {},
   "outputs": [
    {
     "data": {
      "text/plain": [
       "array(12)"
      ]
     },
     "execution_count": 2,
     "metadata": {},
     "output_type": "execute_result"
    }
   ],
   "source": [
    "import numpy as np\n",
    "\n",
    "tensor_0d = np.array(12)\n",
    "tensor_0d"
   ]
  },
  {
   "cell_type": "code",
   "execution_count": 3,
   "id": "9009a034",
   "metadata": {},
   "outputs": [
    {
     "data": {
      "text/plain": [
       "0"
      ]
     },
     "execution_count": 3,
     "metadata": {},
     "output_type": "execute_result"
    }
   ],
   "source": [
    "tensor_0d.ndim"
   ]
  },
  {
   "cell_type": "code",
   "execution_count": 4,
   "id": "9b820ccb",
   "metadata": {},
   "outputs": [
    {
     "data": {
      "text/plain": [
       "array([12,  3,  6, 14,  7])"
      ]
     },
     "execution_count": 4,
     "metadata": {},
     "output_type": "execute_result"
    }
   ],
   "source": [
    "tensor_1d = np.array([12, 3, 6, 14, 7])\n",
    "tensor_1d"
   ]
  },
  {
   "cell_type": "code",
   "execution_count": 5,
   "id": "bfac3195",
   "metadata": {},
   "outputs": [
    {
     "data": {
      "text/plain": [
       "1"
      ]
     },
     "execution_count": 5,
     "metadata": {},
     "output_type": "execute_result"
    }
   ],
   "source": [
    "tensor_1d.ndim"
   ]
  },
  {
   "cell_type": "code",
   "execution_count": 6,
   "id": "d9725ee2",
   "metadata": {},
   "outputs": [
    {
     "data": {
      "text/plain": [
       "array([[ 5, 78,  2, 34,  0],\n",
       "       [ 6, 79,  3, 35,  1],\n",
       "       [ 7, 80,  4, 36,  2]])"
      ]
     },
     "execution_count": 6,
     "metadata": {},
     "output_type": "execute_result"
    }
   ],
   "source": [
    "tensor_2d = np.array([[5, 78, 2, 34, 0], \n",
    "             [6, 79, 3, 35, 1], \n",
    "             [7, 80, 4, 36, 2]])\n",
    "tensor_2d"
   ]
  },
  {
   "cell_type": "code",
   "execution_count": 7,
   "id": "af14cc93",
   "metadata": {},
   "outputs": [
    {
     "data": {
      "text/plain": [
       "2"
      ]
     },
     "execution_count": 7,
     "metadata": {},
     "output_type": "execute_result"
    }
   ],
   "source": [
    "tensor_2d.ndim"
   ]
  },
  {
   "cell_type": "code",
   "execution_count": 8,
   "id": "c3de408a",
   "metadata": {},
   "outputs": [
    {
     "data": {
      "text/plain": [
       "array([[[ 5, 78,  2, 34,  0],\n",
       "        [ 6, 79,  3, 35,  1],\n",
       "        [ 7, 80,  4, 36,  2]],\n",
       "\n",
       "       [[ 5, 78,  2, 34,  0],\n",
       "        [ 6, 79,  3, 35,  1],\n",
       "        [ 7, 80,  4, 36,  2]],\n",
       "\n",
       "       [[ 5, 78,  2, 34,  0],\n",
       "        [ 6, 79,  3, 35,  1],\n",
       "        [ 7, 80,  4, 36,  2]]])"
      ]
     },
     "execution_count": 8,
     "metadata": {},
     "output_type": "execute_result"
    }
   ],
   "source": [
    "tensor_3d = np.array([[[5, 78, 2, 34, 0], \n",
    "               [6, 79, 3, 35, 1],\n",
    "               [7, 80, 4, 36, 2]],\n",
    "              [[5, 78, 2, 34, 0], \n",
    "               [6, 79, 3, 35, 1],\n",
    "               [7, 80, 4, 36, 2]],\n",
    "              [[5, 78, 2, 34, 0], \n",
    "               [6, 79, 3, 35, 1],\n",
    "               [7, 80, 4, 36, 2]]])\n",
    "tensor_3d"
   ]
  },
  {
   "cell_type": "code",
   "execution_count": 9,
   "id": "5060afbb",
   "metadata": {},
   "outputs": [
    {
     "data": {
      "text/plain": [
       "3"
      ]
     },
     "execution_count": 9,
     "metadata": {},
     "output_type": "execute_result"
    }
   ],
   "source": [
    "tensor_3d.ndim"
   ]
  },
  {
   "cell_type": "code",
   "execution_count": 10,
   "id": "547b44db",
   "metadata": {},
   "outputs": [],
   "source": [
    "from keras.datasets import mnist\n",
    "\n",
    "(train_images, train_labels), (test_images, test_labels) = mnist.load_data()"
   ]
  },
  {
   "cell_type": "code",
   "execution_count": 11,
   "id": "2375b66e",
   "metadata": {},
   "outputs": [
    {
     "data": {
      "text/plain": [
       "3"
      ]
     },
     "execution_count": 11,
     "metadata": {},
     "output_type": "execute_result"
    }
   ],
   "source": [
    "train_images.ndim"
   ]
  },
  {
   "cell_type": "code",
   "execution_count": 12,
   "id": "46f4673c",
   "metadata": {},
   "outputs": [
    {
     "data": {
      "text/plain": [
       "(60000, 28, 28)"
      ]
     },
     "execution_count": 12,
     "metadata": {},
     "output_type": "execute_result"
    }
   ],
   "source": [
    "train_images.shape"
   ]
  },
  {
   "cell_type": "code",
   "execution_count": 13,
   "id": "1c5ace3d",
   "metadata": {},
   "outputs": [
    {
     "data": {
      "text/plain": [
       "dtype('uint8')"
      ]
     },
     "execution_count": 13,
     "metadata": {},
     "output_type": "execute_result"
    }
   ],
   "source": [
    "train_images.dtype"
   ]
  },
  {
   "cell_type": "code",
   "execution_count": 14,
   "id": "804474df",
   "metadata": {},
   "outputs": [
    {
     "data": {
      "image/png": "[encoded data removed]",
      "text/plain": [
       "<Figure size 432x288 with 1 Axes>"
      ]
     },
     "metadata": {
      "needs_background": "light"
     },
     "output_type": "display_data"
    }
   ],
   "source": [
    "import matplotlib.pyplot as plt\n",
    "\n",
    "digit = train_images[4]\n",
    "plt.imshow(digit, cmap=plt.cm.binary)\n",
    "plt.show()"
   ]
  },
  {
   "cell_type": "code",
   "execution_count": 15,
   "id": "5b6901b8",
   "metadata": {},
   "outputs": [
    {
     "name": "stdout",
     "output_type": "stream",
     "text": [
      "(90, 28, 28)\n"
     ]
    }
   ],
   "source": [
    "my_slice = train_images[10:100]\n",
    "print(my_slice.shape)"
   ]
  },
  {
   "cell_type": "code",
   "execution_count": 16,
   "id": "65612432",
   "metadata": {},
   "outputs": [
    {
     "name": "stdout",
     "output_type": "stream",
     "text": [
      "(90, 28, 28)\n"
     ]
    }
   ],
   "source": [
    "my_slice = train_images[10:100, :, :]\n",
    "print(my_slice.shape)"
   ]
  },
  {
   "cell_type": "code",
   "execution_count": 17,
   "id": "35414d4a",
   "metadata": {},
   "outputs": [
    {
     "name": "stdout",
     "output_type": "stream",
     "text": [
      "(90, 28, 28)\n"
     ]
    }
   ],
   "source": [
    "my_slice = train_images[10:100, 0:28, 0:28]\n",
    "print(my_slice.shape)"
   ]
  },
  {
   "cell_type": "code",
   "execution_count": 18,
   "id": "c4afdb9c",
   "metadata": {},
   "outputs": [
    {
     "name": "stdout",
     "output_type": "stream",
     "text": [
      "(60000, 14, 14)\n"
     ]
    }
   ],
   "source": [
    "my_slice = train_images[:, 14:, 14:]\n",
    "print(my_slice.shape)"
   ]
  },
  {
   "cell_type": "code",
   "execution_count": 19,
   "id": "5ad277e9",
   "metadata": {},
   "outputs": [
    {
     "name": "stdout",
     "output_type": "stream",
     "text": [
      "(60000, 14, 14)\n"
     ]
    }
   ],
   "source": [
    "my_slice = train_images[:, 7:-7, 7:-7]\n",
    "print(my_slice.shape)"
   ]
  },
  {
   "cell_type": "code",
   "execution_count": 20,
   "id": "6fee5c03",
   "metadata": {},
   "outputs": [],
   "source": [
    "def naive_relu(x):\n",
    "    assert len(x.shape)\n",
    "    x = x.copy()\n",
    "    for i in range(x.shape[0]):\n",
    "        for j in range(x.shape[1]):\n",
    "            x[i, j] = max(x[i, j], 0)\n",
    "    return x"
   ]
  },
  {
   "cell_type": "code",
   "execution_count": 21,
   "id": "47546dc9",
   "metadata": {},
   "outputs": [],
   "source": [
    "def naive_add(x, y):\n",
    "    assert len(x.shape) == 2\n",
    "    assert x.shape == y.shape\n",
    "    x = x.copy()\n",
    "    for i in range(x.shape[0]):\n",
    "        for j in range(x.shape[1]):\n",
    "            x[i, j] += y[i, j]\n",
    "    return x"
   ]
  },
  {
   "cell_type": "code",
   "execution_count": 22,
   "id": "a2a7599a",
   "metadata": {},
   "outputs": [
    {
     "name": "stdout",
     "output_type": "stream",
     "text": [
      "[[1 0 5]\n",
      " [0 4 0]]\n",
      "[[11 17 35]\n",
      " [38 54 52]]\n"
     ]
    }
   ],
   "source": [
    "t1 = np.array([[1, -3, 5], \n",
    "               [-2, 4, -8]])\n",
    "t2 = np.array([[10, 20, 30], \n",
    "               [40, 50, 60]])\n",
    "\n",
    "print(naive_relu(t1))\n",
    "print(naive_add(t1, t2))"
   ]
  },
  {
   "cell_type": "code",
   "execution_count": 23,
   "id": "28210951",
   "metadata": {},
   "outputs": [
    {
     "data": {
      "text/plain": [
       "array([[11, 17, 35],\n",
       "       [38, 54, 52]])"
      ]
     },
     "execution_count": 23,
     "metadata": {},
     "output_type": "execute_result"
    }
   ],
   "source": [
    "t1 + t2"
   ]
  },
  {
   "cell_type": "code",
   "execution_count": 24,
   "id": "68e8888b",
   "metadata": {},
   "outputs": [
    {
     "data": {
      "text/plain": [
       "array([[1., 0., 5.],\n",
       "       [0., 4., 0.]])"
      ]
     },
     "execution_count": 24,
     "metadata": {},
     "output_type": "execute_result"
    }
   ],
   "source": [
    "np.maximum(t1, 0.)"
   ]
  },
  {
   "cell_type": "code",
   "execution_count": 25,
   "id": "92ad8b9c",
   "metadata": {},
   "outputs": [],
   "source": [
    "def naive_add_matrix_and_vector(x, y):\n",
    "    assert len(x.shape) == 2\n",
    "    assert len(y.shape) == 1\n",
    "    assert x.shape[1] == y.shape[0]\n",
    "    x = x.copy()\n",
    "    for i in range(x.shape[0]):\n",
    "        for j in range(x.shape[1]):\n",
    "            x[i, j] += y[j]\n",
    "    return x"
   ]
  },
  {
   "cell_type": "code",
   "execution_count": 26,
   "id": "062bf09e",
   "metadata": {},
   "outputs": [
    {
     "name": "stdout",
     "output_type": "stream",
     "text": [
      "[[[[0.83621295 0.71716367 0.11091374 ... 0.31661753 0.77021735\n",
      "    0.2939914 ]\n",
      "   [0.74517521 0.6367383  0.96534401 ... 0.5241485  0.93586328\n",
      "    0.79657911]\n",
      "   [0.39272963 0.40567548 0.91677527 ... 0.53209023 0.58023504\n",
      "    0.83555599]\n",
      "   ...\n",
      "   [0.94532734 0.3484236  0.37538839 ... 0.38593423 0.65133842\n",
      "    0.98775007]\n",
      "   [0.62362037 0.7020269  0.64697984 ... 0.6251077  0.699724\n",
      "    0.75723803]\n",
      "   [0.54195766 0.93030294 0.54946572 ... 0.45480854 0.61190981\n",
      "    0.53587414]]\n",
      "\n",
      "  [[0.54459909 0.73614186 0.8863988  ... 0.12892843 0.34486572\n",
      "    0.2939914 ]\n",
      "   [0.74517521 0.39432469 0.96534401 ... 0.17773182 0.93586328\n",
      "    0.53081275]\n",
      "   [0.47339619 0.89371474 0.91677527 ... 0.29405965 0.36534171\n",
      "    0.58995581]\n",
      "   ...\n",
      "   [0.7119348  0.3484236  0.64273791 ... 0.69772424 0.61849045\n",
      "    0.91498569]\n",
      "   [0.29605518 0.64084077 0.62259405 ... 0.98423997 0.37411042\n",
      "    0.75723803]\n",
      "   [0.49503478 0.89385481 0.40872659 ... 0.27460499 0.74175351\n",
      "    0.3698198 ]]\n",
      "\n",
      "  [[0.50727657 0.98931416 0.41942889 ... 0.12892843 0.2774315\n",
      "    0.66494963]\n",
      "   [0.74517521 0.88093572 0.96534401 ... 0.73187932 0.94393436\n",
      "    0.53081275]\n",
      "   [0.70255132 0.5560545  0.91677527 ... 0.46982961 0.36534171\n",
      "    0.02775704]\n",
      "   ...\n",
      "   [0.91484646 0.71534957 0.83003282 ... 0.3492985  0.10146739\n",
      "    0.85778634]\n",
      "   [0.50922034 0.64084077 0.86071495 ... 0.6251077  0.2557757\n",
      "    0.75723803]\n",
      "   [0.54027902 0.7387128  0.50813372 ... 0.40477459 0.63479174\n",
      "    0.09468298]]]\n",
      "\n",
      "\n",
      " [[[0.92207413 0.7469141  0.42102007 ... 0.68386239 0.74296415\n",
      "    0.88624605]\n",
      "   [0.94594939 0.68882235 0.96534401 ... 0.51966976 0.95062657\n",
      "    0.58572688]\n",
      "   [0.69426866 0.40567548 0.91677527 ... 0.28130855 0.49332416\n",
      "    0.28825814]\n",
      "   ...\n",
      "   [0.7119348  0.3484236  0.85408884 ... 0.69775181 0.74962468\n",
      "    0.85778634]\n",
      "   [0.93384342 0.64084077 0.62259405 ... 0.90759204 0.3754276\n",
      "    0.75723803]\n",
      "   [0.63113898 0.37805725 0.86970182 ... 0.80885853 0.92876352\n",
      "    0.57353969]]\n",
      "\n",
      "  [[0.50727657 0.71716367 0.83142836 ... 0.91492476 0.66328615\n",
      "    0.59274373]\n",
      "   [0.74517521 0.83948786 0.96534401 ... 0.18300988 0.93586328\n",
      "    0.53081275]\n",
      "   [0.80639453 0.92838192 0.91677527 ... 0.72078714 0.36534171\n",
      "    0.32878506]\n",
      "   ...\n",
      "   [0.7119348  0.90756319 0.34556049 ... 0.3492985  0.38435521\n",
      "    0.85778634]\n",
      "   [0.70022466 0.96767005 0.62259405 ... 0.6251077  0.74984671\n",
      "    0.75723803]\n",
      "   [0.49503478 0.14543289 0.4597879  ... 0.38795938 0.61190981\n",
      "    0.54592135]]\n",
      "\n",
      "  [[0.69906488 0.71716367 0.12422015 ... 0.16211629 0.2774315\n",
      "    0.50300001]\n",
      "   [0.74517521 0.91506919 0.96534401 ... 0.92144755 0.93586328\n",
      "    0.53081275]\n",
      "   [0.28206689 0.40977298 0.91677527 ... 0.28130855 0.53717537\n",
      "    0.20284008]\n",
      "   ...\n",
      "   [0.98907457 0.3484236  0.34556049 ... 0.86288154 0.67249028\n",
      "    0.85778634]\n",
      "   [0.74649011 0.64084077 0.62259405 ... 0.6251077  0.40101895\n",
      "    0.75723803]\n",
      "   [0.49503478 0.91006808 0.40872659 ... 0.94507968 0.71107716\n",
      "    0.35162057]]]\n",
      "\n",
      "\n",
      " [[[0.75061252 0.78764727 0.53640088 ... 0.12892843 0.28939936\n",
      "    0.2939914 ]\n",
      "   [0.74517521 0.99596079 0.96534401 ... 0.16097706 0.99482593\n",
      "    0.91357362]\n",
      "   [0.28206689 0.88807789 0.91677527 ... 0.91142679 0.72858441\n",
      "    0.02775704]\n",
      "   ...\n",
      "   [0.7119348  0.80576909 0.64178949 ... 0.3492985  0.64784629\n",
      "    0.85778634]\n",
      "   [0.24987507 0.64084077 0.64431787 ... 0.6251077  0.31689299\n",
      "    0.75723803]\n",
      "   [0.87900692 0.6849817  0.40872659 ... 0.92154116 0.61190981\n",
      "    0.8112841 ]]\n",
      "\n",
      "  [[0.78914073 0.71716367 0.36010299 ... 0.12892843 0.9428545\n",
      "    0.2939914 ]\n",
      "   [0.74517521 0.70958825 0.96534401 ... 0.82857684 0.93586328\n",
      "    0.53081275]\n",
      "   [0.30505852 0.72134545 0.91677527 ... 0.71036818 0.66958227\n",
      "    0.15621392]\n",
      "   ...\n",
      "   [0.7119348  0.3484236  0.58354702 ... 0.70073493 0.9416112\n",
      "    0.96905173]\n",
      "   [0.26095725 0.64084077 0.62259405 ... 0.6251077  0.2557757\n",
      "    0.75723803]\n",
      "   [0.59186959 0.30323328 0.67162345 ... 0.70615453 0.61190981\n",
      "    0.15977568]]\n",
      "\n",
      "  [[0.50727657 0.71716367 0.52454586 ... 0.22751994 0.41248623\n",
      "    0.71335517]\n",
      "   [0.74517521 0.69545469 0.96534401 ... 0.47837948 0.93586328\n",
      "    0.53081275]\n",
      "   [0.75856789 0.5598536  0.91677527 ... 0.85032669 0.71148662\n",
      "    0.02775704]\n",
      "   ...\n",
      "   [0.7119348  0.3484236  0.65217687 ... 0.3492985  0.44061887\n",
      "    0.85778634]\n",
      "   [0.24987507 0.64084077 0.62259405 ... 0.83253571 0.6294962\n",
      "    0.75723803]\n",
      "   [0.80886613 0.59491981 0.59049373 ... 0.36947154 0.78482427\n",
      "    0.27287953]]]\n",
      "\n",
      "\n",
      " ...\n",
      "\n",
      "\n",
      " [[[0.72942378 0.71716367 0.56737923 ... 0.5900452  0.2774315\n",
      "    0.2939914 ]\n",
      "   [0.74517521 0.69123726 0.96534401 ... 0.70780144 0.93586328\n",
      "    0.74118743]\n",
      "   [0.28206689 0.71844332 0.94555026 ... 0.28130855 0.44360524\n",
      "    0.64361827]\n",
      "   ...\n",
      "   [0.7119348  0.56845595 0.87221488 ... 0.3492985  0.10146739\n",
      "    0.85778634]\n",
      "   [0.34042331 0.82905405 0.88563833 ... 0.6251077  0.2557757\n",
      "    0.75723803]\n",
      "   [0.49503478 0.68801179 0.68812311 ... 0.4600042  0.83133687\n",
      "    0.61953739]]\n",
      "\n",
      "  [[0.56297807 0.71716367 0.66893503 ... 0.48730651 0.31763381\n",
      "    0.83648395]\n",
      "   [0.74517521 0.53573519 0.96534401 ... 0.16097706 0.93586328\n",
      "    0.53081275]\n",
      "   [0.88970044 0.40567548 0.91677527 ... 0.28130855 0.61003333\n",
      "    0.13943533]\n",
      "   ...\n",
      "   [0.7119348  0.89685009 0.45081815 ... 0.62084736 0.53880833\n",
      "    0.95853122]\n",
      "   [0.5932534  0.64084077 0.90526657 ... 0.86354339 0.68571749\n",
      "    0.75723803]\n",
      "   [0.74437234 0.85418272 0.75548109 ... 0.27460499 0.61190981\n",
      "    0.11375398]]\n",
      "\n",
      "  [[0.5455187  0.71716367 0.0706165  ... 0.99013045 0.77184097\n",
      "    0.2939914 ]\n",
      "   [0.8225201  0.52665002 0.96534401 ... 0.70940374 0.93586328\n",
      "    0.53081275]\n",
      "   [0.96788905 0.40567548 0.9819019  ... 0.94107136 0.36534171\n",
      "    0.57562822]\n",
      "   ...\n",
      "   [0.7119348  0.3484236  0.90189132 ... 0.45755202 0.76347567\n",
      "    0.85778634]\n",
      "   [0.99161913 0.64084077 0.62259405 ... 0.6251077  0.57563706\n",
      "    0.75723803]\n",
      "   [0.49503478 0.57442225 0.79028845 ... 0.77302698 0.61190981\n",
      "    0.37798584]]]\n",
      "\n",
      "\n",
      " [[[0.50727657 0.71716367 0.66997947 ... 0.14492282 0.2774315\n",
      "    0.2939914 ]\n",
      "   [0.74517521 0.36800353 0.96534401 ... 0.16097706 0.93586328\n",
      "    0.80139998]\n",
      "   [0.73985515 0.40567548 0.91677527 ... 0.48119845 0.44667838\n",
      "    0.99298872]\n",
      "   ...\n",
      "   [0.7119348  0.89338062 0.34556049 ... 0.3492985  0.31827566\n",
      "    0.85778634]\n",
      "   [0.4101253  0.95997882 0.62259405 ... 0.6251077  0.26055582\n",
      "    0.873901  ]\n",
      "   [0.72145209 0.60759372 0.56619384 ... 0.27460499 0.61190981\n",
      "    0.11821248]]\n",
      "\n",
      "  [[0.50727657 0.71716367 0.22812606 ... 0.54088663 0.2774315\n",
      "    0.62096873]\n",
      "   [0.74517521 0.61100417 0.96534401 ... 0.23891041 0.93586328\n",
      "    0.59426333]\n",
      "   [0.93212488 0.40567548 0.91677527 ... 0.28130855 0.73657351\n",
      "    0.60638637]\n",
      "   ...\n",
      "   [0.7119348  0.3484236  0.95359655 ... 0.62613847 0.18408411\n",
      "    0.85778634]\n",
      "   [0.7062107  0.71939949 0.63347295 ... 0.8682533  0.74779856\n",
      "    0.75723803]\n",
      "   [0.49503478 0.72516855 0.70197095 ... 0.27460499 0.6833953\n",
      "    0.58087752]]\n",
      "\n",
      "  [[0.50727657 0.71716367 0.53642713 ... 0.29339046 0.44742778\n",
      "    0.2939914 ]\n",
      "   [0.74517521 0.06092771 0.96534401 ... 0.71810815 0.93586328\n",
      "    0.53081275]\n",
      "   [0.47457592 0.53393886 0.91677527 ... 0.74712851 0.36534171\n",
      "    0.17792837]\n",
      "   ...\n",
      "   [0.97322177 0.98903366 0.34556049 ... 0.3492985  0.93648456\n",
      "    0.85778634]\n",
      "   [0.9243178  0.77352456 0.62259405 ... 0.6251077  0.49573269\n",
      "    0.86932106]\n",
      "   [0.9531195  0.91900839 0.71049293 ... 0.84774231 0.61190981\n",
      "    0.7070248 ]]]\n",
      "\n",
      "\n",
      " [[[0.68969659 0.96112633 0.49871573 ... 0.59133022 0.33599614\n",
      "    0.54926637]\n",
      "   [0.74517521 0.12812406 0.96534401 ... 0.16097706 0.93586328\n",
      "    0.53081275]\n",
      "   [0.28206689 0.44282521 0.91677527 ... 0.28130855 0.36534171\n",
      "    0.57099419]\n",
      "   ...\n",
      "   [0.7119348  0.67200879 0.80983755 ... 0.95641807 0.15712336\n",
      "    0.85778634]\n",
      "   [0.24987507 0.75112871 0.62259405 ... 0.84121445 0.47059321\n",
      "    0.75723803]\n",
      "   [0.86881681 0.93639615 0.42149799 ... 0.8477638  0.63269153\n",
      "    0.71885627]]\n",
      "\n",
      "  [[0.50727657 0.71716367 0.17260279 ... 0.46902961 0.38626459\n",
      "    0.40861694]\n",
      "   [0.74517521 0.06092771 0.96534401 ... 0.26339857 0.93586328\n",
      "    0.53081275]\n",
      "   [0.80460046 0.99298414 0.92527008 ... 0.77718672 0.68011614\n",
      "    0.98449043]\n",
      "   ...\n",
      "   [0.88741624 0.56078634 0.34556049 ... 0.85637125 0.24362696\n",
      "    0.85778634]\n",
      "   [0.24987507 0.86063191 0.79749546 ... 0.6251077  0.95036506\n",
      "    0.75723803]\n",
      "   [0.75998576 0.37157843 0.94989684 ... 0.96066332 0.82895762\n",
      "    0.13672036]]\n",
      "\n",
      "  [[0.50727657 0.71716367 0.64135027 ... 0.72818181 0.55653533\n",
      "    0.2939914 ]\n",
      "   [0.74517521 0.85532408 0.96534401 ... 0.16097706 0.93586328\n",
      "    0.58687024]\n",
      "   [0.65247174 0.98551601 0.91677527 ... 0.28130855 0.53194105\n",
      "    0.96979771]\n",
      "   ...\n",
      "   [0.7119348  0.6002734  0.34556049 ... 0.3492985  0.757168\n",
      "    0.85778634]\n",
      "   [0.24987507 0.64084077 0.77747914 ... 0.6251077  0.89019264\n",
      "    0.75723803]\n",
      "   [0.49503478 0.14543289 0.40872659 ... 0.27460499 0.95762896\n",
      "    0.07195442]]]]\n"
     ]
    }
   ],
   "source": [
    "x = np.random.random((64, 3, 32, 10))\n",
    "y = np.random.random((32, 10))\n",
    "print(np.maximum(x, y))"
   ]
  },
  {
   "cell_type": "code",
   "execution_count": 27,
   "id": "611b8aee",
   "metadata": {},
   "outputs": [],
   "source": [
    "def naive_vector_dot(x, y):\n",
    "    assert len(x.shape) == 1\n",
    "    assert len(y.shape) == 1\n",
    "    assert x.shape[0] == y.shape[0]\n",
    "    z = 0.\n",
    "    for i in range(x.shape[0]):\n",
    "        z += x[i] * y[i]\n",
    "    return z"
   ]
  },
  {
   "cell_type": "code",
   "execution_count": 28,
   "id": "7c12950b",
   "metadata": {},
   "outputs": [
    {
     "name": "stdout",
     "output_type": "stream",
     "text": [
      "32.0\n"
     ]
    }
   ],
   "source": [
    "x = np.array([1, 2, 3])\n",
    "y = np.array([4, 5, 6])\n",
    "print(naive_vector_dot(x, y))"
   ]
  },
  {
   "cell_type": "code",
   "execution_count": 29,
   "id": "4a44a8ba",
   "metadata": {},
   "outputs": [
    {
     "data": {
      "text/plain": [
       "32"
      ]
     },
     "execution_count": 29,
     "metadata": {},
     "output_type": "execute_result"
    }
   ],
   "source": [
    "np.dot(x, y)"
   ]
  },
  {
   "cell_type": "code",
   "execution_count": 30,
   "id": "d8e7c0d8",
   "metadata": {},
   "outputs": [],
   "source": [
    "def naive_matrix_vector_dot(x, y):\n",
    "    assert len(x.shape) == 2\n",
    "    assert len(y.shape) == 1\n",
    "    assert x.shape[1] == y.shape[0]\n",
    "    z = np.zeros(x.shape[0])\n",
    "    for i in range(x.shape[0]):\n",
    "        for j in range(x.shape[1]):\n",
    "            z[i] += x[i, j] * y[j]\n",
    "    return z"
   ]
  },
  {
   "cell_type": "code",
   "execution_count": 31,
   "id": "144d911c",
   "metadata": {},
   "outputs": [
    {
     "name": "stdout",
     "output_type": "stream",
     "text": [
      "[32. 50.]\n"
     ]
    }
   ],
   "source": [
    "x = np.array([[4, 5, 6], \n",
    "              [7, 8, 9]])\n",
    "y = np.array([1, 2, 3])\n",
    "\n",
    "print(naive_matrix_vector_dot(x, y))"
   ]
  },
  {
   "cell_type": "code",
   "execution_count": 32,
   "id": "9ee82432",
   "metadata": {},
   "outputs": [
    {
     "data": {
      "text/plain": [
       "array([32, 50])"
      ]
     },
     "execution_count": 32,
     "metadata": {},
     "output_type": "execute_result"
    }
   ],
   "source": [
    "np.dot(x, y)"
   ]
  },
  {
   "cell_type": "code",
   "execution_count": 33,
   "id": "7bb31026",
   "metadata": {},
   "outputs": [],
   "source": [
    "def naive_matrix_vector_dot(x, y):\n",
    "    z = np.zeros(x.shape[0])\n",
    "    for i in range(x.shape[0]):\n",
    "        z[i] = naive_vector_dot(x[i, :], y)\n",
    "    return z"
   ]
  },
  {
   "cell_type": "code",
   "execution_count": 34,
   "id": "74a5d605",
   "metadata": {},
   "outputs": [
    {
     "name": "stdout",
     "output_type": "stream",
     "text": [
      "[32. 50.]\n"
     ]
    }
   ],
   "source": [
    "print(naive_matrix_vector_dot(x, y))"
   ]
  },
  {
   "cell_type": "code",
   "execution_count": 35,
   "id": "2ce610d7",
   "metadata": {},
   "outputs": [],
   "source": [
    "def naive_matrix_dot(x, y):\n",
    "    assert len(x.shape) == 2\n",
    "    assert len(y.shape) == 2\n",
    "    assert x.shape[1] == y.shape[0]\n",
    "    z = np.zeros((x.shape[0], y.shape[1]))\n",
    "    for i in range(x.shape[0]):\n",
    "        for j in range(y.shape[1]):\n",
    "            row_x = x[i, :]\n",
    "            column_y = y[:, j]\n",
    "            z[i, j] = naive_vector_dot(row_x, column_y)\n",
    "    return z"
   ]
  },
  {
   "cell_type": "code",
   "execution_count": 36,
   "id": "fc09584f",
   "metadata": {},
   "outputs": [
    {
     "name": "stdout",
     "output_type": "stream",
     "text": [
      "[[14. 26.]\n",
      " [32. 62.]]\n"
     ]
    }
   ],
   "source": [
    "x = np.array([[1, 2, 3], \n",
    "              [4, 5, 6]])\n",
    "y = np.array([[1, 3], \n",
    "              [2, 4], \n",
    "              [3, 5]])\n",
    "print(naive_matrix_dot(x, y))"
   ]
  },
  {
   "cell_type": "code",
   "execution_count": 37,
   "id": "ddd85f78",
   "metadata": {},
   "outputs": [
    {
     "data": {
      "text/plain": [
       "array([[14, 26],\n",
       "       [32, 62]])"
      ]
     },
     "execution_count": 37,
     "metadata": {},
     "output_type": "execute_result"
    }
   ],
   "source": [
    "np.dot(x, y)"
   ]
  },
  {
   "cell_type": "code",
   "execution_count": 38,
   "id": "2c81e480",
   "metadata": {},
   "outputs": [
    {
     "name": "stdout",
     "output_type": "stream",
     "text": [
      "(3, 2)\n"
     ]
    }
   ],
   "source": [
    "x = np.array([[0., 1.], \n",
    "              [2., 3.], \n",
    "              [4., 5.]])\n",
    "print(x.shape)"
   ]
  },
  {
   "cell_type": "code",
   "execution_count": 39,
   "id": "31ff593a",
   "metadata": {},
   "outputs": [
    {
     "data": {
      "text/plain": [
       "array([[0.],\n",
       "       [1.],\n",
       "       [2.],\n",
       "       [3.],\n",
       "       [4.],\n",
       "       [5.]])"
      ]
     },
     "execution_count": 39,
     "metadata": {},
     "output_type": "execute_result"
    }
   ],
   "source": [
    "x = x.reshape((6, 1))\n",
    "x"
   ]
  },
  {
   "cell_type": "code",
   "execution_count": 40,
   "id": "c4c2c1b6",
   "metadata": {},
   "outputs": [
    {
     "data": {
      "text/plain": [
       "array([[0., 1., 2.],\n",
       "       [3., 4., 5.]])"
      ]
     },
     "execution_count": 40,
     "metadata": {},
     "output_type": "execute_result"
    }
   ],
   "source": [
    "x = x.reshape((2, 3))\n",
    "x"
   ]
  },
  {
   "cell_type": "code",
   "execution_count": 41,
   "id": "db18889f",
   "metadata": {},
   "outputs": [
    {
     "name": "stdout",
     "output_type": "stream",
     "text": [
      "(20, 300)\n"
     ]
    }
   ],
   "source": [
    "x = np.zeros((300, 20))\n",
    "x = np.transpose(x)\n",
    "print(x.shape)"
   ]
  },
  {
   "cell_type": "code",
   "execution_count": null,
   "id": "fbdbb501",
   "metadata": {},
   "outputs": [],
   "source": []
  }
 ],
 "metadata": {
  "kernelspec": {
   "display_name": "Python 3",
   "language": "python",
   "name": "python3"
  },
  "language_info": {
   "codemirror_mode": {
    "name": "ipython",
    "version": 3
   },
   "file_extension": ".py",
   "mimetype": "text/x-python",
   "name": "python",
   "nbconvert_exporter": "python",
   "pygments_lexer": "ipython3",
   "version": "3.6.13"
  }
 },
 "nbformat": 4,
 "nbformat_minor": 5
}
