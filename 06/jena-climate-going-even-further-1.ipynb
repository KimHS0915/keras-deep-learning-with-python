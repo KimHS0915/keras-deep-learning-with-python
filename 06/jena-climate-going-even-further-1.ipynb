{
 "cells": [
  {
   "cell_type": "code",
   "execution_count": 1,
   "id": "465b1922",
   "metadata": {},
   "outputs": [],
   "source": [
    "import os\n",
    "import numpy as np\n",
    "\n",
    "data_dir = '../datasets/jena_climate/'\n",
    "fname = os.path.join(data_dir, 'jena_climate_2009_2016.csv')\n",
    "\n",
    "with open(fname) as f:\n",
    "    data = f.read()\n",
    "\n",
    "lines = data.split('\\n')\n",
    "header = lines[0].split(',')\n",
    "lines = lines[1:]\n",
    "\n",
    "float_data = np.zeros((len(lines), len(header) - 1))\n",
    "\n",
    "for i, line in enumerate(lines):\n",
    "    values = [float(x) for x in line.split(',')[1:]]\n",
    "    float_data[i, :] = values\n",
    "    \n",
    "mean = float_data[:200000].mean(axis=0)\n",
    "float_data -= mean\n",
    "std = float_data[:200000].std(axis=0)\n",
    "float_data /= std"
   ]
  },
  {
   "cell_type": "code",
   "execution_count": 2,
   "id": "049b1084",
   "metadata": {},
   "outputs": [],
   "source": [
    "def generator(data, lookback, delay, min_index, max_index, \n",
    "              shuffle=False, batch_size=128, step=6):\n",
    "    if max_index is None:\n",
    "        max_index = len(data) - delay - 1\n",
    "    i = min_index + lookback\n",
    "    while 1:\n",
    "        if shuffle:\n",
    "            rows = np.random.randint(\n",
    "                min_index + lookback, max_index, size=batch_size)\n",
    "        else:\n",
    "            if i + batch_size >= max_index:\n",
    "                i = min_index + lookback\n",
    "            rows = np.arange(i, min(i + batch_size, max_index))\n",
    "            i += len(rows)\n",
    "        \n",
    "        samples = np.zeros((len(rows), lookback // step, data.shape[-1]))\n",
    "        targets = np.zeros((len(rows),))\n",
    "        \n",
    "        for j, row in enumerate(rows):\n",
    "            indices = range(rows[j] - lookback, rows[j], step)\n",
    "            samples[j] = data[indices]\n",
    "            targets[j] = data[rows[j] + delay][1]\n",
    "        \n",
    "        yield samples, targets"
   ]
  },
  {
   "cell_type": "code",
   "execution_count": 3,
   "id": "e3610860",
   "metadata": {},
   "outputs": [],
   "source": [
    "lookback = 1440\n",
    "step = 6\n",
    "delay = 144\n",
    "batch_size = 128\n",
    "\n",
    "train_gen = generator(float_data, \n",
    "                      lookback=lookback, \n",
    "                      delay=delay, \n",
    "                      min_index=0, \n",
    "                      max_index=200000, \n",
    "                      shuffle=True, \n",
    "                      step=step, \n",
    "                      batch_size=batch_size)\n",
    "val_gen = generator(float_data, \n",
    "                    lookback=lookback, \n",
    "                    delay=delay, \n",
    "                    min_index=200001, \n",
    "                    max_index=300000, \n",
    "                    step=step, \n",
    "                    batch_size=batch_size)\n",
    "test_gen = generator(float_data, \n",
    "                     lookback=lookback, \n",
    "                     delay=delay, \n",
    "                     min_index=300001, \n",
    "                     max_index=None, \n",
    "                     step=step, \n",
    "                     batch_size=batch_size)\n",
    "\n",
    "val_steps = (300000 - 200001 - lookback) // batch_size\n",
    "test_steps = (len(float_data) - 300001 - lookback) // batch_size"
   ]
  },
  {
   "cell_type": "code",
   "execution_count": 4,
   "id": "e0c2bd5b",
   "metadata": {},
   "outputs": [],
   "source": [
    "import matplotlib.pyplot as plt\n",
    "\n",
    "def plot_loss(history):\n",
    "    loss = history.history['loss']\n",
    "    val_loss = history.history['val_loss']\n",
    "    epochs = range(1, len(loss) + 1)\n",
    "    plt.figure()\n",
    "    plt.plot(epochs, loss, 'bo', label='Training loss')\n",
    "    plt.plot(epochs, val_loss, 'b', label='Validation loss')\n",
    "    plt.title('Training and validation loss')\n",
    "    plt.legend()\n",
    "    plt.show()"
   ]
  },
  {
   "cell_type": "code",
   "execution_count": 5,
   "id": "f648efbd",
   "metadata": {},
   "outputs": [
    {
     "name": "stdout",
     "output_type": "stream",
     "text": [
      "Epoch 1/20\n",
      "500/500 [==============================] - 49s 96ms/step - loss: 0.3141 - val_loss: 0.2724\n",
      "Epoch 2/20\n",
      "500/500 [==============================] - 47s 95ms/step - loss: 0.2873 - val_loss: 0.2695\n",
      "Epoch 3/20\n",
      "500/500 [==============================] - 47s 95ms/step - loss: 0.2838 - val_loss: 0.2648\n",
      "Epoch 4/20\n",
      "500/500 [==============================] - 47s 95ms/step - loss: 0.2780 - val_loss: 0.2630\n",
      "Epoch 5/20\n",
      "500/500 [==============================] - 47s 94ms/step - loss: 0.2765 - val_loss: 0.2613\n",
      "Epoch 6/20\n",
      "500/500 [==============================] - 47s 94ms/step - loss: 0.2736 - val_loss: 0.2699\n",
      "Epoch 7/20\n",
      "500/500 [==============================] - 47s 94ms/step - loss: 0.2725 - val_loss: 0.2600\n",
      "Epoch 8/20\n",
      "500/500 [==============================] - 47s 94ms/step - loss: 0.2684 - val_loss: 0.2641\n",
      "Epoch 9/20\n",
      "500/500 [==============================] - 47s 94ms/step - loss: 0.2663 - val_loss: 0.2609\n",
      "Epoch 10/20\n",
      "500/500 [==============================] - 47s 94ms/step - loss: 0.2627 - val_loss: 0.2602\n",
      "Epoch 11/20\n",
      "500/500 [==============================] - 47s 94ms/step - loss: 0.2613 - val_loss: 0.2601\n",
      "Epoch 12/20\n",
      "500/500 [==============================] - 47s 94ms/step - loss: 0.2577 - val_loss: 0.2616\n",
      "Epoch 13/20\n",
      "500/500 [==============================] - 47s 94ms/step - loss: 0.2568 - val_loss: 0.2615\n",
      "Epoch 14/20\n",
      "500/500 [==============================] - 48s 97ms/step - loss: 0.2544 - val_loss: 0.2629\n",
      "Epoch 15/20\n",
      "500/500 [==============================] - 49s 99ms/step - loss: 0.2523 - val_loss: 0.2658\n",
      "Epoch 16/20\n",
      "500/500 [==============================] - 49s 98ms/step - loss: 0.2505 - val_loss: 0.2646\n",
      "Epoch 17/20\n",
      "500/500 [==============================] - 48s 96ms/step - loss: 0.2477 - val_loss: 0.2621\n",
      "Epoch 18/20\n",
      "500/500 [==============================] - 48s 97ms/step - loss: 0.2460 - val_loss: 0.2651\n",
      "Epoch 19/20\n",
      "500/500 [==============================] - 48s 96ms/step - loss: 0.2431 - val_loss: 0.2658\n",
      "Epoch 20/20\n",
      "500/500 [==============================] - 49s 99ms/step - loss: 0.2404 - val_loss: 0.2656\n"
     ]
    }
   ],
   "source": [
    "from tensorflow.keras.models import Sequential\n",
    "from tensorflow.keras import layers, optimizers\n",
    "from tensorflow.keras.optimizers import RMSprop\n",
    "\n",
    "model = Sequential()\n",
    "model.add(layers.GRU(32, input_shape=(None, float_data.shape[-1])))\n",
    "model.add(layers.Dense(1))\n",
    "\n",
    "model.compile(optimizer=optimizers.RMSprop(learning_rate=0.0005), loss='mae')\n",
    "history = model.fit(train_gen, steps_per_epoch=500, epochs=20, \n",
    "                    validation_data=val_gen, validation_steps=val_steps)"
   ]
  },
  {
   "cell_type": "code",
   "execution_count": 6,
   "id": "1173897c",
   "metadata": {},
   "outputs": [
    {
     "data": {
      "image/png": "[encoded data removed]",
      "text/plain": [
       "<Figure size 432x288 with 1 Axes>"
      ]
     },
     "metadata": {
      "needs_background": "light"
     },
     "output_type": "display_data"
    }
   ],
   "source": [
    "plot_loss(history)"
   ]
  },
  {
   "cell_type": "code",
   "execution_count": 7,
   "id": "31978446",
   "metadata": {},
   "outputs": [
    {
     "name": "stdout",
     "output_type": "stream",
     "text": [
      "Epoch 1/20\n",
      "500/500 [==============================] - 51s 99ms/step - loss: 0.5160 - val_loss: 0.2907\n",
      "Epoch 2/20\n",
      "500/500 [==============================] - 51s 103ms/step - loss: 0.3094 - val_loss: 0.2787\n",
      "Epoch 3/20\n",
      "500/500 [==============================] - 50s 101ms/step - loss: 0.2974 - val_loss: 0.2754\n",
      "Epoch 4/20\n",
      "500/500 [==============================] - 49s 98ms/step - loss: 0.2927 - val_loss: 0.2728\n",
      "Epoch 5/20\n",
      "500/500 [==============================] - 48s 96ms/step - loss: 0.2930 - val_loss: 0.2706\n",
      "Epoch 6/20\n",
      "500/500 [==============================] - 48s 97ms/step - loss: 0.2899 - val_loss: 0.2694\n",
      "Epoch 7/20\n",
      "500/500 [==============================] - 48s 97ms/step - loss: 0.2881 - val_loss: 0.2684\n",
      "Epoch 8/20\n",
      "500/500 [==============================] - 48s 95ms/step - loss: 0.2857 - val_loss: 0.2664\n",
      "Epoch 9/20\n",
      "500/500 [==============================] - 48s 96ms/step - loss: 0.2865 - val_loss: 0.2658\n",
      "Epoch 10/20\n",
      "500/500 [==============================] - 48s 96ms/step - loss: 0.2823 - val_loss: 0.2668\n",
      "Epoch 11/20\n",
      "500/500 [==============================] - 48s 96ms/step - loss: 0.2819 - val_loss: 0.2642\n",
      "Epoch 12/20\n",
      "500/500 [==============================] - 49s 98ms/step - loss: 0.2838 - val_loss: 0.2640\n",
      "Epoch 13/20\n",
      "500/500 [==============================] - 49s 98ms/step - loss: 0.2797 - val_loss: 0.2638\n",
      "Epoch 14/20\n",
      "500/500 [==============================] - 49s 98ms/step - loss: 0.2808 - val_loss: 0.2622\n",
      "Epoch 15/20\n",
      "500/500 [==============================] - 48s 97ms/step - loss: 0.2791 - val_loss: 0.2628\n",
      "Epoch 16/20\n",
      "500/500 [==============================] - 48s 96ms/step - loss: 0.2781 - val_loss: 0.2630\n",
      "Epoch 17/20\n",
      "500/500 [==============================] - 48s 95ms/step - loss: 0.2775 - val_loss: 0.2609\n",
      "Epoch 18/20\n",
      "500/500 [==============================] - 48s 96ms/step - loss: 0.2780 - val_loss: 0.2621\n",
      "Epoch 19/20\n",
      "500/500 [==============================] - 49s 99ms/step - loss: 0.2760 - val_loss: 0.2597\n",
      "Epoch 20/20\n",
      "500/500 [==============================] - 48s 97ms/step - loss: 0.2749 - val_loss: 0.2618\n"
     ]
    }
   ],
   "source": [
    "model = Sequential()\n",
    "model.add(layers.GRU(32, input_shape=(None, float_data.shape[-1])))\n",
    "model.add(layers.Dense(1))\n",
    "\n",
    "model.compile(optimizer=optimizers.RMSprop(learning_rate=0.0001), loss='mae')\n",
    "history = model.fit(train_gen, steps_per_epoch=500, epochs=20, \n",
    "                    validation_data=val_gen, validation_steps=val_steps)"
   ]
  },
  {
   "cell_type": "code",
   "execution_count": 8,
   "id": "9558504b",
   "metadata": {},
   "outputs": [
    {
     "data": {
      "image/png": "[encoded data removed]",
      "text/plain": [
       "<Figure size 432x288 with 1 Axes>"
      ]
     },
     "metadata": {
      "needs_background": "light"
     },
     "output_type": "display_data"
    }
   ],
   "source": [
    "plot_loss(history)"
   ]
  },
  {
   "cell_type": "code",
   "execution_count": 9,
   "id": "e3f1cf8c",
   "metadata": {},
   "outputs": [
    {
     "name": "stdout",
     "output_type": "stream",
     "text": [
      "Epoch 1/20\n",
      "500/500 [==============================] - 49s 97ms/step - loss: 0.3375 - val_loss: 0.2789\n",
      "Epoch 2/20\n",
      "500/500 [==============================] - 50s 99ms/step - loss: 0.2932 - val_loss: 0.2748\n",
      "Epoch 3/20\n",
      "500/500 [==============================] - 50s 100ms/step - loss: 0.2862 - val_loss: 0.2694\n",
      "Epoch 4/20\n",
      "500/500 [==============================] - 47s 95ms/step - loss: 0.2837 - val_loss: 0.2686\n",
      "Epoch 5/20\n",
      "500/500 [==============================] - 47s 95ms/step - loss: 0.2814 - val_loss: 0.2659\n",
      "Epoch 6/20\n",
      "500/500 [==============================] - 47s 95ms/step - loss: 0.2780 - val_loss: 0.2650\n",
      "Epoch 7/20\n",
      "500/500 [==============================] - 47s 95ms/step - loss: 0.2784 - val_loss: 0.2654\n",
      "Epoch 8/20\n",
      "500/500 [==============================] - 47s 95ms/step - loss: 0.2776 - val_loss: 0.2674\n",
      "Epoch 9/20\n",
      "500/500 [==============================] - 47s 95ms/step - loss: 0.2722 - val_loss: 0.2660\n",
      "Epoch 10/20\n",
      "500/500 [==============================] - 47s 95ms/step - loss: 0.2728 - val_loss: 0.2625\n",
      "Epoch 11/20\n",
      "500/500 [==============================] - 47s 95ms/step - loss: 0.2732 - val_loss: 0.2626\n",
      "Epoch 12/20\n",
      "500/500 [==============================] - 48s 95ms/step - loss: 0.2695 - val_loss: 0.2655\n",
      "Epoch 13/20\n",
      "500/500 [==============================] - 49s 98ms/step - loss: 0.2689 - val_loss: 0.2629\n",
      "Epoch 14/20\n",
      "500/500 [==============================] - 48s 97ms/step - loss: 0.2678 - val_loss: 0.2625\n",
      "Epoch 15/20\n",
      "500/500 [==============================] - 50s 100ms/step - loss: 0.2656 - val_loss: 0.2623\n",
      "Epoch 16/20\n",
      "500/500 [==============================] - 48s 97ms/step - loss: 0.2661 - val_loss: 0.2629\n",
      "Epoch 17/20\n",
      "500/500 [==============================] - 48s 97ms/step - loss: 0.2636 - val_loss: 0.2620\n",
      "Epoch 18/20\n",
      "500/500 [==============================] - 48s 97ms/step - loss: 0.2650 - val_loss: 0.2639\n",
      "Epoch 19/20\n",
      "500/500 [==============================] - 49s 98ms/step - loss: 0.2632 - val_loss: 0.2678\n",
      "Epoch 20/20\n",
      "500/500 [==============================] - 50s 100ms/step - loss: 0.2615 - val_loss: 0.2629\n"
     ]
    }
   ],
   "source": [
    "model = Sequential()\n",
    "model.add(layers.GRU(32, input_shape=(None, float_data.shape[-1])))\n",
    "model.add(layers.Dense(1))\n",
    "\n",
    "model.compile(optimizer=optimizers.RMSprop(learning_rate=0.0003), loss='mae')\n",
    "history = model.fit(train_gen, steps_per_epoch=500, epochs=20, \n",
    "                    validation_data=val_gen, validation_steps=val_steps)"
   ]
  },
  {
   "cell_type": "code",
   "execution_count": 10,
   "id": "f39d8c1d",
   "metadata": {},
   "outputs": [
    {
     "data": {
      "image/png": "[encoded data removed]",
      "text/plain": [
       "<Figure size 432x288 with 1 Axes>"
      ]
     },
     "metadata": {
      "needs_background": "light"
     },
     "output_type": "display_data"
    }
   ],
   "source": [
    "plot_loss(history)"
   ]
  },
  {
   "cell_type": "code",
   "execution_count": null,
   "id": "cac5fa19",
   "metadata": {},
   "outputs": [],
   "source": []
  }
 ],
 "metadata": {
  "kernelspec": {
   "display_name": "Python 3",
   "language": "python",
   "name": "python3"
  },
  "language_info": {
   "codemirror_mode": {
    "name": "ipython",
    "version": 3
   },
   "file_extension": ".py",
   "mimetype": "text/x-python",
   "name": "python",
   "nbconvert_exporter": "python",
   "pygments_lexer": "ipython3",
   "version": "3.6.13"
  }
 },
 "nbformat": 4,
 "nbformat_minor": 5
}
