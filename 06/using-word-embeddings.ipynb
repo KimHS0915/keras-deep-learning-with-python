{
 "cells": [
  {
   "cell_type": "code",
   "execution_count": 1,
   "id": "abdc290e",
   "metadata": {},
   "outputs": [],
   "source": [
    "from tensorflow.keras.layers import Embedding\n",
    "\n",
    "embedding_layer = Embedding(1000, 64)"
   ]
  },
  {
   "cell_type": "code",
   "execution_count": 2,
   "id": "a0e300b9",
   "metadata": {},
   "outputs": [],
   "source": [
    "from tensorflow.keras.datasets import imdb\n",
    "from tensorflow.keras import preprocessing\n",
    "\n",
    "max_features = 10000\n",
    "maxlen = 20\n",
    "\n",
    "(x_train, y_train), (x_test, y_test) = imdb.load_data(num_words=max_features)\n",
    "\n",
    "x_train = preprocessing.sequence.pad_sequences(x_train, maxlen=maxlen)\n",
    "x_test = preprocessing.sequence.pad_sequences(x_test, maxlen=maxlen)"
   ]
  },
  {
   "cell_type": "code",
   "execution_count": 3,
   "id": "50343990",
   "metadata": {},
   "outputs": [
    {
     "name": "stdout",
     "output_type": "stream",
     "text": [
      "Model: \"sequential\"\n",
      "_________________________________________________________________\n",
      "Layer (type)                 Output Shape              Param #   \n",
      "=================================================================\n",
      "embedding_1 (Embedding)      (None, 20, 8)             80000     \n",
      "_________________________________________________________________\n",
      "flatten (Flatten)            (None, 160)               0         \n",
      "_________________________________________________________________\n",
      "dense (Dense)                (None, 1)                 161       \n",
      "=================================================================\n",
      "Total params: 80,161\n",
      "Trainable params: 80,161\n",
      "Non-trainable params: 0\n",
      "_________________________________________________________________\n"
     ]
    }
   ],
   "source": [
    "from tensorflow.keras.models import Sequential\n",
    "from tensorflow.keras.layers import Flatten, Dense, Embedding\n",
    "\n",
    "model = Sequential()\n",
    "model.add(Embedding(10000, 8, input_length=maxlen))\n",
    "model.add(Flatten())\n",
    "model.add(Dense(1, activation='sigmoid'))\n",
    "model.compile(optimizer='rmsprop', loss='binary_crossentropy', metrics=['acc'])\n",
    "model.summary()"
   ]
  },
  {
   "cell_type": "code",
   "execution_count": 4,
   "id": "78a10b0c",
   "metadata": {},
   "outputs": [
    {
     "name": "stdout",
     "output_type": "stream",
     "text": [
      "Epoch 1/10\n",
      "625/625 [==============================] - 1s 801us/step - loss: 0.6742 - acc: 0.6097 - val_loss: 0.6308 - val_acc: 0.6924\n",
      "Epoch 2/10\n",
      "625/625 [==============================] - 0s 665us/step - loss: 0.5502 - acc: 0.7508 - val_loss: 0.5315 - val_acc: 0.7274\n",
      "Epoch 3/10\n",
      "625/625 [==============================] - 0s 660us/step - loss: 0.4644 - acc: 0.7883 - val_loss: 0.5041 - val_acc: 0.7460\n",
      "Epoch 4/10\n",
      "625/625 [==============================] - 0s 671us/step - loss: 0.4225 - acc: 0.8097 - val_loss: 0.4957 - val_acc: 0.7548\n",
      "Epoch 5/10\n",
      "625/625 [==============================] - 0s 651us/step - loss: 0.3943 - acc: 0.8238 - val_loss: 0.4926 - val_acc: 0.7566\n",
      "Epoch 6/10\n",
      "625/625 [==============================] - 0s 651us/step - loss: 0.3715 - acc: 0.8357 - val_loss: 0.4951 - val_acc: 0.7578\n",
      "Epoch 7/10\n",
      "625/625 [==============================] - 0s 652us/step - loss: 0.3505 - acc: 0.8492 - val_loss: 0.4976 - val_acc: 0.7554\n",
      "Epoch 8/10\n",
      "625/625 [==============================] - 0s 652us/step - loss: 0.3306 - acc: 0.8611 - val_loss: 0.5051 - val_acc: 0.7556\n",
      "Epoch 9/10\n",
      "625/625 [==============================] - 0s 652us/step - loss: 0.3126 - acc: 0.8695 - val_loss: 0.5124 - val_acc: 0.7520\n",
      "Epoch 10/10\n",
      "625/625 [==============================] - 0s 747us/step - loss: 0.2945 - acc: 0.8788 - val_loss: 0.5196 - val_acc: 0.7498\n"
     ]
    }
   ],
   "source": [
    "history = model.fit(x_train, y_train, epochs=10, \n",
    "                    batch_size=32, validation_split=0.2)"
   ]
  },
  {
   "cell_type": "code",
   "execution_count": 5,
   "id": "c4ed0012",
   "metadata": {},
   "outputs": [],
   "source": [
    "import os\n",
    "\n",
    "imdb_dir = '../datasets/aclImdb'\n",
    "train_dir = os.path.join(imdb_dir, 'train')\n",
    "\n",
    "labels = []\n",
    "texts = []\n",
    "\n",
    "for label_type in ['neg', 'pos']:\n",
    "    dir_name = os.path.join(train_dir, label_type)\n",
    "    for fname in os.listdir(dir_name):\n",
    "        if fname[-4:] == '.txt':\n",
    "            f = open(os.path.join(dir_name, fname), encoding='utf8')\n",
    "            texts.append(f.read())\n",
    "            f.close()\n",
    "            if label_type == 'neg':\n",
    "                labels.append(0)\n",
    "            else:\n",
    "                labels.append(1)"
   ]
  },
  {
   "cell_type": "code",
   "execution_count": 6,
   "id": "7a0f226b",
   "metadata": {},
   "outputs": [],
   "source": [
    "import numpy as np\n",
    "from tensorflow.keras.preprocessing.text import Tokenizer\n",
    "from tensorflow.keras.preprocessing.sequence import pad_sequences\n",
    "\n",
    "maxlen = 100\n",
    "training_samples = 200\n",
    "validation_samples = 10000\n",
    "max_words = 10000\n",
    "\n",
    "tokenizer = Tokenizer(num_words=max_words)\n",
    "tokenizer.fit_on_texts(texts)\n",
    "sequences = tokenizer.texts_to_sequences(texts)\n",
    "\n",
    "word_index = tokenizer.word_index\n",
    "data = pad_sequences(sequences, maxlen=maxlen)\n",
    "labels = np.asarray(labels)"
   ]
  },
  {
   "cell_type": "code",
   "execution_count": 7,
   "id": "c9bdc2d1",
   "metadata": {},
   "outputs": [
    {
     "data": {
      "text/plain": [
       "88582"
      ]
     },
     "execution_count": 7,
     "metadata": {},
     "output_type": "execute_result"
    }
   ],
   "source": [
    "len(word_index)"
   ]
  },
  {
   "cell_type": "code",
   "execution_count": 8,
   "id": "d08af18b",
   "metadata": {},
   "outputs": [
    {
     "data": {
      "text/plain": [
       "(25000, 100)"
      ]
     },
     "execution_count": 8,
     "metadata": {},
     "output_type": "execute_result"
    }
   ],
   "source": [
    "data.shape"
   ]
  },
  {
   "cell_type": "code",
   "execution_count": 9,
   "id": "8d2fc82c",
   "metadata": {},
   "outputs": [
    {
     "data": {
      "text/plain": [
       "(25000,)"
      ]
     },
     "execution_count": 9,
     "metadata": {},
     "output_type": "execute_result"
    }
   ],
   "source": [
    "labels.shape"
   ]
  },
  {
   "cell_type": "code",
   "execution_count": 10,
   "id": "7ec4e50c",
   "metadata": {},
   "outputs": [],
   "source": [
    "indices = np.arange(data.shape[0])\n",
    "np.random.shuffle(indices)\n",
    "data = data[indices]\n",
    "labels = labels[indices]\n",
    "\n",
    "x_train = data[:training_samples]\n",
    "y_train = labels[:training_samples]\n",
    "x_val = data[training_samples: training_samples + validation_samples]\n",
    "y_val = labels[training_samples: training_samples + validation_samples]"
   ]
  },
  {
   "cell_type": "code",
   "execution_count": 11,
   "id": "9bfa1517",
   "metadata": {},
   "outputs": [
    {
     "data": {
      "text/plain": [
       "400000"
      ]
     },
     "execution_count": 11,
     "metadata": {},
     "output_type": "execute_result"
    }
   ],
   "source": [
    "glove_dir = '../datasets/glove.6B'\n",
    "\n",
    "embeddings_index = {}\n",
    "f = open(os.path.join(glove_dir, 'glove.6B.100d.txt'), encoding='utf8')\n",
    "for line in f:\n",
    "    values = line.split()\n",
    "    word = values[0]\n",
    "    coefs = np.asarray(values[1:], dtype='float32')\n",
    "    embeddings_index[word] = coefs\n",
    "f.close()\n",
    "len(embeddings_index)"
   ]
  },
  {
   "cell_type": "code",
   "execution_count": 12,
   "id": "0a2a6e22",
   "metadata": {},
   "outputs": [],
   "source": [
    "embedding_dim = 100\n",
    "\n",
    "embedding_matrix = np.zeros((max_words, embedding_dim))\n",
    "for word, i in word_index.items():\n",
    "    embedding_vector = embeddings_index.get(word)\n",
    "    if i < max_words:\n",
    "        if embedding_vector is not None:\n",
    "            embedding_matrix[i] = embedding_vector"
   ]
  },
  {
   "cell_type": "code",
   "execution_count": 13,
   "id": "394b4b4e",
   "metadata": {},
   "outputs": [
    {
     "name": "stdout",
     "output_type": "stream",
     "text": [
      "Model: \"sequential_1\"\n",
      "_________________________________________________________________\n",
      "Layer (type)                 Output Shape              Param #   \n",
      "=================================================================\n",
      "embedding_2 (Embedding)      (None, 100, 100)          1000000   \n",
      "_________________________________________________________________\n",
      "flatten_1 (Flatten)          (None, 10000)             0         \n",
      "_________________________________________________________________\n",
      "dense_1 (Dense)              (None, 32)                320032    \n",
      "_________________________________________________________________\n",
      "dense_2 (Dense)              (None, 1)                 33        \n",
      "=================================================================\n",
      "Total params: 1,320,065\n",
      "Trainable params: 1,320,065\n",
      "Non-trainable params: 0\n",
      "_________________________________________________________________\n"
     ]
    }
   ],
   "source": [
    "model = Sequential()\n",
    "model.add(Embedding(max_words, embedding_dim, input_length=maxlen))\n",
    "model.add(Flatten())\n",
    "model.add(Dense(32, activation='relu'))\n",
    "model.add(Dense(1, activation='sigmoid'))\n",
    "model.summary()"
   ]
  },
  {
   "cell_type": "code",
   "execution_count": 14,
   "id": "fd412a7a",
   "metadata": {},
   "outputs": [],
   "source": [
    "model.layers[0].set_weights([embedding_matrix])\n",
    "model.layers[0].trainable = False"
   ]
  },
  {
   "cell_type": "code",
   "execution_count": 15,
   "id": "21d82ac6",
   "metadata": {},
   "outputs": [
    {
     "name": "stdout",
     "output_type": "stream",
     "text": [
      "Epoch 1/10\n",
      "7/7 [==============================] - 1s 68ms/step - loss: 1.4506 - acc: 0.5150 - val_loss: 0.7113 - val_acc: 0.5033\n",
      "Epoch 2/10\n",
      "7/7 [==============================] - 0s 58ms/step - loss: 0.5928 - acc: 0.6900 - val_loss: 1.8002 - val_acc: 0.5026\n",
      "Epoch 3/10\n",
      "7/7 [==============================] - 0s 63ms/step - loss: 0.6679 - acc: 0.6850 - val_loss: 1.0355 - val_acc: 0.5026\n",
      "Epoch 4/10\n",
      "7/7 [==============================] - 0s 58ms/step - loss: 0.5362 - acc: 0.7450 - val_loss: 0.8819 - val_acc: 0.5029\n",
      "Epoch 5/10\n",
      "7/7 [==============================] - 0s 58ms/step - loss: 0.2914 - acc: 0.9050 - val_loss: 1.6857 - val_acc: 0.4979\n",
      "Epoch 6/10\n",
      "7/7 [==============================] - 0s 55ms/step - loss: 0.4207 - acc: 0.8200 - val_loss: 0.7329 - val_acc: 0.5605\n",
      "Epoch 7/10\n",
      "7/7 [==============================] - 0s 60ms/step - loss: 0.1433 - acc: 0.9850 - val_loss: 0.7085 - val_acc: 0.5759\n",
      "Epoch 8/10\n",
      "7/7 [==============================] - 0s 57ms/step - loss: 0.0787 - acc: 1.0000 - val_loss: 0.7174 - val_acc: 0.5795\n",
      "Epoch 9/10\n",
      "7/7 [==============================] - 0s 59ms/step - loss: 0.0505 - acc: 1.0000 - val_loss: 2.8060 - val_acc: 0.5027\n",
      "Epoch 10/10\n",
      "7/7 [==============================] - 0s 59ms/step - loss: 0.5081 - acc: 0.7900 - val_loss: 0.7755 - val_acc: 0.5774\n"
     ]
    }
   ],
   "source": [
    "model.compile(optimizer='rmsprop', loss='binary_crossentropy', metrics=['acc'])\n",
    "history = model.fit(x_train, y_train, \n",
    "                    epochs=10, batch_size=32, \n",
    "                    validation_data=(x_val, y_val))\n",
    "model.save_weights('pre_trained_glove_model.h5')"
   ]
  },
  {
   "cell_type": "code",
   "execution_count": 16,
   "id": "bf291514",
   "metadata": {},
   "outputs": [
    {
     "data": {
      "image/png": "[encoded data removed]",
      "text/plain": [
       "<Figure size 432x288 with 1 Axes>"
      ]
     },
     "metadata": {
      "needs_background": "light"
     },
     "output_type": "display_data"
    },
    {
     "data": {
      "image/png": "[encoded data removed]",
      "text/plain": [
       "<Figure size 432x288 with 1 Axes>"
      ]
     },
     "metadata": {
      "needs_background": "light"
     },
     "output_type": "display_data"
    }
   ],
   "source": [
    "import matplotlib.pyplot as plt\n",
    "\n",
    "acc = history.history['acc']\n",
    "val_acc = history.history['val_acc']\n",
    "loss = history.history['loss']\n",
    "val_loss = history.history['val_loss']\n",
    "\n",
    "epochs = range(1, len(acc) + 1)\n",
    "\n",
    "plt.plot(epochs, acc, 'bo', label='Training acc')\n",
    "plt.plot(epochs, val_acc, 'b', label='Validation acc')\n",
    "plt.title('Training and validation accuracy')\n",
    "plt.legend()\n",
    "\n",
    "plt.figure()\n",
    "\n",
    "plt.plot(epochs, loss, 'bo', label='Training loss')\n",
    "plt.plot(epochs, val_loss, 'b', label='Validation loss')\n",
    "plt.title('Training and validation loss')\n",
    "plt.legend()\n",
    "\n",
    "plt.show()"
   ]
  },
  {
   "cell_type": "code",
   "execution_count": 17,
   "id": "e8889ea5",
   "metadata": {},
   "outputs": [
    {
     "name": "stdout",
     "output_type": "stream",
     "text": [
      "Model: \"sequential_2\"\n",
      "_________________________________________________________________\n",
      "Layer (type)                 Output Shape              Param #   \n",
      "=================================================================\n",
      "embedding_3 (Embedding)      (None, 100, 100)          1000000   \n",
      "_________________________________________________________________\n",
      "flatten_2 (Flatten)          (None, 10000)             0         \n",
      "_________________________________________________________________\n",
      "dense_3 (Dense)              (None, 32)                320032    \n",
      "_________________________________________________________________\n",
      "dense_4 (Dense)              (None, 1)                 33        \n",
      "=================================================================\n",
      "Total params: 1,320,065\n",
      "Trainable params: 1,320,065\n",
      "Non-trainable params: 0\n",
      "_________________________________________________________________\n"
     ]
    }
   ],
   "source": [
    "model = Sequential()\n",
    "model.add(Embedding(max_words, embedding_dim, input_length=maxlen))\n",
    "model.add(Flatten())\n",
    "model.add(Dense(32, activation='relu'))\n",
    "model.add(Dense(1, activation='sigmoid'))\n",
    "model.summary()"
   ]
  },
  {
   "cell_type": "code",
   "execution_count": 18,
   "id": "89f9d579",
   "metadata": {},
   "outputs": [
    {
     "name": "stdout",
     "output_type": "stream",
     "text": [
      "Epoch 1/10\n",
      "7/7 [==============================] - 1s 71ms/step - loss: 0.6938 - acc: 0.5050 - val_loss: 0.6920 - val_acc: 0.5135\n",
      "Epoch 2/10\n",
      "7/7 [==============================] - 0s 57ms/step - loss: 0.5106 - acc: 0.9950 - val_loss: 0.6949 - val_acc: 0.5165\n",
      "Epoch 3/10\n",
      "7/7 [==============================] - 0s 61ms/step - loss: 0.3149 - acc: 0.9950 - val_loss: 0.7069 - val_acc: 0.5153\n",
      "Epoch 4/10\n",
      "7/7 [==============================] - 0s 59ms/step - loss: 0.1602 - acc: 1.0000 - val_loss: 0.7235 - val_acc: 0.5149\n",
      "Epoch 5/10\n",
      "7/7 [==============================] - 0s 59ms/step - loss: 0.0816 - acc: 1.0000 - val_loss: 0.7030 - val_acc: 0.5310\n",
      "Epoch 6/10\n",
      "7/7 [==============================] - 0s 60ms/step - loss: 0.0420 - acc: 1.0000 - val_loss: 0.7133 - val_acc: 0.5230\n",
      "Epoch 7/10\n",
      "7/7 [==============================] - 0s 59ms/step - loss: 0.0223 - acc: 1.0000 - val_loss: 0.7246 - val_acc: 0.5223\n",
      "Epoch 8/10\n",
      "7/7 [==============================] - 0s 58ms/step - loss: 0.0128 - acc: 1.0000 - val_loss: 0.7254 - val_acc: 0.5271\n",
      "Epoch 9/10\n",
      "7/7 [==============================] - 0s 61ms/step - loss: 0.0078 - acc: 1.0000 - val_loss: 0.7241 - val_acc: 0.5316\n",
      "Epoch 10/10\n",
      "7/7 [==============================] - 0s 58ms/step - loss: 0.0046 - acc: 1.0000 - val_loss: 0.7400 - val_acc: 0.5269\n"
     ]
    }
   ],
   "source": [
    "model.compile(optimizer='rmsprop', loss='binary_crossentropy', metrics=['acc'])\n",
    "history = model.fit(x_train, y_train, \n",
    "                    epochs=10, batch_size=32, \n",
    "                    validation_data=(x_val, y_val))"
   ]
  },
  {
   "cell_type": "code",
   "execution_count": 19,
   "id": "c21f54c0",
   "metadata": {},
   "outputs": [
    {
     "data": {
      "image/png": "[encoded data removed]",
      "text/plain": [
       "<Figure size 432x288 with 1 Axes>"
      ]
     },
     "metadata": {
      "needs_background": "light"
     },
     "output_type": "display_data"
    },
    {
     "data": {
      "image/png": "[encoded data removed]",
      "text/plain": [
       "<Figure size 432x288 with 1 Axes>"
      ]
     },
     "metadata": {
      "needs_background": "light"
     },
     "output_type": "display_data"
    }
   ],
   "source": [
    "acc = history.history['acc']\n",
    "val_acc = history.history['val_acc']\n",
    "loss = history.history['loss']\n",
    "val_loss = history.history['val_loss']\n",
    "\n",
    "epochs = range(1, len(acc) + 1)\n",
    "\n",
    "plt.plot(epochs, acc, 'bo', label='Training acc')\n",
    "plt.plot(epochs, val_acc, 'b', label='Validation acc')\n",
    "plt.title('Training and validation accuracy')\n",
    "plt.legend()\n",
    "\n",
    "plt.figure()\n",
    "\n",
    "plt.plot(epochs, loss, 'bo', label='Training loss')\n",
    "plt.plot(epochs, val_loss, 'b', label='Validation loss')\n",
    "plt.title('Training and validation loss')\n",
    "plt.legend()\n",
    "\n",
    "plt.show()"
   ]
  },
  {
   "cell_type": "code",
   "execution_count": 20,
   "id": "78ac7c11",
   "metadata": {},
   "outputs": [],
   "source": [
    "training_samples = 2000\n",
    "x_train = data[:training_samples]\n",
    "y_train = labels[:training_samples]\n",
    "x_val = data[training_samples: training_samples + validation_samples]\n",
    "y_val = labels[training_samples: training_samples + validation_samples]"
   ]
  },
  {
   "cell_type": "code",
   "execution_count": 21,
   "id": "d1508077",
   "metadata": {},
   "outputs": [
    {
     "name": "stdout",
     "output_type": "stream",
     "text": [
      "Epoch 1/10\n",
      "63/63 [==============================] - 1s 13ms/step - loss: 0.6842 - acc: 0.5570 - val_loss: 0.6617 - val_acc: 0.6354\n",
      "Epoch 2/10\n",
      "63/63 [==============================] - 1s 11ms/step - loss: 0.3247 - acc: 0.9530 - val_loss: 0.5749 - val_acc: 0.6961\n",
      "Epoch 3/10\n",
      "63/63 [==============================] - 1s 12ms/step - loss: 0.0422 - acc: 0.9995 - val_loss: 0.5503 - val_acc: 0.7286\n",
      "Epoch 4/10\n",
      "63/63 [==============================] - 1s 11ms/step - loss: 0.0035 - acc: 1.0000 - val_loss: 0.6044 - val_acc: 0.7323\n",
      "Epoch 5/10\n",
      "63/63 [==============================] - 1s 11ms/step - loss: 2.9325e-04 - acc: 1.0000 - val_loss: 0.6840 - val_acc: 0.7251\n",
      "Epoch 6/10\n",
      "63/63 [==============================] - 1s 11ms/step - loss: 2.4498e-05 - acc: 1.0000 - val_loss: 0.6996 - val_acc: 0.7479\n",
      "Epoch 7/10\n",
      "63/63 [==============================] - 1s 12ms/step - loss: 2.7216e-06 - acc: 1.0000 - val_loss: 0.7526 - val_acc: 0.7495\n",
      "Epoch 8/10\n",
      "63/63 [==============================] - 1s 11ms/step - loss: 5.4487e-07 - acc: 1.0000 - val_loss: 0.8040 - val_acc: 0.7508\n",
      "Epoch 9/10\n",
      "63/63 [==============================] - 1s 11ms/step - loss: 1.4401e-07 - acc: 1.0000 - val_loss: 0.8407 - val_acc: 0.7493\n",
      "Epoch 10/10\n",
      "63/63 [==============================] - 1s 12ms/step - loss: 6.0268e-08 - acc: 1.0000 - val_loss: 0.8817 - val_acc: 0.7471\n"
     ]
    }
   ],
   "source": [
    "model = Sequential()\n",
    "model.add(Embedding(max_words, embedding_dim, input_length=maxlen))\n",
    "model.add(Flatten())\n",
    "model.add(Dense(32, activation='relu'))\n",
    "model.add(Dense(1, activation='sigmoid'))\n",
    "\n",
    "model.compile(optimizer='rmsprop', loss='binary_crossentropy', metrics=['acc'])\n",
    "history = model.fit(x_train, y_train, \n",
    "                    epochs=10, batch_size=32, \n",
    "                    validation_data=(x_val, y_val))"
   ]
  },
  {
   "cell_type": "code",
   "execution_count": 22,
   "id": "5382ffc0",
   "metadata": {},
   "outputs": [
    {
     "data": {
      "image/png": "[encoded data removed]",
      "text/plain": [
       "<Figure size 432x288 with 1 Axes>"
      ]
     },
     "metadata": {
      "needs_background": "light"
     },
     "output_type": "display_data"
    },
    {
     "data": {
      "image/png": "[encoded data removed]",
      "text/plain": [
       "<Figure size 432x288 with 1 Axes>"
      ]
     },
     "metadata": {
      "needs_background": "light"
     },
     "output_type": "display_data"
    }
   ],
   "source": [
    "acc = history.history['acc']\n",
    "val_acc = history.history['val_acc']\n",
    "loss = history.history['loss']\n",
    "val_loss = history.history['val_loss']\n",
    "\n",
    "epochs = range(1, len(acc) + 1)\n",
    "\n",
    "plt.plot(epochs, acc, 'bo', label='Training acc')\n",
    "plt.plot(epochs, val_acc, 'b', label='Validation acc')\n",
    "plt.title('Training and validation accuracy')\n",
    "plt.legend()\n",
    "\n",
    "plt.figure()\n",
    "\n",
    "plt.plot(epochs, loss, 'bo', label='Training loss')\n",
    "plt.plot(epochs, val_loss, 'b', label='Validation loss')\n",
    "plt.title('Training and validation loss')\n",
    "plt.legend()\n",
    "\n",
    "plt.show()"
   ]
  },
  {
   "cell_type": "code",
   "execution_count": 23,
   "id": "77be0797",
   "metadata": {},
   "outputs": [],
   "source": [
    "test_dir = os.path.join(imdb_dir, 'test')\n",
    "\n",
    "labels = []\n",
    "texts = []\n",
    "\n",
    "for label_type in ['neg', 'pos']:\n",
    "    dir_name = os.path.join(train_dir, label_type)\n",
    "    for fname in os.listdir(dir_name):\n",
    "        if fname[-4:] == '.txt':\n",
    "            f = open(os.path.join(dir_name, fname), encoding='utf8')\n",
    "            texts.append(f.read())\n",
    "            f.close()\n",
    "            if label_type == 'neg':\n",
    "                labels.append(0)\n",
    "            else:\n",
    "                labels.append(1)"
   ]
  },
  {
   "cell_type": "code",
   "execution_count": 24,
   "id": "46e8e1d3",
   "metadata": {},
   "outputs": [],
   "source": [
    "sequences = tokenizer.texts_to_sequences(texts)\n",
    "x_test = pad_sequences(sequences, maxlen=maxlen)\n",
    "y_test = np.asarray(labels)"
   ]
  },
  {
   "cell_type": "code",
   "execution_count": 25,
   "id": "feb7255f",
   "metadata": {},
   "outputs": [
    {
     "name": "stdout",
     "output_type": "stream",
     "text": [
      "782/782 [==============================] - 1s 1ms/step - loss: 0.7573 - acc: 0.5899\n"
     ]
    },
    {
     "data": {
      "text/plain": [
       "[0.7572990655899048, 0.5898799896240234]"
      ]
     },
     "execution_count": 25,
     "metadata": {},
     "output_type": "execute_result"
    }
   ],
   "source": [
    "model.load_weights('pre_trained_glove_model.h5')\n",
    "model.evaluate(x_test, y_test)"
   ]
  },
  {
   "cell_type": "code",
   "execution_count": null,
   "id": "0b6f6e0c",
   "metadata": {},
   "outputs": [],
   "source": []
  }
 ],
 "metadata": {
  "kernelspec": {
   "display_name": "Python 3",
   "language": "python",
   "name": "python3"
  },
  "language_info": {
   "codemirror_mode": {
    "name": "ipython",
    "version": 3
   },
   "file_extension": ".py",
   "mimetype": "text/x-python",
   "name": "python",
   "nbconvert_exporter": "python",
   "pygments_lexer": "ipython3",
   "version": "3.6.13"
  }
 },
 "nbformat": 4,
 "nbformat_minor": 5
}
