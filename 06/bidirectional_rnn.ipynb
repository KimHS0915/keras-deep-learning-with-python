{
 "cells": [
  {
   "cell_type": "code",
   "execution_count": 1,
   "id": "af419ac8",
   "metadata": {},
   "outputs": [],
   "source": [
    "import os\n",
    "\n",
    "data_dir = '../datasets/jena_climate/'\n",
    "fname = os.path.join(data_dir, 'jena_climate_2009_2016.csv')\n",
    "\n",
    "with open(fname) as f:\n",
    "    data = f.read()\n",
    "\n",
    "lines = data.split('\\n')\n",
    "header = lines[0].split(',')\n",
    "lines = lines[1:]"
   ]
  },
  {
   "cell_type": "code",
   "execution_count": 2,
   "id": "765c33e5",
   "metadata": {},
   "outputs": [],
   "source": [
    "import numpy as np\n",
    "\n",
    "float_data = np.zeros((len(lines), len(header) - 1))\n",
    "\n",
    "for i, line in enumerate(lines):\n",
    "    values = [float(x) for x in line.split(',')[1:]]\n",
    "    float_data[i, :] = values"
   ]
  },
  {
   "cell_type": "code",
   "execution_count": 3,
   "id": "972c2c59",
   "metadata": {},
   "outputs": [],
   "source": [
    "mean = float_data[:200000].mean(axis=0)\n",
    "float_data -= mean\n",
    "std = float_data[:200000].std(axis=0)\n",
    "float_data /= std"
   ]
  },
  {
   "cell_type": "code",
   "execution_count": 4,
   "id": "bbe31c26",
   "metadata": {},
   "outputs": [],
   "source": [
    "lookback = 1440\n",
    "step = 6\n",
    "delay = 144\n",
    "batch_size = 128\n",
    "\n",
    "val_steps = (300000 - 200001 - lookback) // batch_size\n",
    "test_steps = (len(float_data) - 300001 - lookback) // batch_size"
   ]
  },
  {
   "cell_type": "code",
   "execution_count": 5,
   "id": "c97a366a",
   "metadata": {},
   "outputs": [],
   "source": [
    "def reverse_order_generator(data, lookback, delay, min_index, max_index, \n",
    "              shuffle=False, batch_size=128, step=6):\n",
    "    if max_index is None:\n",
    "        max_index = len(data) - delay - 1\n",
    "    i = min_index + lookback\n",
    "    while 1:\n",
    "        if shuffle:\n",
    "            rows = np.random.randint(\n",
    "                min_index + lookback, max_index, size=batch_size)\n",
    "        else:\n",
    "            if i + batch_size >= max_index:\n",
    "                i = min_index + lookback\n",
    "            rows = np.arange(i, min(i + batch_size, max_index))\n",
    "            i += len(rows)\n",
    "        \n",
    "        samples = np.zeros((len(rows), lookback // step, data.shape[-1]))\n",
    "        targets = np.zeros((len(rows),))\n",
    "        \n",
    "        for j, row in enumerate(rows):\n",
    "            indices = range(rows[j] - lookback, rows[j], step)\n",
    "            samples[j] = data[indices]\n",
    "            targets[j] = data[rows[j] + delay][1]\n",
    "        \n",
    "        yield samples[:, ::-1, :], targets"
   ]
  },
  {
   "cell_type": "code",
   "execution_count": 6,
   "id": "2d354901",
   "metadata": {},
   "outputs": [],
   "source": [
    "train_gen_reverse = reverse_order_generator(\n",
    "    float_data,\n",
    "    lookback=lookback, \n",
    "    delay=delay, \n",
    "    min_index=0, \n",
    "    max_index=200000, \n",
    "    shuffle=True, \n",
    "    step=step, \n",
    "    batch_size=batch_size\n",
    ")\n",
    "\n",
    "val_gen_reverse = reverse_order_generator(\n",
    "    float_data,\n",
    "    lookback=lookback, \n",
    "    delay=delay, \n",
    "    min_index=200001, \n",
    "    max_index=300000, \n",
    "    shuffle=True, \n",
    "    step=step, \n",
    "    batch_size=batch_size\n",
    ")"
   ]
  },
  {
   "cell_type": "code",
   "execution_count": 7,
   "id": "a8c3d55c",
   "metadata": {},
   "outputs": [
    {
     "name": "stdout",
     "output_type": "stream",
     "text": [
      "Epoch 1/20\n",
      "500/500 [==============================] - 47s 92ms/step - loss: 0.4866 - val_loss: 0.4839\n",
      "Epoch 2/20\n",
      "500/500 [==============================] - 46s 92ms/step - loss: 0.4358 - val_loss: 0.4407\n",
      "Epoch 3/20\n",
      "500/500 [==============================] - 46s 92ms/step - loss: 0.3836 - val_loss: 0.4062\n",
      "Epoch 4/20\n",
      "500/500 [==============================] - 46s 92ms/step - loss: 0.3433 - val_loss: 0.3827\n",
      "Epoch 5/20\n",
      "500/500 [==============================] - 46s 92ms/step - loss: 0.3241 - val_loss: 0.3805\n",
      "Epoch 6/20\n",
      "500/500 [==============================] - 46s 92ms/step - loss: 0.3114 - val_loss: 0.3794\n",
      "Epoch 7/20\n",
      "500/500 [==============================] - 46s 92ms/step - loss: 0.2997 - val_loss: 0.3644\n",
      "Epoch 8/20\n",
      "500/500 [==============================] - 46s 92ms/step - loss: 0.2852 - val_loss: 0.3667\n",
      "Epoch 9/20\n",
      "500/500 [==============================] - 46s 92ms/step - loss: 0.2765 - val_loss: 0.3478\n",
      "Epoch 10/20\n",
      "500/500 [==============================] - 46s 92ms/step - loss: 0.2693 - val_loss: 0.3555\n",
      "Epoch 11/20\n",
      "500/500 [==============================] - 46s 92ms/step - loss: 0.2623 - val_loss: 0.3596\n",
      "Epoch 12/20\n",
      "500/500 [==============================] - 46s 92ms/step - loss: 0.2556 - val_loss: 0.3473\n",
      "Epoch 13/20\n",
      "500/500 [==============================] - 46s 92ms/step - loss: 0.2525 - val_loss: 0.3543\n",
      "Epoch 14/20\n",
      "500/500 [==============================] - 46s 92ms/step - loss: 0.2458 - val_loss: 0.3569\n",
      "Epoch 15/20\n",
      "500/500 [==============================] - 46s 92ms/step - loss: 0.2428 - val_loss: 0.3586\n",
      "Epoch 16/20\n",
      "500/500 [==============================] - 46s 92ms/step - loss: 0.2387 - val_loss: 0.3620\n",
      "Epoch 17/20\n",
      "500/500 [==============================] - 46s 92ms/step - loss: 0.2344 - val_loss: 0.3641\n",
      "Epoch 18/20\n",
      "500/500 [==============================] - 46s 93ms/step - loss: 0.2319 - val_loss: 0.3600\n",
      "Epoch 19/20\n",
      "500/500 [==============================] - 46s 92ms/step - loss: 0.2272 - val_loss: 0.3652\n",
      "Epoch 20/20\n",
      "500/500 [==============================] - 47s 95ms/step - loss: 0.2230 - val_loss: 0.3659\n"
     ]
    }
   ],
   "source": [
    "from tensorflow.keras.models import Sequential\n",
    "from tensorflow.keras import layers\n",
    "from tensorflow.keras.optimizers import RMSprop\n",
    "\n",
    "model = Sequential()\n",
    "model.add(layers.GRU(32, input_shape=(None, float_data.shape[-1])))\n",
    "model.add(layers.Dense(1))\n",
    "\n",
    "model.compile(optimizer=RMSprop(), loss='mae')\n",
    "\n",
    "history = model.fit(train_gen_reverse, \n",
    "                    steps_per_epoch=500, \n",
    "                    epochs=20, \n",
    "                    validation_data=val_gen_reverse, \n",
    "                    validation_steps=val_steps)"
   ]
  },
  {
   "cell_type": "code",
   "execution_count": 8,
   "id": "2479e773",
   "metadata": {},
   "outputs": [],
   "source": [
    "import matplotlib.pyplot as plt\n",
    "\n",
    "def plot_loss(history):\n",
    "    loss = history.history['loss']\n",
    "    val_loss = history.history['val_loss']\n",
    "    epochs = range(1, len(loss) + 1)\n",
    "    plt.figure()\n",
    "    plt.plot(epochs, loss, 'bo', label='Training loss')\n",
    "    plt.plot(epochs, val_loss, 'b', label='Validation loss')\n",
    "    plt.title('Training and validation loss')\n",
    "    plt.legend()\n",
    "    plt.show()"
   ]
  },
  {
   "cell_type": "code",
   "execution_count": 9,
   "id": "ec9ad64c",
   "metadata": {},
   "outputs": [
    {
     "data": {
      "image/png": "[encoded data removed]",
      "text/plain": [
       "<Figure size 432x288 with 1 Axes>"
      ]
     },
     "metadata": {
      "needs_background": "light"
     },
     "output_type": "display_data"
    }
   ],
   "source": [
    "plot_loss(history)"
   ]
  },
  {
   "cell_type": "code",
   "execution_count": 10,
   "id": "bf025a4f",
   "metadata": {},
   "outputs": [],
   "source": [
    "from tensorflow.keras.datasets import imdb\n",
    "from tensorflow.keras.preprocessing import sequence\n",
    "\n",
    "max_features = 10000\n",
    "maxlen = 500\n",
    "\n",
    "(x_train, y_train), (x_test, y_test) = imdb.load_data(num_words=max_features)\n",
    "\n",
    "x_train = [x[::-1] for x in x_train]\n",
    "x_test = [x[::-1] for x in x_test]\n",
    "\n",
    "x_train = sequence.pad_sequences(x_train, maxlen=maxlen)\n",
    "x_test = sequence.pad_sequences(x_test, maxlen=maxlen)"
   ]
  },
  {
   "cell_type": "code",
   "execution_count": 11,
   "id": "673f6853",
   "metadata": {},
   "outputs": [
    {
     "name": "stdout",
     "output_type": "stream",
     "text": [
      "Epoch 1/10\n",
      "157/157 [==============================] - 38s 237ms/step - loss: 0.5059 - acc: 0.7577 - val_loss: 0.3429 - val_acc: 0.8700\n",
      "Epoch 2/10\n",
      "157/157 [==============================] - 37s 235ms/step - loss: 0.3193 - acc: 0.8760 - val_loss: 0.3303 - val_acc: 0.8648\n",
      "Epoch 3/10\n",
      "157/157 [==============================] - 37s 235ms/step - loss: 0.2511 - acc: 0.9070 - val_loss: 0.4532 - val_acc: 0.8156\n",
      "Epoch 4/10\n",
      "157/157 [==============================] - 37s 234ms/step - loss: 0.2142 - acc: 0.9240 - val_loss: 0.3194 - val_acc: 0.8732\n",
      "Epoch 5/10\n",
      "157/157 [==============================] - 37s 234ms/step - loss: 0.1977 - acc: 0.9299 - val_loss: 0.3482 - val_acc: 0.8808\n",
      "Epoch 6/10\n",
      "157/157 [==============================] - 37s 233ms/step - loss: 0.1669 - acc: 0.9427 - val_loss: 0.3665 - val_acc: 0.8598\n",
      "Epoch 7/10\n",
      "157/157 [==============================] - 37s 234ms/step - loss: 0.1454 - acc: 0.9501 - val_loss: 0.4072 - val_acc: 0.8722\n",
      "Epoch 8/10\n",
      "157/157 [==============================] - 37s 234ms/step - loss: 0.1383 - acc: 0.9542 - val_loss: 0.4276 - val_acc: 0.8684\n",
      "Epoch 9/10\n",
      "157/157 [==============================] - 37s 233ms/step - loss: 0.1349 - acc: 0.9539 - val_loss: 0.4460 - val_acc: 0.8584\n",
      "Epoch 10/10\n",
      "157/157 [==============================] - 37s 234ms/step - loss: 0.1134 - acc: 0.9610 - val_loss: 0.4228 - val_acc: 0.8700\n"
     ]
    }
   ],
   "source": [
    "model = Sequential()\n",
    "model.add(layers.Embedding(max_features, 128))\n",
    "model.add(layers.LSTM(32))\n",
    "model.add(layers.Dense(1, activation='sigmoid'))\n",
    "\n",
    "model.compile(optimizer='rmsprop', loss='binary_crossentropy', metrics=['acc'])\n",
    "history = model.fit(x_train, y_train, \n",
    "                    epochs=10, \n",
    "                    batch_size=128, \n",
    "                    validation_split=0.2)"
   ]
  },
  {
   "cell_type": "code",
   "execution_count": null,
   "id": "8e2fa3dd",
   "metadata": {},
   "outputs": [],
   "source": []
  }
 ],
 "metadata": {
  "kernelspec": {
   "display_name": "Python 3",
   "language": "python",
   "name": "python3"
  },
  "language_info": {
   "codemirror_mode": {
    "name": "ipython",
    "version": 3
   },
   "file_extension": ".py",
   "mimetype": "text/x-python",
   "name": "python",
   "nbconvert_exporter": "python",
   "pygments_lexer": "ipython3",
   "version": "3.6.13"
  }
 },
 "nbformat": 4,
 "nbformat_minor": 5
}
