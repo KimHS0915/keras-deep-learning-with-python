{
 "cells": [
  {
   "cell_type": "code",
   "execution_count": 1,
   "id": "e4436781",
   "metadata": {},
   "outputs": [],
   "source": [
    "import os\n",
    "\n",
    "data_dir = '../datasets/jena_climate/'\n",
    "fname = os.path.join(data_dir, 'jena_climate_2009_2016.csv')\n",
    "\n",
    "with open(fname) as f:\n",
    "    data = f.read()\n",
    "\n",
    "lines = data.split('\\n')\n",
    "header = lines[0].split(',')\n",
    "lines = lines[1:]"
   ]
  },
  {
   "cell_type": "code",
   "execution_count": 2,
   "id": "18eea729",
   "metadata": {},
   "outputs": [],
   "source": [
    "import numpy as np\n",
    "\n",
    "float_data = np.zeros((len(lines), len(header) - 1))\n",
    "\n",
    "for i, line in enumerate(lines):\n",
    "    values = [float(x) for x in line.split(',')[1:]]\n",
    "    float_data[i, :] = values"
   ]
  },
  {
   "cell_type": "code",
   "execution_count": 3,
   "id": "c7b768ca",
   "metadata": {},
   "outputs": [],
   "source": [
    "mean = float_data[:200000].mean(axis=0)\n",
    "float_data -= mean\n",
    "std = float_data[:200000].std(axis=0)\n",
    "float_data /= std"
   ]
  },
  {
   "cell_type": "code",
   "execution_count": 4,
   "id": "0c63148a",
   "metadata": {},
   "outputs": [],
   "source": [
    "lookback = 1440\n",
    "step = 6\n",
    "delay = 144\n",
    "batch_size = 128\n",
    "\n",
    "val_steps = (300000 - 200001 - lookback) // batch_size\n",
    "test_steps = (len(float_data) - 300001 - lookback) // batch_size"
   ]
  },
  {
   "cell_type": "code",
   "execution_count": 5,
   "id": "505e8fc0",
   "metadata": {},
   "outputs": [],
   "source": [
    "def generator(data, lookback, delay, min_index, max_index, \n",
    "              shuffle=False, batch_size=128, step=6):\n",
    "    if max_index is None:\n",
    "        max_index = len(data) - delay - 1\n",
    "    i = min_index + lookback\n",
    "    while 1:\n",
    "        if shuffle:\n",
    "            rows = np.random.randint(\n",
    "                min_index + lookback, max_index, size=batch_size)\n",
    "        else:\n",
    "            if i + batch_size >= max_index:\n",
    "                i = min_index + lookback\n",
    "            rows = np.arange(i, min(i + batch_size, max_index))\n",
    "            i += len(rows)\n",
    "        \n",
    "        samples = np.zeros((len(rows), lookback // step, data.shape[-1]))\n",
    "        targets = np.zeros((len(rows),))\n",
    "        \n",
    "        for j, row in enumerate(rows):\n",
    "            indices = range(rows[j] - lookback, rows[j], step)\n",
    "            samples[j] = data[indices]\n",
    "            targets[j] = data[rows[j] + delay][1]\n",
    "        \n",
    "        yield samples, targets"
   ]
  },
  {
   "cell_type": "code",
   "execution_count": 6,
   "id": "56811b84",
   "metadata": {},
   "outputs": [],
   "source": [
    "train_gen = generator(float_data, \n",
    "                      lookback=lookback, \n",
    "                      delay=delay, \n",
    "                      min_index=0, \n",
    "                      max_index=200000, \n",
    "                      shuffle=True, \n",
    "                      step=step, \n",
    "                      batch_size=batch_size)\n",
    "val_gen = generator(float_data, \n",
    "                    lookback=lookback, \n",
    "                    delay=delay, \n",
    "                    min_index=200001, \n",
    "                    max_index=300000, \n",
    "                    step=step, \n",
    "                    batch_size=batch_size)"
   ]
  },
  {
   "cell_type": "code",
   "execution_count": 7,
   "id": "390ea866",
   "metadata": {},
   "outputs": [],
   "source": [
    "def reverse_order_generator(data, lookback, delay, min_index, max_index, \n",
    "              shuffle=False, batch_size=128, step=6):\n",
    "    if max_index is None:\n",
    "        max_index = len(data) - delay - 1\n",
    "    i = min_index + lookback\n",
    "    while 1:\n",
    "        if shuffle:\n",
    "            rows = np.random.randint(\n",
    "                min_index + lookback, max_index, size=batch_size)\n",
    "        else:\n",
    "            if i + batch_size >= max_index:\n",
    "                i = min_index + lookback\n",
    "            rows = np.arange(i, min(i + batch_size, max_index))\n",
    "            i += len(rows)\n",
    "        \n",
    "        samples = np.zeros((len(rows), lookback // step, data.shape[-1]))\n",
    "        targets = np.zeros((len(rows),))\n",
    "        \n",
    "        for j, row in enumerate(rows):\n",
    "            indices = range(rows[j] - lookback, rows[j], step)\n",
    "            samples[j] = data[indices]\n",
    "            targets[j] = data[rows[j] + delay][1]\n",
    "        \n",
    "        yield samples[:, ::-1, :], targets"
   ]
  },
  {
   "cell_type": "code",
   "execution_count": 8,
   "id": "40335a78",
   "metadata": {},
   "outputs": [],
   "source": [
    "train_gen_reverse = reverse_order_generator(\n",
    "    float_data,\n",
    "    lookback=lookback, \n",
    "    delay=delay, \n",
    "    min_index=0, \n",
    "    max_index=200000, \n",
    "    shuffle=True, \n",
    "    step=step, \n",
    "    batch_size=batch_size\n",
    ")\n",
    "\n",
    "val_gen_reverse = reverse_order_generator(\n",
    "    float_data,\n",
    "    lookback=lookback, \n",
    "    delay=delay, \n",
    "    min_index=200001, \n",
    "    max_index=300000, \n",
    "    shuffle=True, \n",
    "    step=step, \n",
    "    batch_size=batch_size\n",
    ")"
   ]
  },
  {
   "cell_type": "code",
   "execution_count": 9,
   "id": "815e3952",
   "metadata": {},
   "outputs": [
    {
     "name": "stdout",
     "output_type": "stream",
     "text": [
      "Epoch 1/20\n",
      "500/500 [==============================] - 49s 97ms/step - loss: 0.4896 - val_loss: 0.4833\n",
      "Epoch 2/20\n",
      "500/500 [==============================] - 47s 95ms/step - loss: 0.4384 - val_loss: 0.4712\n",
      "Epoch 3/20\n",
      "500/500 [==============================] - 49s 98ms/step - loss: 0.3849 - val_loss: 0.4043\n",
      "Epoch 4/20\n",
      "500/500 [==============================] - 48s 95ms/step - loss: 0.3514 - val_loss: 0.3502\n",
      "Epoch 5/20\n",
      "500/500 [==============================] - 47s 95ms/step - loss: 0.3163 - val_loss: 0.3301\n",
      "Epoch 6/20\n",
      "500/500 [==============================] - 46s 93ms/step - loss: 0.2931 - val_loss: 0.3215\n",
      "Epoch 7/20\n",
      "500/500 [==============================] - 47s 95ms/step - loss: 0.2785 - val_loss: 0.3147\n",
      "Epoch 8/20\n",
      "500/500 [==============================] - 47s 95ms/step - loss: 0.2713 - val_loss: 0.3322\n",
      "Epoch 9/20\n",
      "500/500 [==============================] - 47s 94ms/step - loss: 0.2636 - val_loss: 0.3130\n",
      "Epoch 10/20\n",
      "500/500 [==============================] - 46s 92ms/step - loss: 0.2558 - val_loss: 0.3129\n",
      "Epoch 11/20\n",
      "500/500 [==============================] - 46s 92ms/step - loss: 0.2533 - val_loss: 0.3262\n",
      "Epoch 12/20\n",
      "500/500 [==============================] - 46s 93ms/step - loss: 0.2453 - val_loss: 0.3300\n",
      "Epoch 13/20\n",
      "500/500 [==============================] - 46s 92ms/step - loss: 0.2425 - val_loss: 0.3313\n",
      "Epoch 14/20\n",
      "500/500 [==============================] - 46s 93ms/step - loss: 0.2393 - val_loss: 0.3361\n",
      "Epoch 15/20\n",
      "500/500 [==============================] - 48s 96ms/step - loss: 0.2351 - val_loss: 0.3344\n",
      "Epoch 16/20\n",
      "500/500 [==============================] - 48s 95ms/step - loss: 0.2314 - val_loss: 0.3392\n",
      "Epoch 17/20\n",
      "500/500 [==============================] - 46s 93ms/step - loss: 0.2263 - val_loss: 0.3347\n",
      "Epoch 18/20\n",
      "500/500 [==============================] - 46s 93ms/step - loss: 0.2239 - val_loss: 0.3397\n",
      "Epoch 19/20\n",
      "500/500 [==============================] - 46s 92ms/step - loss: 0.2205 - val_loss: 0.3336\n",
      "Epoch 20/20\n",
      "500/500 [==============================] - 46s 93ms/step - loss: 0.2162 - val_loss: 0.3358\n"
     ]
    }
   ],
   "source": [
    "from tensorflow.keras.models import Sequential\n",
    "from tensorflow.keras import layers\n",
    "from tensorflow.keras.optimizers import RMSprop\n",
    "\n",
    "model = Sequential()\n",
    "model.add(layers.GRU(32, input_shape=(None, float_data.shape[-1])))\n",
    "model.add(layers.Dense(1))\n",
    "\n",
    "model.compile(optimizer=RMSprop(), loss='mae')\n",
    "\n",
    "history = model.fit(train_gen_reverse, \n",
    "                    steps_per_epoch=500, \n",
    "                    epochs=20, \n",
    "                    validation_data=val_gen_reverse, \n",
    "                    validation_steps=val_steps)"
   ]
  },
  {
   "cell_type": "code",
   "execution_count": 10,
   "id": "c4fc6aba",
   "metadata": {},
   "outputs": [],
   "source": [
    "import matplotlib.pyplot as plt\n",
    "\n",
    "def plot_loss(history):\n",
    "    loss = history.history['loss']\n",
    "    val_loss = history.history['val_loss']\n",
    "    epochs = range(1, len(loss) + 1)\n",
    "    plt.figure()\n",
    "    plt.plot(epochs, loss, 'bo', label='Training loss')\n",
    "    plt.plot(epochs, val_loss, 'b', label='Validation loss')\n",
    "    plt.title('Training and validation loss')\n",
    "    plt.legend()\n",
    "    plt.show()"
   ]
  },
  {
   "cell_type": "code",
   "execution_count": 11,
   "id": "2dd1336e",
   "metadata": {},
   "outputs": [
    {
     "data": {
      "image/png": "[encoded data removed]",
      "text/plain": [
       "<Figure size 432x288 with 1 Axes>"
      ]
     },
     "metadata": {
      "needs_background": "light"
     },
     "output_type": "display_data"
    }
   ],
   "source": [
    "plot_loss(history)"
   ]
  },
  {
   "cell_type": "code",
   "execution_count": 12,
   "id": "c56606ab",
   "metadata": {},
   "outputs": [],
   "source": [
    "from tensorflow.keras.datasets import imdb\n",
    "from tensorflow.keras.preprocessing import sequence\n",
    "\n",
    "max_features = 10000\n",
    "maxlen = 500\n",
    "\n",
    "(x_train, y_train), (x_test, y_test) = imdb.load_data(num_words=max_features)\n",
    "\n",
    "x_train = [x[::-1] for x in x_train]\n",
    "x_test = [x[::-1] for x in x_test]\n",
    "\n",
    "x_train = sequence.pad_sequences(x_train, maxlen=maxlen)\n",
    "x_test = sequence.pad_sequences(x_test, maxlen=maxlen)"
   ]
  },
  {
   "cell_type": "code",
   "execution_count": 13,
   "id": "9c1cc238",
   "metadata": {},
   "outputs": [
    {
     "name": "stdout",
     "output_type": "stream",
     "text": [
      "Epoch 1/10\n",
      "157/157 [==============================] - 38s 232ms/step - loss: 0.4784 - acc: 0.7759 - val_loss: 0.3716 - val_acc: 0.8612\n",
      "Epoch 2/10\n",
      "157/157 [==============================] - 36s 231ms/step - loss: 0.3072 - acc: 0.8814 - val_loss: 0.4096 - val_acc: 0.8468\n",
      "Epoch 3/10\n",
      "157/157 [==============================] - 36s 231ms/step - loss: 0.2598 - acc: 0.9044 - val_loss: 0.3781 - val_acc: 0.8444\n",
      "Epoch 4/10\n",
      "157/157 [==============================] - 36s 232ms/step - loss: 0.2183 - acc: 0.9207 - val_loss: 0.3347 - val_acc: 0.8696\n",
      "Epoch 5/10\n",
      "157/157 [==============================] - 36s 232ms/step - loss: 0.2192 - acc: 0.9267 - val_loss: 0.3791 - val_acc: 0.8768\n",
      "Epoch 6/10\n",
      "157/157 [==============================] - 36s 231ms/step - loss: 0.1858 - acc: 0.9370 - val_loss: 0.3403 - val_acc: 0.8708\n",
      "Epoch 7/10\n",
      "157/157 [==============================] - 36s 228ms/step - loss: 0.1652 - acc: 0.9441 - val_loss: 0.4130 - val_acc: 0.8546\n",
      "Epoch 8/10\n",
      "157/157 [==============================] - 36s 231ms/step - loss: 0.1479 - acc: 0.9491 - val_loss: 0.4198 - val_acc: 0.8608\n",
      "Epoch 9/10\n",
      "157/157 [==============================] - 36s 230ms/step - loss: 0.1360 - acc: 0.9548 - val_loss: 0.7082 - val_acc: 0.8200\n",
      "Epoch 10/10\n",
      "157/157 [==============================] - 36s 231ms/step - loss: 0.1349 - acc: 0.9588 - val_loss: 0.3915 - val_acc: 0.8604\n"
     ]
    }
   ],
   "source": [
    "model = Sequential()\n",
    "model.add(layers.Embedding(max_features, 128))\n",
    "model.add(layers.LSTM(32))\n",
    "model.add(layers.Dense(1, activation='sigmoid'))\n",
    "\n",
    "model.compile(optimizer='rmsprop', loss='binary_crossentropy', metrics=['acc'])\n",
    "history = model.fit(x_train, y_train, \n",
    "                    epochs=10, \n",
    "                    batch_size=128, \n",
    "                    validation_split=0.2)"
   ]
  },
  {
   "cell_type": "code",
   "execution_count": 14,
   "id": "e26302ce",
   "metadata": {},
   "outputs": [],
   "source": [
    "from tensorflow.keras import backend as K\n",
    "\n",
    "K.clear_session()"
   ]
  },
  {
   "cell_type": "code",
   "execution_count": 15,
   "id": "1bb21553",
   "metadata": {},
   "outputs": [
    {
     "name": "stdout",
     "output_type": "stream",
     "text": [
      "Epoch 1/10\n",
      "157/157 [==============================] - 54s 335ms/step - loss: 0.5351 - acc: 0.7367 - val_loss: 1.1166 - val_acc: 0.5864\n",
      "Epoch 2/10\n",
      "157/157 [==============================] - 51s 325ms/step - loss: 0.3246 - acc: 0.8740 - val_loss: 0.5847 - val_acc: 0.7826\n",
      "Epoch 3/10\n",
      "157/157 [==============================] - 51s 326ms/step - loss: 0.2619 - acc: 0.9036 - val_loss: 0.3358 - val_acc: 0.8712\n",
      "Epoch 4/10\n",
      "157/157 [==============================] - 51s 324ms/step - loss: 0.2216 - acc: 0.9190 - val_loss: 0.2979 - val_acc: 0.8892\n",
      "Epoch 5/10\n",
      "157/157 [==============================] - 51s 325ms/step - loss: 0.2025 - acc: 0.9277 - val_loss: 0.3394 - val_acc: 0.8906\n",
      "Epoch 6/10\n",
      "157/157 [==============================] - 51s 327ms/step - loss: 0.1775 - acc: 0.9374 - val_loss: 0.3569 - val_acc: 0.8822\n",
      "Epoch 7/10\n",
      "157/157 [==============================] - 52s 334ms/step - loss: 0.1671 - acc: 0.9416 - val_loss: 0.4113 - val_acc: 0.8532\n",
      "Epoch 8/10\n",
      "157/157 [==============================] - 54s 341ms/step - loss: 0.1499 - acc: 0.9499 - val_loss: 0.3302 - val_acc: 0.8782\n",
      "Epoch 9/10\n",
      "157/157 [==============================] - 52s 332ms/step - loss: 0.1366 - acc: 0.9542 - val_loss: 0.3821 - val_acc: 0.8846\n",
      "Epoch 10/10\n",
      "157/157 [==============================] - 53s 336ms/step - loss: 0.1283 - acc: 0.9563 - val_loss: 0.3705 - val_acc: 0.8760\n"
     ]
    }
   ],
   "source": [
    "model = Sequential()\n",
    "model.add(layers.Embedding(max_features, 32))\n",
    "model.add(layers.Bidirectional(layers.LSTM(32)))\n",
    "model.add(layers.Dense(1, activation='sigmoid'))\n",
    "\n",
    "model.compile(optimizer='rmsprop', loss='binary_crossentropy', metrics=['acc'])\n",
    "history = model.fit(x_train, y_train, \n",
    "                    epochs=10, \n",
    "                    batch_size=128, \n",
    "                    validation_split=0.2)"
   ]
  },
  {
   "cell_type": "code",
   "execution_count": 16,
   "id": "5b24dd09",
   "metadata": {},
   "outputs": [
    {
     "name": "stdout",
     "output_type": "stream",
     "text": [
      "Epoch 1/40\n",
      "500/500 [==============================] - 70s 136ms/step - loss: 0.2900 - val_loss: 0.2717\n",
      "Epoch 2/40\n",
      "500/500 [==============================] - 67s 135ms/step - loss: 0.2729 - val_loss: 0.2891\n",
      "Epoch 3/40\n",
      "500/500 [==============================] - 68s 136ms/step - loss: 0.2665 - val_loss: 0.2652\n",
      "Epoch 4/40\n",
      "500/500 [==============================] - 67s 134ms/step - loss: 0.2591 - val_loss: 0.2689\n",
      "Epoch 5/40\n",
      "500/500 [==============================] - 66s 132ms/step - loss: 0.2541 - val_loss: 0.2716\n",
      "Epoch 6/40\n",
      "500/500 [==============================] - 68s 136ms/step - loss: 0.2494 - val_loss: 0.2804\n",
      "Epoch 7/40\n",
      "500/500 [==============================] - 67s 133ms/step - loss: 0.2413 - val_loss: 0.2770\n",
      "Epoch 8/40\n",
      "500/500 [==============================] - 69s 139ms/step - loss: 0.2365 - val_loss: 0.2761\n",
      "Epoch 9/40\n",
      "500/500 [==============================] - 67s 134ms/step - loss: 0.2302 - val_loss: 0.2803\n",
      "Epoch 10/40\n",
      "500/500 [==============================] - 68s 136ms/step - loss: 0.2253 - val_loss: 0.2927\n",
      "Epoch 11/40\n",
      "500/500 [==============================] - 69s 139ms/step - loss: 0.2192 - val_loss: 0.2934\n",
      "Epoch 12/40\n",
      "500/500 [==============================] - 69s 138ms/step - loss: 0.2131 - val_loss: 0.2929\n",
      "Epoch 13/40\n",
      "500/500 [==============================] - 68s 136ms/step - loss: 0.2068 - val_loss: 0.2939\n",
      "Epoch 14/40\n",
      "500/500 [==============================] - 69s 139ms/step - loss: 0.2031 - val_loss: 0.3019\n",
      "Epoch 15/40\n",
      "500/500 [==============================] - 68s 135ms/step - loss: 0.1958 - val_loss: 0.3044\n",
      "Epoch 16/40\n",
      "500/500 [==============================] - 68s 137ms/step - loss: 0.1904 - val_loss: 0.3120\n",
      "Epoch 17/40\n",
      "500/500 [==============================] - 67s 135ms/step - loss: 0.1849 - val_loss: 0.3059\n",
      "Epoch 18/40\n",
      "500/500 [==============================] - 68s 137ms/step - loss: 0.1796 - val_loss: 0.3124\n",
      "Epoch 19/40\n",
      "500/500 [==============================] - 66s 132ms/step - loss: 0.1755 - val_loss: 0.3166\n",
      "Epoch 20/40\n",
      "500/500 [==============================] - 66s 132ms/step - loss: 0.1735 - val_loss: 0.3217\n",
      "Epoch 21/40\n",
      "500/500 [==============================] - 68s 136ms/step - loss: 0.1687 - val_loss: 0.3177\n",
      "Epoch 22/40\n",
      "500/500 [==============================] - 66s 132ms/step - loss: 0.1655 - val_loss: 0.3219\n",
      "Epoch 23/40\n",
      "500/500 [==============================] - 66s 132ms/step - loss: 0.1625 - val_loss: 0.3220\n",
      "Epoch 24/40\n",
      "500/500 [==============================] - 66s 132ms/step - loss: 0.1588 - val_loss: 0.3280\n",
      "Epoch 25/40\n",
      "500/500 [==============================] - 66s 132ms/step - loss: 0.1575 - val_loss: 0.3245\n",
      "Epoch 26/40\n",
      "500/500 [==============================] - 66s 132ms/step - loss: 0.1544 - val_loss: 0.3298\n",
      "Epoch 27/40\n",
      "500/500 [==============================] - 66s 132ms/step - loss: 0.1519 - val_loss: 0.3274\n",
      "Epoch 28/40\n",
      "500/500 [==============================] - 66s 132ms/step - loss: 0.1503 - val_loss: 0.3274\n",
      "Epoch 29/40\n",
      "500/500 [==============================] - 66s 132ms/step - loss: 0.1475 - val_loss: 0.3297\n",
      "Epoch 30/40\n",
      "500/500 [==============================] - 66s 132ms/step - loss: 0.1458 - val_loss: 0.3311\n",
      "Epoch 31/40\n",
      "500/500 [==============================] - 66s 132ms/step - loss: 0.1446 - val_loss: 0.3299\n",
      "Epoch 32/40\n",
      "500/500 [==============================] - 66s 132ms/step - loss: 0.1422 - val_loss: 0.3295\n",
      "Epoch 33/40\n",
      "500/500 [==============================] - 66s 132ms/step - loss: 0.1413 - val_loss: 0.3306\n",
      "Epoch 34/40\n",
      "500/500 [==============================] - 66s 132ms/step - loss: 0.1390 - val_loss: 0.3328\n",
      "Epoch 35/40\n",
      "500/500 [==============================] - 66s 132ms/step - loss: 0.1385 - val_loss: 0.3292\n",
      "Epoch 36/40\n",
      "500/500 [==============================] - 66s 132ms/step - loss: 0.1368 - val_loss: 0.3332\n",
      "Epoch 37/40\n",
      "500/500 [==============================] - 66s 132ms/step - loss: 0.1354 - val_loss: 0.3259\n",
      "Epoch 38/40\n",
      "500/500 [==============================] - 66s 132ms/step - loss: 0.1347 - val_loss: 0.3339\n",
      "Epoch 39/40\n",
      "500/500 [==============================] - 66s 132ms/step - loss: 0.1337 - val_loss: 0.3347\n",
      "Epoch 40/40\n",
      "500/500 [==============================] - 66s 132ms/step - loss: 0.1327 - val_loss: 0.3357\n"
     ]
    }
   ],
   "source": [
    "model = Sequential()\n",
    "model.add(layers.Bidirectional(\n",
    "    layers.GRU(32), input_shape=(None, float_data.shape[-1])))\n",
    "model.add(layers.Dense(1))\n",
    "\n",
    "model.compile(optimizer=RMSprop(), loss='mae')\n",
    "history = model.fit(train_gen, \n",
    "                    steps_per_epoch=500, \n",
    "                    epochs=40, \n",
    "                    validation_data=val_gen, \n",
    "                    validation_steps=val_steps)"
   ]
  },
  {
   "cell_type": "code",
   "execution_count": null,
   "id": "1e874954",
   "metadata": {},
   "outputs": [],
   "source": []
  }
 ],
 "metadata": {
  "kernelspec": {
   "display_name": "Python 3",
   "language": "python",
   "name": "python3"
  },
  "language_info": {
   "codemirror_mode": {
    "name": "ipython",
    "version": 3
   },
   "file_extension": ".py",
   "mimetype": "text/x-python",
   "name": "python",
   "nbconvert_exporter": "python",
   "pygments_lexer": "ipython3",
   "version": "3.6.13"
  }
 },
 "nbformat": 4,
 "nbformat_minor": 5
}
