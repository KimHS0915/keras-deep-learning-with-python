{
 "cells": [
  {
   "cell_type": "code",
   "execution_count": 1,
   "id": "8cb1a5a8",
   "metadata": {},
   "outputs": [],
   "source": [
    "import os\n",
    "import numpy as np\n",
    "\n",
    "data_dir = '../datasets/jena_climate/'\n",
    "fname = os.path.join(data_dir, 'jena_climate_2009_2016.csv')\n",
    "\n",
    "with open(fname) as f:\n",
    "    data = f.read()\n",
    "\n",
    "lines = data.split('\\n')\n",
    "header = lines[0].split(',')\n",
    "lines = lines[1:]\n",
    "\n",
    "float_data = np.zeros((len(lines), len(header) - 1))\n",
    "\n",
    "for i, line in enumerate(lines):\n",
    "    values = [float(x) for x in line.split(',')[1:]]\n",
    "    float_data[i, :] = values\n",
    "    \n",
    "mean = float_data[:200000].mean(axis=0)\n",
    "float_data -= mean\n",
    "std = float_data[:200000].std(axis=0)\n",
    "float_data /= std"
   ]
  },
  {
   "cell_type": "code",
   "execution_count": 2,
   "id": "c1c6e508",
   "metadata": {},
   "outputs": [],
   "source": [
    "def generator(data, lookback, delay, min_index, max_index, \n",
    "              shuffle=False, batch_size=128, step=6):\n",
    "    if max_index is None:\n",
    "        max_index = len(data) - delay - 1\n",
    "    i = min_index + lookback\n",
    "    while 1:\n",
    "        if shuffle:\n",
    "            rows = np.random.randint(\n",
    "                min_index + lookback, max_index, size=batch_size)\n",
    "        else:\n",
    "            if i + batch_size >= max_index:\n",
    "                i = min_index + lookback\n",
    "            rows = np.arange(i, min(i + batch_size, max_index))\n",
    "            i += len(rows)\n",
    "        \n",
    "        samples = np.zeros((len(rows), lookback // step, data.shape[-1]))\n",
    "        targets = np.zeros((len(rows),))\n",
    "        \n",
    "        for j, row in enumerate(rows):\n",
    "            indices = range(rows[j] - lookback, rows[j], step)\n",
    "            samples[j] = data[indices]\n",
    "            targets[j] = data[rows[j] + delay][1]\n",
    "        \n",
    "        yield samples, targets"
   ]
  },
  {
   "cell_type": "code",
   "execution_count": 3,
   "id": "dec17521",
   "metadata": {},
   "outputs": [],
   "source": [
    "lookback = 1440\n",
    "step = 6\n",
    "delay = 144\n",
    "batch_size = 128\n",
    "\n",
    "train_gen = generator(float_data, \n",
    "                      lookback=lookback, \n",
    "                      delay=delay, \n",
    "                      min_index=0, \n",
    "                      max_index=200000, \n",
    "                      shuffle=True, \n",
    "                      step=step, \n",
    "                      batch_size=batch_size)\n",
    "val_gen = generator(float_data, \n",
    "                    lookback=lookback, \n",
    "                    delay=delay, \n",
    "                    min_index=200001, \n",
    "                    max_index=300000, \n",
    "                    step=step, \n",
    "                    batch_size=batch_size)\n",
    "test_gen = generator(float_data, \n",
    "                     lookback=lookback, \n",
    "                     delay=delay, \n",
    "                     min_index=300001, \n",
    "                     max_index=None, \n",
    "                     step=step, \n",
    "                     batch_size=batch_size)\n",
    "\n",
    "val_steps = (300000 - 200001 - lookback) // batch_size\n",
    "test_steps = (len(float_data) - 300001 - lookback) // batch_size"
   ]
  },
  {
   "cell_type": "code",
   "execution_count": 4,
   "id": "e8f9d719",
   "metadata": {},
   "outputs": [],
   "source": [
    "import matplotlib.pyplot as plt\n",
    "\n",
    "def plot_loss(history):\n",
    "    loss = history.history['loss']\n",
    "    val_loss = history.history['val_loss']\n",
    "    epochs = range(1, len(loss) + 1)\n",
    "    plt.figure()\n",
    "    plt.plot(epochs, loss, 'bo', label='Training loss')\n",
    "    plt.plot(epochs, val_loss, 'b', label='Validation loss')\n",
    "    plt.title('Training and validation loss')\n",
    "    plt.legend()\n",
    "    plt.show()"
   ]
  },
  {
   "cell_type": "code",
   "execution_count": 5,
   "id": "7024efa0",
   "metadata": {},
   "outputs": [],
   "source": [
    "from tensorflow.keras import callbacks\n",
    "\n",
    "callbacks_list = [\n",
    "    callbacks.EarlyStopping(\n",
    "        monitor='val_loss',\n",
    "        patience=10\n",
    "    ),\n",
    "    callbacks.ModelCheckpoint(\n",
    "        filepath='my_model.h5',\n",
    "        monitor='val_loss',\n",
    "        save_best_only=True\n",
    "    ),\n",
    "    callbacks.ReduceLROnPlateau(\n",
    "        monitor='val_loss',\n",
    "        factor=0.5,\n",
    "        patience=3,\n",
    "    )\n",
    "]"
   ]
  },
  {
   "cell_type": "code",
   "execution_count": 6,
   "id": "7b2fb773",
   "metadata": {},
   "outputs": [
    {
     "name": "stdout",
     "output_type": "stream",
     "text": [
      "Epoch 1/40\n",
      "500/500 [==============================] - 375s 745ms/step - loss: 0.3814 - val_loss: 0.4438\n",
      "Epoch 2/40\n",
      "500/500 [==============================] - 384s 768ms/step - loss: 0.3319 - val_loss: 0.3006\n",
      "Epoch 3/40\n",
      "500/500 [==============================] - 440s 880ms/step - loss: 0.3199 - val_loss: 0.3012\n",
      "Epoch 4/40\n",
      "500/500 [==============================] - 443s 886ms/step - loss: 0.3134 - val_loss: 0.2983\n",
      "Epoch 5/40\n",
      "500/500 [==============================] - 447s 895ms/step - loss: 0.3043 - val_loss: 0.2973\n",
      "Epoch 6/40\n",
      "500/500 [==============================] - 442s 885ms/step - loss: 0.3024 - val_loss: 0.2852\n",
      "Epoch 7/40\n",
      "500/500 [==============================] - 440s 880ms/step - loss: 0.2997 - val_loss: 0.3019\n",
      "Epoch 8/40\n",
      "500/500 [==============================] - 448s 897ms/step - loss: 0.2981 - val_loss: 0.2836\n",
      "Epoch 9/40\n",
      "500/500 [==============================] - 446s 892ms/step - loss: 0.2945 - val_loss: 0.2918\n",
      "Epoch 10/40\n",
      "500/500 [==============================] - 446s 893ms/step - loss: 0.2921 - val_loss: 0.2843\n",
      "Epoch 11/40\n",
      "500/500 [==============================] - 441s 883ms/step - loss: 0.2912 - val_loss: 0.2853\n",
      "Epoch 12/40\n",
      "500/500 [==============================] - 451s 902ms/step - loss: 0.2857 - val_loss: 0.2848\n",
      "Epoch 13/40\n",
      "500/500 [==============================] - 435s 870ms/step - loss: 0.2846 - val_loss: 0.2852\n",
      "Epoch 14/40\n",
      "500/500 [==============================] - 436s 873ms/step - loss: 0.2824 - val_loss: 0.2819\n",
      "Epoch 15/40\n",
      "500/500 [==============================] - 437s 874ms/step - loss: 0.2837 - val_loss: 0.2855\n",
      "Epoch 16/40\n",
      "500/500 [==============================] - 439s 878ms/step - loss: 0.2811 - val_loss: 0.2866\n",
      "Epoch 17/40\n",
      "500/500 [==============================] - 447s 895ms/step - loss: 0.2813 - val_loss: 0.2861\n",
      "Epoch 18/40\n",
      "500/500 [==============================] - 450s 900ms/step - loss: 0.2801 - val_loss: 0.2859\n",
      "Epoch 19/40\n",
      "500/500 [==============================] - 446s 892ms/step - loss: 0.2767 - val_loss: 0.2839\n",
      "Epoch 20/40\n",
      "500/500 [==============================] - 453s 907ms/step - loss: 0.2778 - val_loss: 0.2859\n",
      "Epoch 21/40\n",
      "500/500 [==============================] - 456s 913ms/step - loss: 0.2763 - val_loss: 0.2857\n",
      "Epoch 22/40\n",
      "500/500 [==============================] - 456s 913ms/step - loss: 0.2770 - val_loss: 0.2851\n",
      "Epoch 23/40\n",
      "500/500 [==============================] - 458s 917ms/step - loss: 0.2755 - val_loss: 0.2861\n",
      "Epoch 24/40\n",
      "500/500 [==============================] - 457s 914ms/step - loss: 0.2766 - val_loss: 0.2845\n"
     ]
    }
   ],
   "source": [
    "from tensorflow.keras.models import Sequential\n",
    "from tensorflow.keras import layers, optimizers\n",
    "from tensorflow.keras.optimizers import RMSprop\n",
    "\n",
    "model = Sequential()\n",
    "model.add(layers.LSTM(32, \n",
    "                     dropout=0.1,\n",
    "                     recurrent_dropout=0.5,\n",
    "                     return_sequences=True,\n",
    "                     input_shape=(None, float_data.shape[-1])))\n",
    "model.add(layers.LSTM(128, \n",
    "                     activation='relu',\n",
    "                     dropout=0.1,\n",
    "                     recurrent_dropout=0.5))\n",
    "model.add(layers.Dense(64, activation='relu'))\n",
    "model.add(layers.BatchNormalization())\n",
    "model.add(layers.Dense(1))\n",
    "\n",
    "model.compile(optimizer=optimizers.RMSprop(learning_rate=1e-4), loss='mae')\n",
    "history = model.fit(train_gen, \n",
    "                    steps_per_epoch=500, \n",
    "                    epochs=40, \n",
    "                    callbacks=callbacks_list,\n",
    "                    validation_data=val_gen, validation_steps=val_steps)"
   ]
  },
  {
   "cell_type": "code",
   "execution_count": 7,
   "id": "e2a711e6",
   "metadata": {},
   "outputs": [
    {
     "data": {
      "image/png": "[encoded data removed]",
      "text/plain": [
       "<Figure size 432x288 with 1 Axes>"
      ]
     },
     "metadata": {
      "needs_background": "light"
     },
     "output_type": "display_data"
    }
   ],
   "source": [
    "plot_loss(history)"
   ]
  },
  {
   "cell_type": "code",
   "execution_count": 8,
   "id": "fda4d1fb",
   "metadata": {},
   "outputs": [
    {
     "name": "stdout",
     "output_type": "stream",
     "text": [
      "930/930 [==============================] - 168s 181ms/step - loss: 0.3005\n"
     ]
    },
    {
     "data": {
      "text/plain": [
       "0.3004641532897949"
      ]
     },
     "execution_count": 8,
     "metadata": {},
     "output_type": "execute_result"
    }
   ],
   "source": [
    "model.evaluate(test_gen, steps=test_steps)"
   ]
  },
  {
   "cell_type": "code",
   "execution_count": null,
   "id": "ea8c3bf0",
   "metadata": {},
   "outputs": [],
   "source": []
  }
 ],
 "metadata": {
  "kernelspec": {
   "display_name": "Python 3",
   "language": "python",
   "name": "python3"
  },
  "language_info": {
   "codemirror_mode": {
    "name": "ipython",
    "version": 3
   },
   "file_extension": ".py",
   "mimetype": "text/x-python",
   "name": "python",
   "nbconvert_exporter": "python",
   "pygments_lexer": "ipython3",
   "version": "3.6.13"
  }
 },
 "nbformat": 4,
 "nbformat_minor": 5
}
