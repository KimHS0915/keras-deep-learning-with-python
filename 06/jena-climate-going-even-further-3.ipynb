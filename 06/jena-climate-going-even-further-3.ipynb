{
 "cells": [
  {
   "cell_type": "code",
   "execution_count": 1,
   "id": "6737df81",
   "metadata": {},
   "outputs": [],
   "source": [
    "import os\n",
    "import numpy as np\n",
    "\n",
    "data_dir = '../datasets/jena_climate/'\n",
    "fname = os.path.join(data_dir, 'jena_climate_2009_2016.csv')\n",
    "\n",
    "with open(fname) as f:\n",
    "    data = f.read()\n",
    "\n",
    "lines = data.split('\\n')\n",
    "header = lines[0].split(',')\n",
    "lines = lines[1:]\n",
    "\n",
    "float_data = np.zeros((len(lines), len(header) - 1))\n",
    "\n",
    "for i, line in enumerate(lines):\n",
    "    values = [float(x) for x in line.split(',')[1:]]\n",
    "    float_data[i, :] = values\n",
    "    \n",
    "mean = float_data[:200000].mean(axis=0)\n",
    "float_data -= mean\n",
    "std = float_data[:200000].std(axis=0)\n",
    "float_data /= std"
   ]
  },
  {
   "cell_type": "code",
   "execution_count": 2,
   "id": "030fd285",
   "metadata": {},
   "outputs": [],
   "source": [
    "def generator(data, lookback, delay, min_index, max_index, \n",
    "              shuffle=False, batch_size=128, step=6):\n",
    "    if max_index is None:\n",
    "        max_index = len(data) - delay - 1\n",
    "    i = min_index + lookback\n",
    "    while 1:\n",
    "        if shuffle:\n",
    "            rows = np.random.randint(\n",
    "                min_index + lookback, max_index, size=batch_size)\n",
    "        else:\n",
    "            if i + batch_size >= max_index:\n",
    "                i = min_index + lookback\n",
    "            rows = np.arange(i, min(i + batch_size, max_index))\n",
    "            i += len(rows)\n",
    "        \n",
    "        samples = np.zeros((len(rows), lookback // step, data.shape[-1]))\n",
    "        targets = np.zeros((len(rows),))\n",
    "        \n",
    "        for j, row in enumerate(rows):\n",
    "            indices = range(rows[j] - lookback, rows[j], step)\n",
    "            samples[j] = data[indices]\n",
    "            targets[j] = data[rows[j] + delay][1]\n",
    "        \n",
    "        yield samples, targets"
   ]
  },
  {
   "cell_type": "code",
   "execution_count": 3,
   "id": "eafa97b6",
   "metadata": {},
   "outputs": [],
   "source": [
    "lookback = 1440\n",
    "step = 6\n",
    "delay = 144\n",
    "batch_size = 128\n",
    "\n",
    "train_gen = generator(float_data, \n",
    "                      lookback=lookback, \n",
    "                      delay=delay, \n",
    "                      min_index=0, \n",
    "                      max_index=200000, \n",
    "                      shuffle=True, \n",
    "                      step=step, \n",
    "                      batch_size=batch_size)\n",
    "val_gen = generator(float_data, \n",
    "                    lookback=lookback, \n",
    "                    delay=delay, \n",
    "                    min_index=200001, \n",
    "                    max_index=300000, \n",
    "                    step=step, \n",
    "                    batch_size=batch_size)\n",
    "test_gen = generator(float_data, \n",
    "                     lookback=lookback, \n",
    "                     delay=delay, \n",
    "                     min_index=300001, \n",
    "                     max_index=None, \n",
    "                     step=step, \n",
    "                     batch_size=batch_size)\n",
    "\n",
    "val_steps = (300000 - 200001 - lookback) // batch_size\n",
    "test_steps = (len(float_data) - 300001 - lookback) // batch_size"
   ]
  },
  {
   "cell_type": "code",
   "execution_count": 4,
   "id": "18873e44",
   "metadata": {},
   "outputs": [],
   "source": [
    "import matplotlib.pyplot as plt\n",
    "\n",
    "def plot_loss(history):\n",
    "    loss = history.history['loss']\n",
    "    val_loss = history.history['val_loss']\n",
    "    epochs = range(1, len(loss) + 1)\n",
    "    plt.figure()\n",
    "    plt.plot(epochs, loss, 'bo', label='Training loss')\n",
    "    plt.plot(epochs, val_loss, 'b', label='Validation loss')\n",
    "    plt.title('Training and validation loss')\n",
    "    plt.legend()\n",
    "    plt.show()"
   ]
  },
  {
   "cell_type": "code",
   "execution_count": 5,
   "id": "988568fc",
   "metadata": {},
   "outputs": [
    {
     "name": "stdout",
     "output_type": "stream",
     "text": [
      "Epoch 1/20\n",
      "500/500 [==============================] - 330s 656ms/step - loss: 0.3199 - val_loss: 0.2932\n",
      "Epoch 2/20\n",
      "500/500 [==============================] - 377s 754ms/step - loss: 0.2974 - val_loss: 0.2871\n",
      "Epoch 3/20\n",
      "500/500 [==============================] - 369s 739ms/step - loss: 0.2883 - val_loss: 0.2846\n",
      "Epoch 4/20\n",
      "500/500 [==============================] - 358s 716ms/step - loss: 0.2789 - val_loss: 0.2668\n",
      "Epoch 5/20\n",
      "500/500 [==============================] - 359s 719ms/step - loss: 0.2693 - val_loss: 0.2819\n",
      "Epoch 6/20\n",
      "500/500 [==============================] - 360s 720ms/step - loss: 0.2631 - val_loss: 0.2738\n",
      "Epoch 7/20\n",
      "500/500 [==============================] - 359s 718ms/step - loss: 0.2549 - val_loss: 0.2774\n",
      "Epoch 8/20\n",
      "500/500 [==============================] - 355s 711ms/step - loss: 0.2485 - val_loss: 0.2819\n",
      "Epoch 9/20\n",
      "500/500 [==============================] - 371s 742ms/step - loss: 0.2407 - val_loss: 0.2871\n",
      "Epoch 10/20\n",
      "500/500 [==============================] - 374s 750ms/step - loss: 0.2351 - val_loss: 0.2864\n",
      "Epoch 11/20\n",
      "500/500 [==============================] - 358s 717ms/step - loss: 0.2280 - val_loss: 0.2893\n",
      "Epoch 12/20\n",
      "500/500 [==============================] - 370s 740ms/step - loss: 0.2218 - val_loss: 0.2957\n",
      "Epoch 13/20\n",
      "500/500 [==============================] - 372s 744ms/step - loss: 0.2178 - val_loss: 0.3017\n",
      "Epoch 14/20\n",
      "500/500 [==============================] - 365s 731ms/step - loss: 0.2132 - val_loss: 0.3057\n",
      "Epoch 15/20\n",
      "500/500 [==============================] - 364s 728ms/step - loss: 0.2079 - val_loss: 0.3096\n",
      "Epoch 16/20\n",
      "500/500 [==============================] - 364s 728ms/step - loss: 0.2039 - val_loss: 0.3090\n",
      "Epoch 17/20\n",
      "500/500 [==============================] - 364s 728ms/step - loss: 0.2001 - val_loss: 0.3124\n",
      "Epoch 18/20\n",
      "500/500 [==============================] - 372s 744ms/step - loss: 0.1963 - val_loss: 0.3020\n",
      "Epoch 19/20\n",
      "500/500 [==============================] - 372s 745ms/step - loss: 0.1923 - val_loss: 0.3046\n",
      "Epoch 20/20\n",
      "500/500 [==============================] - 367s 734ms/step - loss: 0.1890 - val_loss: 0.3213\n"
     ]
    }
   ],
   "source": [
    "from tensorflow.keras.models import Sequential\n",
    "from tensorflow.keras import layers, optimizers\n",
    "from tensorflow.keras.optimizers import RMSprop\n",
    "\n",
    "model = Sequential()\n",
    "model.add(layers.GRU(32, \n",
    "                     dropout=0.1,\n",
    "                     recurrent_dropout=0.5,\n",
    "                     return_sequences=True,\n",
    "                     input_shape=(None, float_data.shape[-1])))\n",
    "model.add(layers.GRU(128, \n",
    "                     activation='relu',\n",
    "                     dropout=0.1,\n",
    "                     recurrent_dropout=0.5))\n",
    "model.add(layers.Dense(1))\n",
    "\n",
    "model.compile(optimizer=optimizers.RMSprop(), loss='mae')\n",
    "history = model.fit(train_gen, steps_per_epoch=500, epochs=20, \n",
    "                    validation_data=val_gen, validation_steps=val_steps)"
   ]
  },
  {
   "cell_type": "code",
   "execution_count": 6,
   "id": "50efef24",
   "metadata": {},
   "outputs": [
    {
     "data": {
      "image/png": "[encoded data removed]",
      "text/plain": [
       "<Figure size 432x288 with 1 Axes>"
      ]
     },
     "metadata": {
      "needs_background": "light"
     },
     "output_type": "display_data"
    }
   ],
   "source": [
    "plot_loss(history)"
   ]
  },
  {
   "cell_type": "code",
   "execution_count": 7,
   "id": "c849ff31",
   "metadata": {},
   "outputs": [
    {
     "name": "stdout",
     "output_type": "stream",
     "text": [
      "Epoch 1/20\n",
      "500/500 [==============================] - 500s 994ms/step - loss: 0.3268 - val_loss: 0.2843\n",
      "Epoch 2/20\n",
      "500/500 [==============================] - 505s 1s/step - loss: 0.3021 - val_loss: 0.2739\n",
      "Epoch 3/20\n",
      "500/500 [==============================] - 487s 975ms/step - loss: 0.2899 - val_loss: 0.2897\n",
      "Epoch 4/20\n",
      "500/500 [==============================] - 506s 1s/step - loss: 0.2810 - val_loss: 0.2763\n",
      "Epoch 5/20\n",
      "500/500 [==============================] - 494s 989ms/step - loss: 0.2747 - val_loss: 0.2743\n",
      "Epoch 6/20\n",
      "500/500 [==============================] - 493s 987ms/step - loss: 0.2666 - val_loss: 0.2895\n",
      "Epoch 7/20\n",
      "500/500 [==============================] - 497s 995ms/step - loss: 0.2599 - val_loss: 0.2853\n",
      "Epoch 8/20\n",
      "500/500 [==============================] - 493s 987ms/step - loss: 0.2523 - val_loss: 0.2977\n",
      "Epoch 9/20\n",
      "500/500 [==============================] - 489s 978ms/step - loss: 0.2431 - val_loss: 0.3011\n",
      "Epoch 10/20\n",
      "500/500 [==============================] - 492s 985ms/step - loss: 0.2386 - val_loss: 0.3247\n",
      "Epoch 11/20\n",
      "500/500 [==============================] - 492s 984ms/step - loss: 0.2314 - val_loss: 0.3164\n",
      "Epoch 12/20\n",
      "500/500 [==============================] - 490s 981ms/step - loss: 0.2241 - val_loss: 0.3296\n",
      "Epoch 13/20\n",
      "500/500 [==============================] - 487s 974ms/step - loss: 0.2191 - val_loss: 0.3155\n",
      "Epoch 14/20\n",
      "500/500 [==============================] - 496s 992ms/step - loss: 0.2134 - val_loss: 0.3226\n",
      "Epoch 15/20\n",
      "500/500 [==============================] - 491s 983ms/step - loss: 0.2098 - val_loss: 0.3312\n",
      "Epoch 16/20\n",
      "500/500 [==============================] - 492s 984ms/step - loss: 0.2059 - val_loss: 0.3308\n",
      "Epoch 17/20\n",
      "500/500 [==============================] - 487s 974ms/step - loss: 0.2019 - val_loss: 0.3373\n",
      "Epoch 18/20\n",
      "500/500 [==============================] - 492s 984ms/step - loss: 0.1973 - val_loss: 0.3400\n",
      "Epoch 19/20\n",
      "500/500 [==============================] - 486s 972ms/step - loss: 0.1934 - val_loss: 0.3390\n",
      "Epoch 20/20\n",
      "500/500 [==============================] - 490s 981ms/step - loss: 0.1896 - val_loss: 0.3366\n"
     ]
    }
   ],
   "source": [
    "model = Sequential()\n",
    "model.add(layers.GRU(32, \n",
    "                     dropout=0.1,\n",
    "                     recurrent_dropout=0.5,\n",
    "                     return_sequences=True,\n",
    "                     input_shape=(None, float_data.shape[-1])))\n",
    "model.add(layers.GRU(64, \n",
    "                     activation='relu',\n",
    "                     return_sequences=True,\n",
    "                     dropout=0.1,\n",
    "                     recurrent_dropout=0.5))\n",
    "model.add(layers.GRU(64, \n",
    "                     activation='relu',\n",
    "                     dropout=0.1,\n",
    "                     recurrent_dropout=0.5))\n",
    "model.add(layers.Dense(1))\n",
    "\n",
    "model.compile(optimizer=optimizers.RMSprop(), loss='mae')\n",
    "history = model.fit(train_gen, steps_per_epoch=500, epochs=20, \n",
    "                    validation_data=val_gen, validation_steps=val_steps)"
   ]
  },
  {
   "cell_type": "code",
   "execution_count": 8,
   "id": "ae5c2799",
   "metadata": {},
   "outputs": [
    {
     "data": {
      "image/png": "[encoded data removed]",
      "text/plain": [
       "<Figure size 432x288 with 1 Axes>"
      ]
     },
     "metadata": {
      "needs_background": "light"
     },
     "output_type": "display_data"
    }
   ],
   "source": [
    "plot_loss(history)"
   ]
  },
  {
   "cell_type": "code",
   "execution_count": null,
   "id": "13d5b176",
   "metadata": {},
   "outputs": [],
   "source": []
  }
 ],
 "metadata": {
  "kernelspec": {
   "display_name": "Python 3",
   "language": "python",
   "name": "python3"
  },
  "language_info": {
   "codemirror_mode": {
    "name": "ipython",
    "version": 3
   },
   "file_extension": ".py",
   "mimetype": "text/x-python",
   "name": "python",
   "nbconvert_exporter": "python",
   "pygments_lexer": "ipython3",
   "version": "3.6.13"
  }
 },
 "nbformat": 4,
 "nbformat_minor": 5
}
