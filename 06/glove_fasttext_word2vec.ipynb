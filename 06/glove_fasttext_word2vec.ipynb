{
 "cells": [
  {
   "cell_type": "code",
   "execution_count": 1,
   "id": "697ee1ca",
   "metadata": {},
   "outputs": [],
   "source": [
    "import os\n",
    "\n",
    "imdb_dir = '../datasets/aclImdb'\n",
    "train_dir = os.path.join(imdb_dir, 'train')\n",
    "\n",
    "labels = []\n",
    "texts = []\n",
    "\n",
    "for label_type in ['neg', 'pos']:\n",
    "    dir_name = os.path.join(train_dir, label_type)\n",
    "    for fname in os.listdir(dir_name):\n",
    "        if fname[-4:] == '.txt':\n",
    "            f = open(os.path.join(dir_name, fname), encoding='utf8')\n",
    "            texts.append(f.read())\n",
    "            f.close()\n",
    "            if label_type == 'neg':\n",
    "                labels.append(0)\n",
    "            else:\n",
    "                labels.append(1)"
   ]
  },
  {
   "cell_type": "code",
   "execution_count": 2,
   "id": "f7b014aa",
   "metadata": {},
   "outputs": [],
   "source": [
    "import numpy as np\n",
    "from tensorflow.keras.preprocessing.text import Tokenizer\n",
    "from tensorflow.keras.preprocessing.sequence import pad_sequences\n",
    "\n",
    "maxlen = 100\n",
    "training_samples = 200\n",
    "validation_samples = 10000\n",
    "max_words = 10000\n",
    "\n",
    "tokenizer = Tokenizer(num_words=max_words)\n",
    "tokenizer.fit_on_texts(texts)\n",
    "sequences = tokenizer.texts_to_sequences(texts)\n",
    "\n",
    "word_index = tokenizer.word_index\n",
    "data = pad_sequences(sequences, maxlen=maxlen)\n",
    "labels = np.asarray(labels)\n",
    "\n",
    "indices = np.arange(data.shape[0])\n",
    "np.random.shuffle(indices)\n",
    "data = data[indices]\n",
    "labels = labels[indices]\n",
    "\n",
    "x_train = data[:training_samples]\n",
    "y_train = labels[:training_samples]\n",
    "x_val = data[training_samples: training_samples + validation_samples]\n",
    "y_val = labels[training_samples: training_samples + validation_samples]"
   ]
  },
  {
   "cell_type": "code",
   "execution_count": 3,
   "id": "3853b88d",
   "metadata": {},
   "outputs": [],
   "source": [
    "import matplotlib.pyplot as plt\n",
    "\n",
    "def plot_acc_n_loss(history):\n",
    "    \n",
    "    acc = history.history['acc']\n",
    "    val_acc = history.history['val_acc']\n",
    "    loss = history.history['loss']\n",
    "    val_loss = history.history['val_loss']\n",
    "\n",
    "    epochs = range(1, len(acc) + 1)\n",
    "\n",
    "    plt.plot(epochs, acc, 'bo', label='Training acc')\n",
    "    plt.plot(epochs, val_acc, 'b', label='Validation acc')\n",
    "    plt.title('Training and validation accuracy')\n",
    "    plt.legend()\n",
    "\n",
    "    plt.figure()\n",
    "\n",
    "    plt.plot(epochs, loss, 'bo', label='Training loss')\n",
    "    plt.plot(epochs, val_loss, 'b', label='Validation loss')\n",
    "    plt.title('Training and validation loss')\n",
    "    plt.legend()\n",
    "\n",
    "    plt.show()"
   ]
  },
  {
   "cell_type": "markdown",
   "id": "85403fe6",
   "metadata": {},
   "source": [
    "Glove 300d"
   ]
  },
  {
   "cell_type": "code",
   "execution_count": 4,
   "id": "a763c878",
   "metadata": {},
   "outputs": [
    {
     "data": {
      "text/plain": [
       "400000"
      ]
     },
     "execution_count": 4,
     "metadata": {},
     "output_type": "execute_result"
    }
   ],
   "source": [
    "glove_dir = '../datasets/glove.6B'\n",
    "\n",
    "embeddings_index = {}\n",
    "f = open(os.path.join(glove_dir, 'glove.6B.300d.txt'), encoding='utf8')\n",
    "for line in f:\n",
    "    values = line.split()\n",
    "    word = values[0]\n",
    "    coefs = np.asarray(values[1:], dtype='float32')\n",
    "    embeddings_index[word] = coefs\n",
    "f.close()\n",
    "len(embeddings_index)"
   ]
  },
  {
   "cell_type": "code",
   "execution_count": 5,
   "id": "86d83a1e",
   "metadata": {},
   "outputs": [],
   "source": [
    "embedding_dim = 300\n",
    "\n",
    "embedding_matrix = np.zeros((max_words, embedding_dim))\n",
    "for word, i in word_index.items():\n",
    "    embedding_vector = embeddings_index.get(word)\n",
    "    if i < max_words:\n",
    "        if embedding_vector is not None:\n",
    "            embedding_matrix[i] = embedding_vector"
   ]
  },
  {
   "cell_type": "code",
   "execution_count": 6,
   "id": "525e4bd0",
   "metadata": {},
   "outputs": [
    {
     "name": "stdout",
     "output_type": "stream",
     "text": [
      "Epoch 1/10\n",
      "7/7 [==============================] - 1s 109ms/step - loss: 1.7266 - acc: 0.4850 - val_loss: 0.6873 - val_acc: 0.5465\n",
      "Epoch 2/10\n",
      "7/7 [==============================] - 1s 92ms/step - loss: 0.3995 - acc: 0.8500 - val_loss: 1.0220 - val_acc: 0.5132\n",
      "Epoch 3/10\n",
      "7/7 [==============================] - 1s 96ms/step - loss: 0.2378 - acc: 0.9200 - val_loss: 0.7283 - val_acc: 0.5413\n",
      "Epoch 4/10\n",
      "7/7 [==============================] - 1s 91ms/step - loss: 0.0787 - acc: 0.9900 - val_loss: 0.7925 - val_acc: 0.5532\n",
      "Epoch 5/10\n",
      "7/7 [==============================] - 1s 90ms/step - loss: 0.0288 - acc: 1.0000 - val_loss: 0.8876 - val_acc: 0.5647\n",
      "Epoch 6/10\n",
      "7/7 [==============================] - 1s 89ms/step - loss: 0.0107 - acc: 1.0000 - val_loss: 0.7702 - val_acc: 0.5831\n",
      "Epoch 7/10\n",
      "7/7 [==============================] - 1s 92ms/step - loss: 0.0043 - acc: 1.0000 - val_loss: 0.7824 - val_acc: 0.5851\n",
      "Epoch 8/10\n",
      "7/7 [==============================] - 1s 90ms/step - loss: 0.0024 - acc: 1.0000 - val_loss: 0.9052 - val_acc: 0.5695\n",
      "Epoch 9/10\n",
      "7/7 [==============================] - 1s 90ms/step - loss: 0.0016 - acc: 1.0000 - val_loss: 0.8629 - val_acc: 0.5773\n",
      "Epoch 10/10\n",
      "7/7 [==============================] - 1s 89ms/step - loss: 9.6538e-04 - acc: 1.0000 - val_loss: 0.9074 - val_acc: 0.5741\n"
     ]
    }
   ],
   "source": [
    "from tensorflow.keras.models import Sequential\n",
    "from tensorflow.keras.layers import Embedding, Dense, Flatten\n",
    "\n",
    "model = Sequential()\n",
    "model.add(Embedding(max_words, embedding_dim, input_length=maxlen))\n",
    "model.add(Flatten())\n",
    "model.add(Dense(32, activation='relu'))\n",
    "model.add(Dense(1, activation='sigmoid'))\n",
    "\n",
    "model.layers[0].set_weights([embedding_matrix])\n",
    "model.layers[0].trainable = False\n",
    "\n",
    "model.compile(optimizer='rmsprop', loss='binary_crossentropy', metrics=['acc'])\n",
    "history = model.fit(x_train, y_train, \n",
    "                    epochs=10, batch_size=32, \n",
    "                    validation_data=(x_val, y_val))"
   ]
  },
  {
   "cell_type": "code",
   "execution_count": 7,
   "id": "7920eb86",
   "metadata": {},
   "outputs": [
    {
     "data": {
      "image/png": "[encoded data removed]",
      "text/plain": [
       "<Figure size 432x288 with 1 Axes>"
      ]
     },
     "metadata": {
      "needs_background": "light"
     },
     "output_type": "display_data"
    },
    {
     "data": {
      "image/png": "[encoded data removed]",
      "text/plain": [
       "<Figure size 432x288 with 1 Axes>"
      ]
     },
     "metadata": {
      "needs_background": "light"
     },
     "output_type": "display_data"
    }
   ],
   "source": [
    "plot_acc_n_loss(history)"
   ]
  },
  {
   "cell_type": "markdown",
   "id": "13383a55",
   "metadata": {},
   "source": [
    "Fasttext 300d"
   ]
  },
  {
   "cell_type": "code",
   "execution_count": 8,
   "id": "01363f7f",
   "metadata": {},
   "outputs": [
    {
     "data": {
      "text/plain": [
       "2000000"
      ]
     },
     "execution_count": 8,
     "metadata": {},
     "output_type": "execute_result"
    }
   ],
   "source": [
    "fasttext_dir = '../datasets/fasttext'\n",
    "\n",
    "embeddings_index = {}\n",
    "f = open(os.path.join(fasttext_dir, 'cc.en.300.vec'), encoding='utf8')\n",
    "for line in f:\n",
    "    values = line.split()\n",
    "    word = values[0]\n",
    "    coefs = np.asarray(values[1:], dtype='float32')\n",
    "    embeddings_index[word] = coefs\n",
    "f.close()\n",
    "len(embeddings_index)"
   ]
  },
  {
   "cell_type": "code",
   "execution_count": 9,
   "id": "c6cb6d7b",
   "metadata": {},
   "outputs": [],
   "source": [
    "embedding_dim = 300\n",
    "\n",
    "embedding_matrix = np.zeros((max_words, embedding_dim))\n",
    "for word, i in word_index.items():\n",
    "    embedding_vector = embeddings_index.get(word)\n",
    "    if i < max_words:\n",
    "        if embedding_vector is not None:\n",
    "            embedding_matrix[i] = embedding_vector"
   ]
  },
  {
   "cell_type": "code",
   "execution_count": 10,
   "id": "d14c3469",
   "metadata": {},
   "outputs": [
    {
     "name": "stdout",
     "output_type": "stream",
     "text": [
      "Epoch 1/10\n",
      "7/7 [==============================] - 1s 134ms/step - loss: 0.7809 - acc: 0.5100 - val_loss: 0.7172 - val_acc: 0.4929\n",
      "Epoch 2/10\n",
      "7/7 [==============================] - 1s 130ms/step - loss: 0.4455 - acc: 0.7900 - val_loss: 0.9850 - val_acc: 0.4968\n",
      "Epoch 3/10\n",
      "7/7 [==============================] - 1s 131ms/step - loss: 0.1965 - acc: 0.9500 - val_loss: 0.8195 - val_acc: 0.5311\n",
      "Epoch 4/10\n",
      "7/7 [==============================] - 1s 131ms/step - loss: 0.0590 - acc: 1.0000 - val_loss: 0.8698 - val_acc: 0.5369\n",
      "Epoch 5/10\n",
      "7/7 [==============================] - 1s 128ms/step - loss: 0.0224 - acc: 1.0000 - val_loss: 0.9577 - val_acc: 0.5328\n",
      "Epoch 6/10\n",
      "7/7 [==============================] - 1s 130ms/step - loss: 0.0123 - acc: 1.0000 - val_loss: 0.9497 - val_acc: 0.5386\n",
      "Epoch 7/10\n",
      "7/7 [==============================] - 1s 129ms/step - loss: 0.0070 - acc: 1.0000 - val_loss: 0.9928 - val_acc: 0.5390\n",
      "Epoch 8/10\n",
      "7/7 [==============================] - 1s 128ms/step - loss: 0.0042 - acc: 1.0000 - val_loss: 1.0285 - val_acc: 0.5395\n",
      "Epoch 9/10\n",
      "7/7 [==============================] - 1s 124ms/step - loss: 0.0026 - acc: 1.0000 - val_loss: 1.0349 - val_acc: 0.5465\n",
      "Epoch 10/10\n",
      "7/7 [==============================] - 1s 125ms/step - loss: 0.0017 - acc: 1.0000 - val_loss: 1.0983 - val_acc: 0.5380\n"
     ]
    }
   ],
   "source": [
    "model = Sequential()\n",
    "model.add(Embedding(max_words, embedding_dim, input_length=maxlen))\n",
    "model.add(Flatten())\n",
    "model.add(Dense(32, activation='relu'))\n",
    "model.add(Dense(1, activation='sigmoid'))\n",
    "\n",
    "model.layers[0].set_weights([embedding_matrix])\n",
    "model.layers[0].trainable = False\n",
    "\n",
    "model.compile(optimizer='rmsprop', loss='binary_crossentropy', metrics=['acc'])\n",
    "history = model.fit(x_train, y_train, \n",
    "                    epochs=10, batch_size=32, \n",
    "                    validation_data=(x_val, y_val))"
   ]
  },
  {
   "cell_type": "code",
   "execution_count": 11,
   "id": "ce22f584",
   "metadata": {},
   "outputs": [
    {
     "data": {
      "image/png": "[encoded data removed]",
      "text/plain": [
       "<Figure size 432x288 with 1 Axes>"
      ]
     },
     "metadata": {
      "needs_background": "light"
     },
     "output_type": "display_data"
    },
    {
     "data": {
      "image/png": "[encoded data removed]",
      "text/plain": [
       "<Figure size 432x288 with 1 Axes>"
      ]
     },
     "metadata": {
      "needs_background": "light"
     },
     "output_type": "display_data"
    }
   ],
   "source": [
    "plot_acc_n_loss(history)"
   ]
  },
  {
   "cell_type": "markdown",
   "id": "d4644be2",
   "metadata": {},
   "source": [
    "Word2vec 300d"
   ]
  },
  {
   "cell_type": "code",
   "execution_count": 12,
   "id": "8c278fa7",
   "metadata": {},
   "outputs": [],
   "source": [
    "from gensim.models import KeyedVectors\n",
    "\n",
    "wv = KeyedVectors.load_word2vec_format('../datasets/word2vec/GoogleNews-vectors-negative300.bin', binary=True)"
   ]
  },
  {
   "cell_type": "code",
   "execution_count": 13,
   "id": "ef859bb0",
   "metadata": {},
   "outputs": [],
   "source": [
    "embedding_dim = 300\n",
    "\n",
    "embedding_matrix = np.zeros((max_words, embedding_dim))\n",
    "for word, i in word_index.items():\n",
    "    if word in wv:\n",
    "        embedding_vector = wv[word]\n",
    "    if i < max_words:\n",
    "        if embedding_vector is not None:\n",
    "            embedding_matrix[i] = embedding_vector"
   ]
  },
  {
   "cell_type": "code",
   "execution_count": 14,
   "id": "ab49331c",
   "metadata": {},
   "outputs": [
    {
     "name": "stdout",
     "output_type": "stream",
     "text": [
      "Epoch 1/10\n",
      "7/7 [==============================] - 1s 133ms/step - loss: 0.9812 - acc: 0.4800 - val_loss: 0.6977 - val_acc: 0.4899\n",
      "Epoch 2/10\n",
      "7/7 [==============================] - 1s 123ms/step - loss: 0.4952 - acc: 0.7200 - val_loss: 0.7049 - val_acc: 0.5198\n",
      "Epoch 3/10\n",
      "7/7 [==============================] - 1s 123ms/step - loss: 0.2457 - acc: 0.9600 - val_loss: 0.6748 - val_acc: 0.5691\n",
      "Epoch 4/10\n",
      "7/7 [==============================] - 1s 114ms/step - loss: 0.1162 - acc: 0.9950 - val_loss: 0.9793 - val_acc: 0.4933\n",
      "Epoch 5/10\n",
      "7/7 [==============================] - 1s 114ms/step - loss: 0.0483 - acc: 1.0000 - val_loss: 0.6899 - val_acc: 0.5881\n",
      "Epoch 6/10\n",
      "7/7 [==============================] - 1s 115ms/step - loss: 0.0216 - acc: 1.0000 - val_loss: 0.7050 - val_acc: 0.5862\n",
      "Epoch 7/10\n",
      "7/7 [==============================] - 1s 113ms/step - loss: 0.0111 - acc: 1.0000 - val_loss: 0.7088 - val_acc: 0.5856\n",
      "Epoch 8/10\n",
      "7/7 [==============================] - 1s 114ms/step - loss: 0.0061 - acc: 1.0000 - val_loss: 0.7367 - val_acc: 0.5867\n",
      "Epoch 9/10\n",
      "7/7 [==============================] - 1s 115ms/step - loss: 0.0040 - acc: 1.0000 - val_loss: 0.8197 - val_acc: 0.5572\n",
      "Epoch 10/10\n",
      "7/7 [==============================] - 1s 114ms/step - loss: 0.0023 - acc: 1.0000 - val_loss: 0.7541 - val_acc: 0.5788\n"
     ]
    }
   ],
   "source": [
    "model = Sequential()\n",
    "model.add(Embedding(max_words, embedding_dim, input_length=maxlen))\n",
    "model.add(Flatten())\n",
    "model.add(Dense(32, activation='relu'))\n",
    "model.add(Dense(1, activation='sigmoid'))\n",
    "\n",
    "model.layers[0].set_weights([embedding_matrix])\n",
    "model.layers[0].trainable = False\n",
    "\n",
    "model.compile(optimizer='rmsprop', loss='binary_crossentropy', metrics=['acc'])\n",
    "history = model.fit(x_train, y_train, \n",
    "                    epochs=10, batch_size=32, \n",
    "                    validation_data=(x_val, y_val))"
   ]
  },
  {
   "cell_type": "code",
   "execution_count": 15,
   "id": "41940ffc",
   "metadata": {},
   "outputs": [
    {
     "data": {
      "image/png": "[encoded data removed]",
      "text/plain": [
       "<Figure size 432x288 with 1 Axes>"
      ]
     },
     "metadata": {
      "needs_background": "light"
     },
     "output_type": "display_data"
    },
    {
     "data": {
      "image/png": "[encoded data removed]",
      "text/plain": [
       "<Figure size 432x288 with 1 Axes>"
      ]
     },
     "metadata": {
      "needs_background": "light"
     },
     "output_type": "display_data"
    }
   ],
   "source": [
    "plot_acc_n_loss(history)"
   ]
  },
  {
   "cell_type": "code",
   "execution_count": null,
   "id": "eb7ffe01",
   "metadata": {},
   "outputs": [],
   "source": []
  }
 ],
 "metadata": {
  "kernelspec": {
   "display_name": "Python 3",
   "language": "python",
   "name": "python3"
  },
  "language_info": {
   "codemirror_mode": {
    "name": "ipython",
    "version": 3
   },
   "file_extension": ".py",
   "mimetype": "text/x-python",
   "name": "python",
   "nbconvert_exporter": "python",
   "pygments_lexer": "ipython3",
   "version": "3.6.13"
  }
 },
 "nbformat": 4,
 "nbformat_minor": 5
}
