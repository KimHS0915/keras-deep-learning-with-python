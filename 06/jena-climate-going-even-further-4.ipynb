{
 "cells": [
  {
   "cell_type": "code",
   "execution_count": 1,
   "id": "8cb1a5a8",
   "metadata": {},
   "outputs": [],
   "source": [
    "import os\n",
    "import numpy as np\n",
    "\n",
    "data_dir = '../datasets/jena_climate/'\n",
    "fname = os.path.join(data_dir, 'jena_climate_2009_2016.csv')\n",
    "\n",
    "with open(fname) as f:\n",
    "    data = f.read()\n",
    "\n",
    "lines = data.split('\\n')\n",
    "header = lines[0].split(',')\n",
    "lines = lines[1:]\n",
    "\n",
    "float_data = np.zeros((len(lines), len(header) - 1))\n",
    "\n",
    "for i, line in enumerate(lines):\n",
    "    values = [float(x) for x in line.split(',')[1:]]\n",
    "    float_data[i, :] = values\n",
    "    \n",
    "mean = float_data[:200000].mean(axis=0)\n",
    "float_data -= mean\n",
    "std = float_data[:200000].std(axis=0)\n",
    "float_data /= std"
   ]
  },
  {
   "cell_type": "code",
   "execution_count": 2,
   "id": "c1c6e508",
   "metadata": {},
   "outputs": [],
   "source": [
    "def generator(data, lookback, delay, min_index, max_index, \n",
    "              shuffle=False, batch_size=128, step=6):\n",
    "    if max_index is None:\n",
    "        max_index = len(data) - delay - 1\n",
    "    i = min_index + lookback\n",
    "    while 1:\n",
    "        if shuffle:\n",
    "            rows = np.random.randint(\n",
    "                min_index + lookback, max_index, size=batch_size)\n",
    "        else:\n",
    "            if i + batch_size >= max_index:\n",
    "                i = min_index + lookback\n",
    "            rows = np.arange(i, min(i + batch_size, max_index))\n",
    "            i += len(rows)\n",
    "        \n",
    "        samples = np.zeros((len(rows), lookback // step, data.shape[-1]))\n",
    "        targets = np.zeros((len(rows),))\n",
    "        \n",
    "        for j, row in enumerate(rows):\n",
    "            indices = range(rows[j] - lookback, rows[j], step)\n",
    "            samples[j] = data[indices]\n",
    "            targets[j] = data[rows[j] + delay][1]\n",
    "        \n",
    "        yield samples, targets"
   ]
  },
  {
   "cell_type": "code",
   "execution_count": 3,
   "id": "dec17521",
   "metadata": {},
   "outputs": [],
   "source": [
    "lookback = 1440\n",
    "step = 6\n",
    "delay = 144\n",
    "batch_size = 128\n",
    "\n",
    "train_gen = generator(float_data, \n",
    "                      lookback=lookback, \n",
    "                      delay=delay, \n",
    "                      min_index=0, \n",
    "                      max_index=200000, \n",
    "                      shuffle=True, \n",
    "                      step=step, \n",
    "                      batch_size=batch_size)\n",
    "val_gen = generator(float_data, \n",
    "                    lookback=lookback, \n",
    "                    delay=delay, \n",
    "                    min_index=200001, \n",
    "                    max_index=300000, \n",
    "                    step=step, \n",
    "                    batch_size=batch_size)\n",
    "test_gen = generator(float_data, \n",
    "                     lookback=lookback, \n",
    "                     delay=delay, \n",
    "                     min_index=300001, \n",
    "                     max_index=None, \n",
    "                     step=step, \n",
    "                     batch_size=batch_size)\n",
    "\n",
    "val_steps = (300000 - 200001 - lookback) // batch_size\n",
    "test_steps = (len(float_data) - 300001 - lookback) // batch_size"
   ]
  },
  {
   "cell_type": "code",
   "execution_count": 4,
   "id": "e8f9d719",
   "metadata": {},
   "outputs": [],
   "source": [
    "import matplotlib.pyplot as plt\n",
    "\n",
    "def plot_loss(history):\n",
    "    loss = history.history['loss']\n",
    "    val_loss = history.history['val_loss']\n",
    "    epochs = range(1, len(loss) + 1)\n",
    "    plt.figure()\n",
    "    plt.plot(epochs, loss, 'bo', label='Training loss')\n",
    "    plt.plot(epochs, val_loss, 'b', label='Validation loss')\n",
    "    plt.title('Training and validation loss')\n",
    "    plt.legend()\n",
    "    plt.show()"
   ]
  },
  {
   "cell_type": "code",
   "execution_count": 5,
   "id": "7b2fb773",
   "metadata": {},
   "outputs": [
    {
     "name": "stdout",
     "output_type": "stream",
     "text": [
      "Epoch 1/20\n",
      "500/500 [==============================] - 50s 98ms/step - loss: 0.3357 - val_loss: 0.2774\n",
      "Epoch 2/20\n",
      "500/500 [==============================] - 49s 98ms/step - loss: 0.2910 - val_loss: 0.2736\n",
      "Epoch 3/20\n",
      "500/500 [==============================] - 50s 100ms/step - loss: 0.2853 - val_loss: 0.2681\n",
      "Epoch 4/20\n",
      "500/500 [==============================] - 50s 101ms/step - loss: 0.2820 - val_loss: 0.2694\n",
      "Epoch 5/20\n",
      "500/500 [==============================] - 50s 99ms/step - loss: 0.2756 - val_loss: 0.2687\n",
      "Epoch 6/20\n",
      "500/500 [==============================] - 48s 96ms/step - loss: 0.2740 - val_loss: 0.2629\n",
      "Epoch 7/20\n",
      "500/500 [==============================] - 49s 99ms/step - loss: 0.2716 - val_loss: 0.2626\n",
      "Epoch 8/20\n",
      "500/500 [==============================] - 50s 100ms/step - loss: 0.2697 - val_loss: 0.2640\n",
      "Epoch 9/20\n",
      "500/500 [==============================] - 47s 95ms/step - loss: 0.2658 - val_loss: 0.2624\n",
      "Epoch 10/20\n",
      "500/500 [==============================] - 46s 91ms/step - loss: 0.2629 - val_loss: 0.2614\n",
      "Epoch 11/20\n",
      "500/500 [==============================] - 46s 92ms/step - loss: 0.2628 - val_loss: 0.2616\n",
      "Epoch 12/20\n",
      "500/500 [==============================] - 47s 93ms/step - loss: 0.2610 - val_loss: 0.2654\n",
      "Epoch 13/20\n",
      "500/500 [==============================] - 46s 91ms/step - loss: 0.2579 - val_loss: 0.2625\n",
      "Epoch 14/20\n",
      "500/500 [==============================] - 46s 92ms/step - loss: 0.2580 - val_loss: 0.2625\n",
      "Epoch 15/20\n",
      "500/500 [==============================] - 46s 93ms/step - loss: 0.2543 - val_loss: 0.2625\n",
      "Epoch 16/20\n",
      "500/500 [==============================] - 46s 92ms/step - loss: 0.2526 - val_loss: 0.2646\n",
      "Epoch 17/20\n",
      "500/500 [==============================] - 46s 92ms/step - loss: 0.2520 - val_loss: 0.2670\n",
      "Epoch 18/20\n",
      "500/500 [==============================] - 46s 92ms/step - loss: 0.2484 - val_loss: 0.2691\n",
      "Epoch 19/20\n",
      "500/500 [==============================] - 46s 92ms/step - loss: 0.2465 - val_loss: 0.2660\n",
      "Epoch 20/20\n",
      "500/500 [==============================] - 46s 93ms/step - loss: 0.2452 - val_loss: 0.2679\n"
     ]
    }
   ],
   "source": [
    "from tensorflow.keras.models import Sequential\n",
    "from tensorflow.keras import layers, optimizers\n",
    "from tensorflow.keras.optimizers import RMSprop\n",
    "\n",
    "model = Sequential()\n",
    "model.add(layers.GRU(32, input_shape=(None, float_data.shape[-1])))\n",
    "model.add(layers.Dense(32, activation='relu'))\n",
    "model.add(layers.Dense(1))\n",
    "\n",
    "model.compile(optimizer=optimizers.RMSprop(learning_rate=0.0005), loss='mae')\n",
    "history = model.fit(train_gen, steps_per_epoch=500, epochs=20, \n",
    "                    validation_data=val_gen, validation_steps=val_steps)"
   ]
  },
  {
   "cell_type": "code",
   "execution_count": 6,
   "id": "9bcf612c",
   "metadata": {},
   "outputs": [
    {
     "data": {
      "image/png": "[encoded data removed]",
      "text/plain": [
       "<Figure size 432x288 with 1 Axes>"
      ]
     },
     "metadata": {
      "needs_background": "light"
     },
     "output_type": "display_data"
    }
   ],
   "source": [
    "plot_loss(history)"
   ]
  },
  {
   "cell_type": "code",
   "execution_count": 7,
   "id": "48b90572",
   "metadata": {},
   "outputs": [
    {
     "name": "stdout",
     "output_type": "stream",
     "text": [
      "Epoch 1/20\n",
      "500/500 [==============================] - 49s 96ms/step - loss: 0.3046 - val_loss: 0.2740\n",
      "Epoch 2/20\n",
      "500/500 [==============================] - 47s 94ms/step - loss: 0.2877 - val_loss: 0.2705\n",
      "Epoch 3/20\n",
      "500/500 [==============================] - 47s 95ms/step - loss: 0.2806 - val_loss: 0.2636\n",
      "Epoch 4/20\n",
      "500/500 [==============================] - 47s 93ms/step - loss: 0.2763 - val_loss: 0.2622\n",
      "Epoch 5/20\n",
      "500/500 [==============================] - 46s 93ms/step - loss: 0.2737 - val_loss: 0.2646\n",
      "Epoch 6/20\n",
      "500/500 [==============================] - 47s 94ms/step - loss: 0.2673 - val_loss: 0.2618\n",
      "Epoch 7/20\n",
      "500/500 [==============================] - 47s 94ms/step - loss: 0.2649 - val_loss: 0.2637\n",
      "Epoch 8/20\n",
      "500/500 [==============================] - 46s 92ms/step - loss: 0.2632 - val_loss: 0.2613\n",
      "Epoch 9/20\n",
      "500/500 [==============================] - 46s 93ms/step - loss: 0.2591 - val_loss: 0.2715\n",
      "Epoch 10/20\n",
      "500/500 [==============================] - 47s 94ms/step - loss: 0.2575 - val_loss: 0.2683\n",
      "Epoch 11/20\n",
      "500/500 [==============================] - 47s 94ms/step - loss: 0.2563 - val_loss: 0.2681\n",
      "Epoch 12/20\n",
      "500/500 [==============================] - 47s 94ms/step - loss: 0.2529 - val_loss: 0.2677\n",
      "Epoch 13/20\n",
      "500/500 [==============================] - 46s 93ms/step - loss: 0.2506 - val_loss: 0.2702\n",
      "Epoch 14/20\n",
      "500/500 [==============================] - 47s 93ms/step - loss: 0.2478 - val_loss: 0.2698\n",
      "Epoch 15/20\n",
      "500/500 [==============================] - 48s 95ms/step - loss: 0.2472 - val_loss: 0.2689\n",
      "Epoch 16/20\n",
      "500/500 [==============================] - 48s 96ms/step - loss: 0.2456 - val_loss: 0.2699\n",
      "Epoch 17/20\n",
      "500/500 [==============================] - 47s 94ms/step - loss: 0.2438 - val_loss: 0.2716\n",
      "Epoch 18/20\n",
      "500/500 [==============================] - 48s 96ms/step - loss: 0.2428 - val_loss: 0.2714\n",
      "Epoch 19/20\n",
      "500/500 [==============================] - 47s 95ms/step - loss: 0.2403 - val_loss: 0.2721\n",
      "Epoch 20/20\n",
      "500/500 [==============================] - 47s 94ms/step - loss: 0.2384 - val_loss: 0.2769\n"
     ]
    }
   ],
   "source": [
    "model = Sequential()\n",
    "model.add(layers.GRU(32, input_shape=(None, float_data.shape[-1])))\n",
    "model.add(layers.Dense(32, activation='relu'))\n",
    "model.add(layers.Dense(32, activation='relu'))\n",
    "model.add(layers.Dense(1))\n",
    "\n",
    "model.compile(optimizer=optimizers.RMSprop(learning_rate=0.0005), loss='mae')\n",
    "history = model.fit(train_gen, steps_per_epoch=500, epochs=20, \n",
    "                    validation_data=val_gen, validation_steps=val_steps)"
   ]
  },
  {
   "cell_type": "code",
   "execution_count": 8,
   "id": "c3018d9a",
   "metadata": {},
   "outputs": [
    {
     "data": {
      "image/png": "[encoded data removed]",
      "text/plain": [
       "<Figure size 432x288 with 1 Axes>"
      ]
     },
     "metadata": {
      "needs_background": "light"
     },
     "output_type": "display_data"
    }
   ],
   "source": [
    "plot_loss(history)"
   ]
  },
  {
   "cell_type": "code",
   "execution_count": 9,
   "id": "9d4c2b48",
   "metadata": {},
   "outputs": [
    {
     "name": "stdout",
     "output_type": "stream",
     "text": [
      "Epoch 1/20\n",
      "500/500 [==============================] - 49s 97ms/step - loss: 0.3131 - val_loss: 0.2779\n",
      "Epoch 2/20\n",
      "500/500 [==============================] - 47s 95ms/step - loss: 0.2860 - val_loss: 0.2697\n",
      "Epoch 3/20\n",
      "500/500 [==============================] - 49s 98ms/step - loss: 0.2794 - val_loss: 0.2694\n",
      "Epoch 4/20\n",
      "500/500 [==============================] - 47s 94ms/step - loss: 0.2770 - val_loss: 0.2640\n",
      "Epoch 5/20\n",
      "500/500 [==============================] - 47s 95ms/step - loss: 0.2739 - val_loss: 0.2626\n",
      "Epoch 6/20\n",
      "500/500 [==============================] - 47s 93ms/step - loss: 0.2689 - val_loss: 0.2622\n",
      "Epoch 7/20\n",
      "500/500 [==============================] - 47s 93ms/step - loss: 0.2673 - val_loss: 0.2642\n",
      "Epoch 8/20\n",
      "500/500 [==============================] - 47s 94ms/step - loss: 0.2663 - val_loss: 0.2613\n",
      "Epoch 9/20\n",
      "500/500 [==============================] - 47s 95ms/step - loss: 0.2648 - val_loss: 0.2661\n",
      "Epoch 10/20\n",
      "500/500 [==============================] - 48s 97ms/step - loss: 0.2612 - val_loss: 0.2615\n",
      "Epoch 11/20\n",
      "500/500 [==============================] - 48s 96ms/step - loss: 0.2586 - val_loss: 0.2712\n",
      "Epoch 12/20\n",
      "500/500 [==============================] - 49s 98ms/step - loss: 0.2561 - val_loss: 0.2666\n",
      "Epoch 13/20\n",
      "500/500 [==============================] - 49s 98ms/step - loss: 0.2545 - val_loss: 0.2719\n",
      "Epoch 14/20\n",
      "500/500 [==============================] - 49s 98ms/step - loss: 0.2541 - val_loss: 0.2681\n",
      "Epoch 15/20\n",
      "500/500 [==============================] - 48s 96ms/step - loss: 0.2515 - val_loss: 0.2701\n",
      "Epoch 16/20\n",
      "500/500 [==============================] - 49s 98ms/step - loss: 0.2479 - val_loss: 0.2691\n",
      "Epoch 17/20\n",
      "500/500 [==============================] - 49s 98ms/step - loss: 0.2464 - val_loss: 0.2689\n",
      "Epoch 18/20\n",
      "500/500 [==============================] - 50s 99ms/step - loss: 0.2440 - val_loss: 0.2768\n",
      "Epoch 19/20\n",
      "500/500 [==============================] - 50s 100ms/step - loss: 0.2403 - val_loss: 0.2709\n",
      "Epoch 20/20\n",
      "500/500 [==============================] - 51s 103ms/step - loss: 0.2394 - val_loss: 0.2722\n"
     ]
    }
   ],
   "source": [
    "model = Sequential()\n",
    "model.add(layers.GRU(32, input_shape=(None, float_data.shape[-1])))\n",
    "model.add(layers.Dense(64, activation='relu'))\n",
    "model.add(layers.Dense(1))\n",
    "\n",
    "model.compile(optimizer=optimizers.RMSprop(learning_rate=0.0005), loss='mae')\n",
    "history = model.fit(train_gen, steps_per_epoch=500, epochs=20, \n",
    "                    validation_data=val_gen, validation_steps=val_steps)"
   ]
  },
  {
   "cell_type": "code",
   "execution_count": 10,
   "id": "80e9581f",
   "metadata": {},
   "outputs": [
    {
     "data": {
      "image/png": "[encoded data removed]",
      "text/plain": [
       "<Figure size 432x288 with 1 Axes>"
      ]
     },
     "metadata": {
      "needs_background": "light"
     },
     "output_type": "display_data"
    }
   ],
   "source": [
    "plot_loss(history)"
   ]
  },
  {
   "cell_type": "code",
   "execution_count": 11,
   "id": "beccc859",
   "metadata": {},
   "outputs": [
    {
     "name": "stdout",
     "output_type": "stream",
     "text": [
      "Epoch 1/20\n",
      "500/500 [==============================] - 53s 104ms/step - loss: 0.3065 - val_loss: 0.2750\n",
      "Epoch 2/20\n",
      "500/500 [==============================] - 51s 101ms/step - loss: 0.2832 - val_loss: 0.2709\n",
      "Epoch 3/20\n",
      "500/500 [==============================] - 51s 102ms/step - loss: 0.2775 - val_loss: 0.2662\n",
      "Epoch 4/20\n",
      "500/500 [==============================] - 50s 99ms/step - loss: 0.2736 - val_loss: 0.2681\n",
      "Epoch 5/20\n",
      "500/500 [==============================] - 50s 100ms/step - loss: 0.2691 - val_loss: 0.2700\n",
      "Epoch 6/20\n",
      "500/500 [==============================] - 50s 100ms/step - loss: 0.2662 - val_loss: 0.2675\n",
      "Epoch 7/20\n",
      "500/500 [==============================] - 50s 99ms/step - loss: 0.2629 - val_loss: 0.2684\n",
      "Epoch 8/20\n",
      "500/500 [==============================] - 49s 99ms/step - loss: 0.2594 - val_loss: 0.2758\n",
      "Epoch 9/20\n",
      "500/500 [==============================] - 50s 101ms/step - loss: 0.2559 - val_loss: 0.2670\n",
      "Epoch 10/20\n",
      "500/500 [==============================] - 51s 102ms/step - loss: 0.2533 - val_loss: 0.2697\n",
      "Epoch 11/20\n",
      "500/500 [==============================] - 53s 107ms/step - loss: 0.2530 - val_loss: 0.2720\n",
      "Epoch 12/20\n",
      "500/500 [==============================] - 54s 108ms/step - loss: 0.2489 - val_loss: 0.2716\n",
      "Epoch 13/20\n",
      "500/500 [==============================] - 54s 107ms/step - loss: 0.2441 - val_loss: 0.2748\n",
      "Epoch 14/20\n",
      "500/500 [==============================] - 54s 107ms/step - loss: 0.2426 - val_loss: 0.2730\n",
      "Epoch 15/20\n",
      "500/500 [==============================] - 51s 102ms/step - loss: 0.2386 - val_loss: 0.2836\n",
      "Epoch 16/20\n",
      "500/500 [==============================] - 54s 108ms/step - loss: 0.2362 - val_loss: 0.2776\n",
      "Epoch 17/20\n",
      "500/500 [==============================] - 52s 105ms/step - loss: 0.2329 - val_loss: 0.2832\n",
      "Epoch 18/20\n",
      "500/500 [==============================] - 53s 106ms/step - loss: 0.2306 - val_loss: 0.2852\n",
      "Epoch 19/20\n",
      "500/500 [==============================] - 51s 103ms/step - loss: 0.2284 - val_loss: 0.2849\n",
      "Epoch 20/20\n",
      "500/500 [==============================] - 52s 104ms/step - loss: 0.2259 - val_loss: 0.2894\n"
     ]
    }
   ],
   "source": [
    "model = Sequential()\n",
    "model.add(layers.GRU(32, input_shape=(None, float_data.shape[-1])))\n",
    "model.add(layers.Dense(64, activation='relu'))\n",
    "model.add(layers.Dense(64, activation='relu'))\n",
    "model.add(layers.Dense(1))\n",
    "\n",
    "model.compile(optimizer=optimizers.RMSprop(learning_rate=0.0005), loss='mae')\n",
    "history = model.fit(train_gen, steps_per_epoch=500, epochs=20, \n",
    "                    validation_data=val_gen, validation_steps=val_steps)"
   ]
  },
  {
   "cell_type": "code",
   "execution_count": 12,
   "id": "0e8c7809",
   "metadata": {},
   "outputs": [
    {
     "data": {
      "image/png": "[encoded data removed]",
      "text/plain": [
       "<Figure size 432x288 with 1 Axes>"
      ]
     },
     "metadata": {
      "needs_background": "light"
     },
     "output_type": "display_data"
    }
   ],
   "source": [
    "plot_loss(history)"
   ]
  },
  {
   "cell_type": "code",
   "execution_count": 13,
   "id": "b329b447",
   "metadata": {},
   "outputs": [
    {
     "name": "stdout",
     "output_type": "stream",
     "text": [
      "Epoch 1/20\n",
      "500/500 [==============================] - 55s 107ms/step - loss: 0.3063 - val_loss: 0.2770\n",
      "Epoch 2/20\n",
      "500/500 [==============================] - 53s 105ms/step - loss: 0.2859 - val_loss: 0.2732\n",
      "Epoch 3/20\n",
      "500/500 [==============================] - 53s 106ms/step - loss: 0.2810 - val_loss: 0.2665\n",
      "Epoch 4/20\n",
      "500/500 [==============================] - 54s 109ms/step - loss: 0.2784 - val_loss: 0.2664\n",
      "Epoch 5/20\n",
      "500/500 [==============================] - 55s 110ms/step - loss: 0.2748 - val_loss: 0.2662\n",
      "Epoch 6/20\n",
      "500/500 [==============================] - 55s 109ms/step - loss: 0.2711 - val_loss: 0.2696\n",
      "Epoch 7/20\n",
      "500/500 [==============================] - 54s 109ms/step - loss: 0.2700 - val_loss: 0.2616\n",
      "Epoch 8/20\n",
      "500/500 [==============================] - 53s 106ms/step - loss: 0.2662 - val_loss: 0.2676\n",
      "Epoch 9/20\n",
      "500/500 [==============================] - 53s 106ms/step - loss: 0.2659 - val_loss: 0.2663\n",
      "Epoch 10/20\n",
      "500/500 [==============================] - 52s 105ms/step - loss: 0.2630 - val_loss: 0.2673\n",
      "Epoch 11/20\n",
      "500/500 [==============================] - 53s 105ms/step - loss: 0.2589 - val_loss: 0.2682\n",
      "Epoch 12/20\n",
      "500/500 [==============================] - 53s 105ms/step - loss: 0.2581 - val_loss: 0.2709\n",
      "Epoch 13/20\n",
      "500/500 [==============================] - 52s 105ms/step - loss: 0.2552 - val_loss: 0.2667\n",
      "Epoch 14/20\n",
      "500/500 [==============================] - 52s 104ms/step - loss: 0.2512 - val_loss: 0.2663\n",
      "Epoch 15/20\n",
      "500/500 [==============================] - 53s 106ms/step - loss: 0.2504 - val_loss: 0.2744\n",
      "Epoch 16/20\n",
      "500/500 [==============================] - 54s 108ms/step - loss: 0.2466 - val_loss: 0.2754\n",
      "Epoch 17/20\n",
      "500/500 [==============================] - 52s 104ms/step - loss: 0.2449 - val_loss: 0.2773\n",
      "Epoch 18/20\n",
      "500/500 [==============================] - 53s 105ms/step - loss: 0.2408 - val_loss: 0.2768\n",
      "Epoch 19/20\n",
      "500/500 [==============================] - 52s 105ms/step - loss: 0.2389 - val_loss: 0.2747\n",
      "Epoch 20/20\n",
      "500/500 [==============================] - 54s 108ms/step - loss: 0.2360 - val_loss: 0.2767\n"
     ]
    }
   ],
   "source": [
    "model = Sequential()\n",
    "model.add(layers.GRU(32, input_shape=(None, float_data.shape[-1])))\n",
    "model.add(layers.Dense(128, activation='relu'))\n",
    "model.add(layers.Dense(1))\n",
    "\n",
    "model.compile(optimizer=optimizers.RMSprop(learning_rate=0.0005), loss='mae')\n",
    "history = model.fit(train_gen, steps_per_epoch=500, epochs=20, \n",
    "                    validation_data=val_gen, validation_steps=val_steps)"
   ]
  },
  {
   "cell_type": "code",
   "execution_count": 14,
   "id": "37cf3f6c",
   "metadata": {},
   "outputs": [
    {
     "data": {
      "image/png": "[encoded data removed]",
      "text/plain": [
       "<Figure size 432x288 with 1 Axes>"
      ]
     },
     "metadata": {
      "needs_background": "light"
     },
     "output_type": "display_data"
    }
   ],
   "source": [
    "plot_loss(history)"
   ]
  },
  {
   "cell_type": "code",
   "execution_count": null,
   "id": "efc16be7",
   "metadata": {},
   "outputs": [],
   "source": []
  }
 ],
 "metadata": {
  "kernelspec": {
   "display_name": "Python 3",
   "language": "python",
   "name": "python3"
  },
  "language_info": {
   "codemirror_mode": {
    "name": "ipython",
    "version": 3
   },
   "file_extension": ".py",
   "mimetype": "text/x-python",
   "name": "python",
   "nbconvert_exporter": "python",
   "pygments_lexer": "ipython3",
   "version": "3.6.13"
  }
 },
 "nbformat": 4,
 "nbformat_minor": 5
}
