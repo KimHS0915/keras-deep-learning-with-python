{
 "cells": [
  {
   "cell_type": "code",
   "execution_count": 1,
   "id": "1f10fcf7",
   "metadata": {},
   "outputs": [],
   "source": [
    "from tensorflow.keras.datasets import imdb\n",
    "from tensorflow.keras.preprocessing import sequence\n",
    "\n",
    "max_features = 10000\n",
    "maxlen = 500\n",
    "\n",
    "(x_train, y_train), (x_test, y_test) = imdb.load_data(num_words=max_features)\n",
    "\n",
    "x_train = sequence.pad_sequences(x_train, maxlen=maxlen)\n",
    "x_test = sequence.pad_sequences(x_test, maxlen=maxlen)"
   ]
  },
  {
   "cell_type": "code",
   "execution_count": 2,
   "id": "2eab0199",
   "metadata": {},
   "outputs": [
    {
     "name": "stdout",
     "output_type": "stream",
     "text": [
      "Model: \"sequential\"\n",
      "_________________________________________________________________\n",
      "Layer (type)                 Output Shape              Param #   \n",
      "=================================================================\n",
      "embedding (Embedding)        (None, 500, 128)          1280000   \n",
      "_________________________________________________________________\n",
      "conv1d (Conv1D)              (None, 494, 32)           28704     \n",
      "_________________________________________________________________\n",
      "max_pooling1d (MaxPooling1D) (None, 98, 32)            0         \n",
      "_________________________________________________________________\n",
      "conv1d_1 (Conv1D)            (None, 92, 32)            7200      \n",
      "_________________________________________________________________\n",
      "global_max_pooling1d (Global (None, 32)                0         \n",
      "_________________________________________________________________\n",
      "dense (Dense)                (None, 1)                 33        \n",
      "=================================================================\n",
      "Total params: 1,315,937\n",
      "Trainable params: 1,315,937\n",
      "Non-trainable params: 0\n",
      "_________________________________________________________________\n"
     ]
    }
   ],
   "source": [
    "from tensorflow.keras.models import Sequential\n",
    "from tensorflow.keras import layers\n",
    "from tensorflow.keras.optimizers import RMSprop\n",
    "\n",
    "model = Sequential()\n",
    "model.add(layers.Embedding(max_features, 128, input_length=maxlen))\n",
    "model.add(layers.Conv1D(32, 7, activation='relu'))\n",
    "model.add(layers.MaxPooling1D(5))\n",
    "model.add(layers.Conv1D(32, 7, activation='relu'))\n",
    "model.add(layers.GlobalMaxPooling1D())\n",
    "model.add(layers.Dense(1))\n",
    "\n",
    "model.summary()"
   ]
  },
  {
   "cell_type": "code",
   "execution_count": 3,
   "id": "d307af66",
   "metadata": {},
   "outputs": [
    {
     "name": "stdout",
     "output_type": "stream",
     "text": [
      "Epoch 1/10\n",
      "157/157 [==============================] - 15s 95ms/step - loss: 0.7608 - acc: 0.5234 - val_loss: 0.6865 - val_acc: 0.5368\n",
      "Epoch 2/10\n",
      "157/157 [==============================] - 15s 96ms/step - loss: 0.6640 - acc: 0.6773 - val_loss: 0.6625 - val_acc: 0.6444\n",
      "Epoch 3/10\n",
      "157/157 [==============================] - 15s 95ms/step - loss: 0.6125 - acc: 0.7666 - val_loss: 0.5960 - val_acc: 0.7490\n",
      "Epoch 4/10\n",
      "157/157 [==============================] - 15s 95ms/step - loss: 0.5040 - acc: 0.8138 - val_loss: 0.4744 - val_acc: 0.8134\n",
      "Epoch 5/10\n",
      "157/157 [==============================] - 15s 96ms/step - loss: 0.3897 - acc: 0.8535 - val_loss: 0.4361 - val_acc: 0.8394\n",
      "Epoch 6/10\n",
      "157/157 [==============================] - 15s 96ms/step - loss: 0.3275 - acc: 0.8795 - val_loss: 0.4204 - val_acc: 0.8552\n",
      "Epoch 7/10\n",
      "157/157 [==============================] - 15s 95ms/step - loss: 0.2872 - acc: 0.8952 - val_loss: 0.4463 - val_acc: 0.8498\n",
      "Epoch 8/10\n",
      "157/157 [==============================] - 15s 95ms/step - loss: 0.2576 - acc: 0.9119 - val_loss: 0.4245 - val_acc: 0.8688\n",
      "Epoch 9/10\n",
      "157/157 [==============================] - 15s 95ms/step - loss: 0.2300 - acc: 0.9223 - val_loss: 0.4304 - val_acc: 0.8742\n",
      "Epoch 10/10\n",
      "157/157 [==============================] - 15s 95ms/step - loss: 0.2071 - acc: 0.9307 - val_loss: 0.4560 - val_acc: 0.8730\n"
     ]
    }
   ],
   "source": [
    "model.compile(optimizer=RMSprop(learning_rate=1e-4), \n",
    "              loss='binary_crossentropy', \n",
    "              metrics=['acc'])\n",
    "\n",
    "history = model.fit(x_train, y_train, epochs=10, \n",
    "                    batch_size=128, validation_split=0.2)"
   ]
  },
  {
   "cell_type": "code",
   "execution_count": 4,
   "id": "17558bea",
   "metadata": {},
   "outputs": [
    {
     "data": {
      "image/png": "[encoded data removed]",
      "text/plain": [
       "<Figure size 432x288 with 1 Axes>"
      ]
     },
     "metadata": {
      "needs_background": "light"
     },
     "output_type": "display_data"
    },
    {
     "data": {
      "image/png": "[encoded data removed]",
      "text/plain": [
       "<Figure size 432x288 with 1 Axes>"
      ]
     },
     "metadata": {
      "needs_background": "light"
     },
     "output_type": "display_data"
    }
   ],
   "source": [
    "import matplotlib.pyplot as plt\n",
    "\n",
    "acc = history.history['acc']\n",
    "val_acc = history.history['val_acc']\n",
    "loss = history.history['loss']\n",
    "val_loss = history.history['val_loss']\n",
    "\n",
    "epochs = range(1, len(acc) + 1)\n",
    "\n",
    "plt.plot(epochs, acc, 'bo', label='Training acc')\n",
    "plt.plot(epochs, val_acc, 'b', label='Validation acc')\n",
    "plt.title('Training and validation accuracy')\n",
    "plt.legend()\n",
    "\n",
    "plt.figure()\n",
    "\n",
    "plt.plot(epochs, loss, 'bo', label='Training loss')\n",
    "plt.plot(epochs, val_loss, 'b', label='Validation loss')\n",
    "plt.title('Training and validation loss')\n",
    "plt.legend()\n",
    "\n",
    "plt.show()"
   ]
  },
  {
   "cell_type": "code",
   "execution_count": 5,
   "id": "856e16a8",
   "metadata": {},
   "outputs": [
    {
     "name": "stdout",
     "output_type": "stream",
     "text": [
      "Epoch 1/6\n",
      "157/157 [==============================] - 16s 97ms/step - loss: 1.1198 - acc: 0.5010 - val_loss: 0.6927 - val_acc: 0.5296\n",
      "Epoch 2/6\n",
      "157/157 [==============================] - 15s 96ms/step - loss: 0.6818 - acc: 0.6076 - val_loss: 0.6755 - val_acc: 0.6296\n",
      "Epoch 3/6\n",
      "157/157 [==============================] - 15s 96ms/step - loss: 0.6486 - acc: 0.7436 - val_loss: 0.6389 - val_acc: 0.7326\n",
      "Epoch 4/6\n",
      "157/157 [==============================] - 15s 95ms/step - loss: 0.5828 - acc: 0.7998 - val_loss: 0.5484 - val_acc: 0.7930\n",
      "Epoch 5/6\n",
      "157/157 [==============================] - 15s 95ms/step - loss: 0.4603 - acc: 0.8373 - val_loss: 0.4399 - val_acc: 0.8276\n",
      "Epoch 6/6\n",
      "157/157 [==============================] - 15s 95ms/step - loss: 0.3637 - acc: 0.8658 - val_loss: 0.4005 - val_acc: 0.8472\n",
      "782/782 [==============================] - 5s 6ms/step - loss: 0.4089 - acc: 0.8422\n"
     ]
    },
    {
     "data": {
      "text/plain": [
       "[0.4089375436306, 0.8421599864959717]"
      ]
     },
     "execution_count": 5,
     "metadata": {},
     "output_type": "execute_result"
    }
   ],
   "source": [
    "model = Sequential()\n",
    "model.add(layers.Embedding(max_features, 128, input_length=maxlen))\n",
    "model.add(layers.Conv1D(32, 7, activation='relu'))\n",
    "model.add(layers.MaxPooling1D(5))\n",
    "model.add(layers.Conv1D(32, 7, activation='relu'))\n",
    "model.add(layers.GlobalMaxPooling1D())\n",
    "model.add(layers.Dense(1))\n",
    "\n",
    "model.compile(optimizer=RMSprop(learning_rate=1e-4), \n",
    "              loss='binary_crossentropy', \n",
    "              metrics=['acc'])\n",
    "\n",
    "history = model.fit(x_train, y_train, epochs=6, \n",
    "                    batch_size=128, validation_split=0.2)\n",
    "\n",
    "model.evaluate(x_test, y_test)"
   ]
  },
  {
   "cell_type": "code",
   "execution_count": 6,
   "id": "58eb6e93",
   "metadata": {},
   "outputs": [
    {
     "name": "stdout",
     "output_type": "stream",
     "text": [
      "['\"Date Time\"', '\"p (mbar)\"', '\"T (degC)\"', '\"Tpot (K)\"', '\"Tdew (degC)\"', '\"rh (%)\"', '\"VPmax (mbar)\"', '\"VPact (mbar)\"', '\"VPdef (mbar)\"', '\"sh (g/kg)\"', '\"H2OC (mmol/mol)\"', '\"rho (g/m**3)\"', '\"wv (m/s)\"', '\"max. wv (m/s)\"', '\"wd (deg)\"']\n",
      "420551\n"
     ]
    }
   ],
   "source": [
    "import os\n",
    "\n",
    "data_dir = '../datasets/jena_climate/'\n",
    "fname = os.path.join(data_dir, 'jena_climate_2009_2016.csv')\n",
    "\n",
    "with open(fname) as f:\n",
    "    data = f.read()\n",
    "\n",
    "lines = data.split('\\n')\n",
    "header = lines[0].split(',')\n",
    "lines = lines[1:]\n",
    "\n",
    "print(header)\n",
    "print(len(lines))"
   ]
  },
  {
   "cell_type": "code",
   "execution_count": 7,
   "id": "76df375c",
   "metadata": {},
   "outputs": [],
   "source": [
    "import numpy as np\n",
    "\n",
    "float_data = np.zeros((len(lines), len(header) - 1))\n",
    "\n",
    "for i, line in enumerate(lines):\n",
    "    values = [float(x) for x in line.split(',')[1:]]\n",
    "    float_data[i, :] = values\n",
    "\n",
    "mean = float_data[:200000].mean(axis=0)\n",
    "float_data -= mean\n",
    "std = float_data[:200000].std(axis=0)\n",
    "float_data /= std"
   ]
  },
  {
   "cell_type": "code",
   "execution_count": 8,
   "id": "b0bd5ba8",
   "metadata": {},
   "outputs": [],
   "source": [
    "def generator(data, lookback, delay, min_index, max_index, \n",
    "              shuffle=False, batch_size=128, step=6):\n",
    "    if max_index is None:\n",
    "        max_index = len(data) - delay - 1\n",
    "    i = min_index + lookback\n",
    "    while 1:\n",
    "        if shuffle:\n",
    "            rows = np.random.randint(\n",
    "                min_index + lookback, max_index, size=batch_size)\n",
    "        else:\n",
    "            if i + batch_size >= max_index:\n",
    "                i = min_index + lookback\n",
    "            rows = np.arange(i, min(i + batch_size, max_index))\n",
    "            i += len(rows)\n",
    "        \n",
    "        samples = np.zeros((len(rows), lookback // step, data.shape[-1]))\n",
    "        targets = np.zeros((len(rows),))\n",
    "        \n",
    "        for j, row in enumerate(rows):\n",
    "            indices = range(rows[j] - lookback, rows[j], step)\n",
    "            samples[j] = data[indices]\n",
    "            targets[j] = data[rows[j] + delay][1]\n",
    "        \n",
    "        yield samples, targets"
   ]
  },
  {
   "cell_type": "code",
   "execution_count": 9,
   "id": "77404f99",
   "metadata": {},
   "outputs": [],
   "source": [
    "lookback = 1440\n",
    "step = 6\n",
    "delay = 144\n",
    "batch_size = 128\n",
    "\n",
    "train_gen = generator(float_data, \n",
    "                      lookback=lookback, \n",
    "                      delay=delay, \n",
    "                      min_index=0, \n",
    "                      max_index=200000, \n",
    "                      shuffle=True, \n",
    "                      step=step, \n",
    "                      batch_size=batch_size)\n",
    "val_gen = generator(float_data, \n",
    "                    lookback=lookback, \n",
    "                    delay=delay, \n",
    "                    min_index=200001, \n",
    "                    max_index=300000, \n",
    "                    step=step, \n",
    "                    batch_size=batch_size)\n",
    "test_gen = generator(float_data, \n",
    "                     lookback=lookback, \n",
    "                     delay=delay, \n",
    "                     min_index=300001, \n",
    "                     max_index=None, \n",
    "                     step=step, \n",
    "                     batch_size=batch_size)\n",
    "\n",
    "val_steps = (300000 - 200001 - lookback) // batch_size\n",
    "test_steps = (len(float_data) - 300001 - lookback) // batch_size"
   ]
  },
  {
   "cell_type": "code",
   "execution_count": 10,
   "id": "3ddfe029",
   "metadata": {},
   "outputs": [
    {
     "name": "stdout",
     "output_type": "stream",
     "text": [
      "Model: \"sequential_2\"\n",
      "_________________________________________________________________\n",
      "Layer (type)                 Output Shape              Param #   \n",
      "=================================================================\n",
      "conv1d_4 (Conv1D)            (None, None, 32)          2272      \n",
      "_________________________________________________________________\n",
      "max_pooling1d_2 (MaxPooling1 (None, None, 32)          0         \n",
      "_________________________________________________________________\n",
      "conv1d_5 (Conv1D)            (None, None, 32)          5152      \n",
      "_________________________________________________________________\n",
      "max_pooling1d_3 (MaxPooling1 (None, None, 32)          0         \n",
      "_________________________________________________________________\n",
      "conv1d_6 (Conv1D)            (None, None, 32)          5152      \n",
      "_________________________________________________________________\n",
      "global_max_pooling1d_2 (Glob (None, 32)                0         \n",
      "_________________________________________________________________\n",
      "dense_2 (Dense)              (None, 1)                 33        \n",
      "=================================================================\n",
      "Total params: 12,609\n",
      "Trainable params: 12,609\n",
      "Non-trainable params: 0\n",
      "_________________________________________________________________\n"
     ]
    }
   ],
   "source": [
    "from tensorflow.keras.models import Sequential\n",
    "from tensorflow.keras import layers\n",
    "from tensorflow.keras.optimizers import RMSprop\n",
    "\n",
    "model = Sequential()\n",
    "model.add(layers.Conv1D(32, 5, activation='relu', \n",
    "                        input_shape=(None, float_data.shape[-1])))\n",
    "model.add(layers.MaxPooling1D(3))\n",
    "model.add(layers.Conv1D(32, 5, activation='relu'))\n",
    "model.add(layers.MaxPooling1D(3))\n",
    "model.add(layers.Conv1D(32, 5, activation='relu'))\n",
    "model.add(layers.GlobalMaxPooling1D())\n",
    "model.add(layers.Dense(1))\n",
    "model.summary()"
   ]
  },
  {
   "cell_type": "code",
   "execution_count": 11,
   "id": "97982eb7",
   "metadata": {},
   "outputs": [
    {
     "name": "stdout",
     "output_type": "stream",
     "text": [
      "Epoch 1/20\n",
      "500/500 [==============================] - 13s 26ms/step - loss: 0.4129 - val_loss: 0.4313\n",
      "Epoch 2/20\n",
      "500/500 [==============================] - 13s 26ms/step - loss: 0.3578 - val_loss: 0.4625\n",
      "Epoch 3/20\n",
      "500/500 [==============================] - 13s 26ms/step - loss: 0.3386 - val_loss: 0.4439\n",
      "Epoch 4/20\n",
      "500/500 [==============================] - 13s 26ms/step - loss: 0.3229 - val_loss: 0.4466\n",
      "Epoch 5/20\n",
      "500/500 [==============================] - 13s 27ms/step - loss: 0.3114 - val_loss: 0.4502\n",
      "Epoch 6/20\n",
      "500/500 [==============================] - 13s 26ms/step - loss: 0.3005 - val_loss: 0.4536\n",
      "Epoch 7/20\n",
      "500/500 [==============================] - 13s 27ms/step - loss: 0.2929 - val_loss: 0.4568\n",
      "Epoch 8/20\n",
      "500/500 [==============================] - 13s 26ms/step - loss: 0.2858 - val_loss: 0.4437\n",
      "Epoch 9/20\n",
      "500/500 [==============================] - 13s 26ms/step - loss: 0.2814 - val_loss: 0.4511\n",
      "Epoch 10/20\n",
      "500/500 [==============================] - 13s 26ms/step - loss: 0.2759 - val_loss: 0.4506\n",
      "Epoch 11/20\n",
      "500/500 [==============================] - 13s 27ms/step - loss: 0.2701 - val_loss: 0.4703\n",
      "Epoch 12/20\n",
      "500/500 [==============================] - 13s 26ms/step - loss: 0.2681 - val_loss: 0.4959\n",
      "Epoch 13/20\n",
      "500/500 [==============================] - 13s 25ms/step - loss: 0.2645 - val_loss: 0.4600\n",
      "Epoch 14/20\n",
      "500/500 [==============================] - 13s 25ms/step - loss: 0.2599 - val_loss: 0.4601\n",
      "Epoch 15/20\n",
      "500/500 [==============================] - 13s 26ms/step - loss: 0.2564 - val_loss: 0.4525\n",
      "Epoch 16/20\n",
      "500/500 [==============================] - 13s 25ms/step - loss: 0.2520 - val_loss: 0.4653\n",
      "Epoch 17/20\n",
      "500/500 [==============================] - 13s 26ms/step - loss: 0.2508 - val_loss: 0.4540\n",
      "Epoch 18/20\n",
      "500/500 [==============================] - 13s 26ms/step - loss: 0.2481 - val_loss: 0.4870\n",
      "Epoch 19/20\n",
      "500/500 [==============================] - 13s 27ms/step - loss: 0.2455 - val_loss: 0.4643\n",
      "Epoch 20/20\n",
      "500/500 [==============================] - 13s 26ms/step - loss: 0.2438 - val_loss: 0.4612\n"
     ]
    }
   ],
   "source": [
    "model.compile(optimizer=RMSprop(), loss='mae')\n",
    "history = model.fit(train_gen, \n",
    "                    steps_per_epoch=500, \n",
    "                    epochs=20, \n",
    "                    validation_data=val_gen, \n",
    "                    validation_steps=val_steps)"
   ]
  },
  {
   "cell_type": "code",
   "execution_count": 12,
   "id": "71518957",
   "metadata": {},
   "outputs": [
    {
     "data": {
      "image/png": "[encoded data removed]",
      "text/plain": [
       "<Figure size 432x288 with 1 Axes>"
      ]
     },
     "metadata": {
      "needs_background": "light"
     },
     "output_type": "display_data"
    }
   ],
   "source": [
    "import matplotlib.pyplot as plt\n",
    "\n",
    "loss = history.history['loss']\n",
    "val_loss = history.history['val_loss']\n",
    "\n",
    "epochs = range(1, len(loss) + 1)\n",
    "\n",
    "plt.figure()\n",
    "\n",
    "plt.plot(epochs, loss, 'bo', label='Training loss')\n",
    "plt.plot(epochs, val_loss, 'b', label='Validation loss')\n",
    "plt.title('Training and validation loss')\n",
    "plt.legend()\n",
    "\n",
    "plt.show()"
   ]
  },
  {
   "cell_type": "code",
   "execution_count": 13,
   "id": "27a667ee",
   "metadata": {},
   "outputs": [],
   "source": [
    "lookback = 1440\n",
    "step = 3\n",
    "delay = 144\n",
    "batch_size = 128\n",
    "\n",
    "train_gen = generator(float_data, \n",
    "                      lookback=lookback, \n",
    "                      delay=delay, \n",
    "                      min_index=0, \n",
    "                      max_index=200000, \n",
    "                      shuffle=True, \n",
    "                      step=step, \n",
    "                      batch_size=batch_size)\n",
    "val_gen = generator(float_data, \n",
    "                    lookback=lookback, \n",
    "                    delay=delay, \n",
    "                    min_index=200001, \n",
    "                    max_index=300000, \n",
    "                    step=step, \n",
    "                    batch_size=batch_size)\n",
    "test_gen = generator(float_data, \n",
    "                     lookback=lookback, \n",
    "                     delay=delay, \n",
    "                     min_index=300001, \n",
    "                     max_index=None, \n",
    "                     step=step, \n",
    "                     batch_size=batch_size)\n",
    "\n",
    "val_steps = (300000 - 200001 - lookback) // batch_size\n",
    "test_steps = (len(float_data) - 300001 - lookback) // batch_size"
   ]
  },
  {
   "cell_type": "code",
   "execution_count": 14,
   "id": "45839ac8",
   "metadata": {},
   "outputs": [
    {
     "name": "stdout",
     "output_type": "stream",
     "text": [
      "Model: \"sequential_3\"\n",
      "_________________________________________________________________\n",
      "Layer (type)                 Output Shape              Param #   \n",
      "=================================================================\n",
      "conv1d_7 (Conv1D)            (None, None, 32)          2272      \n",
      "_________________________________________________________________\n",
      "max_pooling1d_4 (MaxPooling1 (None, None, 32)          0         \n",
      "_________________________________________________________________\n",
      "conv1d_8 (Conv1D)            (None, None, 32)          5152      \n",
      "_________________________________________________________________\n",
      "gru (GRU)                    (None, 32)                6336      \n",
      "_________________________________________________________________\n",
      "dense_3 (Dense)              (None, 1)                 33        \n",
      "=================================================================\n",
      "Total params: 13,793\n",
      "Trainable params: 13,793\n",
      "Non-trainable params: 0\n",
      "_________________________________________________________________\n"
     ]
    }
   ],
   "source": [
    "model = Sequential()\n",
    "model.add(layers.Conv1D(32, 5, activation='relu', \n",
    "                        input_shape=(None, float_data.shape[-1])))\n",
    "model.add(layers.MaxPooling1D(3))\n",
    "model.add(layers.Conv1D(32, 5, activation='relu'))\n",
    "model.add(layers.GRU(32, dropout=0.1, recurrent_dropout=0.5))\n",
    "model.add(layers.Dense(1))\n",
    "\n",
    "model.summary()"
   ]
  },
  {
   "cell_type": "code",
   "execution_count": 15,
   "id": "c0e34b36",
   "metadata": {},
   "outputs": [
    {
     "name": "stdout",
     "output_type": "stream",
     "text": [
      "Epoch 1/20\n",
      "500/500 [==============================] - 69s 134ms/step - loss: 0.3300 - val_loss: 0.3379\n",
      "Epoch 2/20\n",
      "500/500 [==============================] - 67s 134ms/step - loss: 0.2942 - val_loss: 0.2747\n",
      "Epoch 3/20\n",
      "500/500 [==============================] - 67s 134ms/step - loss: 0.2813 - val_loss: 0.2801\n",
      "Epoch 4/20\n",
      "500/500 [==============================] - 67s 133ms/step - loss: 0.2708 - val_loss: 0.2784\n",
      "Epoch 5/20\n",
      "500/500 [==============================] - 67s 133ms/step - loss: 0.2644 - val_loss: 0.2751\n",
      "Epoch 6/20\n",
      "500/500 [==============================] - 67s 134ms/step - loss: 0.2550 - val_loss: 0.2790\n",
      "Epoch 7/20\n",
      "500/500 [==============================] - 67s 134ms/step - loss: 0.2506 - val_loss: 0.2929\n",
      "Epoch 8/20\n",
      "500/500 [==============================] - 67s 134ms/step - loss: 0.2459 - val_loss: 0.2859\n",
      "Epoch 9/20\n",
      "500/500 [==============================] - 67s 134ms/step - loss: 0.2402 - val_loss: 0.2864\n",
      "Epoch 10/20\n",
      "500/500 [==============================] - 67s 134ms/step - loss: 0.2374 - val_loss: 0.2858\n",
      "Epoch 11/20\n",
      "500/500 [==============================] - 67s 133ms/step - loss: 0.2314 - val_loss: 0.2917\n",
      "Epoch 12/20\n",
      "500/500 [==============================] - 67s 134ms/step - loss: 0.2267 - val_loss: 0.2897\n",
      "Epoch 13/20\n",
      "500/500 [==============================] - 67s 133ms/step - loss: 0.2235 - val_loss: 0.2930\n",
      "Epoch 14/20\n",
      "500/500 [==============================] - 67s 133ms/step - loss: 0.2190 - val_loss: 0.2994\n",
      "Epoch 15/20\n",
      "500/500 [==============================] - 67s 133ms/step - loss: 0.2162 - val_loss: 0.3014\n",
      "Epoch 16/20\n",
      "500/500 [==============================] - 67s 133ms/step - loss: 0.2119 - val_loss: 0.3064\n",
      "Epoch 17/20\n",
      "500/500 [==============================] - 67s 133ms/step - loss: 0.2098 - val_loss: 0.3034\n",
      "Epoch 18/20\n",
      "500/500 [==============================] - 67s 133ms/step - loss: 0.2070 - val_loss: 0.3023\n",
      "Epoch 19/20\n",
      "500/500 [==============================] - 67s 133ms/step - loss: 0.2052 - val_loss: 0.3096\n",
      "Epoch 20/20\n",
      "500/500 [==============================] - 67s 133ms/step - loss: 0.2034 - val_loss: 0.3139\n"
     ]
    }
   ],
   "source": [
    "model.compile(optimizer=RMSprop(), loss='mae')\n",
    "history = model.fit(train_gen, \n",
    "                    steps_per_epoch=500, \n",
    "                    epochs=20, \n",
    "                    validation_data=val_gen, \n",
    "                    validation_steps=val_steps)"
   ]
  },
  {
   "cell_type": "code",
   "execution_count": 16,
   "id": "f8d94cfb",
   "metadata": {},
   "outputs": [
    {
     "data": {
      "image/png": "[encoded data removed]",
      "text/plain": [
       "<Figure size 432x288 with 1 Axes>"
      ]
     },
     "metadata": {
      "needs_background": "light"
     },
     "output_type": "display_data"
    }
   ],
   "source": [
    "loss = history.history['loss']\n",
    "val_loss = history.history['val_loss']\n",
    "\n",
    "epochs = range(1, len(loss) + 1)\n",
    "\n",
    "plt.figure()\n",
    "\n",
    "plt.plot(epochs, loss, 'bo', label='Training loss')\n",
    "plt.plot(epochs, val_loss, 'b', label='Validation loss')\n",
    "plt.title('Training and validation loss')\n",
    "plt.legend()\n",
    "\n",
    "plt.show()"
   ]
  },
  {
   "cell_type": "code",
   "execution_count": null,
   "id": "4e7ef137",
   "metadata": {},
   "outputs": [],
   "source": []
  }
 ],
 "metadata": {
  "kernelspec": {
   "display_name": "Python 3",
   "language": "python",
   "name": "python3"
  },
  "language_info": {
   "codemirror_mode": {
    "name": "ipython",
    "version": 3
   },
   "file_extension": ".py",
   "mimetype": "text/x-python",
   "name": "python",
   "nbconvert_exporter": "python",
   "pygments_lexer": "ipython3",
   "version": "3.6.13"
  }
 },
 "nbformat": 4,
 "nbformat_minor": 5
}
