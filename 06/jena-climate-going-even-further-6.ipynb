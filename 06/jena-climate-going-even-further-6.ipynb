{
 "cells": [
  {
   "cell_type": "code",
   "execution_count": 1,
   "id": "8cb1a5a8",
   "metadata": {},
   "outputs": [],
   "source": [
    "import os\n",
    "import numpy as np\n",
    "\n",
    "data_dir = '../datasets/jena_climate/'\n",
    "fname = os.path.join(data_dir, 'jena_climate_2009_2016.csv')\n",
    "\n",
    "with open(fname) as f:\n",
    "    data = f.read()\n",
    "\n",
    "lines = data.split('\\n')\n",
    "header = lines[0].split(',')\n",
    "lines = lines[1:]\n",
    "\n",
    "float_data = np.zeros((len(lines), len(header) - 1))\n",
    "\n",
    "for i, line in enumerate(lines):\n",
    "    values = [float(x) for x in line.split(',')[1:]]\n",
    "    float_data[i, :] = values\n",
    "    \n",
    "mean = float_data[:200000].mean(axis=0)\n",
    "float_data -= mean\n",
    "std = float_data[:200000].std(axis=0)\n",
    "float_data /= std"
   ]
  },
  {
   "cell_type": "code",
   "execution_count": 2,
   "id": "c1c6e508",
   "metadata": {},
   "outputs": [],
   "source": [
    "def generator(data, lookback, delay, min_index, max_index, \n",
    "              shuffle=False, batch_size=128, step=6):\n",
    "    if max_index is None:\n",
    "        max_index = len(data) - delay - 1\n",
    "    i = min_index + lookback\n",
    "    while 1:\n",
    "        if shuffle:\n",
    "            rows = np.random.randint(\n",
    "                min_index + lookback, max_index, size=batch_size)\n",
    "        else:\n",
    "            if i + batch_size >= max_index:\n",
    "                i = min_index + lookback\n",
    "            rows = np.arange(i, min(i + batch_size, max_index))\n",
    "            i += len(rows)\n",
    "        \n",
    "        samples = np.zeros((len(rows), lookback // step, data.shape[-1]))\n",
    "        targets = np.zeros((len(rows),))\n",
    "        \n",
    "        for j, row in enumerate(rows):\n",
    "            indices = range(rows[j] - lookback, rows[j], step)\n",
    "            samples[j] = data[indices]\n",
    "            targets[j] = data[rows[j] + delay][1]\n",
    "        \n",
    "        yield samples, targets"
   ]
  },
  {
   "cell_type": "code",
   "execution_count": 3,
   "id": "dec17521",
   "metadata": {},
   "outputs": [],
   "source": [
    "lookback = 1440\n",
    "step = 6\n",
    "delay = 144\n",
    "batch_size = 128\n",
    "\n",
    "train_gen = generator(float_data, \n",
    "                      lookback=lookback, \n",
    "                      delay=delay, \n",
    "                      min_index=0, \n",
    "                      max_index=200000, \n",
    "                      shuffle=True, \n",
    "                      step=step, \n",
    "                      batch_size=batch_size)\n",
    "val_gen = generator(float_data, \n",
    "                    lookback=lookback, \n",
    "                    delay=delay, \n",
    "                    min_index=200001, \n",
    "                    max_index=300000, \n",
    "                    step=step, \n",
    "                    batch_size=batch_size)\n",
    "test_gen = generator(float_data, \n",
    "                     lookback=lookback, \n",
    "                     delay=delay, \n",
    "                     min_index=300001, \n",
    "                     max_index=None, \n",
    "                     step=step, \n",
    "                     batch_size=batch_size)\n",
    "\n",
    "val_steps = (300000 - 200001 - lookback) // batch_size\n",
    "test_steps = (len(float_data) - 300001 - lookback) // batch_size"
   ]
  },
  {
   "cell_type": "code",
   "execution_count": 4,
   "id": "e8f9d719",
   "metadata": {},
   "outputs": [],
   "source": [
    "import matplotlib.pyplot as plt\n",
    "\n",
    "def plot_loss(history):\n",
    "    loss = history.history['loss']\n",
    "    val_loss = history.history['val_loss']\n",
    "    epochs = range(1, len(loss) + 1)\n",
    "    plt.figure()\n",
    "    plt.plot(epochs, loss, 'bo', label='Training loss')\n",
    "    plt.plot(epochs, val_loss, 'b', label='Validation loss')\n",
    "    plt.title('Training and validation loss')\n",
    "    plt.legend()\n",
    "    plt.show()"
   ]
  },
  {
   "cell_type": "code",
   "execution_count": 5,
   "id": "7b2fb773",
   "metadata": {},
   "outputs": [
    {
     "name": "stdout",
     "output_type": "stream",
     "text": [
      "Epoch 1/40\n",
      "500/500 [==============================] - 316s 627ms/step - loss: 0.3731 - val_loss: 0.2963\n",
      "Epoch 2/40\n",
      "500/500 [==============================] - 348s 697ms/step - loss: 0.3185 - val_loss: 0.2880\n",
      "Epoch 3/40\n",
      "500/500 [==============================] - 347s 695ms/step - loss: 0.3129 - val_loss: 0.2833\n",
      "Epoch 4/40\n",
      "500/500 [==============================] - 349s 698ms/step - loss: 0.3097 - val_loss: 0.2832\n",
      "Epoch 5/40\n",
      "500/500 [==============================] - 346s 693ms/step - loss: 0.3081 - val_loss: 0.2821\n",
      "Epoch 6/40\n",
      "500/500 [==============================] - 327s 655ms/step - loss: 0.3060 - val_loss: 0.2784\n",
      "Epoch 7/40\n",
      "500/500 [==============================] - 345s 690ms/step - loss: 0.3038 - val_loss: 0.2758\n",
      "Epoch 8/40\n",
      "500/500 [==============================] - 351s 703ms/step - loss: 0.3009 - val_loss: 0.2770\n",
      "Epoch 9/40\n",
      "500/500 [==============================] - 326s 652ms/step - loss: 0.2987 - val_loss: 0.2782\n",
      "Epoch 10/40\n",
      "500/500 [==============================] - 348s 696ms/step - loss: 0.2985 - val_loss: 0.2739\n",
      "Epoch 11/40\n",
      "500/500 [==============================] - 350s 700ms/step - loss: 0.2939 - val_loss: 0.2756\n",
      "Epoch 12/40\n",
      "500/500 [==============================] - 350s 700ms/step - loss: 0.2922 - val_loss: 0.2761\n",
      "Epoch 13/40\n",
      "500/500 [==============================] - 339s 678ms/step - loss: 0.2909 - val_loss: 0.2741\n",
      "Epoch 14/40\n",
      "500/500 [==============================] - 353s 706ms/step - loss: 0.2898 - val_loss: 0.2785\n",
      "Epoch 15/40\n",
      "500/500 [==============================] - 353s 706ms/step - loss: 0.2886 - val_loss: 0.2743\n",
      "Epoch 16/40\n",
      "500/500 [==============================] - 353s 706ms/step - loss: 0.2863 - val_loss: 0.2735\n",
      "Epoch 17/40\n",
      "500/500 [==============================] - 354s 709ms/step - loss: 0.2844 - val_loss: 0.2705\n",
      "Epoch 18/40\n",
      "500/500 [==============================] - 355s 710ms/step - loss: 0.2841 - val_loss: 0.2721\n",
      "Epoch 19/40\n",
      "500/500 [==============================] - 328s 656ms/step - loss: 0.2812 - val_loss: 0.2721\n",
      "Epoch 20/40\n",
      "500/500 [==============================] - 352s 705ms/step - loss: 0.2795 - val_loss: 0.2706\n",
      "Epoch 21/40\n",
      "500/500 [==============================] - 352s 705ms/step - loss: 0.2810 - val_loss: 0.2692\n",
      "Epoch 22/40\n",
      "500/500 [==============================] - 351s 703ms/step - loss: 0.2772 - val_loss: 0.2744\n",
      "Epoch 23/40\n",
      "500/500 [==============================] - 351s 703ms/step - loss: 0.2759 - val_loss: 0.2692\n",
      "Epoch 24/40\n",
      "500/500 [==============================] - 352s 704ms/step - loss: 0.2761 - val_loss: 0.2720\n",
      "Epoch 25/40\n",
      "500/500 [==============================] - 352s 705ms/step - loss: 0.2751 - val_loss: 0.2678\n",
      "Epoch 26/40\n",
      "500/500 [==============================] - 347s 694ms/step - loss: 0.2744 - val_loss: 0.2740\n",
      "Epoch 27/40\n",
      "500/500 [==============================] - 354s 708ms/step - loss: 0.2735 - val_loss: 0.2693\n",
      "Epoch 28/40\n",
      "500/500 [==============================] - 354s 708ms/step - loss: 0.2711 - val_loss: 0.2743\n",
      "Epoch 29/40\n",
      "500/500 [==============================] - 339s 679ms/step - loss: 0.2715 - val_loss: 0.2713\n",
      "Epoch 30/40\n",
      "500/500 [==============================] - 333s 666ms/step - loss: 0.2701 - val_loss: 0.2688\n",
      "Epoch 31/40\n",
      "500/500 [==============================] - 328s 657ms/step - loss: 0.2702 - val_loss: 0.2681\n",
      "Epoch 32/40\n",
      "500/500 [==============================] - 337s 674ms/step - loss: 0.2668 - val_loss: 0.2732\n",
      "Epoch 33/40\n",
      "500/500 [==============================] - 348s 697ms/step - loss: 0.2671 - val_loss: 0.2721\n",
      "Epoch 34/40\n",
      "500/500 [==============================] - 352s 705ms/step - loss: 0.2666 - val_loss: 0.2728\n",
      "Epoch 35/40\n",
      "500/500 [==============================] - 356s 713ms/step - loss: 0.2644 - val_loss: 0.2736\n",
      "Epoch 36/40\n",
      "500/500 [==============================] - 356s 712ms/step - loss: 0.2631 - val_loss: 0.2725\n",
      "Epoch 37/40\n",
      "500/500 [==============================] - 336s 672ms/step - loss: 0.2637 - val_loss: 0.2717\n",
      "Epoch 38/40\n",
      "500/500 [==============================] - 355s 711ms/step - loss: 0.2618 - val_loss: 0.2716\n",
      "Epoch 39/40\n",
      "500/500 [==============================] - 340s 680ms/step - loss: 0.2599 - val_loss: 0.2728\n",
      "Epoch 40/40\n",
      "500/500 [==============================] - 351s 701ms/step - loss: 0.2599 - val_loss: 0.2723\n"
     ]
    }
   ],
   "source": [
    "from tensorflow.keras.models import Sequential\n",
    "from tensorflow.keras import layers, optimizers\n",
    "from tensorflow.keras.optimizers import RMSprop\n",
    "\n",
    "model = Sequential()\n",
    "model.add(layers.GRU(32, \n",
    "                     dropout=0.1,\n",
    "                     recurrent_dropout=0.5,\n",
    "                     return_sequences=True,\n",
    "                     input_shape=(None, float_data.shape[-1])))\n",
    "model.add(layers.GRU(128, \n",
    "                     activation='relu',\n",
    "                     dropout=0.1,\n",
    "                     recurrent_dropout=0.5))\n",
    "model.add(layers.Dense(1))\n",
    "\n",
    "model.compile(optimizer=optimizers.RMSprop(learning_rate=0.0001), loss='mae')\n",
    "history = model.fit(train_gen, steps_per_epoch=500, epochs=40, \n",
    "                    validation_data=val_gen, validation_steps=val_steps)"
   ]
  },
  {
   "cell_type": "code",
   "execution_count": 6,
   "id": "e2a711e6",
   "metadata": {},
   "outputs": [
    {
     "data": {
      "image/png": "[encoded data removed]",
      "text/plain": [
       "<Figure size 432x288 with 1 Axes>"
      ]
     },
     "metadata": {
      "needs_background": "light"
     },
     "output_type": "display_data"
    }
   ],
   "source": [
    "plot_loss(history)"
   ]
  },
  {
   "cell_type": "code",
   "execution_count": 7,
   "id": "fda4d1fb",
   "metadata": {},
   "outputs": [
    {
     "name": "stdout",
     "output_type": "stream",
     "text": [
      "930/930 [==============================] - 141s 152ms/step - loss: 0.2869\n"
     ]
    },
    {
     "data": {
      "text/plain": [
       "0.28688544034957886"
      ]
     },
     "execution_count": 7,
     "metadata": {},
     "output_type": "execute_result"
    }
   ],
   "source": [
    "model.evaluate(test_gen, steps=test_steps)"
   ]
  },
  {
   "cell_type": "code",
   "execution_count": null,
   "id": "0012aa4f",
   "metadata": {},
   "outputs": [],
   "source": []
  }
 ],
 "metadata": {
  "kernelspec": {
   "display_name": "Python 3",
   "language": "python",
   "name": "python3"
  },
  "language_info": {
   "codemirror_mode": {
    "name": "ipython",
    "version": 3
   },
   "file_extension": ".py",
   "mimetype": "text/x-python",
   "name": "python",
   "nbconvert_exporter": "python",
   "pygments_lexer": "ipython3",
   "version": "3.6.13"
  }
 },
 "nbformat": 4,
 "nbformat_minor": 5
}
