{
 "cells": [
  {
   "cell_type": "code",
   "execution_count": 1,
   "id": "610953b6",
   "metadata": {},
   "outputs": [],
   "source": [
    "import os\n",
    "import numpy as np\n",
    "\n",
    "data_dir = '../datasets/jena_climate/'\n",
    "fname = os.path.join(data_dir, 'jena_climate_2009_2016.csv')\n",
    "\n",
    "with open(fname) as f:\n",
    "    data = f.read()\n",
    "\n",
    "lines = data.split('\\n')\n",
    "header = lines[0].split(',')\n",
    "lines = lines[1:]\n",
    "\n",
    "float_data = np.zeros((len(lines), len(header) - 1))\n",
    "\n",
    "for i, line in enumerate(lines):\n",
    "    values = [float(x) for x in line.split(',')[1:]]\n",
    "    float_data[i, :] = values\n",
    "    \n",
    "mean = float_data[:200000].mean(axis=0)\n",
    "float_data -= mean\n",
    "std = float_data[:200000].std(axis=0)\n",
    "float_data /= std"
   ]
  },
  {
   "cell_type": "code",
   "execution_count": 2,
   "id": "c5bfa52e",
   "metadata": {},
   "outputs": [],
   "source": [
    "def generator(data, lookback, delay, min_index, max_index, \n",
    "              shuffle=False, batch_size=128, step=6):\n",
    "    if max_index is None:\n",
    "        max_index = len(data) - delay - 1\n",
    "    i = min_index + lookback\n",
    "    while 1:\n",
    "        if shuffle:\n",
    "            rows = np.random.randint(\n",
    "                min_index + lookback, max_index, size=batch_size)\n",
    "        else:\n",
    "            if i + batch_size >= max_index:\n",
    "                i = min_index + lookback\n",
    "            rows = np.arange(i, min(i + batch_size, max_index))\n",
    "            i += len(rows)\n",
    "        \n",
    "        samples = np.zeros((len(rows), lookback // step, data.shape[-1]))\n",
    "        targets = np.zeros((len(rows),))\n",
    "        \n",
    "        for j, row in enumerate(rows):\n",
    "            indices = range(rows[j] - lookback, rows[j], step)\n",
    "            samples[j] = data[indices]\n",
    "            targets[j] = data[rows[j] + delay][1]\n",
    "        \n",
    "        yield samples, targets"
   ]
  },
  {
   "cell_type": "code",
   "execution_count": 3,
   "id": "bd4443f5",
   "metadata": {},
   "outputs": [],
   "source": [
    "lookback = 1440\n",
    "step = 6\n",
    "delay = 144\n",
    "batch_size = 128\n",
    "\n",
    "train_gen = generator(float_data, \n",
    "                      lookback=lookback, \n",
    "                      delay=delay, \n",
    "                      min_index=0, \n",
    "                      max_index=200000, \n",
    "                      shuffle=True, \n",
    "                      step=step, \n",
    "                      batch_size=batch_size)\n",
    "val_gen = generator(float_data, \n",
    "                    lookback=lookback, \n",
    "                    delay=delay, \n",
    "                    min_index=200001, \n",
    "                    max_index=300000, \n",
    "                    step=step, \n",
    "                    batch_size=batch_size)\n",
    "test_gen = generator(float_data, \n",
    "                     lookback=lookback, \n",
    "                     delay=delay, \n",
    "                     min_index=300001, \n",
    "                     max_index=None, \n",
    "                     step=step, \n",
    "                     batch_size=batch_size)\n",
    "\n",
    "val_steps = (300000 - 200001 - lookback) // batch_size\n",
    "test_steps = (len(float_data) - 300001 - lookback) // batch_size"
   ]
  },
  {
   "cell_type": "code",
   "execution_count": 4,
   "id": "67575f84",
   "metadata": {},
   "outputs": [],
   "source": [
    "import matplotlib.pyplot as plt\n",
    "\n",
    "def plot_loss(history):\n",
    "    loss = history.history['loss']\n",
    "    val_loss = history.history['val_loss']\n",
    "    epochs = range(1, len(loss) + 1)\n",
    "    plt.figure()\n",
    "    plt.plot(epochs, loss, 'bo', label='Training loss')\n",
    "    plt.plot(epochs, val_loss, 'b', label='Validation loss')\n",
    "    plt.title('Training and validation loss')\n",
    "    plt.legend()\n",
    "    plt.show()"
   ]
  },
  {
   "cell_type": "code",
   "execution_count": 5,
   "id": "b8338060",
   "metadata": {},
   "outputs": [
    {
     "name": "stdout",
     "output_type": "stream",
     "text": [
      "Epoch 1/20\n",
      "500/500 [==============================] - 54s 106ms/step - loss: 0.3012 - val_loss: 0.2743\n",
      "Epoch 2/20\n",
      "500/500 [==============================] - 53s 106ms/step - loss: 0.2741 - val_loss: 0.2686\n",
      "Epoch 3/20\n",
      "500/500 [==============================] - 51s 102ms/step - loss: 0.2629 - val_loss: 0.2783\n",
      "Epoch 4/20\n",
      "500/500 [==============================] - 54s 107ms/step - loss: 0.2530 - val_loss: 0.2789\n",
      "Epoch 5/20\n",
      "500/500 [==============================] - 57s 113ms/step - loss: 0.2461 - val_loss: 0.2860\n",
      "Epoch 6/20\n",
      "500/500 [==============================] - 56s 112ms/step - loss: 0.2378 - val_loss: 0.2852\n",
      "Epoch 7/20\n",
      "500/500 [==============================] - 56s 112ms/step - loss: 0.2312 - val_loss: 0.2928\n",
      "Epoch 8/20\n",
      "500/500 [==============================] - 56s 112ms/step - loss: 0.2242 - val_loss: 0.2999\n",
      "Epoch 9/20\n",
      "500/500 [==============================] - 57s 114ms/step - loss: 0.2190 - val_loss: 0.2996\n",
      "Epoch 10/20\n",
      "500/500 [==============================] - 57s 114ms/step - loss: 0.2151 - val_loss: 0.3063\n",
      "Epoch 11/20\n",
      "500/500 [==============================] - 58s 116ms/step - loss: 0.2089 - val_loss: 0.3066\n",
      "Epoch 12/20\n",
      "500/500 [==============================] - 57s 114ms/step - loss: 0.2048 - val_loss: 0.3059\n",
      "Epoch 13/20\n",
      "500/500 [==============================] - 57s 115ms/step - loss: 0.2012 - val_loss: 0.3091\n",
      "Epoch 14/20\n",
      "500/500 [==============================] - 57s 114ms/step - loss: 0.1978 - val_loss: 0.3121\n",
      "Epoch 15/20\n",
      "500/500 [==============================] - 56s 112ms/step - loss: 0.1948 - val_loss: 0.3199\n",
      "Epoch 16/20\n",
      "500/500 [==============================] - 56s 111ms/step - loss: 0.1910 - val_loss: 0.3172\n",
      "Epoch 17/20\n",
      "500/500 [==============================] - 55s 110ms/step - loss: 0.1886 - val_loss: 0.3187\n",
      "Epoch 18/20\n",
      "500/500 [==============================] - 55s 110ms/step - loss: 0.1858 - val_loss: 0.3187\n",
      "Epoch 19/20\n",
      "500/500 [==============================] - 55s 111ms/step - loss: 0.1827 - val_loss: 0.3218\n",
      "Epoch 20/20\n",
      "500/500 [==============================] - 56s 112ms/step - loss: 0.1803 - val_loss: 0.3195\n"
     ]
    }
   ],
   "source": [
    "from tensorflow.keras.models import Sequential\n",
    "from tensorflow.keras import layers, optimizers\n",
    "from tensorflow.keras.optimizers import RMSprop\n",
    "\n",
    "model = Sequential()\n",
    "model.add(layers.LSTM(32, input_shape=(None, float_data.shape[-1])))\n",
    "model.add(layers.Dense(1))\n",
    "\n",
    "model.compile(optimizer=optimizers.RMSprop(), loss='mae')\n",
    "history = model.fit(train_gen, steps_per_epoch=500, epochs=20, \n",
    "                    validation_data=val_gen, validation_steps=val_steps)"
   ]
  },
  {
   "cell_type": "code",
   "execution_count": 6,
   "id": "da8e9318",
   "metadata": {},
   "outputs": [
    {
     "data": {
      "image/png": "[encoded data removed]",
      "text/plain": [
       "<Figure size 432x288 with 1 Axes>"
      ]
     },
     "metadata": {
      "needs_background": "light"
     },
     "output_type": "display_data"
    }
   ],
   "source": [
    "plot_loss(history)"
   ]
  },
  {
   "cell_type": "code",
   "execution_count": 7,
   "id": "48173adf",
   "metadata": {},
   "outputs": [
    {
     "name": "stdout",
     "output_type": "stream",
     "text": [
      "Epoch 1/40\n",
      "500/500 [==============================] - 89s 175ms/step - loss: 0.3154 - val_loss: 0.2780\n",
      "Epoch 2/40\n",
      "500/500 [==============================] - 83s 166ms/step - loss: 0.2931 - val_loss: 0.2741\n",
      "Epoch 3/40\n",
      "500/500 [==============================] - 82s 164ms/step - loss: 0.2854 - val_loss: 0.2714\n",
      "Epoch 4/40\n",
      "500/500 [==============================] - 82s 164ms/step - loss: 0.2795 - val_loss: 0.2740\n",
      "Epoch 5/40\n",
      "500/500 [==============================] - 82s 164ms/step - loss: 0.2753 - val_loss: 0.2729\n",
      "Epoch 6/40\n",
      "500/500 [==============================] - 81s 163ms/step - loss: 0.2696 - val_loss: 0.2743\n",
      "Epoch 7/40\n",
      "500/500 [==============================] - 81s 162ms/step - loss: 0.2649 - val_loss: 0.2727\n",
      "Epoch 8/40\n",
      "500/500 [==============================] - 82s 164ms/step - loss: 0.2617 - val_loss: 0.2713\n",
      "Epoch 9/40\n",
      "500/500 [==============================] - 80s 161ms/step - loss: 0.2595 - val_loss: 0.2746\n",
      "Epoch 10/40\n",
      "500/500 [==============================] - 81s 163ms/step - loss: 0.2539 - val_loss: 0.2786\n",
      "Epoch 11/40\n",
      "500/500 [==============================] - 82s 163ms/step - loss: 0.2514 - val_loss: 0.2855\n",
      "Epoch 12/40\n",
      "500/500 [==============================] - 81s 162ms/step - loss: 0.2505 - val_loss: 0.2922\n",
      "Epoch 13/40\n",
      "500/500 [==============================] - 81s 162ms/step - loss: 0.2460 - val_loss: 0.2878\n",
      "Epoch 14/40\n",
      "500/500 [==============================] - 82s 163ms/step - loss: 0.2457 - val_loss: 0.2851\n",
      "Epoch 15/40\n",
      "500/500 [==============================] - 84s 167ms/step - loss: 0.2425 - val_loss: 0.2864\n",
      "Epoch 16/40\n",
      "500/500 [==============================] - 82s 165ms/step - loss: 0.2408 - val_loss: 0.2870\n",
      "Epoch 17/40\n",
      "500/500 [==============================] - 83s 165ms/step - loss: 0.2381 - val_loss: 0.2929\n",
      "Epoch 18/40\n",
      "500/500 [==============================] - 81s 162ms/step - loss: 0.2369 - val_loss: 0.2906\n",
      "Epoch 19/40\n",
      "500/500 [==============================] - 81s 163ms/step - loss: 0.2356 - val_loss: 0.2986\n",
      "Epoch 20/40\n",
      "500/500 [==============================] - 83s 166ms/step - loss: 0.2331 - val_loss: 0.2991\n",
      "Epoch 21/40\n",
      "500/500 [==============================] - 83s 165ms/step - loss: 0.2332 - val_loss: 0.3032\n",
      "Epoch 22/40\n",
      "500/500 [==============================] - 83s 166ms/step - loss: 0.2290 - val_loss: 0.3007\n",
      "Epoch 23/40\n",
      "500/500 [==============================] - 83s 166ms/step - loss: 0.2286 - val_loss: 0.3050\n",
      "Epoch 24/40\n",
      "500/500 [==============================] - 81s 162ms/step - loss: 0.2273 - val_loss: 0.3009\n",
      "Epoch 25/40\n",
      "500/500 [==============================] - 79s 159ms/step - loss: 0.2263 - val_loss: 0.3030\n",
      "Epoch 26/40\n",
      "500/500 [==============================] - 79s 159ms/step - loss: 0.2238 - val_loss: 0.3139\n",
      "Epoch 27/40\n",
      "500/500 [==============================] - 79s 159ms/step - loss: 0.2234 - val_loss: 0.3075\n",
      "Epoch 28/40\n",
      "500/500 [==============================] - 79s 159ms/step - loss: 0.2215 - val_loss: 0.3064\n",
      "Epoch 29/40\n",
      "500/500 [==============================] - 79s 158ms/step - loss: 0.2208 - val_loss: 0.3070\n",
      "Epoch 30/40\n",
      "500/500 [==============================] - 79s 158ms/step - loss: 0.2203 - val_loss: 0.3111\n",
      "Epoch 31/40\n",
      "500/500 [==============================] - 79s 159ms/step - loss: 0.2181 - val_loss: 0.3154\n",
      "Epoch 32/40\n",
      "500/500 [==============================] - 79s 158ms/step - loss: 0.2183 - val_loss: 0.3085\n",
      "Epoch 33/40\n",
      "500/500 [==============================] - 79s 158ms/step - loss: 0.2164 - val_loss: 0.3125\n",
      "Epoch 34/40\n",
      "500/500 [==============================] - 81s 162ms/step - loss: 0.2171 - val_loss: 0.3177\n",
      "Epoch 35/40\n",
      "500/500 [==============================] - 84s 167ms/step - loss: 0.2156 - val_loss: 0.3184\n",
      "Epoch 36/40\n",
      "500/500 [==============================] - 83s 166ms/step - loss: 0.2159 - val_loss: 0.3135\n",
      "Epoch 37/40\n",
      "500/500 [==============================] - 80s 160ms/step - loss: 0.2148 - val_loss: 0.3179\n",
      "Epoch 38/40\n",
      "500/500 [==============================] - 80s 160ms/step - loss: 0.2134 - val_loss: 0.3173\n",
      "Epoch 39/40\n",
      "500/500 [==============================] - 84s 168ms/step - loss: 0.2120 - val_loss: 0.3128\n",
      "Epoch 40/40\n",
      "500/500 [==============================] - 85s 171ms/step - loss: 0.2126 - val_loss: 0.3191\n"
     ]
    }
   ],
   "source": [
    "model = Sequential()\n",
    "model.add(layers.LSTM(32, \n",
    "                     dropout=0.1,\n",
    "                     recurrent_dropout=0.5,\n",
    "                     input_shape=(None, float_data.shape[-1])))\n",
    "model.add(layers.Dense(1))\n",
    "\n",
    "model.compile(optimizer=optimizers.RMSprop(), loss='mae')\n",
    "history = model.fit(train_gen, steps_per_epoch=500, epochs=40, \n",
    "                    validation_data=val_gen, validation_steps=val_steps)"
   ]
  },
  {
   "cell_type": "code",
   "execution_count": 8,
   "id": "381794b5",
   "metadata": {},
   "outputs": [
    {
     "data": {
      "image/png": "[encoded data removed]",
      "text/plain": [
       "<Figure size 432x288 with 1 Axes>"
      ]
     },
     "metadata": {
      "needs_background": "light"
     },
     "output_type": "display_data"
    }
   ],
   "source": [
    "plot_loss(history)"
   ]
  },
  {
   "cell_type": "code",
   "execution_count": null,
   "id": "2b0489de",
   "metadata": {},
   "outputs": [],
   "source": []
  }
 ],
 "metadata": {
  "kernelspec": {
   "display_name": "Python 3",
   "language": "python",
   "name": "python3"
  },
  "language_info": {
   "codemirror_mode": {
    "name": "ipython",
    "version": 3
   },
   "file_extension": ".py",
   "mimetype": "text/x-python",
   "name": "python",
   "nbconvert_exporter": "python",
   "pygments_lexer": "ipython3",
   "version": "3.6.13"
  }
 },
 "nbformat": 4,
 "nbformat_minor": 5
}
