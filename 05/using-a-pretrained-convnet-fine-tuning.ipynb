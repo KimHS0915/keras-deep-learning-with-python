{
 "cells": [
  {
   "cell_type": "code",
   "execution_count": 1,
   "id": "642e1874",
   "metadata": {},
   "outputs": [],
   "source": [
    "from tensorflow.keras.applications import VGG16\n",
    "\n",
    "conv_base = VGG16(weights='imagenet', \n",
    "                  include_top=False, \n",
    "                  input_shape=(150, 150, 3))"
   ]
  },
  {
   "cell_type": "code",
   "execution_count": 2,
   "id": "1c0da1f6",
   "metadata": {},
   "outputs": [
    {
     "name": "stdout",
     "output_type": "stream",
     "text": [
      "Model: \"vgg16\"\n",
      "_________________________________________________________________\n",
      "Layer (type)                 Output Shape              Param #   \n",
      "=================================================================\n",
      "input_1 (InputLayer)         [(None, 150, 150, 3)]     0         \n",
      "_________________________________________________________________\n",
      "block1_conv1 (Conv2D)        (None, 150, 150, 64)      1792      \n",
      "_________________________________________________________________\n",
      "block1_conv2 (Conv2D)        (None, 150, 150, 64)      36928     \n",
      "_________________________________________________________________\n",
      "block1_pool (MaxPooling2D)   (None, 75, 75, 64)        0         \n",
      "_________________________________________________________________\n",
      "block2_conv1 (Conv2D)        (None, 75, 75, 128)       73856     \n",
      "_________________________________________________________________\n",
      "block2_conv2 (Conv2D)        (None, 75, 75, 128)       147584    \n",
      "_________________________________________________________________\n",
      "block2_pool (MaxPooling2D)   (None, 37, 37, 128)       0         \n",
      "_________________________________________________________________\n",
      "block3_conv1 (Conv2D)        (None, 37, 37, 256)       295168    \n",
      "_________________________________________________________________\n",
      "block3_conv2 (Conv2D)        (None, 37, 37, 256)       590080    \n",
      "_________________________________________________________________\n",
      "block3_conv3 (Conv2D)        (None, 37, 37, 256)       590080    \n",
      "_________________________________________________________________\n",
      "block3_pool (MaxPooling2D)   (None, 18, 18, 256)       0         \n",
      "_________________________________________________________________\n",
      "block4_conv1 (Conv2D)        (None, 18, 18, 512)       1180160   \n",
      "_________________________________________________________________\n",
      "block4_conv2 (Conv2D)        (None, 18, 18, 512)       2359808   \n",
      "_________________________________________________________________\n",
      "block4_conv3 (Conv2D)        (None, 18, 18, 512)       2359808   \n",
      "_________________________________________________________________\n",
      "block4_pool (MaxPooling2D)   (None, 9, 9, 512)         0         \n",
      "_________________________________________________________________\n",
      "block5_conv1 (Conv2D)        (None, 9, 9, 512)         2359808   \n",
      "_________________________________________________________________\n",
      "block5_conv2 (Conv2D)        (None, 9, 9, 512)         2359808   \n",
      "_________________________________________________________________\n",
      "block5_conv3 (Conv2D)        (None, 9, 9, 512)         2359808   \n",
      "_________________________________________________________________\n",
      "block5_pool (MaxPooling2D)   (None, 4, 4, 512)         0         \n",
      "=================================================================\n",
      "Total params: 14,714,688\n",
      "Trainable params: 14,714,688\n",
      "Non-trainable params: 0\n",
      "_________________________________________________________________\n"
     ]
    }
   ],
   "source": [
    "conv_base.summary()"
   ]
  },
  {
   "cell_type": "code",
   "execution_count": 3,
   "id": "bb0e9fd7",
   "metadata": {},
   "outputs": [],
   "source": [
    "from tensorflow.keras import models\n",
    "from tensorflow.keras import layers\n",
    "\n",
    "model = models.Sequential()\n",
    "model.add(conv_base)\n",
    "model.add(layers.Flatten())\n",
    "model.add(layers.Dense(256, activation='relu'))\n",
    "model.add(layers.Dense(1, activation='sigmoid'))"
   ]
  },
  {
   "cell_type": "code",
   "execution_count": 4,
   "id": "6bd2cf0f",
   "metadata": {},
   "outputs": [],
   "source": [
    "import os\n",
    "\n",
    "base_dir = '../datasets/cats_and_dogs_small'\n",
    "\n",
    "train_dir = os.path.join(base_dir, 'train')\n",
    "validation_dir = os.path.join(base_dir, 'validation')\n",
    "test_dir = os.path.join(base_dir, 'test')"
   ]
  },
  {
   "cell_type": "code",
   "execution_count": 5,
   "id": "ec06d1c4",
   "metadata": {},
   "outputs": [
    {
     "name": "stdout",
     "output_type": "stream",
     "text": [
      "Found 2000 images belonging to 2 classes.\n",
      "Found 1000 images belonging to 2 classes.\n"
     ]
    }
   ],
   "source": [
    "from tensorflow.keras.preprocessing.image import ImageDataGenerator\n",
    "\n",
    "conv_base.trainable = False\n",
    "\n",
    "train_datagen = ImageDataGenerator(\n",
    "    rescale=1./255,\n",
    "    rotation_range=40,\n",
    "    width_shift_range=0.2,\n",
    "    height_shift_range=0.2,\n",
    "    shear_range=0.2,\n",
    "    zoom_range=0.2,\n",
    "    horizontal_flip=True,\n",
    "    fill_mode='nearest'\n",
    ")\n",
    "\n",
    "test_datagen = ImageDataGenerator(rescale=1./255)\n",
    "\n",
    "train_generator = train_datagen.flow_from_directory(train_dir, \n",
    "                                                    target_size=(150, 150), \n",
    "                                                    batch_size=20, \n",
    "                                                    class_mode='binary')\n",
    "validation_generator = test_datagen.flow_from_directory(validation_dir, \n",
    "                                                        target_size=(150, 150), \n",
    "                                                        batch_size=20,\n",
    "                                                        class_mode='binary')"
   ]
  },
  {
   "cell_type": "code",
   "execution_count": 6,
   "id": "8c3ac795",
   "metadata": {},
   "outputs": [
    {
     "name": "stdout",
     "output_type": "stream",
     "text": [
      "Epoch 1/30\n",
      "100/100 - 81s - loss: 0.6183 - acc: 0.6490 - val_loss: 0.4853 - val_acc: 0.8240\n",
      "Epoch 2/30\n",
      "100/100 - 81s - loss: 0.5040 - acc: 0.7740 - val_loss: 0.3920 - val_acc: 0.8530\n",
      "Epoch 3/30\n",
      "100/100 - 81s - loss: 0.4437 - acc: 0.8045 - val_loss: 0.3463 - val_acc: 0.8660\n",
      "Epoch 4/30\n",
      "100/100 - 80s - loss: 0.4061 - acc: 0.8230 - val_loss: 0.3224 - val_acc: 0.8730\n",
      "Epoch 5/30\n",
      "100/100 - 80s - loss: 0.3819 - acc: 0.8330 - val_loss: 0.2970 - val_acc: 0.8780\n",
      "Epoch 6/30\n",
      "100/100 - 81s - loss: 0.3760 - acc: 0.8370 - val_loss: 0.2859 - val_acc: 0.8850\n",
      "Epoch 7/30\n",
      "100/100 - 81s - loss: 0.3656 - acc: 0.8395 - val_loss: 0.3006 - val_acc: 0.8740\n",
      "Epoch 8/30\n",
      "100/100 - 81s - loss: 0.3572 - acc: 0.8460 - val_loss: 0.2747 - val_acc: 0.8880\n",
      "Epoch 9/30\n",
      "100/100 - 81s - loss: 0.3480 - acc: 0.8425 - val_loss: 0.2677 - val_acc: 0.8930\n",
      "Epoch 10/30\n",
      "100/100 - 81s - loss: 0.3400 - acc: 0.8445 - val_loss: 0.2686 - val_acc: 0.8910\n",
      "Epoch 11/30\n",
      "100/100 - 81s - loss: 0.3362 - acc: 0.8565 - val_loss: 0.2583 - val_acc: 0.9010\n",
      "Epoch 12/30\n",
      "100/100 - 81s - loss: 0.3383 - acc: 0.8520 - val_loss: 0.2583 - val_acc: 0.8960\n",
      "Epoch 13/30\n",
      "100/100 - 81s - loss: 0.3301 - acc: 0.8440 - val_loss: 0.2569 - val_acc: 0.8960\n",
      "Epoch 14/30\n",
      "100/100 - 81s - loss: 0.3229 - acc: 0.8625 - val_loss: 0.2537 - val_acc: 0.9000\n",
      "Epoch 15/30\n",
      "100/100 - 81s - loss: 0.3100 - acc: 0.8635 - val_loss: 0.2522 - val_acc: 0.9030\n",
      "Epoch 16/30\n",
      "100/100 - 81s - loss: 0.3099 - acc: 0.8605 - val_loss: 0.2515 - val_acc: 0.8930\n",
      "Epoch 17/30\n",
      "100/100 - 81s - loss: 0.3120 - acc: 0.8705 - val_loss: 0.2473 - val_acc: 0.9030\n",
      "Epoch 18/30\n",
      "100/100 - 81s - loss: 0.3075 - acc: 0.8640 - val_loss: 0.2457 - val_acc: 0.9040\n",
      "Epoch 19/30\n",
      "100/100 - 81s - loss: 0.3141 - acc: 0.8590 - val_loss: 0.2473 - val_acc: 0.8970\n",
      "Epoch 20/30\n",
      "100/100 - 81s - loss: 0.3072 - acc: 0.8650 - val_loss: 0.2444 - val_acc: 0.8990\n",
      "Epoch 21/30\n",
      "100/100 - 81s - loss: 0.3098 - acc: 0.8700 - val_loss: 0.2517 - val_acc: 0.8940\n",
      "Epoch 22/30\n",
      "100/100 - 81s - loss: 0.3023 - acc: 0.8805 - val_loss: 0.2447 - val_acc: 0.8950\n",
      "Epoch 23/30\n",
      "100/100 - 81s - loss: 0.2813 - acc: 0.8775 - val_loss: 0.2450 - val_acc: 0.8940\n",
      "Epoch 24/30\n",
      "100/100 - 81s - loss: 0.2966 - acc: 0.8750 - val_loss: 0.2579 - val_acc: 0.8940\n",
      "Epoch 25/30\n",
      "100/100 - 81s - loss: 0.2950 - acc: 0.8675 - val_loss: 0.2677 - val_acc: 0.8860\n",
      "Epoch 26/30\n",
      "100/100 - 81s - loss: 0.2999 - acc: 0.8685 - val_loss: 0.2464 - val_acc: 0.8970\n",
      "Epoch 27/30\n",
      "100/100 - 81s - loss: 0.2876 - acc: 0.8695 - val_loss: 0.2437 - val_acc: 0.9000\n",
      "Epoch 28/30\n",
      "100/100 - 81s - loss: 0.2619 - acc: 0.8840 - val_loss: 0.2443 - val_acc: 0.9050\n",
      "Epoch 29/30\n",
      "100/100 - 81s - loss: 0.2807 - acc: 0.8705 - val_loss: 0.2450 - val_acc: 0.8960\n",
      "Epoch 30/30\n",
      "100/100 - 81s - loss: 0.2838 - acc: 0.8795 - val_loss: 0.2450 - val_acc: 0.8930\n"
     ]
    }
   ],
   "source": [
    "from tensorflow.keras import optimizers\n",
    "\n",
    "model.compile(optimizer=optimizers.RMSprop(learning_rate=2e-5), \n",
    "              loss='binary_crossentropy', \n",
    "              metrics=['acc'])\n",
    "\n",
    "history = model.fit(train_generator,\n",
    "                    steps_per_epoch=100,\n",
    "                    epochs=30, \n",
    "                    validation_data=validation_generator, \n",
    "                    validation_steps=50, \n",
    "                    verbose=2)"
   ]
  },
  {
   "cell_type": "code",
   "execution_count": 7,
   "id": "1649542b",
   "metadata": {},
   "outputs": [],
   "source": [
    "conv_base.trainable = True\n",
    "\n",
    "set_trainable = False\n",
    "for layer in conv_base.layers:\n",
    "    if layer.name == 'block5_conv1':\n",
    "        set_trainable = True\n",
    "    if set_trainable:\n",
    "        layer.trainable = True\n",
    "    else:\n",
    "        layer.trainable = False"
   ]
  },
  {
   "cell_type": "code",
   "execution_count": 8,
   "id": "8303a738",
   "metadata": {},
   "outputs": [
    {
     "name": "stdout",
     "output_type": "stream",
     "text": [
      "Epoch 1/100\n",
      "100/100 [==============================] - 99s 987ms/step - loss: 0.3013 - acc: 0.8735 - val_loss: 0.2264 - val_acc: 0.9030\n",
      "Epoch 2/100\n",
      "100/100 [==============================] - 98s 984ms/step - loss: 0.2681 - acc: 0.8840 - val_loss: 0.2336 - val_acc: 0.9060\n",
      "Epoch 3/100\n",
      "100/100 [==============================] - 98s 985ms/step - loss: 0.2492 - acc: 0.8960 - val_loss: 0.1997 - val_acc: 0.9180\n",
      "Epoch 4/100\n",
      "100/100 [==============================] - 99s 988ms/step - loss: 0.2227 - acc: 0.9110 - val_loss: 0.2013 - val_acc: 0.9220\n",
      "Epoch 5/100\n",
      "100/100 [==============================] - 98s 985ms/step - loss: 0.2052 - acc: 0.9170 - val_loss: 0.1959 - val_acc: 0.9240\n",
      "Epoch 6/100\n",
      "100/100 [==============================] - 99s 987ms/step - loss: 0.1996 - acc: 0.9195 - val_loss: 0.2007 - val_acc: 0.9260\n",
      "Epoch 7/100\n",
      "100/100 [==============================] - 99s 989ms/step - loss: 0.1828 - acc: 0.9260 - val_loss: 0.1994 - val_acc: 0.9300\n",
      "Epoch 8/100\n",
      "100/100 [==============================] - 98s 985ms/step - loss: 0.1761 - acc: 0.9255 - val_loss: 0.1741 - val_acc: 0.9300\n",
      "Epoch 9/100\n",
      "100/100 [==============================] - 98s 985ms/step - loss: 0.1589 - acc: 0.9340 - val_loss: 0.1948 - val_acc: 0.9320\n",
      "Epoch 10/100\n",
      "100/100 [==============================] - 99s 987ms/step - loss: 0.1593 - acc: 0.9340 - val_loss: 0.1881 - val_acc: 0.9250\n",
      "Epoch 11/100\n",
      "100/100 [==============================] - 99s 991ms/step - loss: 0.1437 - acc: 0.9360 - val_loss: 0.2047 - val_acc: 0.9230\n",
      "Epoch 12/100\n",
      "100/100 [==============================] - 98s 986ms/step - loss: 0.1382 - acc: 0.9475 - val_loss: 0.1912 - val_acc: 0.9280\n",
      "Epoch 13/100\n",
      "100/100 [==============================] - 99s 987ms/step - loss: 0.1254 - acc: 0.9500 - val_loss: 0.2005 - val_acc: 0.9270\n",
      "Epoch 14/100\n",
      "100/100 [==============================] - 98s 986ms/step - loss: 0.1347 - acc: 0.9455 - val_loss: 0.1840 - val_acc: 0.9300\n",
      "Epoch 15/100\n",
      "100/100 [==============================] - 98s 986ms/step - loss: 0.1166 - acc: 0.9525 - val_loss: 0.2286 - val_acc: 0.9150\n",
      "Epoch 16/100\n",
      "100/100 [==============================] - 99s 988ms/step - loss: 0.1246 - acc: 0.9495 - val_loss: 0.1916 - val_acc: 0.9300\n",
      "Epoch 17/100\n",
      "100/100 [==============================] - 98s 986ms/step - loss: 0.1156 - acc: 0.9500 - val_loss: 0.2466 - val_acc: 0.9140\n",
      "Epoch 18/100\n",
      "100/100 [==============================] - 99s 987ms/step - loss: 0.1113 - acc: 0.9550 - val_loss: 0.2429 - val_acc: 0.9210\n",
      "Epoch 19/100\n",
      "100/100 [==============================] - 98s 985ms/step - loss: 0.0976 - acc: 0.9595 - val_loss: 0.2594 - val_acc: 0.9220\n",
      "Epoch 20/100\n",
      "100/100 [==============================] - 98s 986ms/step - loss: 0.1054 - acc: 0.9610 - val_loss: 0.3155 - val_acc: 0.9050\n",
      "Epoch 21/100\n",
      "100/100 [==============================] - 99s 987ms/step - loss: 0.1036 - acc: 0.9600 - val_loss: 0.1958 - val_acc: 0.9310\n",
      "Epoch 22/100\n",
      "100/100 [==============================] - 98s 986ms/step - loss: 0.0932 - acc: 0.9655 - val_loss: 0.3200 - val_acc: 0.9040\n",
      "Epoch 23/100\n",
      "100/100 [==============================] - 98s 986ms/step - loss: 0.0832 - acc: 0.9700 - val_loss: 0.2423 - val_acc: 0.9290\n",
      "Epoch 24/100\n",
      "100/100 [==============================] - 99s 987ms/step - loss: 0.0900 - acc: 0.9670 - val_loss: 0.2406 - val_acc: 0.9230\n",
      "Epoch 25/100\n",
      "100/100 [==============================] - 99s 991ms/step - loss: 0.0864 - acc: 0.9650 - val_loss: 0.1916 - val_acc: 0.9350\n",
      "Epoch 26/100\n",
      "100/100 [==============================] - 99s 990ms/step - loss: 0.0704 - acc: 0.9710 - val_loss: 0.2053 - val_acc: 0.9340\n",
      "Epoch 27/100\n",
      "100/100 [==============================] - 98s 985ms/step - loss: 0.0729 - acc: 0.9790 - val_loss: 0.1938 - val_acc: 0.9350\n",
      "Epoch 28/100\n",
      "100/100 [==============================] - 99s 989ms/step - loss: 0.0807 - acc: 0.9720 - val_loss: 0.1903 - val_acc: 0.9310\n",
      "Epoch 29/100\n",
      "100/100 [==============================] - 99s 988ms/step - loss: 0.0776 - acc: 0.9710 - val_loss: 0.1836 - val_acc: 0.9350\n",
      "Epoch 30/100\n",
      "100/100 [==============================] - 99s 988ms/step - loss: 0.0624 - acc: 0.9795 - val_loss: 0.2178 - val_acc: 0.9330\n",
      "Epoch 31/100\n",
      "100/100 [==============================] - 99s 990ms/step - loss: 0.0630 - acc: 0.9755 - val_loss: 0.2288 - val_acc: 0.9300\n",
      "Epoch 32/100\n",
      "100/100 [==============================] - 99s 995ms/step - loss: 0.0733 - acc: 0.9750 - val_loss: 0.1874 - val_acc: 0.9400\n",
      "Epoch 33/100\n",
      "100/100 [==============================] - 99s 991ms/step - loss: 0.0722 - acc: 0.9700 - val_loss: 0.2647 - val_acc: 0.9240\n",
      "Epoch 34/100\n",
      "100/100 [==============================] - 99s 988ms/step - loss: 0.0623 - acc: 0.9760 - val_loss: 0.2031 - val_acc: 0.9310\n",
      "Epoch 35/100\n",
      "100/100 [==============================] - 99s 990ms/step - loss: 0.0610 - acc: 0.9745 - val_loss: 0.2369 - val_acc: 0.9280\n",
      "Epoch 36/100\n",
      "100/100 [==============================] - 99s 989ms/step - loss: 0.0554 - acc: 0.9775 - val_loss: 0.2161 - val_acc: 0.9430\n",
      "Epoch 37/100\n",
      "100/100 [==============================] - 99s 988ms/step - loss: 0.0579 - acc: 0.9785 - val_loss: 0.2435 - val_acc: 0.9300\n",
      "Epoch 38/100\n",
      "100/100 [==============================] - 98s 984ms/step - loss: 0.0567 - acc: 0.9805 - val_loss: 0.1905 - val_acc: 0.9400\n",
      "Epoch 39/100\n",
      "100/100 [==============================] - 98s 986ms/step - loss: 0.0531 - acc: 0.9805 - val_loss: 0.1830 - val_acc: 0.9370\n",
      "Epoch 40/100\n",
      "100/100 [==============================] - 98s 986ms/step - loss: 0.0462 - acc: 0.9850 - val_loss: 0.2166 - val_acc: 0.9320\n",
      "Epoch 41/100\n",
      "100/100 [==============================] - 98s 985ms/step - loss: 0.0490 - acc: 0.9850 - val_loss: 0.3580 - val_acc: 0.9160\n",
      "Epoch 42/100\n",
      "100/100 [==============================] - 98s 986ms/step - loss: 0.0430 - acc: 0.9850 - val_loss: 0.2193 - val_acc: 0.9340\n",
      "Epoch 43/100\n",
      "100/100 [==============================] - 98s 987ms/step - loss: 0.0504 - acc: 0.9815 - val_loss: 0.2239 - val_acc: 0.9370\n",
      "Epoch 44/100\n",
      "100/100 [==============================] - 98s 986ms/step - loss: 0.0416 - acc: 0.9875 - val_loss: 0.1893 - val_acc: 0.9380\n",
      "Epoch 45/100\n",
      "100/100 [==============================] - 99s 990ms/step - loss: 0.0442 - acc: 0.9815 - val_loss: 0.2666 - val_acc: 0.9300\n",
      "Epoch 46/100\n",
      "100/100 [==============================] - 99s 991ms/step - loss: 0.0523 - acc: 0.9835 - val_loss: 0.1912 - val_acc: 0.9380\n",
      "Epoch 47/100\n",
      "100/100 [==============================] - 99s 994ms/step - loss: 0.0437 - acc: 0.9840 - val_loss: 0.2131 - val_acc: 0.9410\n",
      "Epoch 48/100\n",
      "100/100 [==============================] - 99s 987ms/step - loss: 0.0427 - acc: 0.9860 - val_loss: 0.2575 - val_acc: 0.9350\n",
      "Epoch 49/100\n",
      "100/100 [==============================] - 99s 988ms/step - loss: 0.0365 - acc: 0.9870 - val_loss: 0.2191 - val_acc: 0.9410\n",
      "Epoch 50/100\n",
      "100/100 [==============================] - 98s 985ms/step - loss: 0.0376 - acc: 0.9840 - val_loss: 0.2543 - val_acc: 0.9300\n",
      "Epoch 51/100\n",
      "100/100 [==============================] - 99s 991ms/step - loss: 0.0477 - acc: 0.9840 - val_loss: 0.3461 - val_acc: 0.9150\n",
      "Epoch 52/100\n",
      "100/100 [==============================] - 99s 990ms/step - loss: 0.0367 - acc: 0.9835 - val_loss: 0.2324 - val_acc: 0.9390\n",
      "Epoch 53/100\n",
      "100/100 [==============================] - 99s 987ms/step - loss: 0.0345 - acc: 0.9880 - val_loss: 0.3031 - val_acc: 0.9320\n",
      "Epoch 54/100\n",
      "100/100 [==============================] - 99s 987ms/step - loss: 0.0413 - acc: 0.9865 - val_loss: 0.2011 - val_acc: 0.9380\n",
      "Epoch 55/100\n",
      "100/100 [==============================] - 99s 988ms/step - loss: 0.0290 - acc: 0.9895 - val_loss: 0.2703 - val_acc: 0.9370\n",
      "Epoch 56/100\n",
      "100/100 [==============================] - 99s 989ms/step - loss: 0.0384 - acc: 0.9885 - val_loss: 0.2188 - val_acc: 0.9370\n",
      "Epoch 57/100\n",
      "100/100 [==============================] - 99s 993ms/step - loss: 0.0317 - acc: 0.9895 - val_loss: 0.2334 - val_acc: 0.9340\n",
      "Epoch 58/100\n",
      "100/100 [==============================] - 99s 989ms/step - loss: 0.0344 - acc: 0.9865 - val_loss: 0.2322 - val_acc: 0.9340\n",
      "Epoch 59/100\n",
      "100/100 [==============================] - 99s 990ms/step - loss: 0.0322 - acc: 0.9895 - val_loss: 0.3099 - val_acc: 0.9300\n",
      "Epoch 60/100\n",
      "100/100 [==============================] - 99s 988ms/step - loss: 0.0306 - acc: 0.9905 - val_loss: 0.2353 - val_acc: 0.9280\n"
     ]
    },
    {
     "name": "stdout",
     "output_type": "stream",
     "text": [
      "Epoch 61/100\n",
      "100/100 [==============================] - 99s 987ms/step - loss: 0.0382 - acc: 0.9870 - val_loss: 0.3095 - val_acc: 0.9340\n",
      "Epoch 62/100\n",
      "100/100 [==============================] - 99s 989ms/step - loss: 0.0250 - acc: 0.9885 - val_loss: 0.2526 - val_acc: 0.9390\n",
      "Epoch 63/100\n",
      "100/100 [==============================] - 99s 989ms/step - loss: 0.0325 - acc: 0.9900 - val_loss: 0.2355 - val_acc: 0.9390\n",
      "Epoch 64/100\n",
      "100/100 [==============================] - 98s 985ms/step - loss: 0.0324 - acc: 0.9885 - val_loss: 0.4322 - val_acc: 0.9130\n",
      "Epoch 65/100\n",
      "100/100 [==============================] - 99s 987ms/step - loss: 0.0307 - acc: 0.9880 - val_loss: 0.2161 - val_acc: 0.9420\n",
      "Epoch 66/100\n",
      "100/100 [==============================] - 99s 988ms/step - loss: 0.0236 - acc: 0.9930 - val_loss: 0.3341 - val_acc: 0.9340\n",
      "Epoch 67/100\n",
      "100/100 [==============================] - 99s 986ms/step - loss: 0.0330 - acc: 0.9885 - val_loss: 0.2591 - val_acc: 0.9390\n",
      "Epoch 68/100\n",
      "100/100 [==============================] - 99s 990ms/step - loss: 0.0352 - acc: 0.9875 - val_loss: 0.2392 - val_acc: 0.9360\n",
      "Epoch 69/100\n",
      "100/100 [==============================] - 99s 991ms/step - loss: 0.0460 - acc: 0.9865 - val_loss: 0.3162 - val_acc: 0.9330\n",
      "Epoch 70/100\n",
      "100/100 [==============================] - 99s 990ms/step - loss: 0.0277 - acc: 0.9915 - val_loss: 0.2510 - val_acc: 0.9390\n",
      "Epoch 71/100\n",
      "100/100 [==============================] - 99s 990ms/step - loss: 0.0243 - acc: 0.9915 - val_loss: 0.2296 - val_acc: 0.9320\n",
      "Epoch 72/100\n",
      "100/100 [==============================] - 99s 988ms/step - loss: 0.0262 - acc: 0.9890 - val_loss: 0.2725 - val_acc: 0.9410\n",
      "Epoch 73/100\n",
      "100/100 [==============================] - 99s 988ms/step - loss: 0.0193 - acc: 0.9955 - val_loss: 0.2735 - val_acc: 0.9410\n",
      "Epoch 74/100\n",
      "100/100 [==============================] - 99s 989ms/step - loss: 0.0229 - acc: 0.9925 - val_loss: 0.3434 - val_acc: 0.9310\n",
      "Epoch 75/100\n",
      "100/100 [==============================] - 99s 988ms/step - loss: 0.0255 - acc: 0.9890 - val_loss: 0.3003 - val_acc: 0.9330\n",
      "Epoch 76/100\n",
      "100/100 [==============================] - 99s 988ms/step - loss: 0.0245 - acc: 0.9920 - val_loss: 0.2804 - val_acc: 0.9430\n",
      "Epoch 77/100\n",
      "100/100 [==============================] - 98s 987ms/step - loss: 0.0233 - acc: 0.9910 - val_loss: 0.2747 - val_acc: 0.9350\n",
      "Epoch 78/100\n",
      "100/100 [==============================] - 98s 986ms/step - loss: 0.0276 - acc: 0.9900 - val_loss: 0.2700 - val_acc: 0.9400\n",
      "Epoch 79/100\n",
      "100/100 [==============================] - 99s 986ms/step - loss: 0.0304 - acc: 0.9890 - val_loss: 0.2416 - val_acc: 0.9340\n",
      "Epoch 80/100\n",
      "100/100 [==============================] - 99s 988ms/step - loss: 0.0191 - acc: 0.9925 - val_loss: 0.2692 - val_acc: 0.9310\n",
      "Epoch 81/100\n",
      "100/100 [==============================] - 99s 989ms/step - loss: 0.0226 - acc: 0.9915 - val_loss: 0.2456 - val_acc: 0.9360\n",
      "Epoch 82/100\n",
      "100/100 [==============================] - 98s 986ms/step - loss: 0.0176 - acc: 0.9925 - val_loss: 0.2775 - val_acc: 0.9400\n",
      "Epoch 83/100\n",
      "100/100 [==============================] - 99s 989ms/step - loss: 0.0227 - acc: 0.9935 - val_loss: 0.2517 - val_acc: 0.9350\n",
      "Epoch 84/100\n",
      "100/100 [==============================] - 99s 992ms/step - loss: 0.0205 - acc: 0.9925 - val_loss: 0.2899 - val_acc: 0.9420\n",
      "Epoch 85/100\n",
      "100/100 [==============================] - 99s 988ms/step - loss: 0.0166 - acc: 0.9945 - val_loss: 0.3231 - val_acc: 0.9380\n",
      "Epoch 86/100\n",
      "100/100 [==============================] - 99s 987ms/step - loss: 0.0335 - acc: 0.9875 - val_loss: 0.3058 - val_acc: 0.9210\n",
      "Epoch 87/100\n",
      "100/100 [==============================] - 98s 987ms/step - loss: 0.0274 - acc: 0.9900 - val_loss: 0.2567 - val_acc: 0.9420\n",
      "Epoch 88/100\n",
      "100/100 [==============================] - 98s 986ms/step - loss: 0.0263 - acc: 0.9925 - val_loss: 0.2635 - val_acc: 0.9430\n",
      "Epoch 89/100\n",
      "100/100 [==============================] - 99s 987ms/step - loss: 0.0129 - acc: 0.9960 - val_loss: 0.2685 - val_acc: 0.9370\n",
      "Epoch 90/100\n",
      "100/100 [==============================] - 99s 989ms/step - loss: 0.0276 - acc: 0.9900 - val_loss: 0.2653 - val_acc: 0.9380\n",
      "Epoch 91/100\n",
      "100/100 [==============================] - 99s 988ms/step - loss: 0.0139 - acc: 0.9955 - val_loss: 0.2702 - val_acc: 0.9370\n",
      "Epoch 92/100\n",
      "100/100 [==============================] - 99s 987ms/step - loss: 0.0205 - acc: 0.9945 - val_loss: 0.2631 - val_acc: 0.9400\n",
      "Epoch 93/100\n",
      "100/100 [==============================] - 99s 987ms/step - loss: 0.0159 - acc: 0.9935 - val_loss: 0.4017 - val_acc: 0.9330\n",
      "Epoch 94/100\n",
      "100/100 [==============================] - 99s 987ms/step - loss: 0.0183 - acc: 0.9935 - val_loss: 0.2786 - val_acc: 0.9400\n",
      "Epoch 95/100\n",
      "100/100 [==============================] - 100s 1s/step - loss: 0.0126 - acc: 0.9965 - val_loss: 0.3724 - val_acc: 0.9340\n",
      "Epoch 96/100\n",
      "100/100 [==============================] - 101s 1s/step - loss: 0.0132 - acc: 0.9945 - val_loss: 0.3122 - val_acc: 0.9350\n",
      "Epoch 97/100\n",
      "100/100 [==============================] - 99s 988ms/step - loss: 0.0235 - acc: 0.9930 - val_loss: 0.2866 - val_acc: 0.9350\n",
      "Epoch 98/100\n",
      "100/100 [==============================] - 98s 987ms/step - loss: 0.0166 - acc: 0.9925 - val_loss: 0.3066 - val_acc: 0.9400\n",
      "Epoch 99/100\n",
      "100/100 [==============================] - 99s 989ms/step - loss: 0.0191 - acc: 0.9935 - val_loss: 0.2941 - val_acc: 0.9410\n",
      "Epoch 100/100\n",
      "100/100 [==============================] - 99s 989ms/step - loss: 0.0199 - acc: 0.9955 - val_loss: 0.3153 - val_acc: 0.9420\n"
     ]
    }
   ],
   "source": [
    "model.compile(loss='binary_crossentropy', \n",
    "              optimizer=optimizers.RMSprop(learning_rate=1e-5), \n",
    "              metrics=['acc'])\n",
    "\n",
    "history = model.fit(train_generator, \n",
    "                    steps_per_epoch=100, \n",
    "                    epochs=100, \n",
    "                    validation_data=validation_generator, \n",
    "                    validation_steps=50)"
   ]
  },
  {
   "cell_type": "code",
   "execution_count": 9,
   "id": "5a8fcc04",
   "metadata": {},
   "outputs": [],
   "source": [
    "model.save('cats_and_dogs_small_4.h5')"
   ]
  },
  {
   "cell_type": "code",
   "execution_count": 10,
   "id": "3c3aba65",
   "metadata": {},
   "outputs": [
    {
     "data": {
      "image/png": "[encoded data removed]",
      "text/plain": [
       "<Figure size 432x288 with 1 Axes>"
      ]
     },
     "metadata": {
      "needs_background": "light"
     },
     "output_type": "display_data"
    },
    {
     "data": {
      "image/png": "[encoded data removed]",
      "text/plain": [
       "<Figure size 432x288 with 1 Axes>"
      ]
     },
     "metadata": {
      "needs_background": "light"
     },
     "output_type": "display_data"
    }
   ],
   "source": [
    "import matplotlib.pyplot as plt\n",
    "\n",
    "acc = history.history['acc']\n",
    "val_acc = history.history['val_acc']\n",
    "loss = history.history['loss']\n",
    "val_loss = history.history['val_loss']\n",
    "\n",
    "epochs = range(len(acc))\n",
    "\n",
    "plt.plot(epochs, acc, 'bo', label='Training acc')\n",
    "plt.plot(epochs, val_acc, 'b', label='Validation acc')\n",
    "plt.title('Training and validation accuracy')\n",
    "plt.legend()\n",
    "\n",
    "plt.figure()\n",
    "\n",
    "plt.plot(epochs, loss, 'bo', label='Training loss')\n",
    "plt.plot(epochs, val_loss, 'b', label='Validation loss')\n",
    "plt.title('Training and validation loss')\n",
    "plt.legend()\n",
    "\n",
    "plt.show()"
   ]
  },
  {
   "cell_type": "code",
   "execution_count": 11,
   "id": "ab4395d2",
   "metadata": {},
   "outputs": [],
   "source": [
    "def smooth_curve(points, factor=0.8):\n",
    "    smoothed_points = []\n",
    "    for point in points:\n",
    "        if smoothed_points:\n",
    "            previous = smoothed_points[-1]\n",
    "            smoothed_points.append(previous * factor + point * (1 - factor))\n",
    "        else:\n",
    "            smoothed_points.append(point)\n",
    "    return smoothed_points"
   ]
  },
  {
   "cell_type": "code",
   "execution_count": 12,
   "id": "e1d2edba",
   "metadata": {},
   "outputs": [
    {
     "data": {
      "image/png": "[encoded data removed]",
      "text/plain": [
       "<Figure size 432x288 with 1 Axes>"
      ]
     },
     "metadata": {
      "needs_background": "light"
     },
     "output_type": "display_data"
    },
    {
     "data": {
      "image/png": "[encoded data removed]",
      "text/plain": [
       "<Figure size 432x288 with 1 Axes>"
      ]
     },
     "metadata": {
      "needs_background": "light"
     },
     "output_type": "display_data"
    }
   ],
   "source": [
    "plt.plot(epochs, smooth_curve(acc), 'bo', label='Smoothed training acc')\n",
    "plt.plot(epochs, smooth_curve(val_acc), 'b', label='Smoothed validation acc')\n",
    "plt.title('Training and validation accuracy')\n",
    "plt.legend()\n",
    "\n",
    "plt.figure()\n",
    "\n",
    "plt.plot(epochs, smooth_curve(loss), 'bo', label='Smoothed training loss')\n",
    "plt.plot(epochs, smooth_curve(val_loss), 'b', label='Smoothed validation loss')\n",
    "plt.title('Training and validation loss')\n",
    "plt.legend()\n",
    "\n",
    "plt.show()"
   ]
  },
  {
   "cell_type": "code",
   "execution_count": 13,
   "id": "c0fc82d2",
   "metadata": {},
   "outputs": [
    {
     "name": "stdout",
     "output_type": "stream",
     "text": [
      "Found 1000 images belonging to 2 classes.\n",
      "50/50 [==============================] - 26s 526ms/step - loss: 0.3689 - acc: 0.9350\n",
      "test acc: 0.9350000023841858\n"
     ]
    }
   ],
   "source": [
    "test_generator = test_datagen.flow_from_directory(\n",
    "    test_dir, target_size=(150, 150), batch_size=20, class_mode='binary')\n",
    "\n",
    "test_loss, test_acc = model.evaluate(test_generator, steps=50)\n",
    "print('test acc:', test_acc)"
   ]
  },
  {
   "cell_type": "code",
   "execution_count": null,
   "id": "03359a45",
   "metadata": {},
   "outputs": [],
   "source": []
  }
 ],
 "metadata": {
  "kernelspec": {
   "display_name": "Python 3",
   "language": "python",
   "name": "python3"
  },
  "language_info": {
   "codemirror_mode": {
    "name": "ipython",
    "version": 3
   },
   "file_extension": ".py",
   "mimetype": "text/x-python",
   "name": "python",
   "nbconvert_exporter": "python",
   "pygments_lexer": "ipython3",
   "version": "3.6.13"
  }
 },
 "nbformat": 4,
 "nbformat_minor": 5
}
