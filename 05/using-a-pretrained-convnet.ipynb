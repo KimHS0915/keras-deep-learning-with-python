{
 "cells": [
  {
   "cell_type": "code",
   "execution_count": 1,
   "id": "fb620e30",
   "metadata": {},
   "outputs": [],
   "source": [
    "from tensorflow.keras.applications import VGG16\n",
    "\n",
    "conv_base = VGG16(weights='imagenet', \n",
    "                  include_top=False, \n",
    "                  input_shape=(150, 150, 3))"
   ]
  },
  {
   "cell_type": "code",
   "execution_count": 2,
   "id": "21db679d",
   "metadata": {},
   "outputs": [
    {
     "name": "stdout",
     "output_type": "stream",
     "text": [
      "Model: \"vgg16\"\n",
      "_________________________________________________________________\n",
      "Layer (type)                 Output Shape              Param #   \n",
      "=================================================================\n",
      "input_1 (InputLayer)         [(None, 150, 150, 3)]     0         \n",
      "_________________________________________________________________\n",
      "block1_conv1 (Conv2D)        (None, 150, 150, 64)      1792      \n",
      "_________________________________________________________________\n",
      "block1_conv2 (Conv2D)        (None, 150, 150, 64)      36928     \n",
      "_________________________________________________________________\n",
      "block1_pool (MaxPooling2D)   (None, 75, 75, 64)        0         \n",
      "_________________________________________________________________\n",
      "block2_conv1 (Conv2D)        (None, 75, 75, 128)       73856     \n",
      "_________________________________________________________________\n",
      "block2_conv2 (Conv2D)        (None, 75, 75, 128)       147584    \n",
      "_________________________________________________________________\n",
      "block2_pool (MaxPooling2D)   (None, 37, 37, 128)       0         \n",
      "_________________________________________________________________\n",
      "block3_conv1 (Conv2D)        (None, 37, 37, 256)       295168    \n",
      "_________________________________________________________________\n",
      "block3_conv2 (Conv2D)        (None, 37, 37, 256)       590080    \n",
      "_________________________________________________________________\n",
      "block3_conv3 (Conv2D)        (None, 37, 37, 256)       590080    \n",
      "_________________________________________________________________\n",
      "block3_pool (MaxPooling2D)   (None, 18, 18, 256)       0         \n",
      "_________________________________________________________________\n",
      "block4_conv1 (Conv2D)        (None, 18, 18, 512)       1180160   \n",
      "_________________________________________________________________\n",
      "block4_conv2 (Conv2D)        (None, 18, 18, 512)       2359808   \n",
      "_________________________________________________________________\n",
      "block4_conv3 (Conv2D)        (None, 18, 18, 512)       2359808   \n",
      "_________________________________________________________________\n",
      "block4_pool (MaxPooling2D)   (None, 9, 9, 512)         0         \n",
      "_________________________________________________________________\n",
      "block5_conv1 (Conv2D)        (None, 9, 9, 512)         2359808   \n",
      "_________________________________________________________________\n",
      "block5_conv2 (Conv2D)        (None, 9, 9, 512)         2359808   \n",
      "_________________________________________________________________\n",
      "block5_conv3 (Conv2D)        (None, 9, 9, 512)         2359808   \n",
      "_________________________________________________________________\n",
      "block5_pool (MaxPooling2D)   (None, 4, 4, 512)         0         \n",
      "=================================================================\n",
      "Total params: 14,714,688\n",
      "Trainable params: 14,714,688\n",
      "Non-trainable params: 0\n",
      "_________________________________________________________________\n"
     ]
    }
   ],
   "source": [
    "conv_base.summary()"
   ]
  },
  {
   "cell_type": "code",
   "execution_count": 3,
   "id": "bbf6c800",
   "metadata": {},
   "outputs": [
    {
     "name": "stdout",
     "output_type": "stream",
     "text": [
      "Found 2000 images belonging to 2 classes.\n",
      "Found 1000 images belonging to 2 classes.\n",
      "Found 1000 images belonging to 2 classes.\n"
     ]
    }
   ],
   "source": [
    "import os\n",
    "import numpy as np\n",
    "from tensorflow.keras.preprocessing.image import ImageDataGenerator\n",
    "\n",
    "base_dir = '../datasets/cats_and_dogs_small'\n",
    "\n",
    "train_dir = os.path.join(base_dir, 'train')\n",
    "validation_dir = os.path.join(base_dir, 'validation')\n",
    "test_dir = os.path.join(base_dir, 'test')\n",
    "\n",
    "datagen = ImageDataGenerator(rescale=1./255)\n",
    "batch_size = 20\n",
    "\n",
    "def extract_features(directory, sample_count):\n",
    "    features = np.zeros(shape=(sample_count, 4, 4, 512))\n",
    "    labels = np.zeros(shape=(sample_count))\n",
    "    generator = datagen.flow_from_directory(\n",
    "        directory,\n",
    "        target_size=(150, 150),\n",
    "        batch_size=batch_size,\n",
    "        class_mode='binary'\n",
    "    )\n",
    "    i = 0\n",
    "    for inputs_batch, labels_batch in generator:\n",
    "        features_batch = conv_base.predict(inputs_batch)\n",
    "        features[i * batch_size : (i + 1) * batch_size] = features_batch\n",
    "        labels[i * batch_size : (i + 1) * batch_size] = labels_batch\n",
    "        i += 1\n",
    "        if i * batch_size >= sample_count:\n",
    "            break\n",
    "    return features, labels\n",
    "\n",
    "train_features, train_labels = extract_features(train_dir, 2000)\n",
    "validation_features, validation_labels = extract_features(validation_dir, 1000)\n",
    "test_features, test_labels = extract_features(test_dir, 1000)"
   ]
  },
  {
   "cell_type": "code",
   "execution_count": 4,
   "id": "9f0b610c",
   "metadata": {},
   "outputs": [],
   "source": [
    "train_features = np.reshape(train_features, (2000, 4 * 4 * 512))\n",
    "validation_features = np.reshape(validation_features, (1000, 4 * 4 * 512))\n",
    "test_features = np.reshape(test_features, (1000, 4 * 4 * 512))"
   ]
  },
  {
   "cell_type": "code",
   "execution_count": 5,
   "id": "1b73b424",
   "metadata": {},
   "outputs": [
    {
     "name": "stdout",
     "output_type": "stream",
     "text": [
      "Epoch 1/30\n",
      "100/100 [==============================] - 2s 12ms/step - loss: 0.5970 - acc: 0.6790 - val_loss: 0.4443 - val_acc: 0.8360\n",
      "Epoch 2/30\n",
      "100/100 [==============================] - 1s 11ms/step - loss: 0.4485 - acc: 0.7940 - val_loss: 0.3643 - val_acc: 0.8590\n",
      "Epoch 3/30\n",
      "100/100 [==============================] - 1s 11ms/step - loss: 0.3526 - acc: 0.8470 - val_loss: 0.3230 - val_acc: 0.8760\n",
      "Epoch 4/30\n",
      "100/100 [==============================] - 1s 11ms/step - loss: 0.3237 - acc: 0.8565 - val_loss: 0.3000 - val_acc: 0.8840\n",
      "Epoch 5/30\n",
      "100/100 [==============================] - 1s 11ms/step - loss: 0.2939 - acc: 0.8790 - val_loss: 0.2846 - val_acc: 0.8920\n",
      "Epoch 6/30\n",
      "100/100 [==============================] - 1s 11ms/step - loss: 0.2684 - acc: 0.8905 - val_loss: 0.2791 - val_acc: 0.8820\n",
      "Epoch 7/30\n",
      "100/100 [==============================] - 1s 11ms/step - loss: 0.2521 - acc: 0.9015 - val_loss: 0.2677 - val_acc: 0.8920\n",
      "Epoch 8/30\n",
      "100/100 [==============================] - 1s 11ms/step - loss: 0.2361 - acc: 0.9130 - val_loss: 0.2605 - val_acc: 0.8910\n",
      "Epoch 9/30\n",
      "100/100 [==============================] - 1s 11ms/step - loss: 0.2159 - acc: 0.9165 - val_loss: 0.2544 - val_acc: 0.8960\n",
      "Epoch 10/30\n",
      "100/100 [==============================] - 1s 11ms/step - loss: 0.2118 - acc: 0.9165 - val_loss: 0.2481 - val_acc: 0.9040\n",
      "Epoch 11/30\n",
      "100/100 [==============================] - 1s 11ms/step - loss: 0.2007 - acc: 0.9200 - val_loss: 0.2443 - val_acc: 0.9080\n",
      "Epoch 12/30\n",
      "100/100 [==============================] - 1s 11ms/step - loss: 0.1950 - acc: 0.9285 - val_loss: 0.2447 - val_acc: 0.9030\n",
      "Epoch 13/30\n",
      "100/100 [==============================] - 1s 11ms/step - loss: 0.1857 - acc: 0.9300 - val_loss: 0.2453 - val_acc: 0.8980\n",
      "Epoch 14/30\n",
      "100/100 [==============================] - 1s 11ms/step - loss: 0.1794 - acc: 0.9330 - val_loss: 0.2386 - val_acc: 0.9050\n",
      "Epoch 15/30\n",
      "100/100 [==============================] - 1s 11ms/step - loss: 0.1759 - acc: 0.9390 - val_loss: 0.2357 - val_acc: 0.9110\n",
      "Epoch 16/30\n",
      "100/100 [==============================] - 1s 11ms/step - loss: 0.1664 - acc: 0.9450 - val_loss: 0.2359 - val_acc: 0.9070\n",
      "Epoch 17/30\n",
      "100/100 [==============================] - 1s 11ms/step - loss: 0.1597 - acc: 0.9465 - val_loss: 0.2337 - val_acc: 0.9070\n",
      "Epoch 18/30\n",
      "100/100 [==============================] - 1s 11ms/step - loss: 0.1478 - acc: 0.9470 - val_loss: 0.2321 - val_acc: 0.9100\n",
      "Epoch 19/30\n",
      "100/100 [==============================] - 1s 11ms/step - loss: 0.1454 - acc: 0.9440 - val_loss: 0.2318 - val_acc: 0.9070\n",
      "Epoch 20/30\n",
      "100/100 [==============================] - 1s 11ms/step - loss: 0.1403 - acc: 0.9530 - val_loss: 0.2354 - val_acc: 0.9070\n",
      "Epoch 21/30\n",
      "100/100 [==============================] - 1s 11ms/step - loss: 0.1333 - acc: 0.9550 - val_loss: 0.2308 - val_acc: 0.9090\n",
      "Epoch 22/30\n",
      "100/100 [==============================] - 1s 11ms/step - loss: 0.1258 - acc: 0.9595 - val_loss: 0.2314 - val_acc: 0.9100\n",
      "Epoch 23/30\n",
      "100/100 [==============================] - 1s 11ms/step - loss: 0.1233 - acc: 0.9565 - val_loss: 0.2343 - val_acc: 0.8990\n",
      "Epoch 24/30\n",
      "100/100 [==============================] - 1s 11ms/step - loss: 0.1190 - acc: 0.9630 - val_loss: 0.2323 - val_acc: 0.9040\n",
      "Epoch 25/30\n",
      "100/100 [==============================] - 1s 11ms/step - loss: 0.1119 - acc: 0.9630 - val_loss: 0.2306 - val_acc: 0.9070\n",
      "Epoch 26/30\n",
      "100/100 [==============================] - 1s 11ms/step - loss: 0.1053 - acc: 0.9700 - val_loss: 0.2405 - val_acc: 0.9020\n",
      "Epoch 27/30\n",
      "100/100 [==============================] - 1s 11ms/step - loss: 0.1038 - acc: 0.9690 - val_loss: 0.2381 - val_acc: 0.9010\n",
      "Epoch 28/30\n",
      "100/100 [==============================] - 1s 11ms/step - loss: 0.0988 - acc: 0.9710 - val_loss: 0.2383 - val_acc: 0.9000\n",
      "Epoch 29/30\n",
      "100/100 [==============================] - 1s 11ms/step - loss: 0.0950 - acc: 0.9740 - val_loss: 0.2361 - val_acc: 0.9020\n",
      "Epoch 30/30\n",
      "100/100 [==============================] - 1s 11ms/step - loss: 0.0973 - acc: 0.9685 - val_loss: 0.2435 - val_acc: 0.9010\n"
     ]
    }
   ],
   "source": [
    "from tensorflow.keras import models\n",
    "from tensorflow.keras import layers\n",
    "from tensorflow.keras import optimizers\n",
    "\n",
    "model = models.Sequential()\n",
    "model.add(layers.Dense(256, activation='relu', input_dim=4 * 4 * 512))\n",
    "model.add(layers.Dropout(0.5))\n",
    "model.add(layers.Dense(1, activation='sigmoid'))\n",
    "\n",
    "model.compile(optimizer=optimizers.RMSprop(learning_rate=2e-5), \n",
    "              loss='binary_crossentropy', \n",
    "              metrics=['acc'])\n",
    "\n",
    "history = model.fit(train_features, train_labels, \n",
    "                    epochs=30, batch_size=20, \n",
    "                    validation_data=(validation_features, validation_labels))"
   ]
  },
  {
   "cell_type": "code",
   "execution_count": 6,
   "id": "1d951dd8",
   "metadata": {},
   "outputs": [
    {
     "data": {
      "image/png": "[encoded data removed]",
      "text/plain": [
       "<Figure size 432x288 with 1 Axes>"
      ]
     },
     "metadata": {
      "needs_background": "light"
     },
     "output_type": "display_data"
    },
    {
     "data": {
      "image/png": "[encoded data removed]",
      "text/plain": [
       "<Figure size 432x288 with 1 Axes>"
      ]
     },
     "metadata": {
      "needs_background": "light"
     },
     "output_type": "display_data"
    }
   ],
   "source": [
    "import matplotlib.pyplot as plt\n",
    "\n",
    "acc = history.history['acc']\n",
    "val_acc = history.history['val_acc']\n",
    "loss = history.history['loss']\n",
    "val_loss = history.history['val_loss']\n",
    "\n",
    "epochs = range(len(acc))\n",
    "\n",
    "plt.plot(epochs, acc, 'bo', label='Training acc')\n",
    "plt.plot(epochs, val_acc, 'b', label='Validation acc')\n",
    "plt.title('Training and validation accuracy')\n",
    "plt.legend()\n",
    "\n",
    "plt.figure()\n",
    "\n",
    "plt.plot(epochs, loss, 'bo', label='Training loss')\n",
    "plt.plot(epochs, val_loss, 'b', label='Validation loss')\n",
    "plt.title('Training and validation loss')\n",
    "plt.legend()\n",
    "\n",
    "plt.show()"
   ]
  },
  {
   "cell_type": "code",
   "execution_count": 7,
   "id": "58d02173",
   "metadata": {},
   "outputs": [],
   "source": [
    "model = models.Sequential()\n",
    "model.add(conv_base)\n",
    "model.add(layers.Flatten())\n",
    "model.add(layers.Dense(256, activation='relu'))\n",
    "model.add(layers.Dense(1, activation='sigmoid'))"
   ]
  },
  {
   "cell_type": "code",
   "execution_count": 8,
   "id": "c17215ad",
   "metadata": {},
   "outputs": [
    {
     "name": "stdout",
     "output_type": "stream",
     "text": [
      "Model: \"sequential_1\"\n",
      "_________________________________________________________________\n",
      "Layer (type)                 Output Shape              Param #   \n",
      "=================================================================\n",
      "vgg16 (Functional)           (None, 4, 4, 512)         14714688  \n",
      "_________________________________________________________________\n",
      "flatten (Flatten)            (None, 8192)              0         \n",
      "_________________________________________________________________\n",
      "dense_2 (Dense)              (None, 256)               2097408   \n",
      "_________________________________________________________________\n",
      "dense_3 (Dense)              (None, 1)                 257       \n",
      "=================================================================\n",
      "Total params: 16,812,353\n",
      "Trainable params: 16,812,353\n",
      "Non-trainable params: 0\n",
      "_________________________________________________________________\n"
     ]
    }
   ],
   "source": [
    "model.summary()"
   ]
  },
  {
   "cell_type": "code",
   "execution_count": 9,
   "id": "d06413da",
   "metadata": {},
   "outputs": [
    {
     "name": "stdout",
     "output_type": "stream",
     "text": [
      "before : 30\n",
      "after : 4\n"
     ]
    }
   ],
   "source": [
    "print('before :', len(model.trainable_weights))\n",
    "conv_base.trainable = False\n",
    "print('after :', len(model.trainable_weights))"
   ]
  },
  {
   "cell_type": "code",
   "execution_count": 10,
   "id": "f29f8d5e",
   "metadata": {},
   "outputs": [
    {
     "name": "stdout",
     "output_type": "stream",
     "text": [
      "Found 2000 images belonging to 2 classes.\n",
      "Found 1000 images belonging to 2 classes.\n"
     ]
    }
   ],
   "source": [
    "train_datagen = ImageDataGenerator(\n",
    "    rescale=1./255,\n",
    "    rotation_range=40,\n",
    "    width_shift_range=0.2,\n",
    "    height_shift_range=0.2,\n",
    "    shear_range=0.2,\n",
    "    zoom_range=0.2,\n",
    "    horizontal_flip=True,\n",
    "    fill_mode='nearest'\n",
    ")\n",
    "\n",
    "test_datagen = ImageDataGenerator(rescale=1./255)\n",
    "\n",
    "train_generator = train_datagen.flow_from_directory(train_dir, \n",
    "                                                    target_size=(150, 150), \n",
    "                                                    batch_size=20, \n",
    "                                                    class_mode='binary')\n",
    "validation_generator = test_datagen.flow_from_directory(validation_dir, \n",
    "                                                        target_size=(150, 150), \n",
    "                                                        batch_size=20,\n",
    "                                                        class_mode='binary')"
   ]
  },
  {
   "cell_type": "code",
   "execution_count": 11,
   "id": "85dd42f5",
   "metadata": {},
   "outputs": [
    {
     "name": "stdout",
     "output_type": "stream",
     "text": [
      "Epoch 1/30\n",
      "100/100 - 77s - loss: 0.5792 - acc: 0.7045 - val_loss: 0.4188 - val_acc: 0.8430\n",
      "Epoch 2/30\n",
      "100/100 - 77s - loss: 0.4678 - acc: 0.7875 - val_loss: 0.3524 - val_acc: 0.8700\n",
      "Epoch 3/30\n",
      "100/100 - 77s - loss: 0.4205 - acc: 0.8190 - val_loss: 0.3196 - val_acc: 0.8770\n",
      "Epoch 4/30\n",
      "100/100 - 77s - loss: 0.3892 - acc: 0.8325 - val_loss: 0.3036 - val_acc: 0.8800\n",
      "Epoch 5/30\n",
      "100/100 - 77s - loss: 0.3956 - acc: 0.8285 - val_loss: 0.2862 - val_acc: 0.8880\n",
      "Epoch 6/30\n",
      "100/100 - 77s - loss: 0.3714 - acc: 0.8365 - val_loss: 0.2744 - val_acc: 0.8940\n",
      "Epoch 7/30\n",
      "100/100 - 77s - loss: 0.3548 - acc: 0.8405 - val_loss: 0.2720 - val_acc: 0.8880\n",
      "Epoch 8/30\n",
      "100/100 - 77s - loss: 0.3401 - acc: 0.8600 - val_loss: 0.2623 - val_acc: 0.8960\n",
      "Epoch 9/30\n",
      "100/100 - 77s - loss: 0.3461 - acc: 0.8440 - val_loss: 0.2582 - val_acc: 0.9000\n",
      "Epoch 10/30\n",
      "100/100 - 77s - loss: 0.3456 - acc: 0.8485 - val_loss: 0.2625 - val_acc: 0.8930\n",
      "Epoch 11/30\n",
      "100/100 - 77s - loss: 0.3391 - acc: 0.8525 - val_loss: 0.2541 - val_acc: 0.9010\n",
      "Epoch 12/30\n",
      "100/100 - 77s - loss: 0.3226 - acc: 0.8650 - val_loss: 0.2515 - val_acc: 0.8980\n",
      "Epoch 13/30\n",
      "100/100 - 77s - loss: 0.3176 - acc: 0.8650 - val_loss: 0.2472 - val_acc: 0.9020\n",
      "Epoch 14/30\n",
      "100/100 - 77s - loss: 0.3245 - acc: 0.8625 - val_loss: 0.2469 - val_acc: 0.9000\n",
      "Epoch 15/30\n",
      "100/100 - 77s - loss: 0.3154 - acc: 0.8595 - val_loss: 0.2441 - val_acc: 0.9030\n",
      "Epoch 16/30\n",
      "100/100 - 77s - loss: 0.3034 - acc: 0.8735 - val_loss: 0.2435 - val_acc: 0.9040\n",
      "Epoch 17/30\n",
      "100/100 - 77s - loss: 0.3001 - acc: 0.8730 - val_loss: 0.2442 - val_acc: 0.9030\n",
      "Epoch 18/30\n",
      "100/100 - 77s - loss: 0.2927 - acc: 0.8740 - val_loss: 0.2502 - val_acc: 0.8990\n",
      "Epoch 19/30\n",
      "100/100 - 77s - loss: 0.3063 - acc: 0.8625 - val_loss: 0.2456 - val_acc: 0.8980\n",
      "Epoch 20/30\n",
      "100/100 - 77s - loss: 0.3009 - acc: 0.8685 - val_loss: 0.2397 - val_acc: 0.9030\n",
      "Epoch 21/30\n",
      "100/100 - 77s - loss: 0.2891 - acc: 0.8800 - val_loss: 0.2582 - val_acc: 0.8920\n",
      "Epoch 22/30\n",
      "100/100 - 77s - loss: 0.2887 - acc: 0.8765 - val_loss: 0.2615 - val_acc: 0.8920\n",
      "Epoch 23/30\n",
      "100/100 - 77s - loss: 0.3043 - acc: 0.8745 - val_loss: 0.2433 - val_acc: 0.9000\n",
      "Epoch 24/30\n",
      "100/100 - 77s - loss: 0.2861 - acc: 0.8795 - val_loss: 0.2502 - val_acc: 0.8960\n",
      "Epoch 25/30\n",
      "100/100 - 78s - loss: 0.2918 - acc: 0.8765 - val_loss: 0.2366 - val_acc: 0.9070\n",
      "Epoch 26/30\n",
      "100/100 - 77s - loss: 0.2819 - acc: 0.8805 - val_loss: 0.2379 - val_acc: 0.9030\n",
      "Epoch 27/30\n",
      "100/100 - 77s - loss: 0.2865 - acc: 0.8820 - val_loss: 0.2521 - val_acc: 0.8880\n",
      "Epoch 28/30\n",
      "100/100 - 77s - loss: 0.2815 - acc: 0.8815 - val_loss: 0.2397 - val_acc: 0.9050\n",
      "Epoch 29/30\n",
      "100/100 - 77s - loss: 0.2845 - acc: 0.8755 - val_loss: 0.2435 - val_acc: 0.9040\n",
      "Epoch 30/30\n",
      "100/100 - 77s - loss: 0.2730 - acc: 0.8840 - val_loss: 0.2500 - val_acc: 0.8960\n"
     ]
    }
   ],
   "source": [
    "model.compile(optimizer=optimizers.RMSprop(learning_rate=2e-5), \n",
    "              loss='binary_crossentropy', \n",
    "              metrics=['acc'])\n",
    "\n",
    "history = model.fit(train_generator,\n",
    "                    steps_per_epoch=100,\n",
    "                    epochs=30, \n",
    "                    validation_data=validation_generator, \n",
    "                    validation_steps=50, \n",
    "                    verbose=2)"
   ]
  },
  {
   "cell_type": "code",
   "execution_count": 12,
   "id": "ecee9544",
   "metadata": {},
   "outputs": [],
   "source": [
    "model.save('cats_and_dogs_small_3.h5')"
   ]
  },
  {
   "cell_type": "code",
   "execution_count": 13,
   "id": "4fdda94c",
   "metadata": {},
   "outputs": [
    {
     "data": {
      "image/png": "[encoded data removed]",
      "text/plain": [
       "<Figure size 432x288 with 1 Axes>"
      ]
     },
     "metadata": {
      "needs_background": "light"
     },
     "output_type": "display_data"
    },
    {
     "data": {
      "image/png": "[encoded data removed]",
      "text/plain": [
       "<Figure size 432x288 with 1 Axes>"
      ]
     },
     "metadata": {
      "needs_background": "light"
     },
     "output_type": "display_data"
    }
   ],
   "source": [
    "acc = history.history['acc']\n",
    "val_acc = history.history['val_acc']\n",
    "loss = history.history['loss']\n",
    "val_loss = history.history['val_loss']\n",
    "\n",
    "epochs = range(len(acc))\n",
    "\n",
    "plt.plot(epochs, acc, 'bo', label='Training acc')\n",
    "plt.plot(epochs, val_acc, 'b', label='Validation acc')\n",
    "plt.title('Training and validation accuracy')\n",
    "plt.legend()\n",
    "\n",
    "plt.figure()\n",
    "\n",
    "plt.plot(epochs, loss, 'bo', label='Training loss')\n",
    "plt.plot(epochs, val_loss, 'b', label='Validation loss')\n",
    "plt.title('Training and validation loss')\n",
    "plt.legend()\n",
    "\n",
    "plt.show()"
   ]
  },
  {
   "cell_type": "code",
   "execution_count": null,
   "id": "0220fdb5",
   "metadata": {},
   "outputs": [],
   "source": []
  }
 ],
 "metadata": {
  "kernelspec": {
   "display_name": "Python 3",
   "language": "python",
   "name": "python3"
  },
  "language_info": {
   "codemirror_mode": {
    "name": "ipython",
    "version": 3
   },
   "file_extension": ".py",
   "mimetype": "text/x-python",
   "name": "python",
   "nbconvert_exporter": "python",
   "pygments_lexer": "ipython3",
   "version": "3.6.13"
  }
 },
 "nbformat": 4,
 "nbformat_minor": 5
}
