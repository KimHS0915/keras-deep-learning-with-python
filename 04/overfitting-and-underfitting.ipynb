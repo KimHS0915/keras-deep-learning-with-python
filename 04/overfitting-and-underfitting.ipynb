{
 "cells": [
  {
   "cell_type": "code",
   "execution_count": 1,
   "id": "8b6ac9b8",
   "metadata": {},
   "outputs": [],
   "source": [
    "from tensorflow.keras.datasets import imdb\n",
    "\n",
    "(train_data, train_labels), (test_data, test_labels) = imdb.load_data(num_words=10000)"
   ]
  },
  {
   "cell_type": "code",
   "execution_count": 2,
   "id": "3aa17b4a",
   "metadata": {},
   "outputs": [],
   "source": [
    "import numpy as np\n",
    "\n",
    "def vectorize_sequences(sequences, dimension=10000):\n",
    "    results = np.zeros((len(sequences), dimension))\n",
    "    for i, sequence in enumerate(sequences):\n",
    "        results[i, sequence] = 1.\n",
    "    return results"
   ]
  },
  {
   "cell_type": "code",
   "execution_count": 3,
   "id": "61fed71b",
   "metadata": {},
   "outputs": [],
   "source": [
    "x_train = vectorize_sequences(train_data)\n",
    "x_test = vectorize_sequences(test_data)\n",
    "\n",
    "y_train = np.asarray(train_labels).astype('float32')\n",
    "y_test = np.asarray(test_labels).astype('float32')"
   ]
  },
  {
   "cell_type": "code",
   "execution_count": 4,
   "id": "4e383675",
   "metadata": {},
   "outputs": [
    {
     "name": "stdout",
     "output_type": "stream",
     "text": [
      "Epoch 1/20\n",
      "49/49 [==============================] - 1s 20ms/step - loss: 0.4487 - accuracy: 0.8244 - val_loss: 0.3403 - val_accuracy: 0.8759\n",
      "Epoch 2/20\n",
      "49/49 [==============================] - 1s 11ms/step - loss: 0.2593 - accuracy: 0.9087 - val_loss: 0.2913 - val_accuracy: 0.8852\n",
      "Epoch 3/20\n",
      "49/49 [==============================] - 1s 12ms/step - loss: 0.2010 - accuracy: 0.9274 - val_loss: 0.2815 - val_accuracy: 0.8860\n",
      "Epoch 4/20\n",
      "49/49 [==============================] - 1s 11ms/step - loss: 0.1694 - accuracy: 0.9390 - val_loss: 0.2925 - val_accuracy: 0.8831\n",
      "Epoch 5/20\n",
      "49/49 [==============================] - 1s 11ms/step - loss: 0.1447 - accuracy: 0.9495 - val_loss: 0.3121 - val_accuracy: 0.8797\n",
      "Epoch 6/20\n",
      "49/49 [==============================] - 1s 12ms/step - loss: 0.1272 - accuracy: 0.9558 - val_loss: 0.3306 - val_accuracy: 0.8772\n",
      "Epoch 7/20\n",
      "49/49 [==============================] - 1s 11ms/step - loss: 0.1115 - accuracy: 0.9612 - val_loss: 0.3584 - val_accuracy: 0.8713\n",
      "Epoch 8/20\n",
      "49/49 [==============================] - 1s 11ms/step - loss: 0.0995 - accuracy: 0.9662 - val_loss: 0.3762 - val_accuracy: 0.8709\n",
      "Epoch 9/20\n",
      "49/49 [==============================] - 1s 11ms/step - loss: 0.0865 - accuracy: 0.9721 - val_loss: 0.4017 - val_accuracy: 0.8685\n",
      "Epoch 10/20\n",
      "49/49 [==============================] - 1s 12ms/step - loss: 0.0757 - accuracy: 0.9766 - val_loss: 0.4481 - val_accuracy: 0.8603\n",
      "Epoch 11/20\n",
      "49/49 [==============================] - 1s 12ms/step - loss: 0.0648 - accuracy: 0.9794 - val_loss: 0.5212 - val_accuracy: 0.8490\n",
      "Epoch 12/20\n",
      "49/49 [==============================] - 1s 12ms/step - loss: 0.0573 - accuracy: 0.9832 - val_loss: 0.4899 - val_accuracy: 0.8607\n",
      "Epoch 13/20\n",
      "49/49 [==============================] - 1s 11ms/step - loss: 0.0492 - accuracy: 0.9852 - val_loss: 0.5821 - val_accuracy: 0.8468\n",
      "Epoch 14/20\n",
      "49/49 [==============================] - 1s 11ms/step - loss: 0.0402 - accuracy: 0.9893 - val_loss: 0.5747 - val_accuracy: 0.8569\n",
      "Epoch 15/20\n",
      "49/49 [==============================] - 1s 11ms/step - loss: 0.0364 - accuracy: 0.9904 - val_loss: 0.6104 - val_accuracy: 0.8544\n",
      "Epoch 16/20\n",
      "49/49 [==============================] - 1s 12ms/step - loss: 0.0284 - accuracy: 0.9934 - val_loss: 0.6385 - val_accuracy: 0.8526\n",
      "Epoch 17/20\n",
      "49/49 [==============================] - 1s 12ms/step - loss: 0.0262 - accuracy: 0.9941 - val_loss: 0.6730 - val_accuracy: 0.8529\n",
      "Epoch 18/20\n",
      "49/49 [==============================] - 1s 11ms/step - loss: 0.0182 - accuracy: 0.9961 - val_loss: 0.7074 - val_accuracy: 0.8535\n",
      "Epoch 19/20\n",
      "49/49 [==============================] - 1s 11ms/step - loss: 0.0157 - accuracy: 0.9964 - val_loss: 0.7518 - val_accuracy: 0.8522\n",
      "Epoch 20/20\n",
      "49/49 [==============================] - 1s 11ms/step - loss: 0.0142 - accuracy: 0.9966 - val_loss: 0.7944 - val_accuracy: 0.8510\n"
     ]
    }
   ],
   "source": [
    "from tensorflow.keras import models\n",
    "from tensorflow.keras import layers\n",
    "\n",
    "original_model = models.Sequential()\n",
    "original_model.add(layers.Dense(16, activation='relu', input_shape=(10000,)))\n",
    "original_model.add(layers.Dense(16, activation='relu'))\n",
    "original_model.add(layers.Dense(1, activation='sigmoid'))\n",
    "\n",
    "original_model.compile(optimizer='rmsprop', \n",
    "              loss='binary_crossentropy', \n",
    "              metrics=['accuracy'])\n",
    "\n",
    "original_hist = original_model.fit(x_train, y_train, \n",
    "                                   epochs=20, batch_size=512, \n",
    "                                   validation_data=(x_test, y_test))"
   ]
  },
  {
   "cell_type": "code",
   "execution_count": 5,
   "id": "32e04a39",
   "metadata": {},
   "outputs": [
    {
     "name": "stdout",
     "output_type": "stream",
     "text": [
      "Epoch 1/20\n",
      "49/49 [==============================] - 1s 20ms/step - loss: 0.4776 - accuracy: 0.8101 - val_loss: 0.3616 - val_accuracy: 0.8755\n",
      "Epoch 2/20\n",
      "49/49 [==============================] - 1s 11ms/step - loss: 0.2827 - accuracy: 0.9049 - val_loss: 0.2971 - val_accuracy: 0.8882\n",
      "Epoch 3/20\n",
      "49/49 [==============================] - 1s 10ms/step - loss: 0.2187 - accuracy: 0.9262 - val_loss: 0.2881 - val_accuracy: 0.8861\n",
      "Epoch 4/20\n",
      "49/49 [==============================] - 1s 11ms/step - loss: 0.1817 - accuracy: 0.9384 - val_loss: 0.2845 - val_accuracy: 0.8856\n",
      "Epoch 5/20\n",
      "49/49 [==============================] - 1s 11ms/step - loss: 0.1596 - accuracy: 0.9462 - val_loss: 0.3003 - val_accuracy: 0.8804\n",
      "Epoch 6/20\n",
      "49/49 [==============================] - 1s 11ms/step - loss: 0.1413 - accuracy: 0.9520 - val_loss: 0.3121 - val_accuracy: 0.8790\n",
      "Epoch 7/20\n",
      "49/49 [==============================] - 0s 10ms/step - loss: 0.1277 - accuracy: 0.9574 - val_loss: 0.3221 - val_accuracy: 0.8775\n",
      "Epoch 8/20\n",
      "49/49 [==============================] - 1s 11ms/step - loss: 0.1153 - accuracy: 0.9617 - val_loss: 0.3371 - val_accuracy: 0.8748\n",
      "Epoch 9/20\n",
      "49/49 [==============================] - 1s 11ms/step - loss: 0.1046 - accuracy: 0.9659 - val_loss: 0.3565 - val_accuracy: 0.8718\n",
      "Epoch 10/20\n",
      "49/49 [==============================] - 1s 11ms/step - loss: 0.0947 - accuracy: 0.9693 - val_loss: 0.3974 - val_accuracy: 0.8673\n",
      "Epoch 11/20\n",
      "49/49 [==============================] - 0s 10ms/step - loss: 0.0865 - accuracy: 0.9730 - val_loss: 0.4034 - val_accuracy: 0.8652\n",
      "Epoch 12/20\n",
      "49/49 [==============================] - 1s 10ms/step - loss: 0.0792 - accuracy: 0.9749 - val_loss: 0.4166 - val_accuracy: 0.8648\n",
      "Epoch 13/20\n",
      "49/49 [==============================] - 1s 11ms/step - loss: 0.0733 - accuracy: 0.9778 - val_loss: 0.4422 - val_accuracy: 0.8612\n",
      "Epoch 14/20\n",
      "49/49 [==============================] - 1s 12ms/step - loss: 0.0655 - accuracy: 0.9816 - val_loss: 0.4620 - val_accuracy: 0.8632\n",
      "Epoch 15/20\n",
      "49/49 [==============================] - 1s 11ms/step - loss: 0.0612 - accuracy: 0.9826 - val_loss: 0.4825 - val_accuracy: 0.8596\n",
      "Epoch 16/20\n",
      "49/49 [==============================] - 1s 11ms/step - loss: 0.0545 - accuracy: 0.9846 - val_loss: 0.5101 - val_accuracy: 0.8595\n",
      "Epoch 17/20\n",
      "49/49 [==============================] - 0s 10ms/step - loss: 0.0501 - accuracy: 0.9856 - val_loss: 0.5448 - val_accuracy: 0.8572\n",
      "Epoch 18/20\n",
      "49/49 [==============================] - 1s 12ms/step - loss: 0.0456 - accuracy: 0.9876 - val_loss: 0.5917 - val_accuracy: 0.8484\n",
      "Epoch 19/20\n",
      "49/49 [==============================] - 1s 10ms/step - loss: 0.0396 - accuracy: 0.9898 - val_loss: 0.5897 - val_accuracy: 0.8525\n",
      "Epoch 20/20\n",
      "49/49 [==============================] - 0s 10ms/step - loss: 0.0370 - accuracy: 0.9907 - val_loss: 0.6145 - val_accuracy: 0.8528\n"
     ]
    }
   ],
   "source": [
    "from tensorflow.keras import models\n",
    "from tensorflow.keras import layers\n",
    "\n",
    "smaller_model = models.Sequential()\n",
    "smaller_model.add(layers.Dense(6, activation='relu', input_shape=(10000,)))\n",
    "smaller_model.add(layers.Dense(6, activation='relu'))\n",
    "smaller_model.add(layers.Dense(1, activation='sigmoid'))\n",
    "\n",
    "smaller_model.compile(optimizer='rmsprop', \n",
    "                      loss='binary_crossentropy', \n",
    "                      metrics=['accuracy'])\n",
    "\n",
    "smaller_model_hist = smaller_model.fit(x_train, y_train,\n",
    "                                       epochs=20, batch_size=512, \n",
    "                                       validation_data=(x_test, y_test))"
   ]
  },
  {
   "cell_type": "code",
   "execution_count": 6,
   "id": "3990b56d",
   "metadata": {},
   "outputs": [],
   "source": [
    "epochs = range(1, 21)\n",
    "original_val_loss = original_hist.history['val_loss']\n",
    "smaller_model_val_loss = smaller_model_hist.history['val_loss']"
   ]
  },
  {
   "cell_type": "code",
   "execution_count": 7,
   "id": "e735a418",
   "metadata": {},
   "outputs": [
    {
     "data": {
      "image/png": "[encoded data removed]",
      "text/plain": [
       "<Figure size 432x288 with 1 Axes>"
      ]
     },
     "metadata": {
      "needs_background": "light"
     },
     "output_type": "display_data"
    }
   ],
   "source": [
    "import matplotlib.pyplot as plt\n",
    "\n",
    "plt.plot(epochs, original_val_loss, 'b+', label='Original_model')\n",
    "plt.plot(epochs, smaller_model_val_loss, 'bo', label='Smaller model')\n",
    "plt.xlabel('Epochs')\n",
    "plt.ylabel('Validation loss')\n",
    "plt.legend()\n",
    "\n",
    "plt.show()"
   ]
  },
  {
   "cell_type": "code",
   "execution_count": 8,
   "id": "f7b9a303",
   "metadata": {},
   "outputs": [
    {
     "name": "stdout",
     "output_type": "stream",
     "text": [
      "Epoch 1/20\n",
      "49/49 [==============================] - 6s 127ms/step - loss: 0.5207 - accuracy: 0.7938 - val_loss: 0.2748 - val_accuracy: 0.8903\n",
      "Epoch 2/20\n",
      "49/49 [==============================] - 6s 120ms/step - loss: 0.2316 - accuracy: 0.9118 - val_loss: 0.3050 - val_accuracy: 0.8754\n",
      "Epoch 3/20\n",
      "49/49 [==============================] - 6s 119ms/step - loss: 0.1263 - accuracy: 0.9526 - val_loss: 0.3604 - val_accuracy: 0.8684\n",
      "Epoch 4/20\n",
      "49/49 [==============================] - 6s 120ms/step - loss: 0.0697 - accuracy: 0.9782 - val_loss: 0.5519 - val_accuracy: 0.8180\n",
      "Epoch 5/20\n",
      "49/49 [==============================] - 6s 120ms/step - loss: 0.0094 - accuracy: 0.9981 - val_loss: 4.0166 - val_accuracy: 0.6009\n",
      "Epoch 6/20\n",
      "49/49 [==============================] - 6s 120ms/step - loss: 0.0825 - accuracy: 0.9868 - val_loss: 0.6198 - val_accuracy: 0.8823\n",
      "Epoch 7/20\n",
      "49/49 [==============================] - 6s 120ms/step - loss: 1.3336e-04 - accuracy: 1.0000 - val_loss: 0.8397 - val_accuracy: 0.8770\n",
      "Epoch 8/20\n",
      "49/49 [==============================] - 6s 120ms/step - loss: 1.1331e-05 - accuracy: 1.0000 - val_loss: 0.9379 - val_accuracy: 0.8825\n",
      "Epoch 9/20\n",
      "49/49 [==============================] - 6s 120ms/step - loss: 9.4994e-07 - accuracy: 1.0000 - val_loss: 1.1071 - val_accuracy: 0.8813\n",
      "Epoch 10/20\n",
      "49/49 [==============================] - 6s 120ms/step - loss: 1.3772e-07 - accuracy: 1.0000 - val_loss: 1.2353 - val_accuracy: 0.8816\n",
      "Epoch 11/20\n",
      "49/49 [==============================] - 6s 120ms/step - loss: 3.2917e-08 - accuracy: 1.0000 - val_loss: 1.3230 - val_accuracy: 0.8814\n",
      "Epoch 12/20\n",
      "49/49 [==============================] - 6s 120ms/step - loss: 1.4997e-08 - accuracy: 1.0000 - val_loss: 1.3686 - val_accuracy: 0.8814\n",
      "Epoch 13/20\n",
      "49/49 [==============================] - 6s 120ms/step - loss: 9.5530e-09 - accuracy: 1.0000 - val_loss: 1.3982 - val_accuracy: 0.8814\n",
      "Epoch 14/20\n",
      "49/49 [==============================] - 6s 120ms/step - loss: 7.0173e-09 - accuracy: 1.0000 - val_loss: 1.4189 - val_accuracy: 0.8814\n",
      "Epoch 15/20\n",
      "49/49 [==============================] - 6s 120ms/step - loss: 5.5884e-09 - accuracy: 1.0000 - val_loss: 1.4344 - val_accuracy: 0.8813\n",
      "Epoch 16/20\n",
      "49/49 [==============================] - 6s 120ms/step - loss: 4.6439e-09 - accuracy: 1.0000 - val_loss: 1.4479 - val_accuracy: 0.8813\n",
      "Epoch 17/20\n",
      "49/49 [==============================] - 6s 120ms/step - loss: 3.9745e-09 - accuracy: 1.0000 - val_loss: 1.4608 - val_accuracy: 0.8808\n",
      "Epoch 18/20\n",
      "49/49 [==============================] - 6s 121ms/step - loss: 3.5133e-09 - accuracy: 1.0000 - val_loss: 1.4694 - val_accuracy: 0.8811\n",
      "Epoch 19/20\n",
      "49/49 [==============================] - 6s 120ms/step - loss: 3.1245e-09 - accuracy: 1.0000 - val_loss: 1.4783 - val_accuracy: 0.8808\n",
      "Epoch 20/20\n",
      "49/49 [==============================] - 6s 122ms/step - loss: 2.8362e-09 - accuracy: 1.0000 - val_loss: 1.4854 - val_accuracy: 0.8809\n"
     ]
    }
   ],
   "source": [
    "bigger_model = models.Sequential()\n",
    "bigger_model.add(layers.Dense(1024, activation='relu', input_shape=(10000,)))\n",
    "bigger_model.add(layers.Dense(1024, activation='relu'))\n",
    "bigger_model.add(layers.Dense(1, activation='sigmoid'))\n",
    "\n",
    "bigger_model.compile(optimizer='rmsprop', \n",
    "                      loss='binary_crossentropy', \n",
    "                      metrics=['accuracy'])\n",
    "\n",
    "bigger_model_hist = bigger_model.fit(x_train, y_train,\n",
    "                                     epochs=20, batch_size=512, \n",
    "                                     validation_data=(x_test, y_test))"
   ]
  },
  {
   "cell_type": "code",
   "execution_count": 9,
   "id": "2f04f2e4",
   "metadata": {},
   "outputs": [],
   "source": [
    "bigger_model_val_loss = bigger_model_hist.history['val_loss']"
   ]
  },
  {
   "cell_type": "code",
   "execution_count": 10,
   "id": "d0bdeed1",
   "metadata": {},
   "outputs": [
    {
     "data": {
      "image/png": "[encoded data removed]",
      "text/plain": [
       "<Figure size 432x288 with 1 Axes>"
      ]
     },
     "metadata": {
      "needs_background": "light"
     },
     "output_type": "display_data"
    }
   ],
   "source": [
    "plt.plot(epochs, original_val_loss, 'b+', label='Original_model')\n",
    "plt.plot(epochs, bigger_model_val_loss, 'bo', label='Bigger model')\n",
    "plt.xlabel('Epochs')\n",
    "plt.ylabel('Validation loss')\n",
    "plt.legend()\n",
    "\n",
    "plt.show()"
   ]
  },
  {
   "cell_type": "code",
   "execution_count": 11,
   "id": "b12f0b6a",
   "metadata": {},
   "outputs": [],
   "source": [
    "original_train_loss = original_hist.history['loss']\n",
    "bigger_model_train_loss = bigger_model_hist.history['loss']"
   ]
  },
  {
   "cell_type": "code",
   "execution_count": 12,
   "id": "50aa72ba",
   "metadata": {},
   "outputs": [
    {
     "data": {
      "image/png": "[encoded data removed]",
      "text/plain": [
       "<Figure size 432x288 with 1 Axes>"
      ]
     },
     "metadata": {
      "needs_background": "light"
     },
     "output_type": "display_data"
    }
   ],
   "source": [
    "plt.plot(epochs, original_train_loss, 'b+', label='Original model')\n",
    "plt.plot(epochs, bigger_model_train_loss, 'bo', label='Bigger model')\n",
    "plt.xlabel('Epochs')\n",
    "plt.ylabel('Training loss')\n",
    "plt.legend()\n",
    "\n",
    "plt.show()"
   ]
  },
  {
   "cell_type": "code",
   "execution_count": 13,
   "id": "b2dbeafd",
   "metadata": {},
   "outputs": [
    {
     "name": "stdout",
     "output_type": "stream",
     "text": [
      "Epoch 1/20\n",
      "49/49 [==============================] - 1s 18ms/step - loss: 0.4964 - accuracy: 0.8148 - val_loss: 0.3727 - val_accuracy: 0.8843\n",
      "Epoch 2/20\n",
      "49/49 [==============================] - 1s 12ms/step - loss: 0.3119 - accuracy: 0.9049 - val_loss: 0.3465 - val_accuracy: 0.8809\n",
      "Epoch 3/20\n",
      "49/49 [==============================] - 1s 11ms/step - loss: 0.2655 - accuracy: 0.9226 - val_loss: 0.3308 - val_accuracy: 0.8889\n",
      "Epoch 4/20\n",
      "49/49 [==============================] - 1s 12ms/step - loss: 0.2498 - accuracy: 0.9264 - val_loss: 0.3411 - val_accuracy: 0.8851\n",
      "Epoch 5/20\n",
      "49/49 [==============================] - 1s 12ms/step - loss: 0.2356 - accuracy: 0.9346 - val_loss: 0.3437 - val_accuracy: 0.8841\n",
      "Epoch 6/20\n",
      "49/49 [==============================] - 1s 11ms/step - loss: 0.2281 - accuracy: 0.9367 - val_loss: 0.4107 - val_accuracy: 0.8596\n",
      "Epoch 7/20\n",
      "49/49 [==============================] - 1s 12ms/step - loss: 0.2185 - accuracy: 0.9409 - val_loss: 0.3928 - val_accuracy: 0.8686\n",
      "Epoch 8/20\n",
      "49/49 [==============================] - 1s 12ms/step - loss: 0.2144 - accuracy: 0.9417 - val_loss: 0.3747 - val_accuracy: 0.8753\n",
      "Epoch 9/20\n",
      "49/49 [==============================] - 1s 12ms/step - loss: 0.2087 - accuracy: 0.9446 - val_loss: 0.3783 - val_accuracy: 0.8759\n",
      "Epoch 10/20\n",
      "49/49 [==============================] - 1s 11ms/step - loss: 0.2041 - accuracy: 0.9468 - val_loss: 0.4056 - val_accuracy: 0.8672\n",
      "Epoch 11/20\n",
      "49/49 [==============================] - 1s 12ms/step - loss: 0.2012 - accuracy: 0.9477 - val_loss: 0.4307 - val_accuracy: 0.8645\n",
      "Epoch 12/20\n",
      "49/49 [==============================] - 1s 12ms/step - loss: 0.1999 - accuracy: 0.9470 - val_loss: 0.4087 - val_accuracy: 0.8671\n",
      "Epoch 13/20\n",
      "49/49 [==============================] - 1s 11ms/step - loss: 0.1962 - accuracy: 0.9489 - val_loss: 0.4033 - val_accuracy: 0.8707\n",
      "Epoch 14/20\n",
      "49/49 [==============================] - 1s 12ms/step - loss: 0.1908 - accuracy: 0.9514 - val_loss: 0.4193 - val_accuracy: 0.8676\n",
      "Epoch 15/20\n",
      "49/49 [==============================] - 1s 12ms/step - loss: 0.1946 - accuracy: 0.9478 - val_loss: 0.4103 - val_accuracy: 0.8700\n",
      "Epoch 16/20\n",
      "49/49 [==============================] - 1s 12ms/step - loss: 0.1884 - accuracy: 0.9512 - val_loss: 0.4148 - val_accuracy: 0.8688\n",
      "Epoch 17/20\n",
      "49/49 [==============================] - 1s 11ms/step - loss: 0.1862 - accuracy: 0.9534 - val_loss: 0.5239 - val_accuracy: 0.8401\n",
      "Epoch 18/20\n",
      "49/49 [==============================] - 1s 12ms/step - loss: 0.1846 - accuracy: 0.9543 - val_loss: 0.4546 - val_accuracy: 0.8637\n",
      "Epoch 19/20\n",
      "49/49 [==============================] - 1s 12ms/step - loss: 0.1828 - accuracy: 0.9547 - val_loss: 0.5022 - val_accuracy: 0.8488\n",
      "Epoch 20/20\n",
      "49/49 [==============================] - 1s 11ms/step - loss: 0.1803 - accuracy: 0.9548 - val_loss: 0.4298 - val_accuracy: 0.8670\n"
     ]
    }
   ],
   "source": [
    "from tensorflow.keras import regularizers\n",
    "\n",
    "l2_model = models.Sequential()\n",
    "l2_model.add(layers.Dense(16, kernel_regularizer=regularizers.l2(0.001), \n",
    "                       activation='relu', input_shape=(10000,)))\n",
    "l2_model.add(layers.Dense(16, kernel_regularizer=regularizers.l2(0.001), \n",
    "                       activation='relu'))\n",
    "l2_model.add(layers.Dense(1, activation='sigmoid'))\n",
    "\n",
    "l2_model.compile(optimizer='rmsprop', \n",
    "                 loss='binary_crossentropy', \n",
    "                 metrics=['accuracy'])\n",
    "\n",
    "l2_model_hist = l2_model.fit(x_train, y_train, \n",
    "                             epochs=20, batch_size=512, \n",
    "                             validation_data=(x_test, y_test))"
   ]
  },
  {
   "cell_type": "code",
   "execution_count": 14,
   "id": "e9e880a7",
   "metadata": {},
   "outputs": [
    {
     "data": {
      "image/png": "[encoded data removed]",
      "text/plain": [
       "<Figure size 432x288 with 1 Axes>"
      ]
     },
     "metadata": {
      "needs_background": "light"
     },
     "output_type": "display_data"
    }
   ],
   "source": [
    "l2_model_val_loss = l2_model_hist.history['val_loss']\n",
    "\n",
    "plt.plot(epochs, original_val_loss, 'b+', label='Original model')\n",
    "plt.plot(epochs, l2_model_val_loss, 'bo', label='L2-regularized model')\n",
    "plt.xlabel('Epochs')\n",
    "plt.ylabel('Validation loss')\n",
    "plt.legend()\n",
    "\n",
    "plt.show()"
   ]
  },
  {
   "cell_type": "code",
   "execution_count": 15,
   "id": "cf7e4048",
   "metadata": {},
   "outputs": [
    {
     "name": "stdout",
     "output_type": "stream",
     "text": [
      "Epoch 1/20\n",
      "49/49 [==============================] - 1s 19ms/step - loss: 0.9168 - accuracy: 0.7764 - val_loss: 0.6840 - val_accuracy: 0.8026\n",
      "Epoch 2/20\n",
      "49/49 [==============================] - 1s 12ms/step - loss: 0.6305 - accuracy: 0.8415 - val_loss: 0.6194 - val_accuracy: 0.8449\n",
      "Epoch 3/20\n",
      "49/49 [==============================] - 1s 12ms/step - loss: 0.5897 - accuracy: 0.8546 - val_loss: 0.5813 - val_accuracy: 0.8561\n",
      "Epoch 4/20\n",
      "49/49 [==============================] - 1s 11ms/step - loss: 0.5802 - accuracy: 0.8554 - val_loss: 0.5553 - val_accuracy: 0.8661\n",
      "Epoch 5/20\n",
      "49/49 [==============================] - 1s 12ms/step - loss: 0.5602 - accuracy: 0.8624 - val_loss: 0.5597 - val_accuracy: 0.8607\n",
      "Epoch 6/20\n",
      "49/49 [==============================] - 1s 12ms/step - loss: 0.5614 - accuracy: 0.8592 - val_loss: 0.5686 - val_accuracy: 0.8534\n",
      "Epoch 7/20\n",
      "49/49 [==============================] - 1s 11ms/step - loss: 0.5465 - accuracy: 0.8626 - val_loss: 0.5653 - val_accuracy: 0.8534\n",
      "Epoch 8/20\n",
      "49/49 [==============================] - 1s 12ms/step - loss: 0.5396 - accuracy: 0.8663 - val_loss: 0.5397 - val_accuracy: 0.8662\n",
      "Epoch 9/20\n",
      "49/49 [==============================] - 1s 11ms/step - loss: 0.5308 - accuracy: 0.8685 - val_loss: 0.5983 - val_accuracy: 0.8349\n",
      "Epoch 10/20\n",
      "49/49 [==============================] - 1s 12ms/step - loss: 0.5312 - accuracy: 0.8676 - val_loss: 0.5341 - val_accuracy: 0.8662\n",
      "Epoch 11/20\n",
      "49/49 [==============================] - 1s 11ms/step - loss: 0.5200 - accuracy: 0.8723 - val_loss: 0.5330 - val_accuracy: 0.8654\n",
      "Epoch 12/20\n",
      "49/49 [==============================] - 1s 12ms/step - loss: 0.5116 - accuracy: 0.8762 - val_loss: 0.5498 - val_accuracy: 0.8536\n",
      "Epoch 13/20\n",
      "49/49 [==============================] - 1s 12ms/step - loss: 0.5038 - accuracy: 0.8788 - val_loss: 0.5162 - val_accuracy: 0.8738\n",
      "Epoch 14/20\n",
      "49/49 [==============================] - 1s 11ms/step - loss: 0.4958 - accuracy: 0.8800 - val_loss: 0.5221 - val_accuracy: 0.8656\n",
      "Epoch 15/20\n",
      "49/49 [==============================] - 1s 12ms/step - loss: 0.4885 - accuracy: 0.8834 - val_loss: 0.5381 - val_accuracy: 0.8553\n",
      "Epoch 16/20\n",
      "49/49 [==============================] - 1s 11ms/step - loss: 0.4851 - accuracy: 0.8844 - val_loss: 0.4990 - val_accuracy: 0.8744\n",
      "Epoch 17/20\n",
      "49/49 [==============================] - 1s 12ms/step - loss: 0.4805 - accuracy: 0.8838 - val_loss: 0.5376 - val_accuracy: 0.8564\n",
      "Epoch 18/20\n",
      "49/49 [==============================] - 1s 11ms/step - loss: 0.4768 - accuracy: 0.8854 - val_loss: 0.4866 - val_accuracy: 0.8798\n",
      "Epoch 19/20\n",
      "49/49 [==============================] - 1s 12ms/step - loss: 0.4682 - accuracy: 0.8908 - val_loss: 0.4851 - val_accuracy: 0.8798\n",
      "Epoch 20/20\n",
      "49/49 [==============================] - 1s 11ms/step - loss: 0.4676 - accuracy: 0.8890 - val_loss: 0.4814 - val_accuracy: 0.8798\n"
     ]
    }
   ],
   "source": [
    "l1_model = models.Sequential()\n",
    "l1_model.add(layers.Dense(16, kernel_regularizer=regularizers.l1(0.001), \n",
    "                       activation='relu', input_shape=(10000,)))\n",
    "l1_model.add(layers.Dense(16, kernel_regularizer=regularizers.l1(0.001), \n",
    "                       activation='relu'))\n",
    "l1_model.add(layers.Dense(1, activation='sigmoid'))\n",
    "\n",
    "l1_model.compile(optimizer='rmsprop', \n",
    "                 loss='binary_crossentropy', \n",
    "                 metrics=['accuracy'])\n",
    "\n",
    "l1_model_hist = l1_model.fit(x_train, y_train, \n",
    "                             epochs=20, batch_size=512, \n",
    "                             validation_data=(x_test, y_test))"
   ]
  },
  {
   "cell_type": "code",
   "execution_count": 16,
   "id": "354f3144",
   "metadata": {},
   "outputs": [
    {
     "data": {
      "image/png": "[encoded data removed]",
      "text/plain": [
       "<Figure size 432x288 with 1 Axes>"
      ]
     },
     "metadata": {
      "needs_background": "light"
     },
     "output_type": "display_data"
    }
   ],
   "source": [
    "l1_model_val_loss = l1_model_hist.history['val_loss']\n",
    "\n",
    "plt.plot(epochs, original_val_loss, 'b+', label='Original model')\n",
    "plt.plot(epochs, l1_model_val_loss, 'bo', label='L1-regularized model')\n",
    "plt.xlabel('Epochs')\n",
    "plt.ylabel('Validation loss')\n",
    "plt.legend()\n",
    "\n",
    "plt.show()"
   ]
  },
  {
   "cell_type": "code",
   "execution_count": 17,
   "id": "ed886482",
   "metadata": {},
   "outputs": [
    {
     "name": "stdout",
     "output_type": "stream",
     "text": [
      "Epoch 1/20\n",
      "49/49 [==============================] - 1s 18ms/step - loss: 0.9604 - accuracy: 0.7615 - val_loss: 0.7121 - val_accuracy: 0.8136\n",
      "Epoch 2/20\n",
      "49/49 [==============================] - 1s 13ms/step - loss: 0.6623 - accuracy: 0.8396 - val_loss: 0.6282 - val_accuracy: 0.8476\n",
      "Epoch 3/20\n",
      "49/49 [==============================] - 1s 12ms/step - loss: 0.6048 - accuracy: 0.8528 - val_loss: 0.5933 - val_accuracy: 0.8535\n",
      "Epoch 4/20\n",
      "49/49 [==============================] - 1s 11ms/step - loss: 0.5748 - accuracy: 0.8576 - val_loss: 0.5957 - val_accuracy: 0.8409\n",
      "Epoch 5/20\n",
      "49/49 [==============================] - 1s 12ms/step - loss: 0.5588 - accuracy: 0.8604 - val_loss: 0.5523 - val_accuracy: 0.8608\n",
      "Epoch 6/20\n",
      "49/49 [==============================] - 1s 12ms/step - loss: 0.5453 - accuracy: 0.8621 - val_loss: 0.5388 - val_accuracy: 0.8640\n",
      "Epoch 7/20\n",
      "49/49 [==============================] - 1s 11ms/step - loss: 0.5352 - accuracy: 0.8648 - val_loss: 0.5405 - val_accuracy: 0.8620\n",
      "Epoch 8/20\n",
      "49/49 [==============================] - 1s 11ms/step - loss: 0.5271 - accuracy: 0.8671 - val_loss: 0.5338 - val_accuracy: 0.8610\n",
      "Epoch 9/20\n",
      "49/49 [==============================] - 1s 12ms/step - loss: 0.5211 - accuracy: 0.8704 - val_loss: 0.5377 - val_accuracy: 0.8607\n",
      "Epoch 10/20\n",
      "49/49 [==============================] - 1s 12ms/step - loss: 0.5169 - accuracy: 0.8702 - val_loss: 0.5410 - val_accuracy: 0.8570\n",
      "Epoch 11/20\n",
      "49/49 [==============================] - 1s 12ms/step - loss: 0.5099 - accuracy: 0.8734 - val_loss: 0.5352 - val_accuracy: 0.8586\n",
      "Epoch 12/20\n",
      "49/49 [==============================] - 1s 12ms/step - loss: 0.5024 - accuracy: 0.8758 - val_loss: 0.5611 - val_accuracy: 0.8435\n",
      "Epoch 13/20\n",
      "49/49 [==============================] - 1s 12ms/step - loss: 0.5019 - accuracy: 0.8749 - val_loss: 0.5372 - val_accuracy: 0.8586\n",
      "Epoch 14/20\n",
      "49/49 [==============================] - 1s 12ms/step - loss: 0.4922 - accuracy: 0.8814 - val_loss: 0.5036 - val_accuracy: 0.8733\n",
      "Epoch 15/20\n",
      "49/49 [==============================] - 1s 12ms/step - loss: 0.4922 - accuracy: 0.8806 - val_loss: 0.5013 - val_accuracy: 0.8736\n",
      "Epoch 16/20\n",
      "49/49 [==============================] - 1s 11ms/step - loss: 0.4860 - accuracy: 0.8825 - val_loss: 0.4961 - val_accuracy: 0.8755\n",
      "Epoch 17/20\n",
      "49/49 [==============================] - 1s 12ms/step - loss: 0.4840 - accuracy: 0.8808 - val_loss: 0.5076 - val_accuracy: 0.8690\n",
      "Epoch 18/20\n",
      "49/49 [==============================] - 1s 13ms/step - loss: 0.4797 - accuracy: 0.8847 - val_loss: 0.5210 - val_accuracy: 0.8637\n",
      "Epoch 19/20\n",
      "49/49 [==============================] - 1s 11ms/step - loss: 0.4761 - accuracy: 0.8853 - val_loss: 0.4962 - val_accuracy: 0.8751\n",
      "Epoch 20/20\n",
      "49/49 [==============================] - 1s 11ms/step - loss: 0.4739 - accuracy: 0.8865 - val_loss: 0.4875 - val_accuracy: 0.8775\n"
     ]
    }
   ],
   "source": [
    "l1_l2_model = models.Sequential()\n",
    "l1_l2_model.add(layers.Dense(16, kernel_regularizer=regularizers.l1_l2(l1=0.001, l2=0.001), \n",
    "                       activation='relu', input_shape=(10000,)))\n",
    "l1_l2_model.add(layers.Dense(16, kernel_regularizer=regularizers.l1_l2(l1=0.001, l2=0.001), \n",
    "                       activation='relu'))\n",
    "l1_l2_model.add(layers.Dense(1, activation='sigmoid'))\n",
    "\n",
    "l1_l2_model.compile(optimizer='rmsprop', \n",
    "                 loss='binary_crossentropy', \n",
    "                 metrics=['accuracy'])\n",
    "\n",
    "l1_l2_model_hist = l1_l2_model.fit(x_train, y_train, \n",
    "                             epochs=20, batch_size=512, \n",
    "                             validation_data=(x_test, y_test))"
   ]
  },
  {
   "cell_type": "code",
   "execution_count": 18,
   "id": "6248158f",
   "metadata": {},
   "outputs": [
    {
     "data": {
      "image/png": "[encoded data removed]",
      "text/plain": [
       "<Figure size 432x288 with 1 Axes>"
      ]
     },
     "metadata": {
      "needs_background": "light"
     },
     "output_type": "display_data"
    }
   ],
   "source": [
    "l1_l2_model_val_loss = l1_l2_model_hist.history['val_loss']\n",
    "\n",
    "plt.plot(epochs, original_val_loss, 'b+', label='Original model')\n",
    "plt.plot(epochs, l1_l2_model_val_loss, 'bo', label='L1-L2-regularized model')\n",
    "plt.xlabel('Epochs')\n",
    "plt.ylabel('Validation loss')\n",
    "plt.legend()\n",
    "\n",
    "plt.show()"
   ]
  },
  {
   "cell_type": "code",
   "execution_count": 19,
   "id": "51934d75",
   "metadata": {},
   "outputs": [
    {
     "name": "stdout",
     "output_type": "stream",
     "text": [
      "Epoch 1/20\n",
      "49/49 [==============================] - 1s 18ms/step - loss: 0.5588 - accuracy: 0.8186 - val_loss: 0.4721 - val_accuracy: 0.8362\n",
      "Epoch 2/20\n",
      "49/49 [==============================] - 1s 11ms/step - loss: 0.3699 - accuracy: 0.8985 - val_loss: 0.3701 - val_accuracy: 0.8890\n",
      "Epoch 3/20\n",
      "49/49 [==============================] - 1s 12ms/step - loss: 0.3318 - accuracy: 0.9071 - val_loss: 0.3622 - val_accuracy: 0.8875\n",
      "Epoch 4/20\n",
      "49/49 [==============================] - 1s 12ms/step - loss: 0.3126 - accuracy: 0.9132 - val_loss: 0.3592 - val_accuracy: 0.8881\n",
      "Epoch 5/20\n",
      "49/49 [==============================] - 1s 11ms/step - loss: 0.3019 - accuracy: 0.9169 - val_loss: 0.3905 - val_accuracy: 0.8758\n",
      "Epoch 6/20\n",
      "49/49 [==============================] - 1s 11ms/step - loss: 0.2958 - accuracy: 0.9197 - val_loss: 0.3848 - val_accuracy: 0.8788\n",
      "Epoch 7/20\n",
      "49/49 [==============================] - 1s 11ms/step - loss: 0.2889 - accuracy: 0.9222 - val_loss: 0.3709 - val_accuracy: 0.8838\n",
      "Epoch 8/20\n",
      "49/49 [==============================] - 1s 12ms/step - loss: 0.2860 - accuracy: 0.9239 - val_loss: 0.3748 - val_accuracy: 0.8821\n",
      "Epoch 9/20\n",
      "49/49 [==============================] - 1s 12ms/step - loss: 0.2796 - accuracy: 0.9260 - val_loss: 0.4290 - val_accuracy: 0.8649\n",
      "Epoch 10/20\n",
      "49/49 [==============================] - 1s 11ms/step - loss: 0.2764 - accuracy: 0.9256 - val_loss: 0.4020 - val_accuracy: 0.8740\n",
      "Epoch 11/20\n",
      "49/49 [==============================] - 1s 11ms/step - loss: 0.2728 - accuracy: 0.9285 - val_loss: 0.3886 - val_accuracy: 0.8756\n",
      "Epoch 12/20\n",
      "49/49 [==============================] - 1s 12ms/step - loss: 0.2687 - accuracy: 0.9317 - val_loss: 0.4235 - val_accuracy: 0.8681\n",
      "Epoch 13/20\n",
      "49/49 [==============================] - 1s 12ms/step - loss: 0.2590 - accuracy: 0.9344 - val_loss: 0.4024 - val_accuracy: 0.8742\n",
      "Epoch 14/20\n",
      "49/49 [==============================] - 1s 11ms/step - loss: 0.2562 - accuracy: 0.9356 - val_loss: 0.3860 - val_accuracy: 0.8782\n",
      "Epoch 15/20\n",
      "49/49 [==============================] - 1s 11ms/step - loss: 0.2519 - accuracy: 0.9368 - val_loss: 0.3879 - val_accuracy: 0.8780\n",
      "Epoch 16/20\n",
      "49/49 [==============================] - 1s 12ms/step - loss: 0.2512 - accuracy: 0.9359 - val_loss: 0.4156 - val_accuracy: 0.8718\n",
      "Epoch 17/20\n",
      "49/49 [==============================] - 1s 12ms/step - loss: 0.2409 - accuracy: 0.9416 - val_loss: 0.3998 - val_accuracy: 0.8750\n",
      "Epoch 18/20\n",
      "49/49 [==============================] - 1s 11ms/step - loss: 0.2412 - accuracy: 0.9415 - val_loss: 0.4038 - val_accuracy: 0.8740\n",
      "Epoch 19/20\n",
      "49/49 [==============================] - 1s 12ms/step - loss: 0.2377 - accuracy: 0.9420 - val_loss: 0.4045 - val_accuracy: 0.8755\n",
      "Epoch 20/20\n",
      "49/49 [==============================] - 1s 11ms/step - loss: 0.2347 - accuracy: 0.9440 - val_loss: 0.4107 - val_accuracy: 0.8728\n"
     ]
    }
   ],
   "source": [
    "l1_model2 = models.Sequential()\n",
    "l1_model2.add(layers.Dense(16, kernel_regularizer=regularizers.l1(0.0001), \n",
    "                       activation='relu', input_shape=(10000,)))\n",
    "l1_model2.add(layers.Dense(16, kernel_regularizer=regularizers.l1(0.0001), \n",
    "                       activation='relu'))\n",
    "l1_model2.add(layers.Dense(1, activation='sigmoid'))\n",
    "\n",
    "l1_model2.compile(optimizer='rmsprop', \n",
    "                 loss='binary_crossentropy', \n",
    "                 metrics=['accuracy'])\n",
    "\n",
    "l1_model2_hist = l1_model2.fit(x_train, y_train, \n",
    "                             epochs=20, batch_size=512, \n",
    "                             validation_data=(x_test, y_test))"
   ]
  },
  {
   "cell_type": "code",
   "execution_count": 20,
   "id": "65e94f77",
   "metadata": {},
   "outputs": [
    {
     "data": {
      "image/png": "[encoded data removed]",
      "text/plain": [
       "<Figure size 432x288 with 1 Axes>"
      ]
     },
     "metadata": {
      "needs_background": "light"
     },
     "output_type": "display_data"
    }
   ],
   "source": [
    "l1_model2_val_loss = l1_model2_hist.history['val_loss']\n",
    "\n",
    "plt.plot(epochs, original_val_loss, 'b+', label='Original model')\n",
    "plt.plot(epochs, l1_model2_val_loss, 'bo', label='L1-regularized model')\n",
    "plt.xlabel('Epochs')\n",
    "plt.ylabel('Validation loss')\n",
    "plt.legend()\n",
    "\n",
    "plt.show()"
   ]
  },
  {
   "cell_type": "code",
   "execution_count": 21,
   "id": "ebdb0f9b",
   "metadata": {},
   "outputs": [
    {
     "name": "stdout",
     "output_type": "stream",
     "text": [
      "Epoch 1/20\n",
      "49/49 [==============================] - 1s 17ms/step - loss: 0.5676 - accuracy: 0.8109 - val_loss: 0.4347 - val_accuracy: 0.8748\n",
      "Epoch 2/20\n",
      "49/49 [==============================] - 1s 12ms/step - loss: 0.3813 - accuracy: 0.8917 - val_loss: 0.3815 - val_accuracy: 0.8830\n",
      "Epoch 3/20\n",
      "49/49 [==============================] - 1s 12ms/step - loss: 0.3400 - accuracy: 0.9040 - val_loss: 0.3658 - val_accuracy: 0.8866\n",
      "Epoch 4/20\n",
      "49/49 [==============================] - 1s 11ms/step - loss: 0.3243 - accuracy: 0.9072 - val_loss: 0.3694 - val_accuracy: 0.8839\n",
      "Epoch 5/20\n",
      "49/49 [==============================] - 1s 12ms/step - loss: 0.3098 - accuracy: 0.9136 - val_loss: 0.3619 - val_accuracy: 0.8862\n",
      "Epoch 6/20\n",
      "49/49 [==============================] - 1s 12ms/step - loss: 0.3051 - accuracy: 0.9153 - val_loss: 0.3639 - val_accuracy: 0.8866\n",
      "Epoch 7/20\n",
      "49/49 [==============================] - 1s 11ms/step - loss: 0.2991 - accuracy: 0.9194 - val_loss: 0.3655 - val_accuracy: 0.8867\n",
      "Epoch 8/20\n",
      "49/49 [==============================] - 1s 11ms/step - loss: 0.2927 - accuracy: 0.9204 - val_loss: 0.3715 - val_accuracy: 0.8834\n",
      "Epoch 9/20\n",
      "49/49 [==============================] - 1s 12ms/step - loss: 0.2838 - accuracy: 0.9246 - val_loss: 0.3905 - val_accuracy: 0.8750\n",
      "Epoch 10/20\n",
      "49/49 [==============================] - 1s 12ms/step - loss: 0.2750 - accuracy: 0.9292 - val_loss: 0.4101 - val_accuracy: 0.8671\n",
      "Epoch 11/20\n",
      "49/49 [==============================] - 1s 12ms/step - loss: 0.2759 - accuracy: 0.9289 - val_loss: 0.3870 - val_accuracy: 0.8789\n",
      "Epoch 12/20\n",
      "49/49 [==============================] - 1s 11ms/step - loss: 0.2663 - accuracy: 0.9319 - val_loss: 0.3836 - val_accuracy: 0.8788\n",
      "Epoch 13/20\n",
      "49/49 [==============================] - 1s 12ms/step - loss: 0.2633 - accuracy: 0.9337 - val_loss: 0.3884 - val_accuracy: 0.8784\n",
      "Epoch 14/20\n",
      "49/49 [==============================] - 1s 12ms/step - loss: 0.2582 - accuracy: 0.9376 - val_loss: 0.4049 - val_accuracy: 0.8729\n",
      "Epoch 15/20\n",
      "49/49 [==============================] - 1s 11ms/step - loss: 0.2550 - accuracy: 0.9380 - val_loss: 0.3933 - val_accuracy: 0.8791\n",
      "Epoch 16/20\n",
      "49/49 [==============================] - 1s 12ms/step - loss: 0.2463 - accuracy: 0.9418 - val_loss: 0.4163 - val_accuracy: 0.8727\n",
      "Epoch 17/20\n",
      "49/49 [==============================] - 1s 11ms/step - loss: 0.2415 - accuracy: 0.9432 - val_loss: 0.3976 - val_accuracy: 0.8763\n",
      "Epoch 18/20\n",
      "49/49 [==============================] - 1s 11ms/step - loss: 0.2351 - accuracy: 0.9448 - val_loss: 0.4004 - val_accuracy: 0.8768\n",
      "Epoch 19/20\n",
      "49/49 [==============================] - 1s 12ms/step - loss: 0.2310 - accuracy: 0.9480 - val_loss: 0.4035 - val_accuracy: 0.8762\n",
      "Epoch 20/20\n",
      "49/49 [==============================] - 1s 11ms/step - loss: 0.2221 - accuracy: 0.9526 - val_loss: 0.4625 - val_accuracy: 0.8557\n"
     ]
    }
   ],
   "source": [
    "l1_l2_model2 = models.Sequential()\n",
    "l1_l2_model2.add(layers.Dense(16, kernel_regularizer=regularizers.l1_l2(l1=0.0001, l2=0.0001), \n",
    "                       activation='relu', input_shape=(10000,)))\n",
    "l1_l2_model2.add(layers.Dense(16, kernel_regularizer=regularizers.l1_l2(l1=0.0001, l2=0.0001), \n",
    "                       activation='relu'))\n",
    "l1_l2_model2.add(layers.Dense(1, activation='sigmoid'))\n",
    "\n",
    "l1_l2_model2.compile(optimizer='rmsprop', \n",
    "                 loss='binary_crossentropy', \n",
    "                 metrics=['accuracy'])\n",
    "\n",
    "l1_l2_model2_hist = l1_l2_model2.fit(x_train, y_train, \n",
    "                             epochs=20, batch_size=512, \n",
    "                             validation_data=(x_test, y_test))"
   ]
  },
  {
   "cell_type": "code",
   "execution_count": 22,
   "id": "8a1cda34",
   "metadata": {},
   "outputs": [
    {
     "data": {
      "image/png": "[encoded data removed]",
      "text/plain": [
       "<Figure size 432x288 with 1 Axes>"
      ]
     },
     "metadata": {
      "needs_background": "light"
     },
     "output_type": "display_data"
    }
   ],
   "source": [
    "l1_l2_model2_val_loss = l1_l2_model2_hist.history['val_loss']\n",
    "\n",
    "plt.plot(epochs, original_val_loss, 'b+', label='Original model')\n",
    "plt.plot(epochs, l1_l2_model2_val_loss, 'bo', label='L1-L2-regularized model')\n",
    "plt.xlabel('Epochs')\n",
    "plt.ylabel('Validation loss')\n",
    "plt.legend()\n",
    "\n",
    "plt.show()"
   ]
  },
  {
   "cell_type": "code",
   "execution_count": 23,
   "id": "db1d8e49",
   "metadata": {},
   "outputs": [
    {
     "name": "stdout",
     "output_type": "stream",
     "text": [
      "Epoch 1/20\n",
      "49/49 [==============================] - 1s 19ms/step - loss: 0.6061 - accuracy: 0.6677 - val_loss: 0.4605 - val_accuracy: 0.8504\n",
      "Epoch 2/20\n",
      "49/49 [==============================] - 1s 11ms/step - loss: 0.4513 - accuracy: 0.8043 - val_loss: 0.3482 - val_accuracy: 0.8821\n",
      "Epoch 3/20\n",
      "49/49 [==============================] - 1s 12ms/step - loss: 0.3652 - accuracy: 0.8634 - val_loss: 0.2991 - val_accuracy: 0.8878\n",
      "Epoch 4/20\n",
      "49/49 [==============================] - 1s 12ms/step - loss: 0.3124 - accuracy: 0.8934 - val_loss: 0.2909 - val_accuracy: 0.8831\n",
      "Epoch 5/20\n",
      "49/49 [==============================] - 1s 11ms/step - loss: 0.2744 - accuracy: 0.9094 - val_loss: 0.2881 - val_accuracy: 0.8880\n",
      "Epoch 6/20\n",
      "49/49 [==============================] - 1s 11ms/step - loss: 0.2464 - accuracy: 0.9224 - val_loss: 0.2894 - val_accuracy: 0.8858\n",
      "Epoch 7/20\n",
      "49/49 [==============================] - 1s 12ms/step - loss: 0.2217 - accuracy: 0.9308 - val_loss: 0.3052 - val_accuracy: 0.8871\n",
      "Epoch 8/20\n",
      "49/49 [==============================] - 1s 11ms/step - loss: 0.2011 - accuracy: 0.9376 - val_loss: 0.3362 - val_accuracy: 0.8823\n",
      "Epoch 9/20\n",
      "49/49 [==============================] - 1s 12ms/step - loss: 0.1858 - accuracy: 0.9438 - val_loss: 0.3324 - val_accuracy: 0.8834\n",
      "Epoch 10/20\n",
      "49/49 [==============================] - 1s 12ms/step - loss: 0.1712 - accuracy: 0.9474 - val_loss: 0.3775 - val_accuracy: 0.8824\n",
      "Epoch 11/20\n",
      "49/49 [==============================] - 1s 12ms/step - loss: 0.1576 - accuracy: 0.9519 - val_loss: 0.3915 - val_accuracy: 0.8806\n",
      "Epoch 12/20\n",
      "49/49 [==============================] - 1s 12ms/step - loss: 0.1507 - accuracy: 0.9522 - val_loss: 0.4368 - val_accuracy: 0.8782\n",
      "Epoch 13/20\n",
      "49/49 [==============================] - 1s 12ms/step - loss: 0.1465 - accuracy: 0.9555 - val_loss: 0.4690 - val_accuracy: 0.8768\n",
      "Epoch 14/20\n",
      "49/49 [==============================] - 1s 12ms/step - loss: 0.1351 - accuracy: 0.9594 - val_loss: 0.4535 - val_accuracy: 0.8779\n",
      "Epoch 15/20\n",
      "49/49 [==============================] - 1s 12ms/step - loss: 0.1283 - accuracy: 0.9618 - val_loss: 0.4817 - val_accuracy: 0.8786\n",
      "Epoch 16/20\n",
      "49/49 [==============================] - 1s 11ms/step - loss: 0.1290 - accuracy: 0.9614 - val_loss: 0.4864 - val_accuracy: 0.8754\n",
      "Epoch 17/20\n",
      "49/49 [==============================] - 1s 12ms/step - loss: 0.1233 - accuracy: 0.9630 - val_loss: 0.5320 - val_accuracy: 0.8759\n",
      "Epoch 18/20\n",
      "49/49 [==============================] - 1s 12ms/step - loss: 0.1237 - accuracy: 0.9657 - val_loss: 0.5230 - val_accuracy: 0.8726\n",
      "Epoch 19/20\n",
      "49/49 [==============================] - 1s 11ms/step - loss: 0.1194 - accuracy: 0.9670 - val_loss: 0.5451 - val_accuracy: 0.8732\n",
      "Epoch 20/20\n",
      "49/49 [==============================] - 1s 11ms/step - loss: 0.1178 - accuracy: 0.9679 - val_loss: 0.5751 - val_accuracy: 0.8738\n"
     ]
    }
   ],
   "source": [
    "dropout_model = models.Sequential()\n",
    "dropout_model.add(layers.Dense(16, activation='relu', input_shape=(10000,)))\n",
    "dropout_model.add(layers.Dropout(0.5))\n",
    "dropout_model.add(layers.Dense(16, activation='relu'))\n",
    "dropout_model.add(layers.Dropout(0.5))\n",
    "dropout_model.add(layers.Dense(1, activation='sigmoid'))\n",
    "\n",
    "dropout_model.compile(optimizer='rmsprop',\n",
    "                      loss='binary_crossentropy', \n",
    "                      metrics=['accuracy'])\n",
    "\n",
    "dropout_model_hist = dropout_model.fit(x_train, y_train, \n",
    "                                   epochs=20, batch_size=512, \n",
    "                                   validation_data=(x_test, y_test))"
   ]
  },
  {
   "cell_type": "code",
   "execution_count": 24,
   "id": "b87999fc",
   "metadata": {},
   "outputs": [
    {
     "data": {
      "image/png": "[encoded data removed]",
      "text/plain": [
       "<Figure size 432x288 with 1 Axes>"
      ]
     },
     "metadata": {
      "needs_background": "light"
     },
     "output_type": "display_data"
    }
   ],
   "source": [
    "dropout_model_val_loss = dropout_model_hist.history['val_loss']\n",
    "\n",
    "plt.plot(epochs, original_val_loss, 'b+', label='Original model')\n",
    "plt.plot(epochs, dropout_model_val_loss, 'bo', label='Dropout-regularized model')\n",
    "plt.xlabel('Epochs')\n",
    "plt.ylabel('Validation loss')\n",
    "plt.legend()\n",
    "\n",
    "plt.show()"
   ]
  },
  {
   "cell_type": "code",
   "execution_count": null,
   "id": "aaebf8bf",
   "metadata": {},
   "outputs": [],
   "source": []
  }
 ],
 "metadata": {
  "kernelspec": {
   "display_name": "Python 3",
   "language": "python",
   "name": "python3"
  },
  "language_info": {
   "codemirror_mode": {
    "name": "ipython",
    "version": 3
   },
   "file_extension": ".py",
   "mimetype": "text/x-python",
   "name": "python",
   "nbconvert_exporter": "python",
   "pygments_lexer": "ipython3",
   "version": "3.6.13"
  }
 },
 "nbformat": 4,
 "nbformat_minor": 5
}
