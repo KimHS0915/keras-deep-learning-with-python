{
 "cells": [
  {
   "cell_type": "code",
   "execution_count": 1,
   "id": "8b6ac9b8",
   "metadata": {},
   "outputs": [],
   "source": [
    "from tensorflow.keras.datasets import imdb\n",
    "\n",
    "(train_data, train_labels), (test_data, test_labels) = imdb.load_data(num_words=10000)"
   ]
  },
  {
   "cell_type": "code",
   "execution_count": 2,
   "id": "3aa17b4a",
   "metadata": {},
   "outputs": [],
   "source": [
    "import numpy as np\n",
    "\n",
    "def vectorize_sequences(sequences, dimension=10000):\n",
    "    results = np.zeros((len(sequences), dimension))\n",
    "    for i, sequence in enumerate(sequences):\n",
    "        results[i, sequence] = 1.\n",
    "    return results"
   ]
  },
  {
   "cell_type": "code",
   "execution_count": 3,
   "id": "61fed71b",
   "metadata": {},
   "outputs": [],
   "source": [
    "x_train = vectorize_sequences(train_data)\n",
    "x_test = vectorize_sequences(test_data)\n",
    "\n",
    "y_train = np.asarray(train_labels).astype('float32')\n",
    "y_test = np.asarray(test_labels).astype('float32')"
   ]
  },
  {
   "cell_type": "code",
   "execution_count": 4,
   "id": "4e383675",
   "metadata": {},
   "outputs": [
    {
     "name": "stdout",
     "output_type": "stream",
     "text": [
      "Epoch 1/20\n",
      "49/49 [==============================] - 1s 21ms/step - loss: 0.4416 - accuracy: 0.8248 - val_loss: 0.3269 - val_accuracy: 0.8796\n",
      "Epoch 2/20\n",
      "49/49 [==============================] - 1s 13ms/step - loss: 0.2501 - accuracy: 0.9114 - val_loss: 0.2898 - val_accuracy: 0.8852\n",
      "Epoch 3/20\n",
      "49/49 [==============================] - 1s 13ms/step - loss: 0.1961 - accuracy: 0.9306 - val_loss: 0.3044 - val_accuracy: 0.8769\n",
      "Epoch 4/20\n",
      "49/49 [==============================] - 1s 13ms/step - loss: 0.1629 - accuracy: 0.9427 - val_loss: 0.3064 - val_accuracy: 0.8790\n",
      "Epoch 5/20\n",
      "49/49 [==============================] - 1s 12ms/step - loss: 0.1433 - accuracy: 0.9496 - val_loss: 0.3195 - val_accuracy: 0.8794\n",
      "Epoch 6/20\n",
      "49/49 [==============================] - 1s 12ms/step - loss: 0.1247 - accuracy: 0.9565 - val_loss: 0.3389 - val_accuracy: 0.8754\n",
      "Epoch 7/20\n",
      "49/49 [==============================] - 1s 13ms/step - loss: 0.1105 - accuracy: 0.9622 - val_loss: 0.3660 - val_accuracy: 0.8719\n",
      "Epoch 8/20\n",
      "49/49 [==============================] - 1s 13ms/step - loss: 0.0987 - accuracy: 0.9668 - val_loss: 0.4212 - val_accuracy: 0.8626\n",
      "Epoch 9/20\n",
      "49/49 [==============================] - 1s 13ms/step - loss: 0.0873 - accuracy: 0.9716 - val_loss: 0.4204 - val_accuracy: 0.8659\n",
      "Epoch 10/20\n",
      "49/49 [==============================] - 1s 12ms/step - loss: 0.0777 - accuracy: 0.9742 - val_loss: 0.4549 - val_accuracy: 0.8624\n",
      "Epoch 11/20\n",
      "49/49 [==============================] - 1s 12ms/step - loss: 0.0694 - accuracy: 0.9772 - val_loss: 0.4831 - val_accuracy: 0.8586\n",
      "Epoch 12/20\n",
      "49/49 [==============================] - 1s 12ms/step - loss: 0.0598 - accuracy: 0.9815 - val_loss: 0.5739 - val_accuracy: 0.8458\n",
      "Epoch 13/20\n",
      "49/49 [==============================] - 1s 13ms/step - loss: 0.0541 - accuracy: 0.9824 - val_loss: 0.5511 - val_accuracy: 0.8543\n",
      "Epoch 14/20\n",
      "49/49 [==============================] - 1s 12ms/step - loss: 0.0458 - accuracy: 0.9862 - val_loss: 0.5872 - val_accuracy: 0.8549\n",
      "Epoch 15/20\n",
      "49/49 [==============================] - 1s 12ms/step - loss: 0.0397 - accuracy: 0.9888 - val_loss: 0.6436 - val_accuracy: 0.8493\n",
      "Epoch 16/20\n",
      "49/49 [==============================] - 1s 12ms/step - loss: 0.0340 - accuracy: 0.9898 - val_loss: 0.6703 - val_accuracy: 0.8499\n",
      "Epoch 17/20\n",
      "49/49 [==============================] - 1s 12ms/step - loss: 0.0300 - accuracy: 0.9914 - val_loss: 0.6932 - val_accuracy: 0.8516\n",
      "Epoch 18/20\n",
      "49/49 [==============================] - 1s 13ms/step - loss: 0.0259 - accuracy: 0.9925 - val_loss: 0.8034 - val_accuracy: 0.8412\n",
      "Epoch 19/20\n",
      "49/49 [==============================] - 1s 13ms/step - loss: 0.0228 - accuracy: 0.9936 - val_loss: 0.7631 - val_accuracy: 0.8492\n",
      "Epoch 20/20\n",
      "49/49 [==============================] - 1s 11ms/step - loss: 0.0199 - accuracy: 0.9947 - val_loss: 0.8050 - val_accuracy: 0.8484\n"
     ]
    }
   ],
   "source": [
    "from tensorflow.keras import models\n",
    "from tensorflow.keras import layers\n",
    "\n",
    "original_model = models.Sequential()\n",
    "original_model.add(layers.Dense(16, activation='relu', input_shape=(10000,)))\n",
    "original_model.add(layers.Dense(16, activation='relu'))\n",
    "original_model.add(layers.Dense(1, activation='sigmoid'))\n",
    "\n",
    "original_model.compile(optimizer='rmsprop', \n",
    "              loss='binary_crossentropy', \n",
    "              metrics=['accuracy'])\n",
    "\n",
    "original_hist = original_model.fit(x_train, y_train, \n",
    "                                   epochs=20, batch_size=512, \n",
    "                                   validation_data=(x_test, y_test))"
   ]
  },
  {
   "cell_type": "code",
   "execution_count": 5,
   "id": "32e04a39",
   "metadata": {},
   "outputs": [
    {
     "name": "stdout",
     "output_type": "stream",
     "text": [
      "Epoch 1/20\n",
      "49/49 [==============================] - 1s 23ms/step - loss: 0.4932 - accuracy: 0.8092 - val_loss: 0.3816 - val_accuracy: 0.8700\n",
      "Epoch 2/20\n",
      "49/49 [==============================] - 1s 11ms/step - loss: 0.3018 - accuracy: 0.8996 - val_loss: 0.3069 - val_accuracy: 0.8824\n",
      "Epoch 3/20\n",
      "49/49 [==============================] - 1s 11ms/step - loss: 0.2330 - accuracy: 0.9189 - val_loss: 0.2837 - val_accuracy: 0.8880\n",
      "Epoch 4/20\n",
      "49/49 [==============================] - 1s 11ms/step - loss: 0.1940 - accuracy: 0.9334 - val_loss: 0.2797 - val_accuracy: 0.8880\n",
      "Epoch 5/20\n",
      "49/49 [==============================] - 1s 11ms/step - loss: 0.1687 - accuracy: 0.9424 - val_loss: 0.2860 - val_accuracy: 0.8855\n",
      "Epoch 6/20\n",
      "49/49 [==============================] - 1s 11ms/step - loss: 0.1488 - accuracy: 0.9493 - val_loss: 0.2967 - val_accuracy: 0.8832\n",
      "Epoch 7/20\n",
      "49/49 [==============================] - 1s 11ms/step - loss: 0.1339 - accuracy: 0.9548 - val_loss: 0.3114 - val_accuracy: 0.8797\n",
      "Epoch 8/20\n",
      "49/49 [==============================] - 1s 11ms/step - loss: 0.1216 - accuracy: 0.9594 - val_loss: 0.3419 - val_accuracy: 0.8737\n",
      "Epoch 9/20\n",
      "49/49 [==============================] - 1s 11ms/step - loss: 0.1101 - accuracy: 0.9643 - val_loss: 0.3466 - val_accuracy: 0.8744\n",
      "Epoch 10/20\n",
      "49/49 [==============================] - 1s 11ms/step - loss: 0.1014 - accuracy: 0.9663 - val_loss: 0.3639 - val_accuracy: 0.8720\n",
      "Epoch 11/20\n",
      "49/49 [==============================] - 1s 11ms/step - loss: 0.0921 - accuracy: 0.9702 - val_loss: 0.3856 - val_accuracy: 0.8696\n",
      "Epoch 12/20\n",
      "49/49 [==============================] - 1s 11ms/step - loss: 0.0847 - accuracy: 0.9732 - val_loss: 0.4172 - val_accuracy: 0.8646\n",
      "Epoch 13/20\n",
      "49/49 [==============================] - 1s 11ms/step - loss: 0.0784 - accuracy: 0.9756 - val_loss: 0.4307 - val_accuracy: 0.8643\n",
      "Epoch 14/20\n",
      "49/49 [==============================] - 1s 11ms/step - loss: 0.0716 - accuracy: 0.9777 - val_loss: 0.4502 - val_accuracy: 0.8639\n",
      "Epoch 15/20\n",
      "49/49 [==============================] - 1s 11ms/step - loss: 0.0659 - accuracy: 0.9806 - val_loss: 0.4760 - val_accuracy: 0.8620\n",
      "Epoch 16/20\n",
      "49/49 [==============================] - 1s 11ms/step - loss: 0.0596 - accuracy: 0.9823 - val_loss: 0.5089 - val_accuracy: 0.8610\n",
      "Epoch 17/20\n",
      "49/49 [==============================] - 1s 11ms/step - loss: 0.0544 - accuracy: 0.9848 - val_loss: 0.5299 - val_accuracy: 0.8583\n",
      "Epoch 18/20\n",
      "49/49 [==============================] - 1s 11ms/step - loss: 0.0506 - accuracy: 0.9853 - val_loss: 0.5560 - val_accuracy: 0.8550\n",
      "Epoch 19/20\n",
      "49/49 [==============================] - 1s 11ms/step - loss: 0.0450 - accuracy: 0.9876 - val_loss: 0.5823 - val_accuracy: 0.8534\n",
      "Epoch 20/20\n",
      "49/49 [==============================] - 1s 11ms/step - loss: 0.0417 - accuracy: 0.9888 - val_loss: 0.6096 - val_accuracy: 0.8538\n"
     ]
    }
   ],
   "source": [
    "from tensorflow.keras import models\n",
    "from tensorflow.keras import layers\n",
    "\n",
    "smaller_model = models.Sequential()\n",
    "smaller_model.add(layers.Dense(6, activation='relu', input_shape=(10000,)))\n",
    "smaller_model.add(layers.Dense(6, activation='relu'))\n",
    "smaller_model.add(layers.Dense(1, activation='sigmoid'))\n",
    "\n",
    "smaller_model.compile(optimizer='rmsprop', \n",
    "                      loss='binary_crossentropy', \n",
    "                      metrics=['accuracy'])\n",
    "\n",
    "smaller_model_hist = smaller_model.fit(x_train, y_train,\n",
    "                                       epochs=20, batch_size=512, \n",
    "                                       validation_data=(x_test, y_test))"
   ]
  },
  {
   "cell_type": "code",
   "execution_count": 6,
   "id": "3990b56d",
   "metadata": {},
   "outputs": [],
   "source": [
    "epochs = range(1, 21)\n",
    "original_val_loss = original_hist.history['val_loss']\n",
    "smaller_model_val_loss = smaller_model_hist.history['val_loss']"
   ]
  },
  {
   "cell_type": "code",
   "execution_count": 7,
   "id": "e735a418",
   "metadata": {},
   "outputs": [
    {
     "data": {
      "image/png": "[encoded data removed]",
      "text/plain": [
       "<Figure size 432x288 with 1 Axes>"
      ]
     },
     "metadata": {
      "needs_background": "light"
     },
     "output_type": "display_data"
    }
   ],
   "source": [
    "import matplotlib.pyplot as plt\n",
    "\n",
    "plt.plot(epochs, original_val_loss, 'b+', label='Original_model')\n",
    "plt.plot(epochs, smaller_model_val_loss, 'bo', label='Smaller model')\n",
    "plt.xlabel('Epochs')\n",
    "plt.ylabel('Validation loss')\n",
    "plt.legend()\n",
    "\n",
    "plt.show()"
   ]
  },
  {
   "cell_type": "code",
   "execution_count": 8,
   "id": "f7b9a303",
   "metadata": {},
   "outputs": [
    {
     "name": "stdout",
     "output_type": "stream",
     "text": [
      "Epoch 1/20\n",
      "49/49 [==============================] - 7s 130ms/step - loss: 0.4927 - accuracy: 0.7918 - val_loss: 0.2877 - val_accuracy: 0.8815\n",
      "Epoch 2/20\n",
      "49/49 [==============================] - 6s 131ms/step - loss: 0.2171 - accuracy: 0.9118 - val_loss: 0.2771 - val_accuracy: 0.8890\n",
      "Epoch 3/20\n",
      "49/49 [==============================] - 6s 128ms/step - loss: 0.1106 - accuracy: 0.9594 - val_loss: 0.4940 - val_accuracy: 0.8512\n",
      "Epoch 4/20\n",
      "49/49 [==============================] - 6s 132ms/step - loss: 0.0668 - accuracy: 0.9843 - val_loss: 0.4745 - val_accuracy: 0.8833\n",
      "Epoch 5/20\n",
      "49/49 [==============================] - 6s 129ms/step - loss: 0.1362 - accuracy: 0.9842 - val_loss: 0.4751 - val_accuracy: 0.8855\n",
      "Epoch 6/20\n",
      "49/49 [==============================] - 6s 129ms/step - loss: 0.0011 - accuracy: 0.9999 - val_loss: 0.6686 - val_accuracy: 0.8849\n",
      "Epoch 7/20\n",
      "49/49 [==============================] - 6s 129ms/step - loss: 0.1650 - accuracy: 0.9861 - val_loss: 0.5415 - val_accuracy: 0.8796\n",
      "Epoch 8/20\n",
      "49/49 [==============================] - 6s 129ms/step - loss: 1.9609e-04 - accuracy: 1.0000 - val_loss: 0.6917 - val_accuracy: 0.8835\n",
      "Epoch 9/20\n",
      "49/49 [==============================] - 6s 130ms/step - loss: 2.9300e-05 - accuracy: 1.0000 - val_loss: 0.7922 - val_accuracy: 0.8834\n",
      "Epoch 10/20\n",
      "49/49 [==============================] - 6s 131ms/step - loss: 4.4425e-06 - accuracy: 1.0000 - val_loss: 0.9040 - val_accuracy: 0.8833\n",
      "Epoch 11/20\n",
      "49/49 [==============================] - 6s 129ms/step - loss: 7.0219e-07 - accuracy: 1.0000 - val_loss: 1.0425 - val_accuracy: 0.8836\n",
      "Epoch 12/20\n",
      "49/49 [==============================] - 6s 130ms/step - loss: 1.2271e-07 - accuracy: 1.0000 - val_loss: 1.1619 - val_accuracy: 0.8843\n",
      "Epoch 13/20\n",
      "49/49 [==============================] - 6s 128ms/step - loss: 3.1687e-08 - accuracy: 1.0000 - val_loss: 1.2407 - val_accuracy: 0.8839\n",
      "Epoch 14/20\n",
      "49/49 [==============================] - 6s 132ms/step - loss: 1.4682e-08 - accuracy: 1.0000 - val_loss: 1.2850 - val_accuracy: 0.8843\n",
      "Epoch 15/20\n",
      "49/49 [==============================] - 6s 131ms/step - loss: 9.4272e-09 - accuracy: 1.0000 - val_loss: 1.3125 - val_accuracy: 0.8842\n",
      "Epoch 16/20\n",
      "49/49 [==============================] - 6s 133ms/step - loss: 6.9722e-09 - accuracy: 1.0000 - val_loss: 1.3311 - val_accuracy: 0.8843\n",
      "Epoch 17/20\n",
      "49/49 [==============================] - 6s 129ms/step - loss: 5.5506e-09 - accuracy: 1.0000 - val_loss: 1.3468 - val_accuracy: 0.8841\n",
      "Epoch 18/20\n",
      "49/49 [==============================] - 6s 130ms/step - loss: 4.6214e-09 - accuracy: 1.0000 - val_loss: 1.3586 - val_accuracy: 0.8842\n",
      "Epoch 19/20\n",
      "49/49 [==============================] - 6s 127ms/step - loss: 3.9705e-09 - accuracy: 1.0000 - val_loss: 1.3691 - val_accuracy: 0.8841\n",
      "Epoch 20/20\n",
      "49/49 [==============================] - 6s 125ms/step - loss: 3.4922e-09 - accuracy: 1.0000 - val_loss: 1.3775 - val_accuracy: 0.8842\n"
     ]
    }
   ],
   "source": [
    "bigger_model = models.Sequential()\n",
    "bigger_model.add(layers.Dense(1024, activation='relu', input_shape=(10000,)))\n",
    "bigger_model.add(layers.Dense(1024, activation='relu'))\n",
    "bigger_model.add(layers.Dense(1, activation='sigmoid'))\n",
    "\n",
    "bigger_model.compile(optimizer='rmsprop', \n",
    "                      loss='binary_crossentropy', \n",
    "                      metrics=['accuracy'])\n",
    "\n",
    "bigger_model_hist = bigger_model.fit(x_train, y_train,\n",
    "                                     epochs=20, batch_size=512, \n",
    "                                     validation_data=(x_test, y_test))"
   ]
  },
  {
   "cell_type": "code",
   "execution_count": 9,
   "id": "2f04f2e4",
   "metadata": {},
   "outputs": [],
   "source": [
    "bigger_model_val_loss = bigger_model_hist.history['val_loss']"
   ]
  },
  {
   "cell_type": "code",
   "execution_count": 10,
   "id": "d0bdeed1",
   "metadata": {},
   "outputs": [
    {
     "data": {
      "image/png": "[encoded data removed]",
      "text/plain": [
       "<Figure size 432x288 with 1 Axes>"
      ]
     },
     "metadata": {
      "needs_background": "light"
     },
     "output_type": "display_data"
    }
   ],
   "source": [
    "plt.plot(epochs, original_val_loss, 'b+', label='Original_model')\n",
    "plt.plot(epochs, bigger_model_val_loss, 'bo', label='Bigger model')\n",
    "plt.xlabel('Epochs')\n",
    "plt.ylabel('Validation loss')\n",
    "plt.legend()\n",
    "\n",
    "plt.show()"
   ]
  },
  {
   "cell_type": "code",
   "execution_count": 11,
   "id": "b12f0b6a",
   "metadata": {},
   "outputs": [],
   "source": [
    "original_train_loss = original_hist.history['loss']\n",
    "bigger_model_train_loss = bigger_model_hist.history['loss']"
   ]
  },
  {
   "cell_type": "code",
   "execution_count": 12,
   "id": "50aa72ba",
   "metadata": {},
   "outputs": [
    {
     "data": {
      "image/png": "[encoded data removed]",
      "text/plain": [
       "<Figure size 432x288 with 1 Axes>"
      ]
     },
     "metadata": {
      "needs_background": "light"
     },
     "output_type": "display_data"
    }
   ],
   "source": [
    "plt.plot(epochs, original_train_loss, 'b+', label='Original model')\n",
    "plt.plot(epochs, bigger_model_train_loss, 'bo', label='Bigger model')\n",
    "plt.xlabel('Epochs')\n",
    "plt.ylabel('Validation loss')\n",
    "plt.legend()\n",
    "\n",
    "plt.show()"
   ]
  },
  {
   "cell_type": "code",
   "execution_count": null,
   "id": "b2dbeafd",
   "metadata": {},
   "outputs": [],
   "source": []
  },
  {
   "cell_type": "code",
   "execution_count": null,
   "id": "e9e880a7",
   "metadata": {},
   "outputs": [],
   "source": []
  },
  {
   "cell_type": "code",
   "execution_count": null,
   "id": "cf7e4048",
   "metadata": {},
   "outputs": [],
   "source": []
  },
  {
   "cell_type": "code",
   "execution_count": null,
   "id": "354f3144",
   "metadata": {},
   "outputs": [],
   "source": []
  },
  {
   "cell_type": "code",
   "execution_count": null,
   "id": "ed886482",
   "metadata": {},
   "outputs": [],
   "source": []
  },
  {
   "cell_type": "code",
   "execution_count": null,
   "id": "6248158f",
   "metadata": {},
   "outputs": [],
   "source": []
  },
  {
   "cell_type": "code",
   "execution_count": null,
   "id": "51934d75",
   "metadata": {},
   "outputs": [],
   "source": []
  },
  {
   "cell_type": "code",
   "execution_count": null,
   "id": "aaebf8bf",
   "metadata": {},
   "outputs": [],
   "source": []
  },
  {
   "cell_type": "code",
   "execution_count": null,
   "id": "6c71d315",
   "metadata": {},
   "outputs": [],
   "source": []
  },
  {
   "cell_type": "code",
   "execution_count": null,
   "id": "59288efa",
   "metadata": {},
   "outputs": [],
   "source": []
  }
 ],
 "metadata": {
  "kernelspec": {
   "display_name": "Python 3",
   "language": "python",
   "name": "python3"
  },
  "language_info": {
   "codemirror_mode": {
    "name": "ipython",
    "version": 3
   },
   "file_extension": ".py",
   "mimetype": "text/x-python",
   "name": "python",
   "nbconvert_exporter": "python",
   "pygments_lexer": "ipython3",
   "version": "3.6.13"
  }
 },
 "nbformat": 4,
 "nbformat_minor": 5
}
