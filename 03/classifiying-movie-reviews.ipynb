{
 "cells": [
  {
   "cell_type": "code",
   "execution_count": 1,
   "id": "01f8add6",
   "metadata": {},
   "outputs": [],
   "source": [
    "from tensorflow.keras.datasets import imdb\n",
    "\n",
    "(train_data, train_labels), (test_data, test_labels) = imdb.load_data(num_words=10000)"
   ]
  },
  {
   "cell_type": "code",
   "execution_count": 2,
   "id": "d4ff85ea",
   "metadata": {},
   "outputs": [
    {
     "data": {
      "text/plain": [
       "[1,\n",
       " 14,\n",
       " 22,\n",
       " 16,\n",
       " 43,\n",
       " 530,\n",
       " 973,\n",
       " 1622,\n",
       " 1385,\n",
       " 65,\n",
       " 458,\n",
       " 4468,\n",
       " 66,\n",
       " 3941,\n",
       " 4,\n",
       " 173,\n",
       " 36,\n",
       " 256,\n",
       " 5,\n",
       " 25,\n",
       " 100,\n",
       " 43,\n",
       " 838,\n",
       " 112,\n",
       " 50,\n",
       " 670,\n",
       " 2,\n",
       " 9,\n",
       " 35,\n",
       " 480,\n",
       " 284,\n",
       " 5,\n",
       " 150,\n",
       " 4,\n",
       " 172,\n",
       " 112,\n",
       " 167,\n",
       " 2,\n",
       " 336,\n",
       " 385,\n",
       " 39,\n",
       " 4,\n",
       " 172,\n",
       " 4536,\n",
       " 1111,\n",
       " 17,\n",
       " 546,\n",
       " 38,\n",
       " 13,\n",
       " 447,\n",
       " 4,\n",
       " 192,\n",
       " 50,\n",
       " 16,\n",
       " 6,\n",
       " 147,\n",
       " 2025,\n",
       " 19,\n",
       " 14,\n",
       " 22,\n",
       " 4,\n",
       " 1920,\n",
       " 4613,\n",
       " 469,\n",
       " 4,\n",
       " 22,\n",
       " 71,\n",
       " 87,\n",
       " 12,\n",
       " 16,\n",
       " 43,\n",
       " 530,\n",
       " 38,\n",
       " 76,\n",
       " 15,\n",
       " 13,\n",
       " 1247,\n",
       " 4,\n",
       " 22,\n",
       " 17,\n",
       " 515,\n",
       " 17,\n",
       " 12,\n",
       " 16,\n",
       " 626,\n",
       " 18,\n",
       " 2,\n",
       " 5,\n",
       " 62,\n",
       " 386,\n",
       " 12,\n",
       " 8,\n",
       " 316,\n",
       " 8,\n",
       " 106,\n",
       " 5,\n",
       " 4,\n",
       " 2223,\n",
       " 5244,\n",
       " 16,\n",
       " 480,\n",
       " 66,\n",
       " 3785,\n",
       " 33,\n",
       " 4,\n",
       " 130,\n",
       " 12,\n",
       " 16,\n",
       " 38,\n",
       " 619,\n",
       " 5,\n",
       " 25,\n",
       " 124,\n",
       " 51,\n",
       " 36,\n",
       " 135,\n",
       " 48,\n",
       " 25,\n",
       " 1415,\n",
       " 33,\n",
       " 6,\n",
       " 22,\n",
       " 12,\n",
       " 215,\n",
       " 28,\n",
       " 77,\n",
       " 52,\n",
       " 5,\n",
       " 14,\n",
       " 407,\n",
       " 16,\n",
       " 82,\n",
       " 2,\n",
       " 8,\n",
       " 4,\n",
       " 107,\n",
       " 117,\n",
       " 5952,\n",
       " 15,\n",
       " 256,\n",
       " 4,\n",
       " 2,\n",
       " 7,\n",
       " 3766,\n",
       " 5,\n",
       " 723,\n",
       " 36,\n",
       " 71,\n",
       " 43,\n",
       " 530,\n",
       " 476,\n",
       " 26,\n",
       " 400,\n",
       " 317,\n",
       " 46,\n",
       " 7,\n",
       " 4,\n",
       " 2,\n",
       " 1029,\n",
       " 13,\n",
       " 104,\n",
       " 88,\n",
       " 4,\n",
       " 381,\n",
       " 15,\n",
       " 297,\n",
       " 98,\n",
       " 32,\n",
       " 2071,\n",
       " 56,\n",
       " 26,\n",
       " 141,\n",
       " 6,\n",
       " 194,\n",
       " 7486,\n",
       " 18,\n",
       " 4,\n",
       " 226,\n",
       " 22,\n",
       " 21,\n",
       " 134,\n",
       " 476,\n",
       " 26,\n",
       " 480,\n",
       " 5,\n",
       " 144,\n",
       " 30,\n",
       " 5535,\n",
       " 18,\n",
       " 51,\n",
       " 36,\n",
       " 28,\n",
       " 224,\n",
       " 92,\n",
       " 25,\n",
       " 104,\n",
       " 4,\n",
       " 226,\n",
       " 65,\n",
       " 16,\n",
       " 38,\n",
       " 1334,\n",
       " 88,\n",
       " 12,\n",
       " 16,\n",
       " 283,\n",
       " 5,\n",
       " 16,\n",
       " 4472,\n",
       " 113,\n",
       " 103,\n",
       " 32,\n",
       " 15,\n",
       " 16,\n",
       " 5345,\n",
       " 19,\n",
       " 178,\n",
       " 32]"
      ]
     },
     "execution_count": 2,
     "metadata": {},
     "output_type": "execute_result"
    }
   ],
   "source": [
    "train_data[0]"
   ]
  },
  {
   "cell_type": "code",
   "execution_count": 3,
   "id": "83fd9835",
   "metadata": {},
   "outputs": [
    {
     "data": {
      "text/plain": [
       "1"
      ]
     },
     "execution_count": 3,
     "metadata": {},
     "output_type": "execute_result"
    }
   ],
   "source": [
    "train_labels[0]"
   ]
  },
  {
   "cell_type": "code",
   "execution_count": 4,
   "id": "02ff12a1",
   "metadata": {},
   "outputs": [
    {
     "data": {
      "text/plain": [
       "9999"
      ]
     },
     "execution_count": 4,
     "metadata": {},
     "output_type": "execute_result"
    }
   ],
   "source": [
    "max([max(sequence) for sequence in train_data])"
   ]
  },
  {
   "cell_type": "code",
   "execution_count": 5,
   "id": "d684492b",
   "metadata": {},
   "outputs": [],
   "source": [
    "word_index = imdb.get_word_index()\n",
    "reverse_word_index = dict([(value, key) for (key, value) in word_index.items()])\n",
    "decoded_review = ' '.join([reverse_word_index.get(i - 3, '?') for i in train_data[0]])"
   ]
  },
  {
   "cell_type": "code",
   "execution_count": 6,
   "id": "9059094a",
   "metadata": {},
   "outputs": [
    {
     "data": {
      "text/plain": [
       "\"? this film was just brilliant casting location scenery story direction everyone's really suited the part they played and you could just imagine being there robert ? is an amazing actor and now the same being director ? father came from the same scottish island as myself so i loved the fact there was a real connection with this film the witty remarks throughout the film were great it was just brilliant so much that i bought the film as soon as it was released for ? and would recommend it to everyone to watch and the fly fishing was amazing really cried at the end it was so sad and you know what they say if you cry at a film it must have been good and this definitely was also ? to the two little boy's that played the ? of norman and paul they were just brilliant children are often left out of the ? list i think because the stars that play them all grown up are such a big profile for the whole film but these children are amazing and should be praised for what they have done don't you think the whole story was so lovely because it was true and was someone's life after all that was shared with us all\""
      ]
     },
     "execution_count": 6,
     "metadata": {},
     "output_type": "execute_result"
    }
   ],
   "source": [
    "decoded_review"
   ]
  },
  {
   "cell_type": "code",
   "execution_count": 7,
   "id": "a8c16cc7",
   "metadata": {},
   "outputs": [],
   "source": [
    "import numpy as np\n",
    "\n",
    "def vectorize_sequences(sequences, dimension=10000):\n",
    "    results = np.zeros((len(sequences), dimension))\n",
    "    for i, sequence in enumerate(sequences):\n",
    "        results[i, sequence] = 1.\n",
    "    return results"
   ]
  },
  {
   "cell_type": "code",
   "execution_count": 8,
   "id": "38b55ef0",
   "metadata": {},
   "outputs": [],
   "source": [
    "x_train = vectorize_sequences(train_data)\n",
    "x_test = vectorize_sequences(test_data)"
   ]
  },
  {
   "cell_type": "code",
   "execution_count": 9,
   "id": "a5c266ec",
   "metadata": {},
   "outputs": [
    {
     "data": {
      "text/plain": [
       "array([0., 1., 1., ..., 0., 0., 0.])"
      ]
     },
     "execution_count": 9,
     "metadata": {},
     "output_type": "execute_result"
    }
   ],
   "source": [
    "x_train[0]"
   ]
  },
  {
   "cell_type": "code",
   "execution_count": 10,
   "id": "83e1792a",
   "metadata": {},
   "outputs": [],
   "source": [
    "y_train = np.asarray(train_labels).astype('float32')\n",
    "y_test = np.asarray(test_labels).astype('float32')"
   ]
  },
  {
   "cell_type": "code",
   "execution_count": 11,
   "id": "1902da24",
   "metadata": {},
   "outputs": [],
   "source": [
    "from tensorflow.keras import models\n",
    "from tensorflow.keras import layers\n",
    "\n",
    "model = models.Sequential()\n",
    "model.add(layers.Dense(16, activation='relu', input_shape=(10000,)))\n",
    "model.add(layers.Dense(16, activation='relu'))\n",
    "model.add(layers.Dense(1, activation='sigmoid'))"
   ]
  },
  {
   "cell_type": "code",
   "execution_count": 12,
   "id": "f0acda53",
   "metadata": {},
   "outputs": [],
   "source": [
    "model.compile(optimizer='rmsprop', \n",
    "              loss='binary_crossentropy', \n",
    "              metrics=['accuracy'])"
   ]
  },
  {
   "cell_type": "code",
   "execution_count": 13,
   "id": "bd71bdb8",
   "metadata": {},
   "outputs": [],
   "source": [
    "from tensorflow.keras import optimizers\n",
    "from tensorflow.keras import losses\n",
    "from tensorflow.keras import metrics\n",
    "\n",
    "model.compile(optimizer=optimizers.RMSprop(learning_rate=0.001), \n",
    "              loss=losses.binary_crossentropy, \n",
    "              metrics=[metrics.binary_accuracy])"
   ]
  },
  {
   "cell_type": "code",
   "execution_count": 14,
   "id": "065e623a",
   "metadata": {},
   "outputs": [],
   "source": [
    "x_val = x_train[:10000]\n",
    "partial_x_train = x_train[10000:]\n",
    "\n",
    "y_val = y_train[:10000]\n",
    "partial_y_train = y_train[10000:]"
   ]
  },
  {
   "cell_type": "code",
   "execution_count": 15,
   "id": "ce8076fe",
   "metadata": {},
   "outputs": [
    {
     "name": "stdout",
     "output_type": "stream",
     "text": [
      "Epoch 1/20\n",
      "30/30 [==============================] - 1s 22ms/step - loss: 0.5052 - acc: 0.7817 - val_loss: 0.3770 - val_acc: 0.8615\n",
      "Epoch 2/20\n",
      "30/30 [==============================] - 0s 13ms/step - loss: 0.2973 - acc: 0.9005 - val_loss: 0.3095 - val_acc: 0.8805\n",
      "Epoch 3/20\n",
      "30/30 [==============================] - 0s 13ms/step - loss: 0.2180 - acc: 0.9275 - val_loss: 0.2792 - val_acc: 0.8906\n",
      "Epoch 4/20\n",
      "30/30 [==============================] - 0s 12ms/step - loss: 0.1714 - acc: 0.9437 - val_loss: 0.2851 - val_acc: 0.8853\n",
      "Epoch 5/20\n",
      "30/30 [==============================] - 0s 12ms/step - loss: 0.1386 - acc: 0.9557 - val_loss: 0.2975 - val_acc: 0.8824\n",
      "Epoch 6/20\n",
      "30/30 [==============================] - 0s 12ms/step - loss: 0.1159 - acc: 0.9629 - val_loss: 0.2971 - val_acc: 0.8864\n",
      "Epoch 7/20\n",
      "30/30 [==============================] - 0s 12ms/step - loss: 0.0954 - acc: 0.9710 - val_loss: 0.3136 - val_acc: 0.8823\n",
      "Epoch 8/20\n",
      "30/30 [==============================] - 0s 13ms/step - loss: 0.0779 - acc: 0.9775 - val_loss: 0.3409 - val_acc: 0.8788\n",
      "Epoch 9/20\n",
      "30/30 [==============================] - 0s 12ms/step - loss: 0.0632 - acc: 0.9840 - val_loss: 0.3743 - val_acc: 0.8716\n",
      "Epoch 10/20\n",
      "30/30 [==============================] - 0s 12ms/step - loss: 0.0531 - acc: 0.9873 - val_loss: 0.3944 - val_acc: 0.8722\n",
      "Epoch 11/20\n",
      "30/30 [==============================] - 0s 12ms/step - loss: 0.0446 - acc: 0.9893 - val_loss: 0.4061 - val_acc: 0.8763\n",
      "Epoch 12/20\n",
      "30/30 [==============================] - 0s 13ms/step - loss: 0.0341 - acc: 0.9930 - val_loss: 0.4351 - val_acc: 0.8727\n",
      "Epoch 13/20\n",
      "30/30 [==============================] - 0s 12ms/step - loss: 0.0288 - acc: 0.9939 - val_loss: 0.4662 - val_acc: 0.8712\n",
      "Epoch 14/20\n",
      "30/30 [==============================] - 0s 12ms/step - loss: 0.0227 - acc: 0.9963 - val_loss: 0.4921 - val_acc: 0.8692\n",
      "Epoch 15/20\n",
      "30/30 [==============================] - 0s 12ms/step - loss: 0.0180 - acc: 0.9972 - val_loss: 0.5240 - val_acc: 0.8665\n",
      "Epoch 16/20\n",
      "30/30 [==============================] - 0s 12ms/step - loss: 0.0148 - acc: 0.9975 - val_loss: 0.5494 - val_acc: 0.8668\n",
      "Epoch 17/20\n",
      "30/30 [==============================] - 0s 12ms/step - loss: 0.0085 - acc: 0.9996 - val_loss: 0.5880 - val_acc: 0.8661\n",
      "Epoch 18/20\n",
      "30/30 [==============================] - 0s 12ms/step - loss: 0.0093 - acc: 0.9990 - val_loss: 0.6203 - val_acc: 0.8684\n",
      "Epoch 19/20\n",
      "30/30 [==============================] - 0s 12ms/step - loss: 0.0093 - acc: 0.9980 - val_loss: 0.6480 - val_acc: 0.8664\n",
      "Epoch 20/20\n",
      "30/30 [==============================] - 0s 12ms/step - loss: 0.0035 - acc: 0.9999 - val_loss: 0.6789 - val_acc: 0.8652\n"
     ]
    }
   ],
   "source": [
    "model.compile(optimizer='rmsprop', \n",
    "              loss='binary_crossentropy', \n",
    "              metrics=['acc'])\n",
    "\n",
    "history = model.fit(partial_x_train, partial_y_train, \n",
    "                    epochs=20, batch_size=512, \n",
    "                    validation_data=(x_val, y_val))"
   ]
  },
  {
   "cell_type": "code",
   "execution_count": 16,
   "id": "ba5c4783",
   "metadata": {},
   "outputs": [
    {
     "data": {
      "text/plain": [
       "dict_keys(['loss', 'acc', 'val_loss', 'val_acc'])"
      ]
     },
     "execution_count": 16,
     "metadata": {},
     "output_type": "execute_result"
    }
   ],
   "source": [
    "history_dict = history.history\n",
    "history_dict.keys()"
   ]
  },
  {
   "cell_type": "code",
   "execution_count": 17,
   "id": "e6c4c714",
   "metadata": {},
   "outputs": [],
   "source": [
    "acc = history_dict['acc']\n",
    "val_acc = history_dict['val_acc']\n",
    "loss = history_dict['loss']\n",
    "val_loss = history_dict['val_loss']"
   ]
  },
  {
   "cell_type": "code",
   "execution_count": 18,
   "id": "d7669c28",
   "metadata": {},
   "outputs": [
    {
     "data": {
      "image/png": "[encoded data removed]",
      "text/plain": [
       "<Figure size 432x288 with 1 Axes>"
      ]
     },
     "metadata": {
      "needs_background": "light"
     },
     "output_type": "display_data"
    }
   ],
   "source": [
    "import matplotlib.pyplot as plt\n",
    "\n",
    "epochs = range(1, len(loss) + 1)\n",
    "\n",
    "plt.plot(epochs, loss, 'bo', label='Training loss')\n",
    "plt.plot(epochs, val_loss, 'b', label='Validation loss')\n",
    "plt.title('Training and validation loss')\n",
    "plt.xlabel('Epochs')\n",
    "plt.ylabel('Loss')\n",
    "plt.legend()\n",
    "\n",
    "plt.show()"
   ]
  },
  {
   "cell_type": "code",
   "execution_count": 19,
   "id": "84d21669",
   "metadata": {},
   "outputs": [
    {
     "data": {
      "image/png": "[encoded data removed]",
      "text/plain": [
       "<Figure size 432x288 with 1 Axes>"
      ]
     },
     "metadata": {
      "needs_background": "light"
     },
     "output_type": "display_data"
    }
   ],
   "source": [
    "plt.clf()\n",
    "\n",
    "plt.plot(epochs, acc, 'bo', label='Training acc')\n",
    "plt.plot(epochs, val_acc, 'b', label='Validation acc')\n",
    "plt.title('Training and validation accuracy')\n",
    "plt.xlabel('Epochs')\n",
    "plt.ylabel('Accuracy')\n",
    "plt.legend()\n",
    "\n",
    "plt.show()"
   ]
  },
  {
   "cell_type": "code",
   "execution_count": 20,
   "id": "0623ba6d",
   "metadata": {},
   "outputs": [
    {
     "name": "stdout",
     "output_type": "stream",
     "text": [
      "Epoch 1/4\n",
      "30/30 [==============================] - 1s 18ms/step - loss: 0.5381 - acc: 0.7754 - val_loss: 0.4241 - val_acc: 0.8653\n",
      "Epoch 2/4\n",
      "30/30 [==============================] - 0s 12ms/step - loss: 0.3332 - acc: 0.8991 - val_loss: 0.3228 - val_acc: 0.8861\n",
      "Epoch 3/4\n",
      "30/30 [==============================] - 0s 12ms/step - loss: 0.2400 - acc: 0.9253 - val_loss: 0.2886 - val_acc: 0.8888\n",
      "Epoch 4/4\n",
      "30/30 [==============================] - 0s 11ms/step - loss: 0.1883 - acc: 0.9385 - val_loss: 0.2845 - val_acc: 0.8883\n"
     ]
    }
   ],
   "source": [
    "model = models.Sequential()\n",
    "model.add(layers.Dense(16, activation='relu', input_shape=(10000,)))\n",
    "model.add(layers.Dense(16, activation='relu'))\n",
    "model.add(layers.Dense(1, activation='sigmoid'))\n",
    "\n",
    "model.compile(optimizer='rmsprop', \n",
    "              loss='binary_crossentropy', \n",
    "              metrics=['acc'])\n",
    "\n",
    "history = model.fit(partial_x_train, partial_y_train, \n",
    "                    epochs=4, batch_size=512, \n",
    "                    validation_data=(x_val, y_val))"
   ]
  },
  {
   "cell_type": "code",
   "execution_count": 21,
   "id": "3a6fa06b",
   "metadata": {},
   "outputs": [
    {
     "name": "stdout",
     "output_type": "stream",
     "text": [
      "782/782 [==============================] - 1s 923us/step - loss: 0.3056 - acc: 0.8751\n"
     ]
    }
   ],
   "source": [
    "results = model.evaluate(x_test, y_test)"
   ]
  },
  {
   "cell_type": "code",
   "execution_count": 22,
   "id": "bf30beca",
   "metadata": {},
   "outputs": [
    {
     "data": {
      "text/plain": [
       "[0.3056171238422394, 0.8750799894332886]"
      ]
     },
     "execution_count": 22,
     "metadata": {},
     "output_type": "execute_result"
    }
   ],
   "source": [
    "results"
   ]
  },
  {
   "cell_type": "code",
   "execution_count": 23,
   "id": "819e8a48",
   "metadata": {},
   "outputs": [
    {
     "data": {
      "text/plain": [
       "array([[0.21858451],\n",
       "       [0.99278647],\n",
       "       [0.70095956],\n",
       "       ...,\n",
       "       [0.06244922],\n",
       "       [0.12215805],\n",
       "       [0.42770034]], dtype=float32)"
      ]
     },
     "execution_count": 23,
     "metadata": {},
     "output_type": "execute_result"
    }
   ],
   "source": [
    "model.predict(x_test)"
   ]
  },
  {
   "cell_type": "markdown",
   "id": "affe1951",
   "metadata": {},
   "source": [
    "Further experiments"
   ]
  },
  {
   "cell_type": "code",
   "execution_count": 24,
   "id": "f576cdae",
   "metadata": {},
   "outputs": [
    {
     "name": "stdout",
     "output_type": "stream",
     "text": [
      "Epoch 1/4\n",
      "30/30 [==============================] - 1s 19ms/step - loss: 0.4903 - acc: 0.8023 - val_loss: 0.3953 - val_acc: 0.8503\n",
      "Epoch 2/4\n",
      "30/30 [==============================] - 0s 12ms/step - loss: 0.3090 - acc: 0.9059 - val_loss: 0.3167 - val_acc: 0.8830\n",
      "Epoch 3/4\n",
      "30/30 [==============================] - 0s 12ms/step - loss: 0.2379 - acc: 0.9284 - val_loss: 0.2966 - val_acc: 0.8818\n",
      "Epoch 4/4\n",
      "30/30 [==============================] - 0s 11ms/step - loss: 0.1981 - acc: 0.9385 - val_loss: 0.2760 - val_acc: 0.8907\n",
      "782/782 [==============================] - 1s 903us/step - loss: 0.2925 - acc: 0.8845\n"
     ]
    },
    {
     "data": {
      "text/plain": [
       "[0.29246824979782104, 0.8845199942588806]"
      ]
     },
     "execution_count": 24,
     "metadata": {},
     "output_type": "execute_result"
    }
   ],
   "source": [
    "model = models.Sequential()\n",
    "model.add(layers.Dense(16, activation='relu', input_shape=(10000,)))\n",
    "model.add(layers.Dense(1, activation='sigmoid'))\n",
    "\n",
    "model.compile(optimizer='rmsprop', \n",
    "              loss='binary_crossentropy', \n",
    "              metrics=['acc'])\n",
    "\n",
    "history = model.fit(partial_x_train, partial_y_train, \n",
    "                    epochs=4, batch_size=512, \n",
    "                    validation_data=(x_val, y_val))\n",
    "\n",
    "results = model.evaluate(x_test, y_test)\n",
    "results"
   ]
  },
  {
   "cell_type": "code",
   "execution_count": 25,
   "id": "80caa47f",
   "metadata": {},
   "outputs": [
    {
     "name": "stdout",
     "output_type": "stream",
     "text": [
      "Epoch 1/4\n",
      "30/30 [==============================] - 1s 16ms/step - loss: 0.5261 - acc: 0.7740 - val_loss: 0.3890 - val_acc: 0.8489\n",
      "Epoch 2/4\n",
      "30/30 [==============================] - 0s 11ms/step - loss: 0.2922 - acc: 0.9019 - val_loss: 0.2916 - val_acc: 0.8868\n",
      "Epoch 3/4\n",
      "30/30 [==============================] - 0s 11ms/step - loss: 0.2100 - acc: 0.9279 - val_loss: 0.2824 - val_acc: 0.8872\n",
      "Epoch 4/4\n",
      "30/30 [==============================] - 0s 10ms/step - loss: 0.1634 - acc: 0.9451 - val_loss: 0.2826 - val_acc: 0.8858\n",
      "782/782 [==============================] - 1s 903us/step - loss: 0.3050 - acc: 0.8784\n"
     ]
    },
    {
     "data": {
      "text/plain": [
       "[0.3049677014350891, 0.8783599734306335]"
      ]
     },
     "execution_count": 25,
     "metadata": {},
     "output_type": "execute_result"
    }
   ],
   "source": [
    "model = models.Sequential()\n",
    "model.add(layers.Dense(16, activation='relu', input_shape=(10000,)))\n",
    "model.add(layers.Dense(16, activation='relu'))\n",
    "model.add(layers.Dense(16, activation='relu'))\n",
    "model.add(layers.Dense(1, activation='sigmoid'))\n",
    "\n",
    "model.compile(optimizer='rmsprop', \n",
    "              loss='binary_crossentropy', \n",
    "              metrics=['acc'])\n",
    "\n",
    "history = model.fit(partial_x_train, partial_y_train, \n",
    "                    epochs=4, batch_size=512, \n",
    "                    validation_data=(x_val, y_val))\n",
    "\n",
    "results = model.evaluate(x_test, y_test)\n",
    "results"
   ]
  },
  {
   "cell_type": "code",
   "execution_count": 26,
   "id": "2b5ebf63",
   "metadata": {},
   "outputs": [
    {
     "name": "stdout",
     "output_type": "stream",
     "text": [
      "Epoch 1/4\n",
      "30/30 [==============================] - 1s 15ms/step - loss: 0.5549 - acc: 0.7831 - val_loss: 0.4736 - val_acc: 0.8145\n",
      "Epoch 2/4\n",
      "30/30 [==============================] - 0s 10ms/step - loss: 0.3853 - acc: 0.8865 - val_loss: 0.3709 - val_acc: 0.8709\n",
      "Epoch 3/4\n",
      "30/30 [==============================] - 0s 10ms/step - loss: 0.2941 - acc: 0.9098 - val_loss: 0.3244 - val_acc: 0.8750\n",
      "Epoch 4/4\n",
      "30/30 [==============================] - 0s 9ms/step - loss: 0.2354 - acc: 0.9277 - val_loss: 0.2893 - val_acc: 0.8880\n",
      "782/782 [==============================] - 1s 876us/step - loss: 0.3048 - acc: 0.8810\n"
     ]
    },
    {
     "data": {
      "text/plain": [
       "[0.30480077862739563, 0.8809599876403809]"
      ]
     },
     "execution_count": 26,
     "metadata": {},
     "output_type": "execute_result"
    }
   ],
   "source": [
    "model = models.Sequential()\n",
    "model.add(layers.Dense(8, activation='relu', input_shape=(10000,)))\n",
    "model.add(layers.Dense(8, activation='relu'))\n",
    "model.add(layers.Dense(1, activation='sigmoid'))\n",
    "\n",
    "model.compile(optimizer='rmsprop', \n",
    "              loss='binary_crossentropy', \n",
    "              metrics=['acc'])\n",
    "\n",
    "history = model.fit(partial_x_train, partial_y_train, \n",
    "                    epochs=4, batch_size=512, \n",
    "                    validation_data=(x_val, y_val))\n",
    "\n",
    "results = model.evaluate(x_test, y_test)\n",
    "results"
   ]
  },
  {
   "cell_type": "code",
   "execution_count": 27,
   "id": "99711834",
   "metadata": {},
   "outputs": [
    {
     "name": "stdout",
     "output_type": "stream",
     "text": [
      "Epoch 1/4\n",
      "30/30 [==============================] - 1s 17ms/step - loss: 0.4804 - acc: 0.7852 - val_loss: 0.3408 - val_acc: 0.8766\n",
      "Epoch 2/4\n",
      "30/30 [==============================] - 0s 11ms/step - loss: 0.2647 - acc: 0.9104 - val_loss: 0.2857 - val_acc: 0.8895\n",
      "Epoch 3/4\n",
      "30/30 [==============================] - 0s 11ms/step - loss: 0.1949 - acc: 0.9310 - val_loss: 0.2736 - val_acc: 0.8910\n",
      "Epoch 4/4\n",
      "30/30 [==============================] - 0s 11ms/step - loss: 0.1493 - acc: 0.9494 - val_loss: 0.2851 - val_acc: 0.8884\n",
      "782/782 [==============================] - 1s 891us/step - loss: 0.3051 - acc: 0.8787\n"
     ]
    },
    {
     "data": {
      "text/plain": [
       "[0.30511170625686646, 0.8787199854850769]"
      ]
     },
     "execution_count": 27,
     "metadata": {},
     "output_type": "execute_result"
    }
   ],
   "source": [
    "model = models.Sequential()\n",
    "model.add(layers.Dense(32, activation='relu', input_shape=(10000,)))\n",
    "model.add(layers.Dense(32, activation='relu'))\n",
    "model.add(layers.Dense(1, activation='sigmoid'))\n",
    "\n",
    "model.compile(optimizer='rmsprop', \n",
    "              loss='binary_crossentropy', \n",
    "              metrics=['acc'])\n",
    "\n",
    "history = model.fit(partial_x_train, partial_y_train, \n",
    "                    epochs=4, batch_size=512, \n",
    "                    validation_data=(x_val, y_val))\n",
    "\n",
    "results = model.evaluate(x_test, y_test)\n",
    "results"
   ]
  },
  {
   "cell_type": "code",
   "execution_count": 28,
   "id": "1aea3a82",
   "metadata": {},
   "outputs": [
    {
     "name": "stdout",
     "output_type": "stream",
     "text": [
      "Epoch 1/4\n",
      "30/30 [==============================] - 1s 23ms/step - loss: 0.4901 - acc: 0.7595 - val_loss: 0.3697 - val_acc: 0.8509\n",
      "Epoch 2/4\n",
      "30/30 [==============================] - 1s 17ms/step - loss: 0.2620 - acc: 0.9012 - val_loss: 0.2954 - val_acc: 0.8815\n",
      "Epoch 3/4\n",
      "30/30 [==============================] - 1s 19ms/step - loss: 0.1874 - acc: 0.9326 - val_loss: 0.3353 - val_acc: 0.8704\n",
      "Epoch 4/4\n",
      "30/30 [==============================] - 1s 18ms/step - loss: 0.1385 - acc: 0.9483 - val_loss: 0.4506 - val_acc: 0.8315\n",
      "782/782 [==============================] - 1s 1ms/step - loss: 0.5049 - acc: 0.8120\n"
     ]
    },
    {
     "data": {
      "text/plain": [
       "[0.5048589110374451, 0.8120399713516235]"
      ]
     },
     "execution_count": 28,
     "metadata": {},
     "output_type": "execute_result"
    }
   ],
   "source": [
    "model = models.Sequential()\n",
    "model.add(layers.Dense(64, activation='relu', input_shape=(10000,)))\n",
    "model.add(layers.Dense(64, activation='relu'))\n",
    "model.add(layers.Dense(1, activation='sigmoid'))\n",
    "\n",
    "model.compile(optimizer='rmsprop', \n",
    "              loss='binary_crossentropy', \n",
    "              metrics=['acc'])\n",
    "\n",
    "history = model.fit(partial_x_train, partial_y_train, \n",
    "                    epochs=4, batch_size=512, \n",
    "                    validation_data=(x_val, y_val))\n",
    "\n",
    "results = model.evaluate(x_test, y_test)\n",
    "results"
   ]
  },
  {
   "cell_type": "code",
   "execution_count": 29,
   "id": "f115ddde",
   "metadata": {},
   "outputs": [
    {
     "name": "stdout",
     "output_type": "stream",
     "text": [
      "Epoch 1/4\n",
      "30/30 [==============================] - 1s 16ms/step - loss: 0.5104 - acc: 0.7845 - val_loss: 0.3697 - val_acc: 0.8739\n",
      "Epoch 2/4\n",
      "30/30 [==============================] - 0s 11ms/step - loss: 0.2875 - acc: 0.9043 - val_loss: 0.2913 - val_acc: 0.8881\n",
      "Epoch 3/4\n",
      "30/30 [==============================] - 0s 10ms/step - loss: 0.2114 - acc: 0.9269 - val_loss: 0.2920 - val_acc: 0.8837\n",
      "Epoch 4/4\n",
      "30/30 [==============================] - 0s 9ms/step - loss: 0.1625 - acc: 0.9467 - val_loss: 0.2798 - val_acc: 0.8880\n",
      "782/782 [==============================] - 1s 949us/step - loss: 0.2970 - acc: 0.8808\n"
     ]
    },
    {
     "data": {
      "text/plain": [
       "[0.2969784438610077, 0.880840003490448]"
      ]
     },
     "execution_count": 29,
     "metadata": {},
     "output_type": "execute_result"
    }
   ],
   "source": [
    "model = models.Sequential()\n",
    "model.add(layers.Dense(16, activation='relu', input_shape=(10000,)))\n",
    "model.add(layers.Dense(32, activation='relu'))\n",
    "model.add(layers.Dense(1, activation='sigmoid'))\n",
    "\n",
    "model.compile(optimizer='rmsprop', \n",
    "              loss='binary_crossentropy', \n",
    "              metrics=['acc'])\n",
    "\n",
    "history = model.fit(partial_x_train, partial_y_train, \n",
    "                    epochs=4, batch_size=512, \n",
    "                    validation_data=(x_val, y_val))\n",
    "\n",
    "results = model.evaluate(x_test, y_test)\n",
    "results"
   ]
  },
  {
   "cell_type": "code",
   "execution_count": 30,
   "id": "e3338b38",
   "metadata": {},
   "outputs": [
    {
     "name": "stdout",
     "output_type": "stream",
     "text": [
      "Epoch 1/4\n",
      "30/30 [==============================] - 1s 15ms/step - loss: 0.5644 - acc: 0.7689 - val_loss: 0.4574 - val_acc: 0.8572\n",
      "Epoch 2/4\n",
      "30/30 [==============================] - 0s 11ms/step - loss: 0.3712 - acc: 0.8900 - val_loss: 0.3489 - val_acc: 0.8775\n",
      "Epoch 3/4\n",
      "30/30 [==============================] - 0s 10ms/step - loss: 0.2723 - acc: 0.9157 - val_loss: 0.2982 - val_acc: 0.8888\n",
      "Epoch 4/4\n",
      "30/30 [==============================] - 0s 9ms/step - loss: 0.2140 - acc: 0.9324 - val_loss: 0.2768 - val_acc: 0.8924\n",
      "782/782 [==============================] - 1s 942us/step - loss: 0.2932 - acc: 0.8842\n"
     ]
    },
    {
     "data": {
      "text/plain": [
       "[0.2932053804397583, 0.8842399716377258]"
      ]
     },
     "execution_count": 30,
     "metadata": {},
     "output_type": "execute_result"
    }
   ],
   "source": [
    "model = models.Sequential()\n",
    "model.add(layers.Dense(8, activation='relu', input_shape=(10000,)))\n",
    "model.add(layers.Dense(16, activation='relu'))\n",
    "model.add(layers.Dense(1, activation='sigmoid'))\n",
    "\n",
    "model.compile(optimizer='rmsprop', \n",
    "              loss='binary_crossentropy', \n",
    "              metrics=['acc'])\n",
    "\n",
    "history = model.fit(partial_x_train, partial_y_train, \n",
    "                    epochs=4, batch_size=512, \n",
    "                    validation_data=(x_val, y_val))\n",
    "\n",
    "results = model.evaluate(x_test, y_test)\n",
    "results"
   ]
  },
  {
   "cell_type": "code",
   "execution_count": 31,
   "id": "6575e522",
   "metadata": {},
   "outputs": [
    {
     "name": "stdout",
     "output_type": "stream",
     "text": [
      "Epoch 1/4\n",
      "30/30 [==============================] - 1s 16ms/step - loss: 0.1741 - acc: 0.7722 - val_loss: 0.1192 - val_acc: 0.8725\n",
      "Epoch 2/4\n",
      "30/30 [==============================] - 0s 11ms/step - loss: 0.0926 - acc: 0.9042 - val_loss: 0.0934 - val_acc: 0.8870\n",
      "Epoch 3/4\n",
      "30/30 [==============================] - 0s 11ms/step - loss: 0.0652 - acc: 0.9285 - val_loss: 0.0923 - val_acc: 0.8783\n",
      "Epoch 4/4\n",
      "30/30 [==============================] - 0s 10ms/step - loss: 0.0514 - acc: 0.9453 - val_loss: 0.0831 - val_acc: 0.8894\n",
      "782/782 [==============================] - 1s 898us/step - loss: 0.0892 - acc: 0.8813\n"
     ]
    },
    {
     "data": {
      "text/plain": [
       "[0.08920620381832123, 0.8812800049781799]"
      ]
     },
     "execution_count": 31,
     "metadata": {},
     "output_type": "execute_result"
    }
   ],
   "source": [
    "model = models.Sequential()\n",
    "model.add(layers.Dense(16, activation='relu', input_shape=(10000,)))\n",
    "model.add(layers.Dense(16, activation='relu'))\n",
    "model.add(layers.Dense(1, activation='sigmoid'))\n",
    "\n",
    "model.compile(optimizer='rmsprop', \n",
    "              loss='mse', \n",
    "              metrics=['acc'])\n",
    "\n",
    "history = model.fit(partial_x_train, partial_y_train, \n",
    "                    epochs=4, batch_size=512, \n",
    "                    validation_data=(x_val, y_val))\n",
    "\n",
    "results = model.evaluate(x_test, y_test)\n",
    "results"
   ]
  },
  {
   "cell_type": "code",
   "execution_count": 32,
   "id": "c148ed39",
   "metadata": {},
   "outputs": [
    {
     "name": "stdout",
     "output_type": "stream",
     "text": [
      "Epoch 1/4\n",
      "30/30 [==============================] - 1s 17ms/step - loss: 0.4860 - acc: 0.8035 - val_loss: 0.3693 - val_acc: 0.8691\n",
      "Epoch 2/4\n",
      "30/30 [==============================] - 0s 12ms/step - loss: 0.2863 - acc: 0.9088 - val_loss: 0.3015 - val_acc: 0.8832\n",
      "Epoch 3/4\n",
      "30/30 [==============================] - 0s 12ms/step - loss: 0.2030 - acc: 0.9317 - val_loss: 0.2737 - val_acc: 0.8887\n",
      "Epoch 4/4\n",
      "30/30 [==============================] - 0s 10ms/step - loss: 0.1509 - acc: 0.9517 - val_loss: 0.2778 - val_acc: 0.8866\n",
      "782/782 [==============================] - 1s 896us/step - loss: 0.2965 - acc: 0.8797\n"
     ]
    },
    {
     "data": {
      "text/plain": [
       "[0.2964962422847748, 0.8797199726104736]"
      ]
     },
     "execution_count": 32,
     "metadata": {},
     "output_type": "execute_result"
    }
   ],
   "source": [
    "model = models.Sequential()\n",
    "model.add(layers.Dense(16, activation='tanh', input_shape=(10000,)))\n",
    "model.add(layers.Dense(16, activation='tanh'))\n",
    "model.add(layers.Dense(1, activation='sigmoid'))\n",
    "\n",
    "model.compile(optimizer='rmsprop', \n",
    "              loss='binary_crossentropy', \n",
    "              metrics=['acc'])\n",
    "\n",
    "history = model.fit(partial_x_train, partial_y_train, \n",
    "                    epochs=4, batch_size=512, \n",
    "                    validation_data=(x_val, y_val))\n",
    "\n",
    "results = model.evaluate(x_test, y_test)\n",
    "results"
   ]
  },
  {
   "cell_type": "code",
   "execution_count": 33,
   "id": "d2b22256",
   "metadata": {},
   "outputs": [
    {
     "name": "stdout",
     "output_type": "stream",
     "text": [
      "Epoch 1/4\n",
      "30/30 [==============================] - 1s 16ms/step - loss: 0.6607 - acc: 0.7497 - val_loss: 0.6253 - val_acc: 0.8283\n",
      "Epoch 2/4\n",
      "30/30 [==============================] - 0s 11ms/step - loss: 0.5846 - acc: 0.8535 - val_loss: 0.5546 - val_acc: 0.8440\n",
      "Epoch 3/4\n",
      "30/30 [==============================] - 0s 11ms/step - loss: 0.5095 - acc: 0.8733 - val_loss: 0.4908 - val_acc: 0.8577\n",
      "Epoch 4/4\n",
      "30/30 [==============================] - 0s 10ms/step - loss: 0.4401 - acc: 0.8887 - val_loss: 0.4327 - val_acc: 0.8701\n",
      "782/782 [==============================] - 1s 908us/step - loss: 0.4419 - acc: 0.8639\n"
     ]
    },
    {
     "data": {
      "text/plain": [
       "[0.44190144538879395, 0.8638799786567688]"
      ]
     },
     "execution_count": 33,
     "metadata": {},
     "output_type": "execute_result"
    }
   ],
   "source": [
    "model = models.Sequential()\n",
    "model.add(layers.Dense(16, activation='sigmoid', input_shape=(10000,)))\n",
    "model.add(layers.Dense(16, activation='sigmoid'))\n",
    "model.add(layers.Dense(1, activation='sigmoid'))\n",
    "\n",
    "model.compile(optimizer='rmsprop', \n",
    "              loss='binary_crossentropy', \n",
    "              metrics=['acc'])\n",
    "\n",
    "history = model.fit(partial_x_train, partial_y_train, \n",
    "                    epochs=4, batch_size=512, \n",
    "                    validation_data=(x_val, y_val))\n",
    "\n",
    "results = model.evaluate(x_test, y_test)\n",
    "results"
   ]
  },
  {
   "cell_type": "code",
   "execution_count": 34,
   "id": "2897ccd7",
   "metadata": {},
   "outputs": [
    {
     "name": "stdout",
     "output_type": "stream",
     "text": [
      "Epoch 1/4\n",
      "30/30 [==============================] - 1s 18ms/step - loss: 0.5641 - acc: 0.7635 - val_loss: 0.4251 - val_acc: 0.8523\n",
      "Epoch 2/4\n",
      "30/30 [==============================] - 0s 11ms/step - loss: 0.3193 - acc: 0.8979 - val_loss: 0.3045 - val_acc: 0.8831\n",
      "Epoch 3/4\n",
      "30/30 [==============================] - 0s 11ms/step - loss: 0.2135 - acc: 0.9301 - val_loss: 0.2763 - val_acc: 0.8897\n",
      "Epoch 4/4\n",
      "30/30 [==============================] - 0s 10ms/step - loss: 0.1575 - acc: 0.9520 - val_loss: 0.2779 - val_acc: 0.8885\n",
      "782/782 [==============================] - 1s 937us/step - loss: 0.2979 - acc: 0.8798\n"
     ]
    },
    {
     "data": {
      "text/plain": [
       "[0.29786232113838196, 0.8797600269317627]"
      ]
     },
     "execution_count": 34,
     "metadata": {},
     "output_type": "execute_result"
    }
   ],
   "source": [
    "model = models.Sequential()\n",
    "model.add(layers.Dense(16, activation='relu', input_shape=(10000,)))\n",
    "model.add(layers.Dense(16, activation='relu'))\n",
    "model.add(layers.Dense(1, activation='sigmoid'))\n",
    "\n",
    "model.compile(optimizer='adam', \n",
    "              loss='binary_crossentropy', \n",
    "              metrics=['acc'])\n",
    "\n",
    "history = model.fit(partial_x_train, partial_y_train, \n",
    "                    epochs=4, batch_size=512, \n",
    "                    validation_data=(x_val, y_val))\n",
    "\n",
    "results = model.evaluate(x_test, y_test)\n",
    "results"
   ]
  },
  {
   "cell_type": "code",
   "execution_count": null,
   "id": "716fbe26",
   "metadata": {},
   "outputs": [],
   "source": []
  }
 ],
 "metadata": {
  "kernelspec": {
   "display_name": "Python 3",
   "language": "python",
   "name": "python3"
  },
  "language_info": {
   "codemirror_mode": {
    "name": "ipython",
    "version": 3
   },
   "file_extension": ".py",
   "mimetype": "text/x-python",
   "name": "python",
   "nbconvert_exporter": "python",
   "pygments_lexer": "ipython3",
   "version": "3.6.13"
  }
 },
 "nbformat": 4,
 "nbformat_minor": 5
}
