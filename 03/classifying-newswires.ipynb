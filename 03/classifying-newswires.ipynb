{
 "cells": [
  {
   "cell_type": "code",
   "execution_count": 1,
   "id": "9f322e9f",
   "metadata": {},
   "outputs": [],
   "source": [
    "from tensorflow.keras.datasets import reuters\n",
    "\n",
    "(train_data, train_labels), (test_data, test_labels) = reuters.load_data(num_words=10000)"
   ]
  },
  {
   "cell_type": "code",
   "execution_count": 2,
   "id": "70b78b8b",
   "metadata": {},
   "outputs": [
    {
     "data": {
      "text/plain": [
       "46"
      ]
     },
     "execution_count": 2,
     "metadata": {},
     "output_type": "execute_result"
    }
   ],
   "source": [
    "len(set(train_labels))"
   ]
  },
  {
   "cell_type": "code",
   "execution_count": 3,
   "id": "aa1381b4",
   "metadata": {},
   "outputs": [
    {
     "data": {
      "text/plain": [
       "8982"
      ]
     },
     "execution_count": 3,
     "metadata": {},
     "output_type": "execute_result"
    }
   ],
   "source": [
    "len(train_data)"
   ]
  },
  {
   "cell_type": "code",
   "execution_count": 4,
   "id": "3443848c",
   "metadata": {},
   "outputs": [
    {
     "data": {
      "text/plain": [
       "2246"
      ]
     },
     "execution_count": 4,
     "metadata": {},
     "output_type": "execute_result"
    }
   ],
   "source": [
    "len(test_data)"
   ]
  },
  {
   "cell_type": "code",
   "execution_count": 5,
   "id": "a72059dc",
   "metadata": {},
   "outputs": [
    {
     "data": {
      "text/plain": [
       "[1,\n",
       " 245,\n",
       " 273,\n",
       " 207,\n",
       " 156,\n",
       " 53,\n",
       " 74,\n",
       " 160,\n",
       " 26,\n",
       " 14,\n",
       " 46,\n",
       " 296,\n",
       " 26,\n",
       " 39,\n",
       " 74,\n",
       " 2979,\n",
       " 3554,\n",
       " 14,\n",
       " 46,\n",
       " 4689,\n",
       " 4329,\n",
       " 86,\n",
       " 61,\n",
       " 3499,\n",
       " 4795,\n",
       " 14,\n",
       " 61,\n",
       " 451,\n",
       " 4329,\n",
       " 17,\n",
       " 12]"
      ]
     },
     "execution_count": 5,
     "metadata": {},
     "output_type": "execute_result"
    }
   ],
   "source": [
    "train_data[10]"
   ]
  },
  {
   "cell_type": "code",
   "execution_count": 6,
   "id": "8302c1ed",
   "metadata": {},
   "outputs": [],
   "source": [
    "word_index = reuters.get_word_index()\n",
    "reverse_word_index = dict([(value, key) for (key, value) in word_index.items()])\n",
    "decoded_newswire = ' '.join([reverse_word_index.get(i - 3, '?') for i in train_data[0]])"
   ]
  },
  {
   "cell_type": "code",
   "execution_count": 7,
   "id": "904dbd39",
   "metadata": {},
   "outputs": [
    {
     "data": {
      "text/plain": [
       "'? ? ? said as a result of its december acquisition of space co it expects earnings per share in 1987 of 1 15 to 1 30 dlrs per share up from 70 cts in 1986 the company said pretax net should rise to nine to 10 mln dlrs from six mln dlrs in 1986 and rental operation revenues to 19 to 22 mln dlrs from 12 5 mln dlrs it said cash flow per share this year should be 2 50 to three dlrs reuter 3'"
      ]
     },
     "execution_count": 7,
     "metadata": {},
     "output_type": "execute_result"
    }
   ],
   "source": [
    "decoded_newswire"
   ]
  },
  {
   "cell_type": "code",
   "execution_count": 8,
   "id": "68535090",
   "metadata": {},
   "outputs": [
    {
     "data": {
      "text/plain": [
       "3"
      ]
     },
     "execution_count": 8,
     "metadata": {},
     "output_type": "execute_result"
    }
   ],
   "source": [
    "train_labels[10]"
   ]
  },
  {
   "cell_type": "code",
   "execution_count": 9,
   "id": "e3b78eae",
   "metadata": {},
   "outputs": [],
   "source": [
    "import numpy as np\n",
    "\n",
    "def vectorize_sequences(sequences, dimension=10000):\n",
    "    results = np.zeros((len(sequences), dimension))\n",
    "    for i, sequence in enumerate(sequences):\n",
    "        results[i, sequence] = 1.\n",
    "    return results"
   ]
  },
  {
   "cell_type": "code",
   "execution_count": 10,
   "id": "98382d48",
   "metadata": {},
   "outputs": [],
   "source": [
    "x_train = vectorize_sequences(train_data)\n",
    "x_test = vectorize_sequences(test_data)"
   ]
  },
  {
   "cell_type": "code",
   "execution_count": 11,
   "id": "38126e2f",
   "metadata": {},
   "outputs": [],
   "source": [
    "def to_one_hot(labels, dimension=46):\n",
    "    results = np.zeros((len(labels), dimension))\n",
    "    for i, label in enumerate(labels):\n",
    "        results[i, label] = 1.\n",
    "    return results"
   ]
  },
  {
   "cell_type": "code",
   "execution_count": 12,
   "id": "05733299",
   "metadata": {},
   "outputs": [],
   "source": [
    "one_hot_train_labels = to_one_hot(train_labels)\n",
    "one_hot_test_labels = to_one_hot(test_labels)"
   ]
  },
  {
   "cell_type": "code",
   "execution_count": 13,
   "id": "b855efcd",
   "metadata": {},
   "outputs": [],
   "source": [
    "from tensorflow.keras.utils import to_categorical\n",
    "\n",
    "one_hot_train_labels = to_categorical(train_labels)\n",
    "one_hot_test_labels = to_categorical(test_labels)"
   ]
  },
  {
   "cell_type": "code",
   "execution_count": 14,
   "id": "865fa637",
   "metadata": {},
   "outputs": [],
   "source": [
    "from tensorflow.keras import models\n",
    "from tensorflow.keras import layers\n",
    "\n",
    "model = models.Sequential()\n",
    "model.add(layers.Dense(64, activation='relu', input_shape=(10000,)))\n",
    "model.add(layers.Dense(64, activation='relu'))\n",
    "model.add(layers.Dense(46, activation='softmax'))"
   ]
  },
  {
   "cell_type": "code",
   "execution_count": 15,
   "id": "257d2681",
   "metadata": {},
   "outputs": [],
   "source": [
    "model.compile(optimizer='rmsprop', \n",
    "              loss='categorical_crossentropy', \n",
    "              metrics=['acc'])"
   ]
  },
  {
   "cell_type": "code",
   "execution_count": 16,
   "id": "5145886b",
   "metadata": {},
   "outputs": [],
   "source": [
    "x_val = x_train[:1000]\n",
    "partial_x_train = x_train[1000:]\n",
    "\n",
    "y_val = one_hot_train_labels[:1000]\n",
    "partial_y_train = one_hot_train_labels[1000:]"
   ]
  },
  {
   "cell_type": "code",
   "execution_count": 17,
   "id": "729b6238",
   "metadata": {},
   "outputs": [
    {
     "name": "stdout",
     "output_type": "stream",
     "text": [
      "Epoch 1/20\n",
      "16/16 [==============================] - 1s 21ms/step - loss: 2.6934 - acc: 0.5291 - val_loss: 1.8268 - val_acc: 0.6460\n",
      "Epoch 2/20\n",
      "16/16 [==============================] - 0s 14ms/step - loss: 1.4722 - acc: 0.6996 - val_loss: 1.3484 - val_acc: 0.6930\n",
      "Epoch 3/20\n",
      "16/16 [==============================] - 0s 14ms/step - loss: 1.0804 - acc: 0.7692 - val_loss: 1.1564 - val_acc: 0.7460\n",
      "Epoch 4/20\n",
      "16/16 [==============================] - 0s 15ms/step - loss: 0.8494 - acc: 0.8210 - val_loss: 1.0414 - val_acc: 0.7690\n",
      "Epoch 5/20\n",
      "16/16 [==============================] - 0s 15ms/step - loss: 0.6769 - acc: 0.8579 - val_loss: 0.9672 - val_acc: 0.8060\n",
      "Epoch 6/20\n",
      "16/16 [==============================] - 0s 14ms/step - loss: 0.5423 - acc: 0.8895 - val_loss: 0.9135 - val_acc: 0.8170\n",
      "Epoch 7/20\n",
      "16/16 [==============================] - 0s 14ms/step - loss: 0.4438 - acc: 0.9082 - val_loss: 0.9157 - val_acc: 0.7980\n",
      "Epoch 8/20\n",
      "16/16 [==============================] - 0s 17ms/step - loss: 0.3606 - acc: 0.9245 - val_loss: 0.8995 - val_acc: 0.7980\n",
      "Epoch 9/20\n",
      "16/16 [==============================] - 0s 16ms/step - loss: 0.2980 - acc: 0.9379 - val_loss: 0.8861 - val_acc: 0.8120\n",
      "Epoch 10/20\n",
      "16/16 [==============================] - 0s 14ms/step - loss: 0.2532 - acc: 0.9451 - val_loss: 0.9069 - val_acc: 0.8130\n",
      "Epoch 11/20\n",
      "16/16 [==============================] - 0s 14ms/step - loss: 0.2173 - acc: 0.9501 - val_loss: 0.9193 - val_acc: 0.8090\n",
      "Epoch 12/20\n",
      "16/16 [==============================] - 0s 15ms/step - loss: 0.1897 - acc: 0.9520 - val_loss: 0.9762 - val_acc: 0.7960\n",
      "Epoch 13/20\n",
      "16/16 [==============================] - 0s 16ms/step - loss: 0.1744 - acc: 0.9511 - val_loss: 0.9626 - val_acc: 0.7990\n",
      "Epoch 14/20\n",
      "16/16 [==============================] - 0s 14ms/step - loss: 0.1547 - acc: 0.9550 - val_loss: 0.9918 - val_acc: 0.8000\n",
      "Epoch 15/20\n",
      "16/16 [==============================] - 0s 14ms/step - loss: 0.1439 - acc: 0.9557 - val_loss: 0.9727 - val_acc: 0.8050\n",
      "Epoch 16/20\n",
      "16/16 [==============================] - 0s 17ms/step - loss: 0.1356 - acc: 0.9565 - val_loss: 0.9787 - val_acc: 0.8060\n",
      "Epoch 17/20\n",
      "16/16 [==============================] - 0s 15ms/step - loss: 0.1262 - acc: 0.9569 - val_loss: 1.0306 - val_acc: 0.8090\n",
      "Epoch 18/20\n",
      "16/16 [==============================] - 0s 14ms/step - loss: 0.1252 - acc: 0.9569 - val_loss: 1.0746 - val_acc: 0.8010\n",
      "Epoch 19/20\n",
      "16/16 [==============================] - 0s 14ms/step - loss: 0.1134 - acc: 0.9568 - val_loss: 1.0818 - val_acc: 0.8050\n",
      "Epoch 20/20\n",
      "16/16 [==============================] - 0s 14ms/step - loss: 0.1150 - acc: 0.9555 - val_loss: 1.1005 - val_acc: 0.7980\n"
     ]
    }
   ],
   "source": [
    "history = model.fit(partial_x_train, partial_y_train, \n",
    "                    epochs=20, batch_size=512, \n",
    "                    validation_data=(x_val, y_val))"
   ]
  },
  {
   "cell_type": "code",
   "execution_count": 18,
   "id": "8e4eea27",
   "metadata": {},
   "outputs": [
    {
     "data": {
      "image/png": "[encoded data removed]",
      "text/plain": [
       "<Figure size 432x288 with 1 Axes>"
      ]
     },
     "metadata": {
      "needs_background": "light"
     },
     "output_type": "display_data"
    }
   ],
   "source": [
    "import matplotlib.pyplot as plt\n",
    "\n",
    "loss = history.history['loss']\n",
    "val_loss = history.history['val_loss']\n",
    "epochs = range(1, len(loss) + 1)\n",
    "\n",
    "plt.plot(epochs, loss, 'bo', label='Training loss')\n",
    "plt.plot(epochs, val_loss, 'b', label='Validation loss')\n",
    "plt.title('Training and validation loss')\n",
    "plt.xlabel('Epochs')\n",
    "plt.ylabel('Loss')\n",
    "plt.legend()\n",
    "\n",
    "plt.show()"
   ]
  },
  {
   "cell_type": "code",
   "execution_count": 19,
   "id": "0dd9cc3f",
   "metadata": {},
   "outputs": [
    {
     "data": {
      "image/png": "[encoded data removed]",
      "text/plain": [
       "<Figure size 432x288 with 1 Axes>"
      ]
     },
     "metadata": {
      "needs_background": "light"
     },
     "output_type": "display_data"
    }
   ],
   "source": [
    "plt.clf()\n",
    "\n",
    "loss = history.history['acc']\n",
    "val_loss = history.history['val_acc']\n",
    "epochs = range(1, len(loss) + 1)\n",
    "\n",
    "plt.plot(epochs, loss, 'bo', label='Training accuracy')\n",
    "plt.plot(epochs, val_loss, 'b', label='Validation accuracy')\n",
    "plt.title('Training and validation accuracy')\n",
    "plt.xlabel('Epochs')\n",
    "plt.ylabel('Accuracy')\n",
    "plt.legend()\n",
    "\n",
    "plt.show()"
   ]
  },
  {
   "cell_type": "code",
   "execution_count": 20,
   "id": "c3af38a1",
   "metadata": {},
   "outputs": [
    {
     "name": "stdout",
     "output_type": "stream",
     "text": [
      "Epoch 1/9\n",
      "16/16 [==============================] - 1s 20ms/step - loss: 2.5020 - acc: 0.5076 - val_loss: 1.6473 - val_acc: 0.6590\n",
      "Epoch 2/9\n",
      "16/16 [==============================] - 0s 15ms/step - loss: 1.3567 - acc: 0.7144 - val_loss: 1.2679 - val_acc: 0.7180\n",
      "Epoch 3/9\n",
      "16/16 [==============================] - 0s 17ms/step - loss: 1.0113 - acc: 0.7863 - val_loss: 1.1255 - val_acc: 0.7480\n",
      "Epoch 4/9\n",
      "16/16 [==============================] - 0s 14ms/step - loss: 0.7966 - acc: 0.8334 - val_loss: 1.0273 - val_acc: 0.7930\n",
      "Epoch 5/9\n",
      "16/16 [==============================] - 0s 14ms/step - loss: 0.6266 - acc: 0.8735 - val_loss: 0.9555 - val_acc: 0.8110\n",
      "Epoch 6/9\n",
      "16/16 [==============================] - 0s 15ms/step - loss: 0.4993 - acc: 0.9018 - val_loss: 0.9107 - val_acc: 0.8120\n",
      "Epoch 7/9\n",
      "16/16 [==============================] - 0s 15ms/step - loss: 0.3970 - acc: 0.9199 - val_loss: 0.8948 - val_acc: 0.8140\n",
      "Epoch 8/9\n",
      "16/16 [==============================] - 0s 14ms/step - loss: 0.3327 - acc: 0.9292 - val_loss: 0.8758 - val_acc: 0.8270\n",
      "Epoch 9/9\n",
      "16/16 [==============================] - 0s 13ms/step - loss: 0.2643 - acc: 0.9400 - val_loss: 0.9144 - val_acc: 0.8080\n",
      "71/71 [==============================] - 0s 971us/step - loss: 0.9810 - acc: 0.7796\n"
     ]
    }
   ],
   "source": [
    "model = models.Sequential()\n",
    "model.add(layers.Dense(64, activation='relu', input_shape=(10000,)))\n",
    "model.add(layers.Dense(64, activation='relu'))\n",
    "model.add(layers.Dense(46, activation='softmax'))\n",
    "\n",
    "model.compile(optimizer='rmsprop', \n",
    "              loss='categorical_crossentropy', \n",
    "              metrics=['acc'])\n",
    "\n",
    "history = model.fit(partial_x_train, partial_y_train, \n",
    "                    epochs=9, batch_size=512, \n",
    "                    validation_data=(x_val, y_val))\n",
    "\n",
    "results = model.evaluate(x_test, one_hot_test_labels)"
   ]
  },
  {
   "cell_type": "code",
   "execution_count": 21,
   "id": "df13b2c2",
   "metadata": {},
   "outputs": [
    {
     "data": {
      "text/plain": [
       "[0.9810448884963989, 0.7796081900596619]"
      ]
     },
     "execution_count": 21,
     "metadata": {},
     "output_type": "execute_result"
    }
   ],
   "source": [
    "results"
   ]
  },
  {
   "cell_type": "code",
   "execution_count": 22,
   "id": "4712cb84",
   "metadata": {},
   "outputs": [
    {
     "data": {
      "text/plain": [
       "0.19011576135351738"
      ]
     },
     "execution_count": 22,
     "metadata": {},
     "output_type": "execute_result"
    }
   ],
   "source": [
    "import copy\n",
    "\n",
    "test_labels_copy = copy.copy(test_labels)\n",
    "np.random.shuffle(test_labels_copy)\n",
    "hits_array = np.array(test_labels) == np.array(test_labels_copy)\n",
    "float(np.sum(hits_array)) / len(test_labels)"
   ]
  },
  {
   "cell_type": "code",
   "execution_count": 23,
   "id": "373c092b",
   "metadata": {},
   "outputs": [],
   "source": [
    "predictions = model.predict(x_test)"
   ]
  },
  {
   "cell_type": "code",
   "execution_count": 24,
   "id": "081ecfa6",
   "metadata": {},
   "outputs": [
    {
     "data": {
      "text/plain": [
       "(46,)"
      ]
     },
     "execution_count": 24,
     "metadata": {},
     "output_type": "execute_result"
    }
   ],
   "source": [
    "predictions[0].shape"
   ]
  },
  {
   "cell_type": "code",
   "execution_count": 25,
   "id": "89ccf564",
   "metadata": {},
   "outputs": [
    {
     "data": {
      "text/plain": [
       "1.0"
      ]
     },
     "execution_count": 25,
     "metadata": {},
     "output_type": "execute_result"
    }
   ],
   "source": [
    "np.sum(predictions[0])"
   ]
  },
  {
   "cell_type": "code",
   "execution_count": 26,
   "id": "32d7c934",
   "metadata": {},
   "outputs": [
    {
     "data": {
      "text/plain": [
       "3"
      ]
     },
     "execution_count": 26,
     "metadata": {},
     "output_type": "execute_result"
    }
   ],
   "source": [
    "np.argmax(predictions[0])"
   ]
  },
  {
   "cell_type": "code",
   "execution_count": 27,
   "id": "c9b1798e",
   "metadata": {},
   "outputs": [],
   "source": [
    "x_train = np.array(train_labels)\n",
    "y_test = np.array(test_labels)\n",
    "\n",
    "model.compile(optimizer='rmsprop', \n",
    "              loss='sparse_categorical_crossentropy', \n",
    "              metrics=['acc'])"
   ]
  },
  {
   "cell_type": "code",
   "execution_count": 28,
   "id": "0559db17",
   "metadata": {},
   "outputs": [
    {
     "name": "stdout",
     "output_type": "stream",
     "text": [
      "Epoch 1/20\n",
      "63/63 [==============================] - 1s 8ms/step - loss: 2.7517 - acc: 0.3317 - val_loss: 2.1493 - val_acc: 0.5550\n",
      "Epoch 2/20\n",
      "63/63 [==============================] - 0s 7ms/step - loss: 1.8177 - acc: 0.5727 - val_loss: 1.6879 - val_acc: 0.5830\n",
      "Epoch 3/20\n",
      "63/63 [==============================] - 0s 7ms/step - loss: 1.4645 - acc: 0.6159 - val_loss: 1.5488 - val_acc: 0.6190\n",
      "Epoch 4/20\n",
      "63/63 [==============================] - 0s 7ms/step - loss: 1.2547 - acc: 0.6746 - val_loss: 1.4349 - val_acc: 0.6620\n",
      "Epoch 5/20\n",
      "63/63 [==============================] - 0s 7ms/step - loss: 1.1017 - acc: 0.7156 - val_loss: 1.3849 - val_acc: 0.6950\n",
      "Epoch 6/20\n",
      "63/63 [==============================] - 0s 7ms/step - loss: 0.9901 - acc: 0.7447 - val_loss: 1.3756 - val_acc: 0.7060\n",
      "Epoch 7/20\n",
      "63/63 [==============================] - 0s 7ms/step - loss: 0.9091 - acc: 0.7694 - val_loss: 1.3643 - val_acc: 0.7040\n",
      "Epoch 8/20\n",
      "63/63 [==============================] - 0s 6ms/step - loss: 0.8374 - acc: 0.7849 - val_loss: 1.3793 - val_acc: 0.7100\n",
      "Epoch 9/20\n",
      "63/63 [==============================] - 0s 7ms/step - loss: 0.7777 - acc: 0.7938 - val_loss: 1.4290 - val_acc: 0.7140\n",
      "Epoch 10/20\n",
      "63/63 [==============================] - 0s 7ms/step - loss: 0.7275 - acc: 0.8024 - val_loss: 1.4601 - val_acc: 0.7100\n",
      "Epoch 11/20\n",
      "63/63 [==============================] - 0s 7ms/step - loss: 0.6818 - acc: 0.8118 - val_loss: 1.5020 - val_acc: 0.7080\n",
      "Epoch 12/20\n",
      "63/63 [==============================] - 0s 7ms/step - loss: 0.6435 - acc: 0.8249 - val_loss: 1.5501 - val_acc: 0.7090\n",
      "Epoch 13/20\n",
      "63/63 [==============================] - 0s 7ms/step - loss: 0.6080 - acc: 0.8334 - val_loss: 1.6126 - val_acc: 0.7030\n",
      "Epoch 14/20\n",
      "63/63 [==============================] - 0s 7ms/step - loss: 0.5804 - acc: 0.8426 - val_loss: 1.6110 - val_acc: 0.7060\n",
      "Epoch 15/20\n",
      "63/63 [==============================] - 0s 7ms/step - loss: 0.5514 - acc: 0.8500 - val_loss: 1.7060 - val_acc: 0.7080\n",
      "Epoch 16/20\n",
      "63/63 [==============================] - 0s 7ms/step - loss: 0.5263 - acc: 0.8566 - val_loss: 1.7366 - val_acc: 0.7030\n",
      "Epoch 17/20\n",
      "63/63 [==============================] - 0s 7ms/step - loss: 0.5063 - acc: 0.8589 - val_loss: 1.7861 - val_acc: 0.7000\n",
      "Epoch 18/20\n",
      "63/63 [==============================] - 0s 7ms/step - loss: 0.4854 - acc: 0.8624 - val_loss: 1.8239 - val_acc: 0.6970\n",
      "Epoch 19/20\n",
      "63/63 [==============================] - 0s 7ms/step - loss: 0.4690 - acc: 0.8649 - val_loss: 1.9599 - val_acc: 0.6960\n",
      "Epoch 20/20\n",
      "63/63 [==============================] - 0s 7ms/step - loss: 0.4543 - acc: 0.8680 - val_loss: 1.9218 - val_acc: 0.6990\n",
      "71/71 [==============================] - 0s 1ms/step - loss: 2.3010 - acc: 0.6906\n"
     ]
    },
    {
     "data": {
      "text/plain": [
       "[2.3010342121124268, 0.6905609965324402]"
      ]
     },
     "execution_count": 28,
     "metadata": {},
     "output_type": "execute_result"
    }
   ],
   "source": [
    "model = models.Sequential()\n",
    "model.add(layers.Dense(64, activation='relu', input_shape=(10000,)))\n",
    "model.add(layers.Dense(4, activation='relu'))\n",
    "model.add(layers.Dense(46, activation='softmax'))\n",
    "\n",
    "model.compile(optimizer='rmsprop', \n",
    "              loss='categorical_crossentropy', \n",
    "              metrics=['acc'])\n",
    "\n",
    "history = model.fit(partial_x_train, partial_y_train, \n",
    "                    epochs=20, batch_size=128, \n",
    "                    validation_data=(x_val, y_val))\n",
    "\n",
    "results = model.evaluate(x_test, one_hot_test_labels)\n",
    "results"
   ]
  },
  {
   "cell_type": "markdown",
   "id": "33ebf909",
   "metadata": {},
   "source": [
    "Further experiments"
   ]
  },
  {
   "cell_type": "code",
   "execution_count": 29,
   "id": "654a3c5c",
   "metadata": {},
   "outputs": [
    {
     "name": "stdout",
     "output_type": "stream",
     "text": [
      "Epoch 1/20\n",
      "16/16 [==============================] - 0s 15ms/step - loss: 3.0529 - acc: 0.4371 - val_loss: 2.3051 - val_acc: 0.5800\n",
      "Epoch 2/20\n",
      "16/16 [==============================] - 0s 10ms/step - loss: 1.9244 - acc: 0.6310 - val_loss: 1.6487 - val_acc: 0.6600\n",
      "Epoch 3/20\n",
      "16/16 [==============================] - 0s 10ms/step - loss: 1.4161 - acc: 0.7117 - val_loss: 1.3549 - val_acc: 0.7110\n",
      "Epoch 4/20\n",
      "16/16 [==============================] - 0s 10ms/step - loss: 1.1418 - acc: 0.7591 - val_loss: 1.2011 - val_acc: 0.7350\n",
      "Epoch 5/20\n",
      "16/16 [==============================] - 0s 10ms/step - loss: 0.9648 - acc: 0.7962 - val_loss: 1.1155 - val_acc: 0.7540\n",
      "Epoch 6/20\n",
      "16/16 [==============================] - 0s 10ms/step - loss: 0.8372 - acc: 0.8202 - val_loss: 1.0423 - val_acc: 0.7710\n",
      "Epoch 7/20\n",
      "16/16 [==============================] - 0s 10ms/step - loss: 0.7276 - acc: 0.8404 - val_loss: 1.0045 - val_acc: 0.7770\n",
      "Epoch 8/20\n",
      "16/16 [==============================] - 0s 11ms/step - loss: 0.6378 - acc: 0.8568 - val_loss: 0.9706 - val_acc: 0.7870\n",
      "Epoch 9/20\n",
      "16/16 [==============================] - 0s 10ms/step - loss: 0.5545 - acc: 0.8757 - val_loss: 0.9453 - val_acc: 0.7990\n",
      "Epoch 10/20\n",
      "16/16 [==============================] - 0s 10ms/step - loss: 0.4840 - acc: 0.8940 - val_loss: 0.9268 - val_acc: 0.8010\n",
      "Epoch 11/20\n",
      "16/16 [==============================] - 0s 11ms/step - loss: 0.4236 - acc: 0.9077 - val_loss: 0.9252 - val_acc: 0.8030\n",
      "Epoch 12/20\n",
      "16/16 [==============================] - 0s 10ms/step - loss: 0.3703 - acc: 0.9189 - val_loss: 0.9027 - val_acc: 0.8100\n",
      "Epoch 13/20\n",
      "16/16 [==============================] - 0s 10ms/step - loss: 0.3252 - acc: 0.9290 - val_loss: 0.9357 - val_acc: 0.7980\n",
      "Epoch 14/20\n",
      "16/16 [==============================] - 0s 13ms/step - loss: 0.2889 - acc: 0.9336 - val_loss: 0.9171 - val_acc: 0.8170\n",
      "Epoch 15/20\n",
      "16/16 [==============================] - 0s 10ms/step - loss: 0.2546 - acc: 0.9416 - val_loss: 0.9235 - val_acc: 0.8130\n",
      "Epoch 16/20\n",
      "16/16 [==============================] - 0s 10ms/step - loss: 0.2253 - acc: 0.9475 - val_loss: 0.9409 - val_acc: 0.8110\n",
      "Epoch 17/20\n",
      "16/16 [==============================] - 0s 10ms/step - loss: 0.2043 - acc: 0.9484 - val_loss: 0.9477 - val_acc: 0.8150\n",
      "Epoch 18/20\n",
      "16/16 [==============================] - 0s 10ms/step - loss: 0.1861 - acc: 0.9506 - val_loss: 0.9510 - val_acc: 0.8120\n",
      "Epoch 19/20\n",
      "16/16 [==============================] - 0s 10ms/step - loss: 0.1721 - acc: 0.9511 - val_loss: 0.9738 - val_acc: 0.8170\n",
      "Epoch 20/20\n",
      "16/16 [==============================] - 0s 10ms/step - loss: 0.1558 - acc: 0.9525 - val_loss: 0.9752 - val_acc: 0.8110\n",
      "71/71 [==============================] - 0s 1ms/step - loss: 1.1152 - acc: 0.7818\n"
     ]
    },
    {
     "data": {
      "text/plain": [
       "[1.1151570081710815, 0.7818343639373779]"
      ]
     },
     "execution_count": 29,
     "metadata": {},
     "output_type": "execute_result"
    }
   ],
   "source": [
    "model = models.Sequential()\n",
    "model.add(layers.Dense(32, activation='relu', input_shape=(10000,)))\n",
    "model.add(layers.Dense(32, activation='relu'))\n",
    "model.add(layers.Dense(46, activation='softmax'))\n",
    "\n",
    "model.compile(optimizer='rmsprop', \n",
    "              loss='categorical_crossentropy', \n",
    "              metrics=['acc'])\n",
    "\n",
    "history = model.fit(partial_x_train, partial_y_train, \n",
    "                    epochs=20, batch_size=512, \n",
    "                    validation_data=(x_val, y_val))\n",
    "\n",
    "results = model.evaluate(x_test, one_hot_test_labels)\n",
    "results"
   ]
  },
  {
   "cell_type": "code",
   "execution_count": 30,
   "id": "4790f183",
   "metadata": {},
   "outputs": [
    {
     "name": "stdout",
     "output_type": "stream",
     "text": [
      "Epoch 1/20\n",
      "16/16 [==============================] - 1s 24ms/step - loss: 2.1742 - acc: 0.5454 - val_loss: 1.3849 - val_acc: 0.6840\n",
      "Epoch 2/20\n",
      "16/16 [==============================] - 0s 20ms/step - loss: 1.1478 - acc: 0.7541 - val_loss: 1.1210 - val_acc: 0.7500\n",
      "Epoch 3/20\n",
      "16/16 [==============================] - 0s 20ms/step - loss: 0.7985 - acc: 0.8317 - val_loss: 1.0526 - val_acc: 0.7760\n",
      "Epoch 4/20\n",
      "16/16 [==============================] - 0s 19ms/step - loss: 0.5892 - acc: 0.8735 - val_loss: 0.9077 - val_acc: 0.8070\n",
      "Epoch 5/20\n",
      "16/16 [==============================] - 0s 19ms/step - loss: 0.4275 - acc: 0.9079 - val_loss: 0.9126 - val_acc: 0.8100\n",
      "Epoch 6/20\n",
      "16/16 [==============================] - 0s 20ms/step - loss: 0.3203 - acc: 0.9328 - val_loss: 0.9158 - val_acc: 0.8090\n",
      "Epoch 7/20\n",
      "16/16 [==============================] - 0s 19ms/step - loss: 0.2527 - acc: 0.9445 - val_loss: 0.8801 - val_acc: 0.8260\n",
      "Epoch 8/20\n",
      "16/16 [==============================] - 0s 19ms/step - loss: 0.2133 - acc: 0.9461 - val_loss: 0.9137 - val_acc: 0.8170\n",
      "Epoch 9/20\n",
      "16/16 [==============================] - 0s 20ms/step - loss: 0.1836 - acc: 0.9500 - val_loss: 0.9080 - val_acc: 0.8220\n",
      "Epoch 10/20\n",
      "16/16 [==============================] - 0s 18ms/step - loss: 0.1524 - acc: 0.9543 - val_loss: 0.9215 - val_acc: 0.8110\n",
      "Epoch 11/20\n",
      "16/16 [==============================] - 0s 19ms/step - loss: 0.1544 - acc: 0.9538 - val_loss: 0.9623 - val_acc: 0.8130\n",
      "Epoch 12/20\n",
      "16/16 [==============================] - 0s 21ms/step - loss: 0.1375 - acc: 0.9557 - val_loss: 0.9810 - val_acc: 0.8100\n",
      "Epoch 13/20\n",
      "16/16 [==============================] - 0s 23ms/step - loss: 0.1252 - acc: 0.9573 - val_loss: 1.0128 - val_acc: 0.8030\n",
      "Epoch 14/20\n",
      "16/16 [==============================] - 0s 22ms/step - loss: 0.1238 - acc: 0.9575 - val_loss: 0.9863 - val_acc: 0.8110\n",
      "Epoch 15/20\n",
      "16/16 [==============================] - 0s 19ms/step - loss: 0.1171 - acc: 0.9572 - val_loss: 1.0412 - val_acc: 0.8030\n",
      "Epoch 16/20\n",
      "16/16 [==============================] - 0s 19ms/step - loss: 0.1162 - acc: 0.9590 - val_loss: 1.0367 - val_acc: 0.7920\n",
      "Epoch 17/20\n",
      "16/16 [==============================] - 0s 19ms/step - loss: 0.1152 - acc: 0.9565 - val_loss: 1.0070 - val_acc: 0.8140\n",
      "Epoch 18/20\n",
      "16/16 [==============================] - 0s 20ms/step - loss: 0.1081 - acc: 0.9584 - val_loss: 1.0948 - val_acc: 0.8030\n",
      "Epoch 19/20\n",
      "16/16 [==============================] - 0s 20ms/step - loss: 0.1088 - acc: 0.9560 - val_loss: 1.0996 - val_acc: 0.7990\n",
      "Epoch 20/20\n",
      "16/16 [==============================] - 0s 18ms/step - loss: 0.1005 - acc: 0.9567 - val_loss: 1.1076 - val_acc: 0.8050\n",
      "71/71 [==============================] - 0s 1ms/step - loss: 1.2959 - acc: 0.7818\n"
     ]
    },
    {
     "data": {
      "text/plain": [
       "[1.295946478843689, 0.7818343639373779]"
      ]
     },
     "execution_count": 30,
     "metadata": {},
     "output_type": "execute_result"
    }
   ],
   "source": [
    "model = models.Sequential()\n",
    "model.add(layers.Dense(128, activation='relu', input_shape=(10000,)))\n",
    "model.add(layers.Dense(128, activation='relu'))\n",
    "model.add(layers.Dense(46, activation='softmax'))\n",
    "\n",
    "model.compile(optimizer='rmsprop', \n",
    "              loss='categorical_crossentropy', \n",
    "              metrics=['acc'])\n",
    "\n",
    "history = model.fit(partial_x_train, partial_y_train, \n",
    "                    epochs=20, batch_size=512, \n",
    "                    validation_data=(x_val, y_val))\n",
    "\n",
    "results = model.evaluate(x_test, one_hot_test_labels)\n",
    "results"
   ]
  },
  {
   "cell_type": "code",
   "execution_count": 31,
   "id": "45982231",
   "metadata": {},
   "outputs": [
    {
     "name": "stdout",
     "output_type": "stream",
     "text": [
      "Epoch 1/10\n",
      "16/16 [==============================] - 1s 19ms/step - loss: 2.5892 - acc: 0.5568 - val_loss: 1.8345 - val_acc: 0.6440\n",
      "Epoch 2/10\n",
      "16/16 [==============================] - 0s 15ms/step - loss: 1.4815 - acc: 0.7171 - val_loss: 1.3752 - val_acc: 0.7230\n",
      "Epoch 3/10\n",
      "16/16 [==============================] - 0s 14ms/step - loss: 1.0842 - acc: 0.7846 - val_loss: 1.1545 - val_acc: 0.7580\n",
      "Epoch 4/10\n",
      "16/16 [==============================] - 0s 14ms/step - loss: 0.8483 - acc: 0.8299 - val_loss: 1.0244 - val_acc: 0.7900\n",
      "Epoch 5/10\n",
      "16/16 [==============================] - 0s 14ms/step - loss: 0.6808 - acc: 0.8661 - val_loss: 0.9472 - val_acc: 0.8130\n",
      "Epoch 6/10\n",
      "16/16 [==============================] - 0s 15ms/step - loss: 0.5532 - acc: 0.8896 - val_loss: 0.8916 - val_acc: 0.8190\n",
      "Epoch 7/10\n",
      "16/16 [==============================] - 0s 16ms/step - loss: 0.4564 - acc: 0.9116 - val_loss: 0.8708 - val_acc: 0.8190\n",
      "Epoch 8/10\n",
      "16/16 [==============================] - 0s 16ms/step - loss: 0.3796 - acc: 0.9267 - val_loss: 0.8308 - val_acc: 0.8290\n",
      "Epoch 9/10\n",
      "16/16 [==============================] - 0s 14ms/step - loss: 0.3187 - acc: 0.9341 - val_loss: 0.8188 - val_acc: 0.8320\n",
      "Epoch 10/10\n",
      "16/16 [==============================] - 0s 13ms/step - loss: 0.2696 - acc: 0.9409 - val_loss: 0.8374 - val_acc: 0.8240\n",
      "71/71 [==============================] - 0s 1ms/step - loss: 0.9099 - acc: 0.7956\n"
     ]
    },
    {
     "data": {
      "text/plain": [
       "[0.9099269509315491, 0.7956367135047913]"
      ]
     },
     "execution_count": 31,
     "metadata": {},
     "output_type": "execute_result"
    }
   ],
   "source": [
    "model = models.Sequential()\n",
    "model.add(layers.Dense(64, activation='relu', input_shape=(10000,)))\n",
    "model.add(layers.Dense(46, activation='softmax'))\n",
    "\n",
    "model.compile(optimizer='rmsprop', \n",
    "              loss='categorical_crossentropy', \n",
    "              metrics=['acc'])\n",
    "\n",
    "history = model.fit(partial_x_train, partial_y_train, \n",
    "                    epochs=10, batch_size=512, \n",
    "                    validation_data=(x_val, y_val))\n",
    "\n",
    "results = model.evaluate(x_test, one_hot_test_labels)\n",
    "results"
   ]
  },
  {
   "cell_type": "code",
   "execution_count": 32,
   "id": "a0240541",
   "metadata": {},
   "outputs": [
    {
     "name": "stdout",
     "output_type": "stream",
     "text": [
      "Epoch 1/10\n",
      "16/16 [==============================] - 1s 20ms/step - loss: 2.5963 - acc: 0.4579 - val_loss: 1.7103 - val_acc: 0.6290\n",
      "Epoch 2/10\n",
      "16/16 [==============================] - 0s 14ms/step - loss: 1.4577 - acc: 0.6902 - val_loss: 1.3699 - val_acc: 0.7090\n",
      "Epoch 3/10\n",
      "16/16 [==============================] - 0s 16ms/step - loss: 1.1095 - acc: 0.7549 - val_loss: 1.1725 - val_acc: 0.7480\n",
      "Epoch 4/10\n",
      "16/16 [==============================] - 0s 16ms/step - loss: 0.8705 - acc: 0.8062 - val_loss: 1.0641 - val_acc: 0.7810\n",
      "Epoch 5/10\n",
      "16/16 [==============================] - 0s 15ms/step - loss: 0.6996 - acc: 0.8430 - val_loss: 0.9901 - val_acc: 0.7890\n",
      "Epoch 6/10\n",
      "16/16 [==============================] - 0s 14ms/step - loss: 0.5567 - acc: 0.8748 - val_loss: 0.9653 - val_acc: 0.7890\n",
      "Epoch 7/10\n",
      "16/16 [==============================] - 0s 15ms/step - loss: 0.4453 - acc: 0.9004 - val_loss: 0.9939 - val_acc: 0.7890\n",
      "Epoch 8/10\n",
      "16/16 [==============================] - 0s 17ms/step - loss: 0.3518 - acc: 0.9217 - val_loss: 0.9982 - val_acc: 0.7840\n",
      "Epoch 9/10\n",
      "16/16 [==============================] - 0s 14ms/step - loss: 0.2999 - acc: 0.9326 - val_loss: 0.9492 - val_acc: 0.8140\n",
      "Epoch 10/10\n",
      "16/16 [==============================] - 0s 13ms/step - loss: 0.2433 - acc: 0.9445 - val_loss: 1.0229 - val_acc: 0.7970\n",
      "71/71 [==============================] - 0s 1ms/step - loss: 1.1298 - acc: 0.7685\n"
     ]
    },
    {
     "data": {
      "text/plain": [
       "[1.1298471689224243, 0.7684773206710815]"
      ]
     },
     "execution_count": 32,
     "metadata": {},
     "output_type": "execute_result"
    }
   ],
   "source": [
    "model = models.Sequential()\n",
    "model.add(layers.Dense(64, activation='relu', input_shape=(10000,)))\n",
    "model.add(layers.Dense(64, activation='relu'))\n",
    "model.add(layers.Dense(64, activation='relu'))\n",
    "model.add(layers.Dense(46, activation='softmax'))\n",
    "\n",
    "model.compile(optimizer='rmsprop', \n",
    "              loss='categorical_crossentropy', \n",
    "              metrics=['acc'])\n",
    "\n",
    "history = model.fit(partial_x_train, partial_y_train, \n",
    "                    epochs=10, batch_size=512, \n",
    "                    validation_data=(x_val, y_val))\n",
    "\n",
    "results = model.evaluate(x_test, one_hot_test_labels)\n",
    "results"
   ]
  },
  {
   "cell_type": "code",
   "execution_count": 33,
   "id": "ba9852e3",
   "metadata": {},
   "outputs": [
    {
     "name": "stdout",
     "output_type": "stream",
     "text": [
      "Epoch 1/10\n",
      "16/16 [==============================] - 1s 24ms/step - loss: 2.2221 - acc: 0.5828 - val_loss: 1.4469 - val_acc: 0.7070\n",
      "Epoch 2/10\n",
      "16/16 [==============================] - 0s 18ms/step - loss: 1.1317 - acc: 0.7742 - val_loss: 1.0971 - val_acc: 0.7750\n",
      "Epoch 3/10\n",
      "16/16 [==============================] - 0s 18ms/step - loss: 0.7827 - acc: 0.8454 - val_loss: 0.9467 - val_acc: 0.8100\n",
      "Epoch 4/10\n",
      "16/16 [==============================] - 0s 18ms/step - loss: 0.5758 - acc: 0.8864 - val_loss: 0.8859 - val_acc: 0.8130\n",
      "Epoch 5/10\n",
      "16/16 [==============================] - 0s 21ms/step - loss: 0.4384 - acc: 0.9148 - val_loss: 0.8315 - val_acc: 0.8230\n",
      "Epoch 6/10\n",
      "16/16 [==============================] - 0s 19ms/step - loss: 0.3425 - acc: 0.9315 - val_loss: 0.8071 - val_acc: 0.8340\n",
      "Epoch 7/10\n",
      "16/16 [==============================] - 0s 19ms/step - loss: 0.2756 - acc: 0.9406 - val_loss: 0.8089 - val_acc: 0.8270\n",
      "Epoch 8/10\n",
      "16/16 [==============================] - 0s 21ms/step - loss: 0.2255 - acc: 0.9470 - val_loss: 0.8204 - val_acc: 0.8220\n",
      "Epoch 9/10\n",
      "16/16 [==============================] - 0s 19ms/step - loss: 0.1926 - acc: 0.9505 - val_loss: 0.8191 - val_acc: 0.8260\n",
      "Epoch 10/10\n",
      "16/16 [==============================] - 0s 17ms/step - loss: 0.1686 - acc: 0.9531 - val_loss: 0.8395 - val_acc: 0.8310\n",
      "71/71 [==============================] - 0s 1ms/step - loss: 0.9461 - acc: 0.8005\n"
     ]
    },
    {
     "data": {
      "text/plain": [
       "[0.9461199045181274, 0.8005343079566956]"
      ]
     },
     "execution_count": 33,
     "metadata": {},
     "output_type": "execute_result"
    }
   ],
   "source": [
    "model = models.Sequential()\n",
    "model.add(layers.Dense(128, activation='relu', input_shape=(10000,)))\n",
    "model.add(layers.Dense(46, activation='softmax'))\n",
    "\n",
    "model.compile(optimizer='rmsprop', \n",
    "              loss='categorical_crossentropy', \n",
    "              metrics=['acc'])\n",
    "\n",
    "history = model.fit(partial_x_train, partial_y_train, \n",
    "                    epochs=10, batch_size=512, \n",
    "                    validation_data=(x_val, y_val))\n",
    "\n",
    "results = model.evaluate(x_test, one_hot_test_labels)\n",
    "results"
   ]
  },
  {
   "cell_type": "code",
   "execution_count": null,
   "id": "05c31659",
   "metadata": {},
   "outputs": [],
   "source": []
  }
 ],
 "metadata": {
  "kernelspec": {
   "display_name": "Python 3",
   "language": "python",
   "name": "python3"
  },
  "language_info": {
   "codemirror_mode": {
    "name": "ipython",
    "version": 3
   },
   "file_extension": ".py",
   "mimetype": "text/x-python",
   "name": "python",
   "nbconvert_exporter": "python",
   "pygments_lexer": "ipython3",
   "version": "3.6.13"
  }
 },
 "nbformat": 4,
 "nbformat_minor": 5
}
